{
 "cells": [
  {
   "cell_type": "code",
   "execution_count": 37,
   "metadata": {},
   "outputs": [
    {
     "name": "stdout",
     "output_type": "stream",
     "text": [
      "Requirement already satisfied: geopandas in ./venv/lib/python3.6/site-packages (0.7.0)\n",
      "Requirement already satisfied: ipyleaflet in ./venv/lib/python3.6/site-packages (0.12.2)\n",
      "Requirement already satisfied: rdflib in ./venv/lib/python3.6/site-packages (4.2.2)\n",
      "Collecting requests\n",
      "  Downloading requests-2.23.0-py2.py3-none-any.whl (58 kB)\n",
      "\u001b[K     |████████████████████████████████| 58 kB 11.0 MB/s eta 0:00:01\n",
      "\u001b[?25hRequirement already satisfied: shapely in ./venv/lib/python3.6/site-packages (from geopandas) (1.7.0)\n",
      "Requirement already satisfied: pyproj>=2.2.0 in ./venv/lib/python3.6/site-packages (from geopandas) (2.5.0)\n",
      "Requirement already satisfied: pandas>=0.23.0 in ./venv/lib/python3.6/site-packages (from geopandas) (1.0.1)\n",
      "Requirement already satisfied: fiona in ./venv/lib/python3.6/site-packages (from geopandas) (1.8.13.post1)\n",
      "Requirement already satisfied: traittypes<3,>=0.2.1 in ./venv/lib/python3.6/site-packages (from ipyleaflet) (0.2.1)\n",
      "Requirement already satisfied: xarray>=0.10 in ./venv/lib/python3.6/site-packages (from ipyleaflet) (0.15.0)\n",
      "Requirement already satisfied: branca<0.4,>=0.3.1 in ./venv/lib/python3.6/site-packages (from ipyleaflet) (0.3.1)\n",
      "Requirement already satisfied: ipywidgets<8,>=7.5.0 in ./venv/lib/python3.6/site-packages (from ipyleaflet) (7.5.1)\n",
      "Requirement already satisfied: pyparsing in ./venv/lib/python3.6/site-packages (from rdflib) (2.4.6)\n",
      "Requirement already satisfied: isodate in ./venv/lib/python3.6/site-packages (from rdflib) (0.6.0)\n",
      "Collecting urllib3!=1.25.0,!=1.25.1,<1.26,>=1.21.1\n",
      "  Using cached urllib3-1.25.8-py2.py3-none-any.whl (125 kB)\n",
      "Collecting certifi>=2017.4.17\n",
      "  Using cached certifi-2019.11.28-py2.py3-none-any.whl (156 kB)\n",
      "Collecting chardet<4,>=3.0.2\n",
      "  Using cached chardet-3.0.4-py2.py3-none-any.whl (133 kB)\n",
      "Collecting idna<3,>=2.5\n",
      "  Downloading idna-2.9-py2.py3-none-any.whl (58 kB)\n",
      "\u001b[K     |████████████████████████████████| 58 kB 11.3 MB/s eta 0:00:01\n",
      "\u001b[?25hRequirement already satisfied: numpy>=1.13.3 in ./venv/lib/python3.6/site-packages (from pandas>=0.23.0->geopandas) (1.18.1)\n",
      "Requirement already satisfied: pytz>=2017.2 in ./venv/lib/python3.6/site-packages (from pandas>=0.23.0->geopandas) (2019.3)\n",
      "Requirement already satisfied: python-dateutil>=2.6.1 in ./venv/lib/python3.6/site-packages (from pandas>=0.23.0->geopandas) (2.8.1)\n",
      "Requirement already satisfied: attrs>=17 in ./venv/lib/python3.6/site-packages (from fiona->geopandas) (19.3.0)\n",
      "Requirement already satisfied: click<8,>=4.0 in ./venv/lib/python3.6/site-packages (from fiona->geopandas) (7.0)\n",
      "Requirement already satisfied: munch in ./venv/lib/python3.6/site-packages (from fiona->geopandas) (2.5.0)\n",
      "Requirement already satisfied: six>=1.7 in ./venv/lib/python3.6/site-packages (from fiona->geopandas) (1.14.0)\n",
      "Requirement already satisfied: click-plugins>=1.0 in ./venv/lib/python3.6/site-packages (from fiona->geopandas) (1.1.1)\n",
      "Requirement already satisfied: cligj>=0.5 in ./venv/lib/python3.6/site-packages (from fiona->geopandas) (0.5.0)\n",
      "Requirement already satisfied: traitlets>=4.2.2 in ./venv/lib/python3.6/site-packages (from traittypes<3,>=0.2.1->ipyleaflet) (4.3.3)\n",
      "Requirement already satisfied: jinja2 in ./venv/lib/python3.6/site-packages (from branca<0.4,>=0.3.1->ipyleaflet) (2.11.1)\n",
      "Requirement already satisfied: nbformat>=4.2.0 in ./venv/lib/python3.6/site-packages (from ipywidgets<8,>=7.5.0->ipyleaflet) (5.0.4)\n",
      "Requirement already satisfied: ipykernel>=4.5.1 in ./venv/lib/python3.6/site-packages (from ipywidgets<8,>=7.5.0->ipyleaflet) (5.1.4)\n",
      "Requirement already satisfied: ipython>=4.0.0; python_version >= \"3.3\" in ./venv/lib/python3.6/site-packages (from ipywidgets<8,>=7.5.0->ipyleaflet) (7.12.0)\n",
      "Requirement already satisfied: widgetsnbextension~=3.5.0 in ./venv/lib/python3.6/site-packages (from ipywidgets<8,>=7.5.0->ipyleaflet) (3.5.1)\n",
      "Requirement already satisfied: ipython-genutils in ./venv/lib/python3.6/site-packages (from traitlets>=4.2.2->traittypes<3,>=0.2.1->ipyleaflet) (0.2.0)\n",
      "Requirement already satisfied: decorator in ./venv/lib/python3.6/site-packages (from traitlets>=4.2.2->traittypes<3,>=0.2.1->ipyleaflet) (4.4.1)\n",
      "Requirement already satisfied: MarkupSafe>=0.23 in ./venv/lib/python3.6/site-packages (from jinja2->branca<0.4,>=0.3.1->ipyleaflet) (1.1.1)\n",
      "Requirement already satisfied: jsonschema!=2.5.0,>=2.4 in ./venv/lib/python3.6/site-packages (from nbformat>=4.2.0->ipywidgets<8,>=7.5.0->ipyleaflet) (3.2.0)\n",
      "Requirement already satisfied: jupyter-core in ./venv/lib/python3.6/site-packages (from nbformat>=4.2.0->ipywidgets<8,>=7.5.0->ipyleaflet) (4.6.3)\n",
      "Requirement already satisfied: tornado>=4.2 in ./venv/lib/python3.6/site-packages (from ipykernel>=4.5.1->ipywidgets<8,>=7.5.0->ipyleaflet) (6.0.3)\n",
      "Requirement already satisfied: jupyter-client in ./venv/lib/python3.6/site-packages (from ipykernel>=4.5.1->ipywidgets<8,>=7.5.0->ipyleaflet) (6.0.0)\n",
      "Requirement already satisfied: pickleshare in ./venv/lib/python3.6/site-packages (from ipython>=4.0.0; python_version >= \"3.3\"->ipywidgets<8,>=7.5.0->ipyleaflet) (0.7.5)\n",
      "Requirement already satisfied: backcall in ./venv/lib/python3.6/site-packages (from ipython>=4.0.0; python_version >= \"3.3\"->ipywidgets<8,>=7.5.0->ipyleaflet) (0.1.0)\n",
      "Requirement already satisfied: pexpect; sys_platform != \"win32\" in ./venv/lib/python3.6/site-packages (from ipython>=4.0.0; python_version >= \"3.3\"->ipywidgets<8,>=7.5.0->ipyleaflet) (4.8.0)\n",
      "Requirement already satisfied: setuptools>=18.5 in ./venv/lib/python3.6/site-packages (from ipython>=4.0.0; python_version >= \"3.3\"->ipywidgets<8,>=7.5.0->ipyleaflet) (45.2.0)\n",
      "Requirement already satisfied: prompt-toolkit!=3.0.0,!=3.0.1,<3.1.0,>=2.0.0 in ./venv/lib/python3.6/site-packages (from ipython>=4.0.0; python_version >= \"3.3\"->ipywidgets<8,>=7.5.0->ipyleaflet) (3.0.3)\n",
      "Requirement already satisfied: jedi>=0.10 in ./venv/lib/python3.6/site-packages (from ipython>=4.0.0; python_version >= \"3.3\"->ipywidgets<8,>=7.5.0->ipyleaflet) (0.16.0)\n",
      "Requirement already satisfied: pygments in ./venv/lib/python3.6/site-packages (from ipython>=4.0.0; python_version >= \"3.3\"->ipywidgets<8,>=7.5.0->ipyleaflet) (2.5.2)\n",
      "Requirement already satisfied: notebook>=4.4.1 in ./venv/lib/python3.6/site-packages (from widgetsnbextension~=3.5.0->ipywidgets<8,>=7.5.0->ipyleaflet) (6.0.3)\n",
      "Requirement already satisfied: importlib-metadata; python_version < \"3.8\" in ./venv/lib/python3.6/site-packages (from jsonschema!=2.5.0,>=2.4->nbformat>=4.2.0->ipywidgets<8,>=7.5.0->ipyleaflet) (1.5.0)\n",
      "Requirement already satisfied: pyrsistent>=0.14.0 in ./venv/lib/python3.6/site-packages (from jsonschema!=2.5.0,>=2.4->nbformat>=4.2.0->ipywidgets<8,>=7.5.0->ipyleaflet) (0.15.7)\n",
      "Requirement already satisfied: pyzmq>=13 in ./venv/lib/python3.6/site-packages (from jupyter-client->ipykernel>=4.5.1->ipywidgets<8,>=7.5.0->ipyleaflet) (19.0.0)\n",
      "Requirement already satisfied: ptyprocess>=0.5 in ./venv/lib/python3.6/site-packages (from pexpect; sys_platform != \"win32\"->ipython>=4.0.0; python_version >= \"3.3\"->ipywidgets<8,>=7.5.0->ipyleaflet) (0.6.0)\n",
      "Requirement already satisfied: wcwidth in ./venv/lib/python3.6/site-packages (from prompt-toolkit!=3.0.0,!=3.0.1,<3.1.0,>=2.0.0->ipython>=4.0.0; python_version >= \"3.3\"->ipywidgets<8,>=7.5.0->ipyleaflet) (0.1.8)\n",
      "Requirement already satisfied: parso>=0.5.2 in ./venv/lib/python3.6/site-packages (from jedi>=0.10->ipython>=4.0.0; python_version >= \"3.3\"->ipywidgets<8,>=7.5.0->ipyleaflet) (0.6.1)\n",
      "Requirement already satisfied: Send2Trash in ./venv/lib/python3.6/site-packages (from notebook>=4.4.1->widgetsnbextension~=3.5.0->ipywidgets<8,>=7.5.0->ipyleaflet) (1.5.0)\n",
      "Requirement already satisfied: nbconvert in ./venv/lib/python3.6/site-packages (from notebook>=4.4.1->widgetsnbextension~=3.5.0->ipywidgets<8,>=7.5.0->ipyleaflet) (5.6.1)\n",
      "Requirement already satisfied: terminado>=0.8.1 in ./venv/lib/python3.6/site-packages (from notebook>=4.4.1->widgetsnbextension~=3.5.0->ipywidgets<8,>=7.5.0->ipyleaflet) (0.8.3)\n",
      "Requirement already satisfied: prometheus-client in ./venv/lib/python3.6/site-packages (from notebook>=4.4.1->widgetsnbextension~=3.5.0->ipywidgets<8,>=7.5.0->ipyleaflet) (0.7.1)\n",
      "Requirement already satisfied: zipp>=0.5 in ./venv/lib/python3.6/site-packages (from importlib-metadata; python_version < \"3.8\"->jsonschema!=2.5.0,>=2.4->nbformat>=4.2.0->ipywidgets<8,>=7.5.0->ipyleaflet) (3.0.0)\n",
      "Requirement already satisfied: pandocfilters>=1.4.1 in ./venv/lib/python3.6/site-packages (from nbconvert->notebook>=4.4.1->widgetsnbextension~=3.5.0->ipywidgets<8,>=7.5.0->ipyleaflet) (1.4.2)\n",
      "Requirement already satisfied: testpath in ./venv/lib/python3.6/site-packages (from nbconvert->notebook>=4.4.1->widgetsnbextension~=3.5.0->ipywidgets<8,>=7.5.0->ipyleaflet) (0.4.4)\n",
      "Requirement already satisfied: entrypoints>=0.2.2 in ./venv/lib/python3.6/site-packages (from nbconvert->notebook>=4.4.1->widgetsnbextension~=3.5.0->ipywidgets<8,>=7.5.0->ipyleaflet) (0.3)\n",
      "Requirement already satisfied: bleach in ./venv/lib/python3.6/site-packages (from nbconvert->notebook>=4.4.1->widgetsnbextension~=3.5.0->ipywidgets<8,>=7.5.0->ipyleaflet) (3.1.1)\n",
      "Requirement already satisfied: defusedxml in ./venv/lib/python3.6/site-packages (from nbconvert->notebook>=4.4.1->widgetsnbextension~=3.5.0->ipywidgets<8,>=7.5.0->ipyleaflet) (0.6.0)\n",
      "Requirement already satisfied: mistune<2,>=0.8.1 in ./venv/lib/python3.6/site-packages (from nbconvert->notebook>=4.4.1->widgetsnbextension~=3.5.0->ipywidgets<8,>=7.5.0->ipyleaflet) (0.8.4)\n",
      "Requirement already satisfied: webencodings in ./venv/lib/python3.6/site-packages (from bleach->nbconvert->notebook>=4.4.1->widgetsnbextension~=3.5.0->ipywidgets<8,>=7.5.0->ipyleaflet) (0.5.1)\n",
      "Installing collected packages: urllib3, certifi, chardet, idna, requests\n",
      "Successfully installed certifi-2019.11.28 chardet-3.0.4 idna-2.9 requests-2.23.0 urllib3-1.25.8\n"
     ]
    }
   ],
   "source": [
    "!pip install geopandas ipyleaflet rdflib requests"
   ]
  },
  {
   "cell_type": "markdown",
   "metadata": {},
   "source": [
    "# Exploring cross-dataset relationships using Loc-I\n",
    "\n",
    "This notebook demonstrates how you use Loc-I to traverse across from one geographic dataset to another via `Loc-I Linksets`.\n",
    "We show how to achieve this using the Loc-I Integration API (https://api.loci.cat)."
   ]
  },
  {
   "cell_type": "code",
   "execution_count": 4,
   "metadata": {},
   "outputs": [],
   "source": [
    "import urllib, json"
   ]
  },
  {
   "cell_type": "code",
   "execution_count": 7,
   "metadata": {},
   "outputs": [
    {
     "data": {
      "text/plain": [
       "{'took': 4,\n",
       " 'timed_out': False,\n",
       " '_shards': {'total': 5, 'successful': 5, 'skipped': 0, 'failed': 0},\n",
       " 'hits': {'total': 1,\n",
       "  'max_score': 23.025938,\n",
       "  'hits': [{'_index': 'default_index',\n",
       "    '_type': 'location',\n",
       "    '_id': 'isoOgHABskq7-RFVg9c2',\n",
       "    '_score': 23.025938,\n",
       "    '_source': {'uri': 'http://linked.data.gov.au/dataset/asgs2016/meshblock/50055290000',\n",
       "     'label': '50055290000'}}]},\n",
       " 'ok': True}"
      ]
     },
     "execution_count": 7,
     "metadata": {},
     "output_type": "execute_result"
    }
   ],
   "source": [
    "# get a meshblock\n",
    "meshblock_id = 50055290000\n",
    "\n",
    "#assume we don't know the URI so let's do a search \n",
    "url = \"https://api.loci.cat/api/v1/location/find-by-label?query={}\".format(meshblock_id)\n",
    "res = urllib.request.urlopen(url)\n",
    "jsondata = json.loads(res.read().decode(\"utf-8\"))\n",
    "jsondata"
   ]
  },
  {
   "cell_type": "code",
   "execution_count": 8,
   "metadata": {},
   "outputs": [
    {
     "data": {
      "text/plain": [
       "'http://linked.data.gov.au/dataset/asgs2016/meshblock/50055290000'"
      ]
     },
     "execution_count": 8,
     "metadata": {},
     "output_type": "execute_result"
    }
   ],
   "source": [
    "#get the first hit\n",
    "meshblock_uri = jsondata['hits']['hits'][0]['_source']['uri']\n",
    "meshblock_uri"
   ]
  },
  {
   "cell_type": "code",
   "execution_count": 10,
   "metadata": {},
   "outputs": [
    {
     "name": "stdout",
     "output_type": "stream",
     "text": [
      "@prefix asgs: <http://linked.data.gov.au/def/asgs#> .\n",
      "@prefix asgs-cat: <http://linked.data.gov.au/def/asgs-cat/> .\n",
      "@prefix asgs-id: <http://linked.data.gov.au/def/asgs/id#> .\n",
      "@prefix data: <http://linked.data.gov.au/def/datatype/> .\n",
      "@prefix dcterms: <http://purl.org/dc/terms/> .\n",
      "@prefix geo: <http://www.opengis.net/ont/geosparql#> .\n",
      "@prefix geox: <http://linked.data.gov.au/def/geox#> .\n",
      "@prefix loci: <http://linked.data.gov.au/def/loci#> .\n",
      "@prefix rdf: <http://www.w3.org/1999/02/22-rdf-syntax-ns#> .\n",
      "@prefix rdfs: <http://www.w3.org/2000/01/rdf-schema#> .\n",
      "@prefix xml: <http://www.w3.org/XML/1998/namespace> .\n",
      "@prefix xsd: <http://www.w3.org/2001/XMLSchema#> .\n",
      "\n",
      "<http://linked.data.gov.au/dataset/asgs2016/destinationzone/511311450> a asgs:DestinationZone ;\n",
      "    dcterms:identifier \"511311450\"^^asgs-id:dznCode2016 ;\n",
      "    geo:sfContains <http://linked.data.gov.au/dataset/asgs2016/meshblock/50055290000> .\n",
      "\n",
      "<http://linked.data.gov.au/dataset/asgs2016/localgovernmentarea/51330> a asgs:LocalGovernmentArea ;\n",
      "    dcterms:identifier \"51330\"^^asgs-id:lgaCode2016 ;\n",
      "    geo:sfContains <http://linked.data.gov.au/dataset/asgs2016/meshblock/50055290000> .\n",
      "\n",
      "<http://linked.data.gov.au/dataset/asgs2016/naturalresourcemanagementregion/503> a asgs:NaturalResourceManagementRegion ;\n",
      "    dcterms:identifier \"503\"^^asgs-id:nrmrCode2016 ;\n",
      "    geo:sfContains <http://linked.data.gov.au/dataset/asgs2016/meshblock/50055290000> .\n",
      "\n",
      "<http://linked.data.gov.au/dataset/asgs2016/stateorterritory/WA> geo:sfContains <http://linked.data.gov.au/dataset/asgs2016/meshblock/50055290000> .\n",
      "\n",
      "<http://linked.data.gov.au/dataset/asgs2016/statesuburb/51595> a asgs:StateSuburb ;\n",
      "    dcterms:identifier \"51595\"^^asgs-id:sscCode2016 ;\n",
      "    geo:sfContains <http://linked.data.gov.au/dataset/asgs2016/meshblock/50055290000> .\n",
      "\n",
      "<http://linked.data.gov.au/dataset/asgs2016/statisticalarealevel1/50603113101> geo:sfContains <http://linked.data.gov.au/dataset/asgs2016/meshblock/50055290000> .\n",
      "\n",
      "<http://linked.data.gov.au/dataset/asgs2016/meshblock/50055290000> a asgs:Feature,\n",
      "        asgs:MeshBlock,\n",
      "        geo:Feature ;\n",
      "    geox:hasAreaM2 [ data:value 37700.0000000000072759576141834259033203125 ;\n",
      "            geox:inCRS <http://www.opengis.net/def/crs/EPSG/0/3577> ],\n",
      "        [ data:value 52623.743038533052 ;\n",
      "            geox:inCRS <http://www.opengis.net/def/crs/EPSG/0/3857> ] ;\n",
      "    loci:isMemberOf <http://linked.data.gov.au/dataset/asgs2016/meshblock/> ;\n",
      "    dcterms:identifier \"50055290000\"^^asgs-id:mbCode2016 ;\n",
      "    dcterms:type <http://linked.data.gov.au/def/asgs-cat/45> ;\n",
      "    geo:hasGeometry <http://gds.loci.cat/geometry/asgs16_mb/50055290000> ;\n",
      "    geo:sfWithin <http://linked.data.gov.au/dataset/asgs2016/destinationzone/511311450>,\n",
      "        <http://linked.data.gov.au/dataset/asgs2016/localgovernmentarea/51330>,\n",
      "        <http://linked.data.gov.au/dataset/asgs2016/naturalresourcemanagementregion/503>,\n",
      "        <http://linked.data.gov.au/dataset/asgs2016/stateorterritory/WA>,\n",
      "        <http://linked.data.gov.au/dataset/asgs2016/statesuburb/51595>,\n",
      "        <http://linked.data.gov.au/dataset/asgs2016/statisticalarealevel1/50603113101> .\n",
      "\n",
      "\n"
     ]
    }
   ],
   "source": [
    "#tell me more about the meshblock\n",
    "# get semantic info about the feature\n",
    "header={'Accept': 'text/turtle'}\n",
    "url = meshblock_uri\n",
    "req = urllib.request.Request(url=url, headers=header, method='GET')\n",
    "res = urllib.request.urlopen(req)\n",
    "res_body = res.read().decode(\"utf-8\")\n",
    "print(res_body)"
   ]
  },
  {
   "cell_type": "code",
   "execution_count": 18,
   "metadata": {},
   "outputs": [
    {
     "name": "stdout",
     "output_type": "stream",
     "text": [
      "http://gds.loci.cat/geometry/asgs16_mb/50055290000\n"
     ]
    }
   ],
   "source": [
    "#you could use rdflib to do some more digging into the semantic description to get the geometry... \n",
    "import rdflib\n",
    "g=rdflib.Graph()\n",
    "g.load(meshblock_uri)\n",
    "\n",
    "#for s,p,o in g:\n",
    "#    print(s, p, o)\n",
    "\n",
    "geom_uri = None\n",
    "for row in g.query(\n",
    "            '''\n",
    "            PREFIX geo: <http://www.opengis.net/ont/geosparql#>\n",
    "            select ?g where { ?feature geo:hasGeometry ?g .}\n",
    "            '''):\n",
    "        geom_uri = (row.g)\n",
    "if(geom_uri != None):\n",
    "    print(geom_uri)"
   ]
  },
  {
   "cell_type": "code",
   "execution_count": 25,
   "metadata": {},
   "outputs": [],
   "source": [
    "# get the geojson representation of the geom\n",
    "header={'Accept': 'application/json'}\n",
    "req = urllib.request.Request(url=geom_uri, headers=header, method='GET')\n",
    "res = urllib.request.urlopen(req)\n",
    "res_body = res.read().decode(\"utf-8\")\n",
    "geojson_data = json.loads(res_body)\n",
    "\n",
    "\n",
    "header={'Accept': 'application/json'}\n",
    "req = urllib.request.Request(url=geom_uri+'?_view=centroid', headers=header, method='GET')\n",
    "res = urllib.request.urlopen(req)\n",
    "res_body = res.read().decode(\"utf-8\")\n",
    "centroid_geojson_data = json.loads(res_body)\n",
    "\n"
   ]
  },
  {
   "cell_type": "code",
   "execution_count": 32,
   "metadata": {},
   "outputs": [
    {
     "data": {
      "application/vnd.jupyter.widget-view+json": {
       "model_id": "9854c85158e841fdafe5888d9af843c2",
       "version_major": 2,
       "version_minor": 0
      },
      "text/plain": [
       "Map(center=[-32.046211537, 115.876243445], controls=(ZoomControl(options=['position', 'zoom_in_text', 'zoom_in…"
      ]
     },
     "metadata": {},
     "output_type": "display_data"
    }
   ],
   "source": [
    "#draw the geometry for the feature on a map\n",
    "import ipyleaflet as ipy \n",
    "import ipywidgets as ipyw\n",
    "from ipyleaflet import GeoJSON, Map, Marker\n",
    "\n",
    "x_coord = centroid_geojson_data['coordinates'][1]\n",
    "y_coord = centroid_geojson_data['coordinates'][0]\n",
    "\n",
    "map = ipy.Map(center=[x_coord, y_coord], zoom=15)\n",
    "label = ipyw.Label(layout=ipyw.Layout(width='100%'))\n",
    "\n",
    "geo_json = GeoJSON(data=geojson_data, style = {'color': 'red', 'opacity':1, 'weight':1.9, 'fillOpacity':0.5})\n",
    "map.add_layer(geo_json)\n",
    "map"
   ]
  },
  {
   "cell_type": "markdown",
   "metadata": {},
   "source": [
    "## Get relationships with other regions, e.g. Geofabric\n",
    "\n",
    "We can use the Feature URI descriptions to explore relationships with other things."
   ]
  },
  {
   "cell_type": "code",
   "execution_count": 35,
   "metadata": {},
   "outputs": [
    {
     "name": "stdout",
     "output_type": "stream",
     "text": [
      "http://linked.data.gov.au/dataset/asgs2016/statesuburb/51595\n",
      "http://linked.data.gov.au/dataset/asgs2016/statisticalarealevel1/50603113101\n",
      "http://linked.data.gov.au/dataset/asgs2016/localgovernmentarea/51330\n",
      "http://linked.data.gov.au/dataset/asgs2016/destinationzone/511311450\n",
      "http://linked.data.gov.au/dataset/asgs2016/naturalresourcemanagementregion/503\n",
      "http://linked.data.gov.au/dataset/asgs2016/stateorterritory/WA\n"
     ]
    }
   ],
   "source": [
    "for row in g.query(\n",
    "            '''\n",
    "            PREFIX geo: <http://www.opengis.net/ont/geosparql#>\n",
    "            select ?relatedFeaturesUp where { \n",
    "               ?feature geo:sfWithin ?relatedFeaturesUp .\n",
    "            }\n",
    "            '''):\n",
    "        print(row.relatedFeaturesUp)"
   ]
  },
  {
   "cell_type": "markdown",
   "metadata": {},
   "source": [
    "We can use the Feature URI and the Loc-I integration API to explore relationships in other geographic regions, e.g. Geofabric."
   ]
  },
  {
   "cell_type": "code",
   "execution_count": 38,
   "metadata": {},
   "outputs": [
    {
     "data": {
      "text/plain": [
       "{'meta': {'count': 45, 'offset': 0, 'featureArea': '37700.00000000'},\n",
       " 'overlaps': [{'uri': 'http://linked.data.gov.au/dataset/gnaf-2016-05/address/GAWA_146780717',\n",
       "   'intersectionArea': 'nan',\n",
       "   'featureArea': 'nan',\n",
       "   'forwardPercentage': 'nan',\n",
       "   'reversePercentage': 'nan'},\n",
       "  {'uri': 'http://linked.data.gov.au/dataset/gnaf-2016-05/streetLocality/WA1888363',\n",
       "   'intersectionArea': 'nan',\n",
       "   'featureArea': 'nan',\n",
       "   'forwardPercentage': 'nan',\n",
       "   'reversePercentage': 'nan'},\n",
       "  {'uri': 'http://linked.data.gov.au/dataset/gnaf-2016-05/locality/WA3116',\n",
       "   'intersectionArea': 'nan',\n",
       "   'featureArea': 'nan',\n",
       "   'forwardPercentage': 'nan',\n",
       "   'reversePercentage': 'nan'},\n",
       "  {'uri': 'http://linked.data.gov.au/dataset/gnaf-2016-05/address/GAWA_146780718',\n",
       "   'intersectionArea': 'nan',\n",
       "   'featureArea': 'nan',\n",
       "   'forwardPercentage': 'nan',\n",
       "   'reversePercentage': 'nan'},\n",
       "  {'uri': 'http://linked.data.gov.au/dataset/gnaf-2016-05/streetLocality/WA1864413',\n",
       "   'intersectionArea': 'nan',\n",
       "   'featureArea': 'nan',\n",
       "   'forwardPercentage': 'nan',\n",
       "   'reversePercentage': 'nan'},\n",
       "  {'uri': 'http://linked.data.gov.au/dataset/gnaf-2016-05/address/GAWA_146780719',\n",
       "   'intersectionArea': 'nan',\n",
       "   'featureArea': 'nan',\n",
       "   'forwardPercentage': 'nan',\n",
       "   'reversePercentage': 'nan'},\n",
       "  {'uri': 'http://linked.data.gov.au/dataset/gnaf-2016-05/address/GAWA_146780720',\n",
       "   'intersectionArea': 'nan',\n",
       "   'featureArea': 'nan',\n",
       "   'forwardPercentage': 'nan',\n",
       "   'reversePercentage': 'nan'},\n",
       "  {'uri': 'http://linked.data.gov.au/dataset/gnaf-2016-05/address/GAWA_146780721',\n",
       "   'intersectionArea': 'nan',\n",
       "   'featureArea': 'nan',\n",
       "   'forwardPercentage': 'nan',\n",
       "   'reversePercentage': 'nan'},\n",
       "  {'uri': 'http://linked.data.gov.au/dataset/gnaf-2016-05/address/GAWA_146780722',\n",
       "   'intersectionArea': 'nan',\n",
       "   'featureArea': 'nan',\n",
       "   'forwardPercentage': 'nan',\n",
       "   'reversePercentage': 'nan'},\n",
       "  {'uri': 'http://linked.data.gov.au/dataset/gnaf-2016-05/address/GAWA_146780723',\n",
       "   'intersectionArea': 'nan',\n",
       "   'featureArea': 'nan',\n",
       "   'forwardPercentage': 'nan',\n",
       "   'reversePercentage': 'nan'},\n",
       "  {'uri': 'http://linked.data.gov.au/dataset/gnaf-2016-05/address/GAWA_146780724',\n",
       "   'intersectionArea': 'nan',\n",
       "   'featureArea': 'nan',\n",
       "   'forwardPercentage': 'nan',\n",
       "   'reversePercentage': 'nan'},\n",
       "  {'uri': 'http://linked.data.gov.au/dataset/gnaf-2016-05/address/GAWA_146780725',\n",
       "   'intersectionArea': 'nan',\n",
       "   'featureArea': 'nan',\n",
       "   'forwardPercentage': 'nan',\n",
       "   'reversePercentage': 'nan'},\n",
       "  {'uri': 'http://linked.data.gov.au/dataset/gnaf-2016-05/address/GAWA_146780726',\n",
       "   'intersectionArea': 'nan',\n",
       "   'featureArea': 'nan',\n",
       "   'forwardPercentage': 'nan',\n",
       "   'reversePercentage': 'nan'},\n",
       "  {'uri': 'http://linked.data.gov.au/dataset/gnaf-2016-05/address/GAWA_146780727',\n",
       "   'intersectionArea': 'nan',\n",
       "   'featureArea': 'nan',\n",
       "   'forwardPercentage': 'nan',\n",
       "   'reversePercentage': 'nan'},\n",
       "  {'uri': 'http://linked.data.gov.au/dataset/gnaf-2016-05/address/GAWA_146780728',\n",
       "   'intersectionArea': 'nan',\n",
       "   'featureArea': 'nan',\n",
       "   'forwardPercentage': 'nan',\n",
       "   'reversePercentage': 'nan'},\n",
       "  {'uri': 'http://linked.data.gov.au/dataset/gnaf-2016-05/address/GAWA_146781323',\n",
       "   'intersectionArea': 'nan',\n",
       "   'featureArea': 'nan',\n",
       "   'forwardPercentage': 'nan',\n",
       "   'reversePercentage': 'nan'},\n",
       "  {'uri': 'http://linked.data.gov.au/dataset/gnaf-2016-05/address/GAWA_146781324',\n",
       "   'intersectionArea': 'nan',\n",
       "   'featureArea': 'nan',\n",
       "   'forwardPercentage': 'nan',\n",
       "   'reversePercentage': 'nan'},\n",
       "  {'uri': 'http://linked.data.gov.au/dataset/gnaf-2016-05/address/GAWA_146781325',\n",
       "   'intersectionArea': 'nan',\n",
       "   'featureArea': 'nan',\n",
       "   'forwardPercentage': 'nan',\n",
       "   'reversePercentage': 'nan'},\n",
       "  {'uri': 'http://linked.data.gov.au/dataset/gnaf-2016-05/address/GAWA_146781326',\n",
       "   'intersectionArea': 'nan',\n",
       "   'featureArea': 'nan',\n",
       "   'forwardPercentage': 'nan',\n",
       "   'reversePercentage': 'nan'},\n",
       "  {'uri': 'http://linked.data.gov.au/dataset/gnaf-2016-05/address/GAWA_146781327',\n",
       "   'intersectionArea': 'nan',\n",
       "   'featureArea': 'nan',\n",
       "   'forwardPercentage': 'nan',\n",
       "   'reversePercentage': 'nan'},\n",
       "  {'uri': 'http://linked.data.gov.au/dataset/gnaf-2016-05/streetLocality/WA1893594',\n",
       "   'intersectionArea': 'nan',\n",
       "   'featureArea': 'nan',\n",
       "   'forwardPercentage': 'nan',\n",
       "   'reversePercentage': 'nan'},\n",
       "  {'uri': 'http://linked.data.gov.au/dataset/gnaf-2016-05/address/GAWA_146781328',\n",
       "   'intersectionArea': 'nan',\n",
       "   'featureArea': 'nan',\n",
       "   'forwardPercentage': 'nan',\n",
       "   'reversePercentage': 'nan'},\n",
       "  {'uri': 'http://linked.data.gov.au/dataset/gnaf-2016-05/address/GAWA_146781329',\n",
       "   'intersectionArea': 'nan',\n",
       "   'featureArea': 'nan',\n",
       "   'forwardPercentage': 'nan',\n",
       "   'reversePercentage': 'nan'},\n",
       "  {'uri': 'http://linked.data.gov.au/dataset/gnaf-2016-05/address/GAWA_146781330',\n",
       "   'intersectionArea': 'nan',\n",
       "   'featureArea': 'nan',\n",
       "   'forwardPercentage': 'nan',\n",
       "   'reversePercentage': 'nan'},\n",
       "  {'uri': 'http://linked.data.gov.au/dataset/gnaf-2016-05/address/GAWA_146784377',\n",
       "   'intersectionArea': 'nan',\n",
       "   'featureArea': 'nan',\n",
       "   'forwardPercentage': 'nan',\n",
       "   'reversePercentage': 'nan'},\n",
       "  {'uri': 'http://linked.data.gov.au/dataset/gnaf-2016-05/address/GAWA_146784378',\n",
       "   'intersectionArea': 'nan',\n",
       "   'featureArea': 'nan',\n",
       "   'forwardPercentage': 'nan',\n",
       "   'reversePercentage': 'nan'},\n",
       "  {'uri': 'http://linked.data.gov.au/dataset/gnaf-2016-05/address/GAWA_146784379',\n",
       "   'intersectionArea': 'nan',\n",
       "   'featureArea': 'nan',\n",
       "   'forwardPercentage': 'nan',\n",
       "   'reversePercentage': 'nan'},\n",
       "  {'uri': 'http://linked.data.gov.au/dataset/gnaf-2016-05/streetLocality/WA1875831',\n",
       "   'intersectionArea': 'nan',\n",
       "   'featureArea': 'nan',\n",
       "   'forwardPercentage': 'nan',\n",
       "   'reversePercentage': 'nan'},\n",
       "  {'uri': 'http://linked.data.gov.au/dataset/gnaf-2016-05/address/GAWA_146787909',\n",
       "   'intersectionArea': 'nan',\n",
       "   'featureArea': 'nan',\n",
       "   'forwardPercentage': 'nan',\n",
       "   'reversePercentage': 'nan'},\n",
       "  {'uri': 'http://linked.data.gov.au/dataset/gnaf-2016-05/address/GAWA_146787910',\n",
       "   'intersectionArea': 'nan',\n",
       "   'featureArea': 'nan',\n",
       "   'forwardPercentage': 'nan',\n",
       "   'reversePercentage': 'nan'},\n",
       "  {'uri': 'http://linked.data.gov.au/dataset/gnaf-2016-05/address/GAWA_146787911',\n",
       "   'intersectionArea': 'nan',\n",
       "   'featureArea': 'nan',\n",
       "   'forwardPercentage': 'nan',\n",
       "   'reversePercentage': 'nan'},\n",
       "  {'uri': 'http://linked.data.gov.au/dataset/gnaf-2016-05/address/GAWA_146790108',\n",
       "   'intersectionArea': 'nan',\n",
       "   'featureArea': 'nan',\n",
       "   'forwardPercentage': 'nan',\n",
       "   'reversePercentage': 'nan'},\n",
       "  {'uri': 'http://linked.data.gov.au/dataset/gnaf-2016-05/address/GAWA_146790109',\n",
       "   'intersectionArea': 'nan',\n",
       "   'featureArea': 'nan',\n",
       "   'forwardPercentage': 'nan',\n",
       "   'reversePercentage': 'nan'},\n",
       "  {'uri': 'http://linked.data.gov.au/dataset/gnaf-2016-05/address/GAWA_146790110',\n",
       "   'intersectionArea': 'nan',\n",
       "   'featureArea': 'nan',\n",
       "   'forwardPercentage': 'nan',\n",
       "   'reversePercentage': 'nan'},\n",
       "  {'uri': 'http://linked.data.gov.au/dataset/gnaf-2016-05/address/GAWA_146790111',\n",
       "   'intersectionArea': 'nan',\n",
       "   'featureArea': 'nan',\n",
       "   'forwardPercentage': 'nan',\n",
       "   'reversePercentage': 'nan'},\n",
       "  {'uri': 'http://linked.data.gov.au/dataset/gnaf-2016-05/address/GAWA_146794198',\n",
       "   'intersectionArea': 'nan',\n",
       "   'featureArea': 'nan',\n",
       "   'forwardPercentage': 'nan',\n",
       "   'reversePercentage': 'nan'},\n",
       "  {'uri': 'http://linked.data.gov.au/dataset/gnaf-2016-05/address/GAWA_146794199',\n",
       "   'intersectionArea': 'nan',\n",
       "   'featureArea': 'nan',\n",
       "   'forwardPercentage': 'nan',\n",
       "   'reversePercentage': 'nan'},\n",
       "  {'uri': 'http://linked.data.gov.au/dataset/gnaf-2016-05/address/GAWA_148201084',\n",
       "   'intersectionArea': 'nan',\n",
       "   'featureArea': 'nan',\n",
       "   'forwardPercentage': 'nan',\n",
       "   'reversePercentage': 'nan'},\n",
       "  {'uri': 'http://linked.data.gov.au/dataset/gnaf-2016-05/address/GAWA_148230647',\n",
       "   'intersectionArea': 'nan',\n",
       "   'featureArea': 'nan',\n",
       "   'forwardPercentage': 'nan',\n",
       "   'reversePercentage': 'nan'},\n",
       "  {'uri': 'http://linked.data.gov.au/dataset/gnaf-2016-05/address/GAWA_148239087',\n",
       "   'intersectionArea': 'nan',\n",
       "   'featureArea': 'nan',\n",
       "   'forwardPercentage': 'nan',\n",
       "   'reversePercentage': 'nan'},\n",
       "  {'uri': 'http://linked.data.gov.au/dataset/gnaf-2016-05/address/GAWA_148240394',\n",
       "   'intersectionArea': 'nan',\n",
       "   'featureArea': 'nan',\n",
       "   'forwardPercentage': 'nan',\n",
       "   'reversePercentage': 'nan'},\n",
       "  {'uri': 'http://linked.data.gov.au/dataset/gnaf-2016-05/address/GAWA_162761636',\n",
       "   'intersectionArea': 'nan',\n",
       "   'featureArea': 'nan',\n",
       "   'forwardPercentage': 'nan',\n",
       "   'reversePercentage': 'nan'},\n",
       "  {'uri': 'http://linked.data.gov.au/dataset/geofabric/contractedcatchment/12500310',\n",
       "   'intersectionArea': '37700.0',\n",
       "   'featureArea': '176754913.16694000',\n",
       "   'forwardPercentage': '100',\n",
       "   'reversePercentage': '0.021328968640545464'},\n",
       "  {'uri': 'http://linked.data.gov.au/dataset/geofabric/drainagedivision/9400211',\n",
       "   'intersectionArea': '37700.0',\n",
       "   'featureArea': '326037436998.26800000',\n",
       "   'forwardPercentage': '100',\n",
       "   'reversePercentage': '1.1563089302594497e-05'},\n",
       "  {'uri': 'http://linked.data.gov.au/dataset/geofabric/riverregion/9400291',\n",
       "   'intersectionArea': '37700.0',\n",
       "   'featureArea': '121447895188.67200000',\n",
       "   'forwardPercentage': '100',\n",
       "   'reversePercentage': '3.1042118878579336e-05'}]}"
      ]
     },
     "execution_count": 38,
     "metadata": {},
     "output_type": "execute_result"
    }
   ],
   "source": [
    "#search for things overlapping in other regions\n",
    "import requests\n",
    "\n",
    "\n",
    "payload = {\n",
    "    'uri': meshblock_uri, \n",
    "    'areas': 'true',\n",
    "    'proportion': 'true',\n",
    "    'contains': 'false',\n",
    "    'within':'true',\n",
    "    'crosswalk':'true',\n",
    "    'count': 100,\n",
    "    'offset': 0\n",
    "}\n",
    "\n",
    "url = \"https://api.loci.cat/api/v1/location/overlaps\"\n",
    "r = requests.get(url, params=payload)\n",
    "r.json()"
   ]
  },
  {
   "cell_type": "markdown",
   "metadata": {},
   "source": [
    "That's obviously too many results, so let's filter to a particular FeatureType - Geofabric RiverRegion..."
   ]
  },
  {
   "cell_type": "code",
   "execution_count": 49,
   "metadata": {},
   "outputs": [
    {
     "data": {
      "text/plain": [
       "{'meta': {'count': 1, 'offset': 0, 'featureArea': '37700.00000000'},\n",
       " 'overlaps': [{'uri': 'http://linked.data.gov.au/dataset/geofabric/riverregion/9400291',\n",
       "   'intersectionArea': '37700.0',\n",
       "   'featureArea': '121447895188.67200000',\n",
       "   'forwardPercentage': '100',\n",
       "   'reversePercentage': '3.1042118878579336e-05'}]}"
      ]
     },
     "execution_count": 49,
     "metadata": {},
     "output_type": "execute_result"
    }
   ],
   "source": [
    "feature_type = 'http://linked.data.gov.au/def/geofabric#RiverRegion'\n",
    "\n",
    "payload = {\n",
    "    'uri': meshblock_uri, \n",
    "    'areas': 'true',\n",
    "    'proportion': 'true',\n",
    "    'contains': 'false',\n",
    "    'within':'true',\n",
    "    'crosswalk':'true',\n",
    "    'output_type' : feature_type,\n",
    "    'count': 100,\n",
    "    'offset': 0\n",
    "}\n",
    "\n",
    "url = \"https://api.loci.cat/api/v1/location/overlaps\"\n",
    "r = requests.get(url, params=payload)\n",
    "jsondata = r.json()\n",
    "jsondata"
   ]
  },
  {
   "cell_type": "code",
   "execution_count": 50,
   "metadata": {},
   "outputs": [
    {
     "data": {
      "text/plain": [
       "'http://linked.data.gov.au/dataset/geofabric/riverregion/9400291'"
      ]
     },
     "execution_count": 50,
     "metadata": {},
     "output_type": "execute_result"
    }
   ],
   "source": [
    "rr_uri = jsondata['overlaps'][0]['uri']\n",
    "rr_uri"
   ]
  },
  {
   "cell_type": "code",
   "execution_count": 55,
   "metadata": {},
   "outputs": [
    {
     "name": "stdout",
     "output_type": "stream",
     "text": [
      "Na3f15163d6bb4884b44561c13a4410c9 http://linked.data.gov.au/def/datatype/value 121271539052.34218\n",
      "N449cd03264254e92b9762f500b321de8 http://qudt.org/schema/qudt/unit http://qudt.org/vocab/unit/DEG2\n",
      "Nfb4c4e7a37ac4b24856cdafb1e43ebb2 http://qudt.org/schema/qudt/unit http://qudt.org/vocab/unit/DEG\n",
      "Nfb4c4e7a37ac4b24856cdafb1e43ebb2 http://qudt.org/schema/qudt/numericValue 28.1350000239996\n",
      "N56db348de4524efaa290b7c1d0339e54 http://www.w3.org/ns/qb4st/crs http://www.opengis.net/def/crs/EPSG/0/3577\n",
      "N449cd03264254e92b9762f500b321de8 http://qudt.org/schema/qudt/numericValue 11.54201249928\n",
      "http://linked.data.gov.au/dataset/geofabric/riverregion/9400291 http://purl.org/dc/elements/1.1/source Bureau of Meteorology\n",
      "http://linked.data.gov.au/dataset/geofabric/riverregion/ http://www.w3.org/2000/01/rdf-schema#member http://linked.data.gov.au/dataset/geofabric/riverregion/9400291\n",
      "http://linked.data.gov.au/dataset/geofabric/riverregion/9400291 http://www.opengis.net/ont/geosparql#sfWithin http://linked.data.gov.au/dataset/geofabric/drainagedivision/9400211\n",
      "http://linked.data.gov.au/dataset/geofabric/riverregion/9400291 http://linked.data.gov.au/def/geofabric#perimeterLength Nfb4c4e7a37ac4b24856cdafb1e43ebb2\n",
      "http://linked.data.gov.au/dataset/geofabric/riverregion/9400291 http://www.opengis.net/ont/geosparql#hasGeometry http://gds.loci.cat/geometry/geofabric2_1_1_riverregion/9400291\n",
      "http://linked.data.gov.au/dataset/geofabric/riverregion/9400291 http://linked.data.gov.au/def/geox#hasAreaM2 N56db348de4524efaa290b7c1d0339e54\n",
      "http://linked.data.gov.au/dataset/geofabric/riverregion/9400291 http://www.w3.org/1999/02/22-rdf-syntax-ns#type http://linked.data.gov.au/def/geofabric#RiverRegion\n",
      "http://linked.data.gov.au/dataset/geofabric/riverregion/9400291 http://linked.data.gov.au/def/loci#isMemberOf http://linked.data.gov.au/dataset/geofabric/riverregion/\n",
      "http://linked.data.gov.au/dataset/geofabric/riverregion/9400291 http://linked.data.gov.au/def/geofabric#shapeArea N449cd03264254e92b9762f500b321de8\n",
      "http://linked.data.gov.au/dataset/geofabric/riverregion/9400291 http://linked.data.gov.au/def/geox#hasAreaM2 Na3f15163d6bb4884b44561c13a4410c9\n",
      "http://linked.data.gov.au/dataset/geofabric/riverregion/9400291 http://www.opengis.net/ont/geosparql#hasDefaultGeometry http://gds.loci.cat/geometry/geofabric2_1_1_riverregion/9400291\n",
      "http://linked.data.gov.au/dataset/geofabric/riverregion/9400291 http://purl.org/dc/terms/title Swan Coast-Avon River\n",
      "http://linked.data.gov.au/dataset/geofabric/riverregion/9400291 http://purl.org/dc/elements/1.1/source Geoscience Australia\n",
      "Na3f15163d6bb4884b44561c13a4410c9 http://www.w3.org/ns/qb4st/crs http://www.opengis.net/def/crs/EPSG/0/4938\n",
      "N56db348de4524efaa290b7c1d0339e54 http://linked.data.gov.au/def/datatype/value 121447895188.672\n",
      "http://gds.loci.cat/geometry/geofabric2_1_1_riverregion/9400291\n"
     ]
    },
    {
     "data": {
      "application/vnd.jupyter.widget-view+json": {
       "model_id": "9854c85158e841fdafe5888d9af843c2",
       "version_major": 2,
       "version_minor": 0
      },
      "text/plain": [
       "Map(center=[-32.0462058652041, 115.87623596191408], controls=(ZoomControl(options=['position', 'zoom_in_text',…"
      ]
     },
     "metadata": {},
     "output_type": "display_data"
    }
   ],
   "source": [
    "# get the geometry for the CC feature and add it to the map\n",
    "g=rdflib.Graph()\n",
    "g.load(rr_uri)\n",
    "\n",
    "#for s,p,o in g:\n",
    "#    print(s, p, o)\n",
    "\n",
    "geom_uri = None\n",
    "for row in g.query(\n",
    "            '''\n",
    "            PREFIX geo: <http://www.opengis.net/ont/geosparql#>\n",
    "            select ?g where {{ <{uri}> geo:hasGeometry ?g .}}\n",
    "            '''.format(uri=rr_uri)):\n",
    "        geom_uri = (row.g)\n",
    "if(geom_uri != None):\n",
    "    print(geom_uri)\n",
    "# get the geojson representation of the geom\n",
    "header={'Accept': 'application/json'}\n",
    "req = urllib.request.Request(url=geom_uri, headers=header, method='GET')\n",
    "res = urllib.request.urlopen(req)\n",
    "res_body = res.read().decode(\"utf-8\")\n",
    "geojson_data = json.loads(res_body)\n",
    "\n",
    "\n",
    "geo_json = GeoJSON(data=geojson_data, style = {'color': 'blue', 'fillcolor': 'blue', 'opacity':1, 'weight':1.9, 'fillOpacity':0.1})\n",
    "map.add_layer(geo_json)\n",
    "map"
   ]
  },
  {
   "cell_type": "code",
   "execution_count": null,
   "metadata": {},
   "outputs": [],
   "source": []
  }
 ],
 "metadata": {
  "kernelspec": {
   "display_name": "Python 3",
   "language": "python",
   "name": "python3"
  },
  "language_info": {
   "codemirror_mode": {
    "name": "ipython",
    "version": 3
   },
   "file_extension": ".py",
   "mimetype": "text/x-python",
   "name": "python",
   "nbconvert_exporter": "python",
   "pygments_lexer": "ipython3",
   "version": "3.6.5"
  }
 },
 "nbformat": 4,
 "nbformat_minor": 4
}
