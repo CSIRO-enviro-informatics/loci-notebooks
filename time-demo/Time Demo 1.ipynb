{
 "cells": [
  {
   "cell_type": "code",
   "execution_count": 1,
   "metadata": {},
   "outputs": [
    {
     "name": "stdout",
     "output_type": "stream",
     "text": [
      "\u001b[33mWARNING: Value for scheme.headers does not match. Please report this to <https://github.com/pypa/pip/issues/9617>\n",
      "distutils: /opt/conda/include/python3.8/UNKNOWN\n",
      "sysconfig: /opt/conda/include/python3.8\u001b[0m\n",
      "\u001b[33mWARNING: Additional context:\n",
      "user = False\n",
      "home = None\n",
      "root = None\n",
      "prefix = None\u001b[0m\n",
      "Requirement already satisfied: itables in /opt/conda/lib/python3.8/site-packages (0.3.0)\n",
      "Requirement already satisfied: IPython in /opt/conda/lib/python3.8/site-packages (from itables) (7.22.0)\n",
      "Requirement already satisfied: pandas in /opt/conda/lib/python3.8/site-packages (from itables) (1.2.4)\n",
      "Requirement already satisfied: backcall in /opt/conda/lib/python3.8/site-packages (from IPython->itables) (0.2.0)\n",
      "Requirement already satisfied: pexpect>4.3 in /opt/conda/lib/python3.8/site-packages (from IPython->itables) (4.8.0)\n",
      "Requirement already satisfied: traitlets>=4.2 in /opt/conda/lib/python3.8/site-packages (from IPython->itables) (5.0.5)\n",
      "Requirement already satisfied: pygments in /opt/conda/lib/python3.8/site-packages (from IPython->itables) (2.8.1)\n",
      "Requirement already satisfied: decorator in /opt/conda/lib/python3.8/site-packages (from IPython->itables) (4.4.2)\n",
      "Requirement already satisfied: prompt-toolkit!=3.0.0,!=3.0.1,<3.1.0,>=2.0.0 in /opt/conda/lib/python3.8/site-packages (from IPython->itables) (2.0.10)\n",
      "Requirement already satisfied: jedi>=0.16 in /opt/conda/lib/python3.8/site-packages (from IPython->itables) (0.18.0)\n",
      "Requirement already satisfied: setuptools>=18.5 in /opt/conda/lib/python3.8/site-packages (from IPython->itables) (49.6.0.post20210108)\n",
      "Requirement already satisfied: pickleshare in /opt/conda/lib/python3.8/site-packages (from IPython->itables) (0.7.5)\n",
      "Requirement already satisfied: parso<0.9.0,>=0.8.0 in /opt/conda/lib/python3.8/site-packages (from jedi>=0.16->IPython->itables) (0.8.2)\n",
      "Requirement already satisfied: ptyprocess>=0.5 in /opt/conda/lib/python3.8/site-packages (from pexpect>4.3->IPython->itables) (0.7.0)\n",
      "Requirement already satisfied: six>=1.9.0 in /opt/conda/lib/python3.8/site-packages (from prompt-toolkit!=3.0.0,!=3.0.1,<3.1.0,>=2.0.0->IPython->itables) (1.15.0)\n",
      "Requirement already satisfied: wcwidth in /opt/conda/lib/python3.8/site-packages (from prompt-toolkit!=3.0.0,!=3.0.1,<3.1.0,>=2.0.0->IPython->itables) (0.2.5)\n",
      "Requirement already satisfied: ipython-genutils in /opt/conda/lib/python3.8/site-packages (from traitlets>=4.2->IPython->itables) (0.2.0)\n",
      "Requirement already satisfied: numpy>=1.16.5 in /opt/conda/lib/python3.8/site-packages (from pandas->itables) (1.20.2)\n",
      "Requirement already satisfied: python-dateutil>=2.7.3 in /opt/conda/lib/python3.8/site-packages (from pandas->itables) (2.8.1)\n",
      "Requirement already satisfied: pytz>=2017.3 in /opt/conda/lib/python3.8/site-packages (from pandas->itables) (2021.1)\n",
      "\u001b[33mWARNING: Value for scheme.headers does not match. Please report this to <https://github.com/pypa/pip/issues/9617>\n",
      "distutils: /opt/conda/include/python3.8/UNKNOWN\n",
      "sysconfig: /opt/conda/include/python3.8\u001b[0m\n",
      "\u001b[33mWARNING: Additional context:\n",
      "user = False\n",
      "home = None\n",
      "root = None\n",
      "prefix = None\u001b[0m\n"
     ]
    }
   ],
   "source": [
    "!pip install itables "
   ]
  },
  {
   "cell_type": "code",
   "execution_count": 15,
   "metadata": {},
   "outputs": [
    {
     "data": {
      "application/javascript": [
       "require.config({\n",
       "    paths: {\n",
       "        datatables: 'https://cdn.datatables.net/1.10.19/js/jquery.dataTables.min',\n",
       "    }\n",
       "});\n",
       "\n",
       "$('head').append('<link rel=\"stylesheet\" type=\"text/css\" \\\n",
       "                href = \"https://cdn.datatables.net/1.10.19/css/jquery.dataTables.min.css\" > ');\n",
       "\n",
       "$('head').append('<style> table td { text-overflow: ellipsis; overflow: hidden; } </style>');\n",
       "\n",
       "$('head').append(`<script>\n",
       "function eval_functions(map_or_text) {\n",
       "    if (typeof map_or_text === \"string\") {\n",
       "        if (map_or_text.startsWith(\"function\")) {\n",
       "            try {\n",
       "                // Note: parenthesis are required around the whole expression for eval to return a value!\n",
       "                // See https://stackoverflow.com/a/7399078/911298.\n",
       "                //\n",
       "                // eval(\"local_fun = \" + map_or_text) would fail because local_fun is not declared\n",
       "                // (using var, let or const would work, but it would only be declared in the local scope\n",
       "                // and therefore the value could not be retrieved).\n",
       "                const func = eval(\"(\" + map_or_text + \")\");\n",
       "                if (typeof func !== \"function\") {\n",
       "                    // Note: backquotes are super convenient!\n",
       "                    // https://developer.mozilla.org/en-US/docs/Web/JavaScript/Reference/Template_literals\n",
       "                    console.error(\"Evaluated expression \" + map_or_text + \" is not a function (type is \" + typeof func + \")\");\n",
       "                    return map_or_text;\n",
       "                }\n",
       "                // Return the function\n",
       "                return func;\n",
       "            } catch (e) {\n",
       "                // Make sure to print the error with a second argument to console.error().\n",
       "                console.error(\"itables was not able to parse \" + map_or_text, e);\n",
       "            }\n",
       "        }\n",
       "    } else if (typeof map_or_text === \"object\") {\n",
       "        if (map_or_text instanceof Array) {\n",
       "            // Note: \"var\" is now superseded by \"let\" and \"const\".\n",
       "            // https://medium.com/javascript-scene/javascript-es6-var-let-or-const-ba58b8dcde75\n",
       "            const result = [];\n",
       "            // Note: \"for of\" is the best way to iterate through an iterable.\n",
       "            // https://developer.mozilla.org/en-US/docs/Web/JavaScript/Reference/Statements/for...of\n",
       "            for (const item of map_or_text) {\n",
       "                result.push(eval_functions(item));\n",
       "            }\n",
       "            return result;\n",
       "\n",
       "            // Alternatively, more functional approach in one line:\n",
       "            // return map_or_text.map(eval_functions);\n",
       "        } else {\n",
       "            const result = {};\n",
       "            // Object.keys() is safer than \"for in\" because otherwise you might have keys\n",
       "            // that aren't defined in the object itself.\n",
       "            //\n",
       "            // See https://stackoverflow.com/a/684692/911298.\n",
       "            for (const item of Object.keys(map_or_text)) {\n",
       "                result[item] = eval_functions(map_or_text[item]);\n",
       "            }\n",
       "            return result;\n",
       "        }\n",
       "    }\n",
       "\n",
       "    return map_or_text;\n",
       "}\n",
       "\n",
       "</` + 'script>');"
      ],
      "text/plain": [
       "<IPython.core.display.Javascript object>"
      ]
     },
     "metadata": {},
     "output_type": "display_data"
    }
   ],
   "source": [
    "from itables import init_notebook_mode\n",
    "init_notebook_mode(all_interactive=True)\n",
    "import pandas as pd\n",
    "import itables.options as opt\n",
    "opt.columnDefs = [{\"className\":\"dt-left\", \"targets\": \"_all\"}]\n",
    "opt.lengthMenu = [50, 100, 200, 500]\n",
    "import urllib, json, requests\n",
    "import ipywidgets as widgets\n"
   ]
  },
  {
   "cell_type": "code",
   "execution_count": 16,
   "metadata": {},
   "outputs": [],
   "source": [
    "TIME_API = \"http://time-api.loci.cat/api/v1\""
   ]
  },
  {
   "cell_type": "code",
   "execution_count": 19,
   "metadata": {},
   "outputs": [],
   "source": [
    "#visualise LGA \n",
    "import json\n",
    "import requests\n",
    "def get_geom(loci_uri):\n",
    "    payload = {\n",
    "        \"uri\": loci_uri\n",
    "    }\n",
    "    url = TIME_API  + \"/location/geometry\"\n",
    "    r = requests.get(url, params=payload)\n",
    "    res = r.json()\n",
    "    #get the first geom result\n",
    "    return res"
   ]
  },
  {
   "cell_type": "markdown",
   "metadata": {},
   "source": [
    "# Loc-I Change Over Time Demo\n",
    "\n",
    "This notebook demonstrates the prototype Loc-I change over time API available at http://time-api.loci.cat\n",
    "\n",
    "Some basic API functionality is introduced and a selection of use cases will be demonstrated below."
   ]
  },
  {
   "cell_type": "markdown",
   "metadata": {},
   "source": [
    "## Loc-I Time API Basics\n",
    "\n"
   ]
  },
  {
   "cell_type": "markdown",
   "metadata": {},
   "source": [
    "### Search for a feature by name/label/code\n",
    "\n",
    "Example: Find features with label of \"Fraser\""
   ]
  },
  {
   "cell_type": "code",
   "execution_count": 6,
   "metadata": {},
   "outputs": [
    {
     "data": {
      "application/vnd.jupyter.widget-view+json": {
       "model_id": "197881ccda6040128741229682cea24e",
       "version_major": 2,
       "version_minor": 0
      },
      "text/plain": [
       "Text(value='Fraser', description='Input label:', placeholder='Fraser')"
      ]
     },
     "metadata": {},
     "output_type": "display_data"
    }
   ],
   "source": [
    "w = widgets.Text(\n",
    "    value='Fraser',\n",
    "    placeholder='Fraser',\n",
    "    description='Input label:',\n",
    "    disabled=False\n",
    ")\n",
    "display(w)"
   ]
  },
  {
   "cell_type": "code",
   "execution_count": 9,
   "metadata": {},
   "outputs": [
    {
     "data": {
      "text/html": [
       "<div><table id=\"628aa7ee-9d3d-49d7-9bc4-ea11f8e9eb43\" class=\"display\"><thead>\n",
       "    <tr style=\"text-align: right;\">\n",
       "      \n",
       "      <th>uri</th>\n",
       "      <th>match</th>\n",
       "    </tr>\n",
       "  </thead></table>\n",
       "<script type=\"text/javascript\">\n",
       "require([\"datatables\"], function (datatables) {\n",
       "    $(document).ready(function () {\n",
       "        var dt_args = {\"columnDefs\": [{\"className\": \"dt-left\", \"targets\": \"_all\"}], \"lengthMenu\": [50, 100, 200, 500], \"paging\": false, \"data\": [[\"https://linked.data.gov.au/dataset/asgs/localgovernmentarea/33220/2020-06\", \"Fraser Coast (R)\"], [\"https://linked.data.gov.au/dataset/asgs/localgovernmentarea/33220/2018-07\", \"Fraser Coast (R)\"], [\"https://linked.data.gov.au/dataset/asgs/localgovernmentarea/33220\", \"Fraser Coast (R)\"], [\"https://linked.data.gov.au/dataset/asgs/localgovernmentarea/33220/2017-07\", \"Fraser Coast (R)\"], [\"https://linked.data.gov.au/dataset/asgs/localgovernmentarea/33220/2019-07\", \"Fraser Coast (R)\"], [\"https://linked.data.gov.au/dataset/asgs/localgovernmentarea/33220/2016-07\", \"Fraser Coast (R)\"], [\"https://linked.data.gov.au/dataset/asgs/commonwealthelectoraldivision/214/2018-07\", \"Fraser\"], [\"https://linked.data.gov.au/dataset/asgs/commonwealthelectoraldivision/214\", \"Fraser\"], [\"https://linked.data.gov.au/dataset/asgs2016/statisticalarealevel2/319051522/2016-07\", \"Burrum - Fraser\"], [\"https://linked.data.gov.au/dataset/asgs2016/statisticalarealevel2/319051522\", \"Burrum - Fraser\"], [\"https://linked.data.gov.au/dataset/asgs2016/statisticalarealevel2/801011010/2016-07\", \"Fraser\"], [\"https://linked.data.gov.au/dataset/asgs2016/statisticalarealevel2/801011010\", \"Fraser\"]]};\n",
       "        dt_args = eval_functions(dt_args);\n",
       "        table = $('#628aa7ee-9d3d-49d7-9bc4-ea11f8e9eb43').DataTable(dt_args);\n",
       "    });\n",
       "})\n",
       "</script>\n",
       "</div>\n"
      ],
      "text/plain": [
       "                                                  uri             match\n",
       "0   https://linked.data.gov.au/dataset/asgs/localg...  Fraser Coast (R)\n",
       "1   https://linked.data.gov.au/dataset/asgs/localg...  Fraser Coast (R)\n",
       "2   https://linked.data.gov.au/dataset/asgs/localg...  Fraser Coast (R)\n",
       "3   https://linked.data.gov.au/dataset/asgs/localg...  Fraser Coast (R)\n",
       "4   https://linked.data.gov.au/dataset/asgs/localg...  Fraser Coast (R)\n",
       "5   https://linked.data.gov.au/dataset/asgs/localg...  Fraser Coast (R)\n",
       "6   https://linked.data.gov.au/dataset/asgs/common...            Fraser\n",
       "7   https://linked.data.gov.au/dataset/asgs/common...            Fraser\n",
       "8   https://linked.data.gov.au/dataset/asgs2016/st...   Burrum - Fraser\n",
       "9   https://linked.data.gov.au/dataset/asgs2016/st...   Burrum - Fraser\n",
       "10  https://linked.data.gov.au/dataset/asgs2016/st...            Fraser\n",
       "11  https://linked.data.gov.au/dataset/asgs2016/st...            Fraser"
      ]
     },
     "execution_count": 9,
     "metadata": {},
     "output_type": "execute_result"
    }
   ],
   "source": [
    "API_ENDPOINT = \"/location/find-by-label\"\n",
    "\n",
    "url = TIME_API + API_ENDPOINT\n",
    "payload = {\n",
    "    'query': w.value\n",
    "}\n",
    "r = requests.get(url, params=payload)\n",
    "jsondata = r.json()\n",
    "#jsondata\n",
    "df = pd.DataFrame (jsondata, columns = ['uri', 'match'])\n",
    "df"
   ]
  },
  {
   "cell_type": "markdown",
   "metadata": {},
   "source": [
    "### Get a Loc-I Feature at a point in time\n",
    "\n",
    "Example: Find the CED Commonwealth Electoral District (CED) of Fraser at a point in time, 7th September 2017."
   ]
  },
  {
   "cell_type": "code",
   "execution_count": 50,
   "metadata": {},
   "outputs": [],
   "source": [
    "FRASER_CED = \"https://linked.data.gov.au/dataset/asgs/commonwealthelectoraldivision/214\"\n",
    "TIME_VARIABLE = \"2017-09-07\""
   ]
  },
  {
   "cell_type": "code",
   "execution_count": 51,
   "metadata": {},
   "outputs": [
    {
     "data": {
      "text/plain": [
       "{'message': 'Internal Server Error', 'code': 500}"
      ]
     },
     "execution_count": 51,
     "metadata": {},
     "output_type": "execute_result"
    }
   ],
   "source": [
    "API_ENDPOINT = \"/temporal/feature\"\n",
    "\n",
    "url = TIME_API + API_ENDPOINT\n",
    "payload = {\n",
    "    'uri': FRASER_CED,\n",
    "    'time' : TIME_VARIABLE\n",
    "}\n",
    "r = requests.get(url, params=payload)\n",
    "jsondata = r.json()\n",
    "jsondata"
   ]
  },
  {
   "cell_type": "code",
   "execution_count": 52,
   "metadata": {},
   "outputs": [
    {
     "data": {
      "text/html": [
       "<div><table id=\"441680fb-1ed6-4f66-af36-3db5e5f3a304\" class=\"display\"><thead>\n",
       "    <tr style=\"text-align: right;\">\n",
       "      \n",
       "      <th>message</th>\n",
       "      <th>code</th>\n",
       "    </tr>\n",
       "  </thead></table>\n",
       "<script type=\"text/javascript\">\n",
       "require([\"datatables\"], function (datatables) {\n",
       "    $(document).ready(function () {\n",
       "        var dt_args = {\"columnDefs\": [{\"className\": \"dt-left\", \"targets\": \"_all\"}], \"lengthMenu\": [50, 100, 200, 500], \"paging\": false, \"data\": [[\"Internal Server Error\", 500]]};\n",
       "        dt_args = eval_functions(dt_args);\n",
       "        table = $('#441680fb-1ed6-4f66-af36-3db5e5f3a304').DataTable(dt_args);\n",
       "    });\n",
       "})\n",
       "</script>\n",
       "</div>\n"
      ],
      "text/plain": [
       "                 message  code\n",
       "0  Internal Server Error   500"
      ]
     },
     "execution_count": 52,
     "metadata": {},
     "output_type": "execute_result"
    }
   ],
   "source": [
    "mydict = {k: [v] for k, v in jsondata.items()}\n",
    "df = pd.DataFrame (mydict, columns = mydict.keys())\n",
    "df"
   ]
  },
  {
   "cell_type": "code",
   "execution_count": 49,
   "metadata": {},
   "outputs": [
    {
     "ename": "AttributeError",
     "evalue": "'NoneType' object has no attribute 'lower'",
     "output_type": "error",
     "traceback": [
      "\u001b[0;31m---------------------------------------------------------------------------\u001b[0m",
      "\u001b[0;31mAttributeError\u001b[0m                            Traceback (most recent call last)",
      "\u001b[0;32m<ipython-input-49-f547f7a7aeda>\u001b[0m in \u001b[0;36m<module>\u001b[0;34m\u001b[0m\n\u001b[1;32m      5\u001b[0m \u001b[0;32mfrom\u001b[0m \u001b[0mshapely\u001b[0m\u001b[0;34m.\u001b[0m\u001b[0mgeometry\u001b[0m \u001b[0;32mimport\u001b[0m \u001b[0mshape\u001b[0m\u001b[0;34m\u001b[0m\u001b[0;34m\u001b[0m\u001b[0m\n\u001b[1;32m      6\u001b[0m \u001b[0mfraser_geojson_data\u001b[0m \u001b[0;34m=\u001b[0m \u001b[0mget_geom\u001b[0m\u001b[0;34m(\u001b[0m\u001b[0mFRASER_CED\u001b[0m\u001b[0;34m)\u001b[0m\u001b[0;34m\u001b[0m\u001b[0;34m\u001b[0m\u001b[0m\n\u001b[0;32m----> 7\u001b[0;31m \u001b[0mg\u001b[0m\u001b[0;34m=\u001b[0m \u001b[0mshape\u001b[0m\u001b[0;34m(\u001b[0m\u001b[0mfraser_geojson_data\u001b[0m\u001b[0;34m)\u001b[0m\u001b[0;34m\u001b[0m\u001b[0;34m\u001b[0m\u001b[0m\n\u001b[0m\u001b[1;32m      8\u001b[0m \u001b[0;34m\u001b[0m\u001b[0m\n\u001b[1;32m      9\u001b[0m \u001b[0mx_coord\u001b[0m \u001b[0;34m=\u001b[0m \u001b[0mg\u001b[0m\u001b[0;34m.\u001b[0m\u001b[0mcentroid\u001b[0m\u001b[0;34m.\u001b[0m\u001b[0mcoords\u001b[0m\u001b[0;34m[\u001b[0m\u001b[0;36m0\u001b[0m\u001b[0;34m]\u001b[0m\u001b[0;34m[\u001b[0m\u001b[0;36m1\u001b[0m\u001b[0;34m]\u001b[0m\u001b[0;34m\u001b[0m\u001b[0;34m\u001b[0m\u001b[0m\n",
      "\u001b[0;32m/opt/conda/lib/python3.8/site-packages/shapely/geometry/geo.py\u001b[0m in \u001b[0;36mshape\u001b[0;34m(context)\u001b[0m\n\u001b[1;32m     95\u001b[0m     \u001b[0;32melse\u001b[0m\u001b[0;34m:\u001b[0m\u001b[0;34m\u001b[0m\u001b[0;34m\u001b[0m\u001b[0m\n\u001b[1;32m     96\u001b[0m         \u001b[0mob\u001b[0m \u001b[0;34m=\u001b[0m \u001b[0mcontext\u001b[0m\u001b[0;34m\u001b[0m\u001b[0;34m\u001b[0m\u001b[0m\n\u001b[0;32m---> 97\u001b[0;31m     \u001b[0mgeom_type\u001b[0m \u001b[0;34m=\u001b[0m \u001b[0mob\u001b[0m\u001b[0;34m.\u001b[0m\u001b[0mget\u001b[0m\u001b[0;34m(\u001b[0m\u001b[0;34m\"type\"\u001b[0m\u001b[0;34m)\u001b[0m\u001b[0;34m.\u001b[0m\u001b[0mlower\u001b[0m\u001b[0;34m(\u001b[0m\u001b[0;34m)\u001b[0m\u001b[0;34m\u001b[0m\u001b[0;34m\u001b[0m\u001b[0m\n\u001b[0m\u001b[1;32m     98\u001b[0m     \u001b[0;32mif\u001b[0m \u001b[0;34m'coordinates'\u001b[0m \u001b[0;32min\u001b[0m \u001b[0mob\u001b[0m \u001b[0;32mand\u001b[0m \u001b[0m_is_coordinates_empty\u001b[0m\u001b[0;34m(\u001b[0m\u001b[0mob\u001b[0m\u001b[0;34m[\u001b[0m\u001b[0;34m'coordinates'\u001b[0m\u001b[0;34m]\u001b[0m\u001b[0;34m)\u001b[0m\u001b[0;34m:\u001b[0m\u001b[0;34m\u001b[0m\u001b[0;34m\u001b[0m\u001b[0m\n\u001b[1;32m     99\u001b[0m         \u001b[0;32mreturn\u001b[0m \u001b[0m_empty_shape_for_no_coordinates\u001b[0m\u001b[0;34m(\u001b[0m\u001b[0mgeom_type\u001b[0m\u001b[0;34m)\u001b[0m\u001b[0;34m\u001b[0m\u001b[0;34m\u001b[0m\u001b[0m\n",
      "\u001b[0;31mAttributeError\u001b[0m: 'NoneType' object has no attribute 'lower'"
     ]
    }
   ],
   "source": [
    "#draw the geometry for the feature on a map\n",
    "import ipyleaflet as ipy \n",
    "import ipywidgets as ipyw\n",
    "from ipyleaflet import GeoJSON, Map, Marker\n",
    "from shapely.geometry import shape\n",
    "fraser_geojson_data = get_geom(FRASER_CED)\n",
    "g= shape(fraser_geojson_data)\n",
    "\n",
    "x_coord = g.centroid.coords[0][1]\n",
    "y_coord = g.centroid.coords[0][0]\n",
    "\n",
    "map = ipy.Map(center=[x_coord, y_coord], zoom=11)\n",
    "label = ipyw.Label(layout=ipyw.Layout(width='100%'))\n",
    "\n",
    "geo_json1 = GeoJSON(data=fraser_geojson_data, style = {'color': 'red', 'opacity':1, 'weight':1.9, 'fillOpacity':0.5})\n",
    "map.add_layer(geo_json1)\n",
    "map"
   ]
  },
  {
   "cell_type": "markdown",
   "metadata": {},
   "source": [
    "## Use case 1.A. Features intersecting at the same time (Fix at a point in time for source feature)\n",
    "\n",
    "For entity A, in data set X, return identifiers for entities of class 2 from data set Y, that intersect A at time α\n",
    "\n",
    "Example: For a starting feature of CED Commonwealth Electoral District (CED) of Fraser (ACT), return identifiers for the target features, SA2 regions from the ASGS edition 2 (2016), that intersected the source CED, on 7 September 2017."
   ]
  },
  {
   "cell_type": "code",
   "execution_count": 53,
   "metadata": {},
   "outputs": [],
   "source": [
    "FRASER_CED = \"https://linked.data.gov.au/dataset/asgs/commonwealthelectoraldivision/214\"\n",
    "TIME_VARIABLE = \"2017-09-07\"\n",
    "TO_FEATURE_TYPE = \"https://linked.data.gov.au/def/asgs#StatisticalAreaLevel2\""
   ]
  },
  {
   "cell_type": "code",
   "execution_count": 54,
   "metadata": {},
   "outputs": [],
   "source": [
    "API_ENDPOINT = \"/temporal/intersects\"\n",
    "\n",
    "url = TIME_API + API_ENDPOINT\n",
    "payload = {\n",
    "    'uri': FRASER_CED,\n",
    "    'time' : TIME_VARIABLE,\n",
    "    'toFeatureType' : TO_FEATURE_TYPE\n",
    "}\n",
    "r = requests.get(url, params=payload)\n",
    "jsondata = r.json()\n",
    "mylist = [[k] for k in jsondata]"
   ]
  },
  {
   "cell_type": "code",
   "execution_count": 55,
   "metadata": {},
   "outputs": [
    {
     "data": {
      "text/html": [
       "<div><table id=\"62b9f38b-eeb0-4307-bb05-6e4d52e96242\" class=\"display\"><thead>\n",
       "    <tr style=\"text-align: right;\">\n",
       "      \n",
       "      <th>uri</th>\n",
       "    </tr>\n",
       "  </thead></table>\n",
       "<script type=\"text/javascript\">\n",
       "require([\"datatables\"], function (datatables) {\n",
       "    $(document).ready(function () {\n",
       "        var dt_args = {\"columnDefs\": [{\"className\": \"dt-left\", \"targets\": \"_all\"}], \"lengthMenu\": [50, 100, 200, 500], \"paging\": false, \"data\": [[\"message\"], [\"code\"]]};\n",
       "        dt_args = eval_functions(dt_args);\n",
       "        table = $('#62b9f38b-eeb0-4307-bb05-6e4d52e96242').DataTable(dt_args);\n",
       "    });\n",
       "})\n",
       "</script>\n",
       "</div>\n"
      ],
      "text/plain": [
       "       uri\n",
       "0  message\n",
       "1     code"
      ]
     },
     "execution_count": 55,
     "metadata": {},
     "output_type": "execute_result"
    }
   ],
   "source": [
    "df = pd.DataFrame (mylist, columns = ['uri'])\n",
    "df"
   ]
  },
  {
   "cell_type": "code",
   "execution_count": 43,
   "metadata": {},
   "outputs": [],
   "source": [
    "from tqdm.notebook import tqdm  as tqdm\n"
   ]
  },
  {
   "cell_type": "code",
   "execution_count": 47,
   "metadata": {},
   "outputs": [
    {
     "data": {
      "application/vnd.jupyter.widget-view+json": {
       "model_id": "f8e74ef61be54f89a1a6b81fc4c39a02",
       "version_major": 2,
       "version_minor": 0
      },
      "text/plain": [
       "  0%|          | 0/54 [00:00<?, ?it/s]"
      ]
     },
     "metadata": {},
     "output_type": "display_data"
    },
    {
     "data": {
      "application/vnd.jupyter.widget-view+json": {
       "model_id": "eadc4540480f4d56a1d66e5b747a5e92",
       "version_major": 2,
       "version_minor": 0
      },
      "text/plain": [
       "Map(center=[-37.7467757320652, 144.8069843868863], controls=(ZoomControl(options=['position', 'zoom_in_text', …"
      ]
     },
     "metadata": {},
     "output_type": "display_data"
    }
   ],
   "source": [
    "map2 = ipy.Map(center=[x_coord, y_coord], zoom=11)\n",
    "label = ipyw.Label(layout=ipyw.Layout(width='100%'))\n",
    "\n",
    "source_geojson = GeoJSON(data=fraser_geojson_data, style = {'color': 'red', 'opacity':1, 'weight':1.9, 'fillOpacity':0.1})\n",
    "map2.add_layer(source_geojson)\n",
    "\n",
    "with tqdm(total=len(jsondata)) as pbar:\n",
    "    for uri in jsondata:\n",
    "        #print(uri)\n",
    "        geojson_data = get_geom(uri)\n",
    "        geo_json1 = GeoJSON(data=geojson_data, style = {'color': 'blue', 'opacity': 0.1, 'weight':1.9, 'fillOpacity':0.2})\n",
    "        map2.add_layer(geo_json1)\n",
    "        pbar.update(1)\n",
    "map2"
   ]
  },
  {
   "cell_type": "markdown",
   "metadata": {},
   "source": [
    "## Use case 1.B. Features intersecting at the same time (Fix at a point in time for both)\n",
    "\n",
    "For entity A, in data set X, return identifiers for entities of class 2 from data set Y at time b, that intersect A at time α, where time α and b are the same\n",
    "\n",
    "Example: For a starting feature of CED Commonwealth Electoral District (CED) of Fraser (ACT), return identifiers for the target features, LGA regions, that existed at 2017-09-07, that intersected the source CED, on 7 September 2017."
   ]
  },
  {
   "cell_type": "code",
   "execution_count": 38,
   "metadata": {},
   "outputs": [],
   "source": [
    "FRASER_CED = \"https://linked.data.gov.au/dataset/asgs/commonwealthelectoraldivision/214\"\n",
    "TO_FEATURE_TYPE = \"https://linked.data.gov.au/def/asgs#LocalGovernmentArea\"\n",
    "TIME_SOURCE_FEATURE = \"2017-09-07\"\n",
    "TIME_TARGET_FEATURE_TYPE = \"2017-09-07\""
   ]
  },
  {
   "cell_type": "code",
   "execution_count": 39,
   "metadata": {},
   "outputs": [
    {
     "name": "stdout",
     "output_type": "stream",
     "text": [
      "http://time-api.loci.cat/api/v1/temporal/intersects2?uri=https%3A%2F%2Flinked.data.gov.au%2Fdataset%2Fasgs%2Fcommonwealthelectoraldivision%2F214&fromTime=2017-09-07&toTime=2017-09-07&toFeatureType=https%3A%2F%2Flinked.data.gov.au%2Fdef%2Fasgs%23LocalGovernmentArea\n"
     ]
    },
    {
     "data": {
      "text/html": [
       "<div><table id=\"f232f961-58c1-43b6-b42d-efbf1205eb70\" class=\"display\"><thead>\n",
       "    <tr style=\"text-align: right;\">\n",
       "      \n",
       "      <th>uri</th>\n",
       "    </tr>\n",
       "  </thead></table>\n",
       "<script type=\"text/javascript\">\n",
       "require([\"datatables\"], function (datatables) {\n",
       "    $(document).ready(function () {\n",
       "        var dt_args = {\"columnDefs\": [{\"className\": \"dt-left\", \"targets\": \"_all\"}], \"lengthMenu\": [50, 100, 200, 500], \"paging\": false, \"data\": [[\"https://linked.data.gov.au/dataset/asgs/localgovernmentarea/21180/2017-07\"], [\"https://linked.data.gov.au/dataset/asgs/localgovernmentarea/23110/2017-07\"], [\"https://linked.data.gov.au/dataset/asgs/localgovernmentarea/24330/2017-07\"], [\"https://linked.data.gov.au/dataset/asgs/localgovernmentarea/24600/2017-07\"], [\"https://linked.data.gov.au/dataset/asgs/localgovernmentarea/25060/2017-07\"], [\"https://linked.data.gov.au/dataset/asgs/localgovernmentarea/27260/2017-07\"]]};\n",
       "        dt_args = eval_functions(dt_args);\n",
       "        table = $('#f232f961-58c1-43b6-b42d-efbf1205eb70').DataTable(dt_args);\n",
       "    });\n",
       "})\n",
       "</script>\n",
       "</div>\n"
      ],
      "text/plain": [
       "                                                 uri\n",
       "0  https://linked.data.gov.au/dataset/asgs/localg...\n",
       "1  https://linked.data.gov.au/dataset/asgs/localg...\n",
       "2  https://linked.data.gov.au/dataset/asgs/localg...\n",
       "3  https://linked.data.gov.au/dataset/asgs/localg...\n",
       "4  https://linked.data.gov.au/dataset/asgs/localg...\n",
       "5  https://linked.data.gov.au/dataset/asgs/localg..."
      ]
     },
     "execution_count": 39,
     "metadata": {},
     "output_type": "execute_result"
    }
   ],
   "source": [
    "API_ENDPOINT = \"/temporal/intersects2\"\n",
    "\n",
    "url = TIME_API + API_ENDPOINT\n",
    "payload = {\n",
    "    'uri': FRASER_CED,\n",
    "    'fromTime' : TIME_SOURCE_FEATURE,\n",
    "    'toTime' : TIME_TARGET_FEATURE_TYPE,\n",
    "    'toFeatureType' : TO_FEATURE_TYPE\n",
    "}\n",
    "r = requests.get(url, params=payload)\n",
    "print(r.url)\n",
    "jsondata = r.json()\n",
    "mylist = [[k] for k in jsondata]\n",
    "df = pd.DataFrame (mylist, columns = ['uri'])\n",
    "df"
   ]
  },
  {
   "cell_type": "code",
   "execution_count": null,
   "metadata": {},
   "outputs": [],
   "source": [
    "map3 = ipy.Map(center=[x_coord, y_coord], zoom=11)\n",
    "label = ipyw.Label(layout=ipyw.Layout(width='100%'))\n",
    "\n",
    "with tqdm(total=len(jsondata)) as pbar:\n",
    "    for uri in jsondata:\n",
    "        #print(uri)\n",
    "        geojson_data = get_geom(uri)\n",
    "        geo_json1 = GeoJSON(data=geojson_data, style = {'color': 'green', 'opacity': 0.1, 'weight':1.9, 'fillOpacity':0.2})\n",
    "        map3.add_layer(geo_json1)\n",
    "        pbar.update(1)\n",
    "map3"
   ]
  },
  {
   "cell_type": "markdown",
   "metadata": {},
   "source": [
    "## Use case 1.B. Features intersecting at different times (Specify time points for source feature and target feature types)\n",
    "\n",
    "For entity A, in data set X, return identifiers for entities of class 2 from data set Y at time b, that intersect A at time α, where time α and b are different\n",
    "\n",
    "Example: For a starting feature of CED Commonwealth Electoral District (CED) of Fraser (ACT), return identifiers for the target features, LGA regions, that existed at 2020-09-07, that intersected the source CED, on 7 September 2017."
   ]
  },
  {
   "cell_type": "code",
   "execution_count": 40,
   "metadata": {},
   "outputs": [],
   "source": [
    "FRASER_CED = \"https://linked.data.gov.au/dataset/asgs/commonwealthelectoraldivision/214\"\n",
    "TO_FEATURE_TYPE = \"https://linked.data.gov.au/def/asgs#LocalGovernmentArea\"\n",
    "TIME_SOURCE_FEATURE = \"2017-09-07\"\n",
    "TIME_TARGET_FEATURE_TYPE = \"2020-09-07\""
   ]
  },
  {
   "cell_type": "code",
   "execution_count": 41,
   "metadata": {},
   "outputs": [
    {
     "data": {
      "text/html": [
       "<div><table id=\"3a361e74-b172-4a39-af9b-5ed53b3190cf\" class=\"display\"><thead>\n",
       "    <tr style=\"text-align: right;\">\n",
       "      \n",
       "      <th>uri</th>\n",
       "    </tr>\n",
       "  </thead></table>\n",
       "<script type=\"text/javascript\">\n",
       "require([\"datatables\"], function (datatables) {\n",
       "    $(document).ready(function () {\n",
       "        var dt_args = {\"columnDefs\": [{\"className\": \"dt-left\", \"targets\": \"_all\"}], \"lengthMenu\": [50, 100, 200, 500], \"paging\": false, \"data\": [[\"https://linked.data.gov.au/dataset/asgs/localgovernmentarea/21180/2020-06\"], [\"https://linked.data.gov.au/dataset/asgs/localgovernmentarea/23110/2020-06\"], [\"https://linked.data.gov.au/dataset/asgs/localgovernmentarea/24330/2020-06\"], [\"https://linked.data.gov.au/dataset/asgs/localgovernmentarea/24600/2020-06\"], [\"https://linked.data.gov.au/dataset/asgs/localgovernmentarea/25060/2020-06\"], [\"https://linked.data.gov.au/dataset/asgs/localgovernmentarea/27260/2020-06\"], [\"https://linked.data.gov.au/dataset/asgs/localgovernmentarea/21180\"], [\"https://linked.data.gov.au/dataset/asgs/localgovernmentarea/23110\"], [\"https://linked.data.gov.au/dataset/asgs/localgovernmentarea/24330\"], [\"https://linked.data.gov.au/dataset/asgs/localgovernmentarea/24600\"], [\"https://linked.data.gov.au/dataset/asgs/localgovernmentarea/25060\"], [\"https://linked.data.gov.au/dataset/asgs/localgovernmentarea/27260\"]]};\n",
       "        dt_args = eval_functions(dt_args);\n",
       "        table = $('#3a361e74-b172-4a39-af9b-5ed53b3190cf').DataTable(dt_args);\n",
       "    });\n",
       "})\n",
       "</script>\n",
       "</div>\n"
      ],
      "text/plain": [
       "                                                  uri\n",
       "0   https://linked.data.gov.au/dataset/asgs/localg...\n",
       "1   https://linked.data.gov.au/dataset/asgs/localg...\n",
       "2   https://linked.data.gov.au/dataset/asgs/localg...\n",
       "3   https://linked.data.gov.au/dataset/asgs/localg...\n",
       "4   https://linked.data.gov.au/dataset/asgs/localg...\n",
       "5   https://linked.data.gov.au/dataset/asgs/localg...\n",
       "6   https://linked.data.gov.au/dataset/asgs/localg...\n",
       "7   https://linked.data.gov.au/dataset/asgs/localg...\n",
       "8   https://linked.data.gov.au/dataset/asgs/localg...\n",
       "9   https://linked.data.gov.au/dataset/asgs/localg...\n",
       "10  https://linked.data.gov.au/dataset/asgs/localg...\n",
       "11  https://linked.data.gov.au/dataset/asgs/localg..."
      ]
     },
     "execution_count": 41,
     "metadata": {},
     "output_type": "execute_result"
    }
   ],
   "source": [
    "API_ENDPOINT = \"/temporal/intersects2\"\n",
    "\n",
    "url = TIME_API + API_ENDPOINT\n",
    "payload = {\n",
    "    'uri': FRASER_CED,\n",
    "    'fromTime' : TIME_SOURCE_FEATURE,\n",
    "    'toTime' : TIME_TARGET_FEATURE_TYPE,\n",
    "    'toFeatureType' : TO_FEATURE_TYPE\n",
    "}\n",
    "r = requests.get(url, params=payload)\n",
    "#print(r.url)\n",
    "jsondata = r.json()\n",
    "mylist = [[k] for k in jsondata]\n",
    "df = pd.DataFrame (mylist, columns = ['uri'])\n",
    "df"
   ]
  },
  {
   "cell_type": "markdown",
   "metadata": {},
   "source": [
    "## Use case 2.A. Features intersecting input feature between time A and B.\n",
    "\n",
    "For entity A, in data set X, return identifiers for entities of class 2 from data set Y, that intersected entity A between times α and β\n",
    "\n",
    "Example: For a starting feature of CED Commonwealth Electoral District (CED) of Fraser (ACT), return identifiers for the target features, ASGS Non-ABS LGAs, that intersected the source CED, on 7 September 2017 and 7 September 2020"
   ]
  },
  {
   "cell_type": "code",
   "execution_count": 42,
   "metadata": {},
   "outputs": [],
   "source": [
    "FRASER_CED = \"https://linked.data.gov.au/dataset/asgs/commonwealthelectoraldivision/214\"\n",
    "TO_FEATURE_TYPE = \"https://linked.data.gov.au/def/asgs#LocalGovernmentArea\"\n",
    "TIMESPAN_START = \"2017-09-07\"\n",
    "TIMESPAN_END = \"2020-09-07\""
   ]
  },
  {
   "cell_type": "code",
   "execution_count": 43,
   "metadata": {},
   "outputs": [
    {
     "name": "stdout",
     "output_type": "stream",
     "text": [
      "http://time-api.loci.cat/api/v1/temporal/intersects3?uri=https%3A%2F%2Flinked.data.gov.au%2Fdataset%2Fasgs%2Fcommonwealthelectoraldivision%2F214&fromTime=2017-09-07&toTime=2020-09-07&toFeatureType=https%3A%2F%2Flinked.data.gov.au%2Fdef%2Fasgs%23LocalGovernmentArea\n"
     ]
    },
    {
     "data": {
      "text/html": [
       "<div><table id=\"3799ab39-3ea8-4683-845d-541e5e977b13\" class=\"display\"><thead>\n",
       "    <tr style=\"text-align: right;\">\n",
       "      \n",
       "      <th>https://linked.data.gov.au/dataset/asgs/commonwealthelectoraldivision/214</th>\n",
       "      <th>https://linked.data.gov.au/dataset/asgs/commonwealthelectoraldivision/214/2018-07</th>\n",
       "    </tr>\n",
       "  </thead></table>\n",
       "<script type=\"text/javascript\">\n",
       "require([\"datatables\"], function (datatables) {\n",
       "    $(document).ready(function () {\n",
       "        var dt_args = {\"columnDefs\": [{\"className\": \"dt-left\", \"targets\": \"_all\"}], \"lengthMenu\": [50, 100, 200, 500], \"paging\": false, \"data\": [[\"https://linked.data.gov.au/dataset/asgs/localgovernmentarea/21180\", \"https://linked.data.gov.au/dataset/asgs/localgovernmentarea/21180\"], [\"https://linked.data.gov.au/dataset/asgs/localgovernmentarea/21180/2018-07\", \"https://linked.data.gov.au/dataset/asgs/localgovernmentarea/21180/2018-07\"], [\"https://linked.data.gov.au/dataset/asgs/localgovernmentarea/21180/2019-07\", \"https://linked.data.gov.au/dataset/asgs/localgovernmentarea/21180/2019-07\"], [\"https://linked.data.gov.au/dataset/asgs/localgovernmentarea/21180/2020-06\", \"https://linked.data.gov.au/dataset/asgs/localgovernmentarea/21180/2020-06\"], [\"https://linked.data.gov.au/dataset/asgs/localgovernmentarea/23110\", \"https://linked.data.gov.au/dataset/asgs/localgovernmentarea/23110\"], [\"https://linked.data.gov.au/dataset/asgs/localgovernmentarea/23110/2018-07\", \"https://linked.data.gov.au/dataset/asgs/localgovernmentarea/23110/2018-07\"], [\"https://linked.data.gov.au/dataset/asgs/localgovernmentarea/23110/2019-07\", \"https://linked.data.gov.au/dataset/asgs/localgovernmentarea/23110/2019-07\"], [\"https://linked.data.gov.au/dataset/asgs/localgovernmentarea/23110/2020-06\", \"https://linked.data.gov.au/dataset/asgs/localgovernmentarea/23110/2020-06\"], [\"https://linked.data.gov.au/dataset/asgs/localgovernmentarea/23270\", \"https://linked.data.gov.au/dataset/asgs/localgovernmentarea/23270\"], [\"https://linked.data.gov.au/dataset/asgs/localgovernmentarea/23270/2018-07\", \"https://linked.data.gov.au/dataset/asgs/localgovernmentarea/23270/2018-07\"], [\"https://linked.data.gov.au/dataset/asgs/localgovernmentarea/23270/2019-07\", \"https://linked.data.gov.au/dataset/asgs/localgovernmentarea/23270/2019-07\"], [\"https://linked.data.gov.au/dataset/asgs/localgovernmentarea/23270/2020-06\", \"https://linked.data.gov.au/dataset/asgs/localgovernmentarea/23270/2020-06\"], [\"https://linked.data.gov.au/dataset/asgs/localgovernmentarea/24330\", \"https://linked.data.gov.au/dataset/asgs/localgovernmentarea/24330\"], [\"https://linked.data.gov.au/dataset/asgs/localgovernmentarea/24330/2018-07\", \"https://linked.data.gov.au/dataset/asgs/localgovernmentarea/24330/2018-07\"], [\"https://linked.data.gov.au/dataset/asgs/localgovernmentarea/24330/2019-07\", \"https://linked.data.gov.au/dataset/asgs/localgovernmentarea/24330/2019-07\"], [\"https://linked.data.gov.au/dataset/asgs/localgovernmentarea/24330/2020-06\", \"https://linked.data.gov.au/dataset/asgs/localgovernmentarea/24330/2020-06\"], [\"https://linked.data.gov.au/dataset/asgs/localgovernmentarea/24650\", \"https://linked.data.gov.au/dataset/asgs/localgovernmentarea/24650\"], [\"https://linked.data.gov.au/dataset/asgs/localgovernmentarea/24650/2018-07\", \"https://linked.data.gov.au/dataset/asgs/localgovernmentarea/24650/2018-07\"], [\"https://linked.data.gov.au/dataset/asgs/localgovernmentarea/24650/2019-07\", \"https://linked.data.gov.au/dataset/asgs/localgovernmentarea/24650/2019-07\"], [\"https://linked.data.gov.au/dataset/asgs/localgovernmentarea/24650/2020-06\", \"https://linked.data.gov.au/dataset/asgs/localgovernmentarea/24650/2020-06\"], [\"https://linked.data.gov.au/dataset/asgs/localgovernmentarea/25060\", \"https://linked.data.gov.au/dataset/asgs/localgovernmentarea/25060\"], [\"https://linked.data.gov.au/dataset/asgs/localgovernmentarea/25060/2018-07\", \"https://linked.data.gov.au/dataset/asgs/localgovernmentarea/25060/2018-07\"], [\"https://linked.data.gov.au/dataset/asgs/localgovernmentarea/25060/2019-07\", \"https://linked.data.gov.au/dataset/asgs/localgovernmentarea/25060/2019-07\"], [\"https://linked.data.gov.au/dataset/asgs/localgovernmentarea/25060/2020-06\", \"https://linked.data.gov.au/dataset/asgs/localgovernmentarea/25060/2020-06\"], [\"https://linked.data.gov.au/dataset/asgs/localgovernmentarea/27260\", \"https://linked.data.gov.au/dataset/asgs/localgovernmentarea/27260\"], [\"https://linked.data.gov.au/dataset/asgs/localgovernmentarea/27260/2018-07\", \"https://linked.data.gov.au/dataset/asgs/localgovernmentarea/27260/2018-07\"], [\"https://linked.data.gov.au/dataset/asgs/localgovernmentarea/27260/2019-07\", \"https://linked.data.gov.au/dataset/asgs/localgovernmentarea/27260/2019-07\"], [\"https://linked.data.gov.au/dataset/asgs/localgovernmentarea/27260/2020-06\", \"https://linked.data.gov.au/dataset/asgs/localgovernmentarea/27260/2020-06\"]]};\n",
       "        dt_args = eval_functions(dt_args);\n",
       "        table = $('#3799ab39-3ea8-4683-845d-541e5e977b13').DataTable(dt_args);\n",
       "    });\n",
       "})\n",
       "</script>\n",
       "</div>\n"
      ],
      "text/plain": [
       "   https://linked.data.gov.au/dataset/asgs/commonwealthelectoraldivision/214  \\\n",
       "0   https://linked.data.gov.au/dataset/asgs/localg...                          \n",
       "1   https://linked.data.gov.au/dataset/asgs/localg...                          \n",
       "2   https://linked.data.gov.au/dataset/asgs/localg...                          \n",
       "3   https://linked.data.gov.au/dataset/asgs/localg...                          \n",
       "4   https://linked.data.gov.au/dataset/asgs/localg...                          \n",
       "5   https://linked.data.gov.au/dataset/asgs/localg...                          \n",
       "6   https://linked.data.gov.au/dataset/asgs/localg...                          \n",
       "7   https://linked.data.gov.au/dataset/asgs/localg...                          \n",
       "8   https://linked.data.gov.au/dataset/asgs/localg...                          \n",
       "9   https://linked.data.gov.au/dataset/asgs/localg...                          \n",
       "10  https://linked.data.gov.au/dataset/asgs/localg...                          \n",
       "11  https://linked.data.gov.au/dataset/asgs/localg...                          \n",
       "12  https://linked.data.gov.au/dataset/asgs/localg...                          \n",
       "13  https://linked.data.gov.au/dataset/asgs/localg...                          \n",
       "14  https://linked.data.gov.au/dataset/asgs/localg...                          \n",
       "15  https://linked.data.gov.au/dataset/asgs/localg...                          \n",
       "16  https://linked.data.gov.au/dataset/asgs/localg...                          \n",
       "17  https://linked.data.gov.au/dataset/asgs/localg...                          \n",
       "18  https://linked.data.gov.au/dataset/asgs/localg...                          \n",
       "19  https://linked.data.gov.au/dataset/asgs/localg...                          \n",
       "20  https://linked.data.gov.au/dataset/asgs/localg...                          \n",
       "21  https://linked.data.gov.au/dataset/asgs/localg...                          \n",
       "22  https://linked.data.gov.au/dataset/asgs/localg...                          \n",
       "23  https://linked.data.gov.au/dataset/asgs/localg...                          \n",
       "24  https://linked.data.gov.au/dataset/asgs/localg...                          \n",
       "25  https://linked.data.gov.au/dataset/asgs/localg...                          \n",
       "26  https://linked.data.gov.au/dataset/asgs/localg...                          \n",
       "27  https://linked.data.gov.au/dataset/asgs/localg...                          \n",
       "\n",
       "   https://linked.data.gov.au/dataset/asgs/commonwealthelectoraldivision/214/2018-07  \n",
       "0   https://linked.data.gov.au/dataset/asgs/localg...                                 \n",
       "1   https://linked.data.gov.au/dataset/asgs/localg...                                 \n",
       "2   https://linked.data.gov.au/dataset/asgs/localg...                                 \n",
       "3   https://linked.data.gov.au/dataset/asgs/localg...                                 \n",
       "4   https://linked.data.gov.au/dataset/asgs/localg...                                 \n",
       "5   https://linked.data.gov.au/dataset/asgs/localg...                                 \n",
       "6   https://linked.data.gov.au/dataset/asgs/localg...                                 \n",
       "7   https://linked.data.gov.au/dataset/asgs/localg...                                 \n",
       "8   https://linked.data.gov.au/dataset/asgs/localg...                                 \n",
       "9   https://linked.data.gov.au/dataset/asgs/localg...                                 \n",
       "10  https://linked.data.gov.au/dataset/asgs/localg...                                 \n",
       "11  https://linked.data.gov.au/dataset/asgs/localg...                                 \n",
       "12  https://linked.data.gov.au/dataset/asgs/localg...                                 \n",
       "13  https://linked.data.gov.au/dataset/asgs/localg...                                 \n",
       "14  https://linked.data.gov.au/dataset/asgs/localg...                                 \n",
       "15  https://linked.data.gov.au/dataset/asgs/localg...                                 \n",
       "16  https://linked.data.gov.au/dataset/asgs/localg...                                 \n",
       "17  https://linked.data.gov.au/dataset/asgs/localg...                                 \n",
       "18  https://linked.data.gov.au/dataset/asgs/localg...                                 \n",
       "19  https://linked.data.gov.au/dataset/asgs/localg...                                 \n",
       "20  https://linked.data.gov.au/dataset/asgs/localg...                                 \n",
       "21  https://linked.data.gov.au/dataset/asgs/localg...                                 \n",
       "22  https://linked.data.gov.au/dataset/asgs/localg...                                 \n",
       "23  https://linked.data.gov.au/dataset/asgs/localg...                                 \n",
       "24  https://linked.data.gov.au/dataset/asgs/localg...                                 \n",
       "25  https://linked.data.gov.au/dataset/asgs/localg...                                 \n",
       "26  https://linked.data.gov.au/dataset/asgs/localg...                                 \n",
       "27  https://linked.data.gov.au/dataset/asgs/localg...                                 "
      ]
     },
     "execution_count": 43,
     "metadata": {},
     "output_type": "execute_result"
    }
   ],
   "source": [
    "API_ENDPOINT = \"/temporal/intersects3\"\n",
    "\n",
    "url = TIME_API + API_ENDPOINT\n",
    "payload = {\n",
    "    'uri': FRASER_CED,\n",
    "    'fromTime' : TIMESPAN_START,\n",
    "    'toTime' : TIMESPAN_END,\n",
    "    'toFeatureType' : TO_FEATURE_TYPE\n",
    "}\n",
    "r = requests.get(url, params=payload)\n",
    "#print(r.url)\n",
    "jsondata = r.json()\n",
    "mydict = {k: sorted(v) for k, v in jsondata.items()}\n",
    "df = pd.DataFrame (mydict, columns = mydict.keys())\n",
    "df"
   ]
  },
  {
   "cell_type": "code",
   "execution_count": 28,
   "metadata": {},
   "outputs": [],
   "source": [
    "import ipycytoscape"
   ]
  },
  {
   "cell_type": "code",
   "execution_count": 16,
   "metadata": {
    "scrolled": true
   },
   "outputs": [],
   "source": [
    "import json\n",
    "with open(\"DAGData.json\") as fi:\n",
    "    json_file = json.load(fi)"
   ]
  },
  {
   "cell_type": "code",
   "execution_count": 17,
   "metadata": {},
   "outputs": [],
   "source": [
    "cytoscapeobj = ipycytoscape.CytoscapeWidget()\n",
    "cytoscapeobj.graph.add_graph_from_json(json_file)"
   ]
  },
  {
   "cell_type": "code",
   "execution_count": 18,
   "metadata": {},
   "outputs": [],
   "source": [
    "cytoscapeobj.set_layout(name='dagre', nodeSpacing=10, edgeLengthVal=10)\n",
    "cytoscapeobj.set_style([{\n",
    "                        'selector': 'node',\n",
    "                        'css': {\n",
    "                            'background-color': '#11479e'\n",
    "                            }\n",
    "                        },\n",
    "                        {\n",
    "                        'selector': 'node:parent',\n",
    "                        'css': {\n",
    "                            'background-opacity': 0.333\n",
    "                            }\n",
    "                        },\n",
    "                        {\n",
    "                            'selector': 'edge',\n",
    "                            'style': {\n",
    "                                'width': 4,\n",
    "                                'line-color': '#9dbaea',\n",
    "                                'target-arrow-shape': 'triangle',\n",
    "                                'target-arrow-color': '#9dbaea',\n",
    "                                'curve-style': 'bezier'\n",
    "                            }\n",
    "                        }])"
   ]
  },
  {
   "cell_type": "code",
   "execution_count": 19,
   "metadata": {},
   "outputs": [
    {
     "data": {
      "application/vnd.jupyter.widget-view+json": {
       "model_id": "a4f2c282589a47e48ada393b6bdd63fa",
       "version_major": 2,
       "version_minor": 0
      },
      "text/plain": [
       "CytoscapeWidget(cytoscape_layout={'name': 'dagre', 'nodeSpacing': 10, 'edgeLengthVal': 10}, cytoscape_style=[{…"
      ]
     },
     "metadata": {},
     "output_type": "display_data"
    }
   ],
   "source": [
    "cytoscapeobj"
   ]
  },
  {
   "cell_type": "code",
   "execution_count": null,
   "metadata": {},
   "outputs": [],
   "source": []
  },
  {
   "cell_type": "code",
   "execution_count": null,
   "metadata": {},
   "outputs": [],
   "source": []
  },
  {
   "cell_type": "code",
   "execution_count": null,
   "metadata": {},
   "outputs": [],
   "source": []
  },
  {
   "cell_type": "code",
   "execution_count": null,
   "metadata": {},
   "outputs": [],
   "source": []
  }
 ],
 "metadata": {
  "kernelspec": {
   "display_name": "Python 3",
   "language": "python",
   "name": "python3"
  },
  "language_info": {
   "codemirror_mode": {
    "name": "ipython",
    "version": 3
   },
   "file_extension": ".py",
   "mimetype": "text/x-python",
   "name": "python",
   "nbconvert_exporter": "python",
   "pygments_lexer": "ipython3",
   "version": "3.8.8"
  }
 },
 "nbformat": 4,
 "nbformat_minor": 4
}
