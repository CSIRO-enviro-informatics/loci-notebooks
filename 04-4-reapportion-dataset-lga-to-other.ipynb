{
 "cells": [
  {
   "cell_type": "code",
   "execution_count": 1,
   "metadata": {},
   "outputs": [
    {
     "name": "stdout",
     "output_type": "stream",
     "text": [
      "Collecting git+https://github.com/CSIRO-enviro-informatics/loci-scripts.git@master\n",
      "  Cloning https://github.com/CSIRO-enviro-informatics/loci-scripts.git (to revision master) to /tmp/pip-req-build-0wqumv68\n",
      "  Running command git clone -q https://github.com/CSIRO-enviro-informatics/loci-scripts.git /tmp/pip-req-build-0wqumv68\n",
      "  Running command git submodule update --init --recursive -q\n",
      "Collecting XlsxWriter\n",
      "  Downloading XlsxWriter-1.2.8-py2.py3-none-any.whl (141 kB)\n",
      "\u001b[K     |████████████████████████████████| 141 kB 1.5 MB/s eta 0:00:01\n",
      "\u001b[?25hCollecting SPARQLWrapper<=1.8.5\n",
      "  Downloading SPARQLWrapper-1.8.5-py3-none-any.whl (26 kB)\n",
      "Collecting rdflib<=4.2.2\n",
      "  Downloading rdflib-4.2.2-py3-none-any.whl (344 kB)\n",
      "\u001b[K     |████████████████████████████████| 344 kB 6.1 MB/s eta 0:00:01\n",
      "\u001b[?25hCollecting python-dotenv<=0.11.0\n",
      "  Downloading python_dotenv-0.11.0-py2.py3-none-any.whl (17 kB)\n",
      "Collecting requests<=2.23.0\n",
      "  Downloading requests-2.23.0-py2.py3-none-any.whl (58 kB)\n",
      "\u001b[K     |████████████████████████████████| 58 kB 30.0 MB/s eta 0:00:01\n",
      "\u001b[?25hCollecting isodate\n",
      "  Downloading isodate-0.6.0-py2.py3-none-any.whl (45 kB)\n",
      "\u001b[K     |████████████████████████████████| 45 kB 10.4 MB/s eta 0:00:01     |████████████████████████████▊   | 40 kB 9.9 MB/s eta 0:00:01\n",
      "\u001b[?25hCollecting pyparsing\n",
      "  Downloading pyparsing-2.4.7-py2.py3-none-any.whl (67 kB)\n",
      "\u001b[K     |████████████████████████████████| 67 kB 34.1 MB/s eta 0:00:01\n",
      "\u001b[?25hCollecting urllib3!=1.25.0,!=1.25.1,<1.26,>=1.21.1\n",
      "  Downloading urllib3-1.25.9-py2.py3-none-any.whl (126 kB)\n",
      "\u001b[K     |████████████████████████████████| 126 kB 16.0 MB/s eta 0:00:01\n",
      "\u001b[?25hCollecting idna<3,>=2.5\n",
      "  Downloading idna-2.9-py2.py3-none-any.whl (58 kB)\n",
      "\u001b[K     |████████████████████████████████| 58 kB 4.9 MB/s eta 0:00:01\n",
      "\u001b[?25hCollecting certifi>=2017.4.17\n",
      "  Downloading certifi-2020.4.5.1-py2.py3-none-any.whl (157 kB)\n",
      "\u001b[K     |████████████████████████████████| 157 kB 12.6 MB/s eta 0:00:01\n",
      "\u001b[?25hCollecting chardet<4,>=3.0.2\n",
      "  Downloading chardet-3.0.4-py2.py3-none-any.whl (133 kB)\n",
      "\u001b[K     |████████████████████████████████| 133 kB 4.4 MB/s eta 0:00:01    |███████████████████▋            | 81 kB 7.7 MB/s eta 0:00:01\n",
      "\u001b[?25hCollecting six\n",
      "  Downloading six-1.14.0-py2.py3-none-any.whl (10 kB)\n",
      "Building wheels for collected packages: pyloci\n",
      "  Building wheel for pyloci (setup.py) ... \u001b[?25ldone\n",
      "\u001b[?25h  Created wheel for pyloci: filename=pyloci-0.1.1.25-py3-none-any.whl size=34955 sha256=9b4106a6f784d21a238a1c3d7c0d6f4d300b91419227d22c4035c2ba13729d75\n",
      "  Stored in directory: /tmp/pip-ephem-wheel-cache-_5ab0mng/wheels/3e/5b/79/764b8572d0ff50a032783c6b4b6373567cf1ca9264f188d83d\n",
      "Successfully built pyloci\n",
      "\u001b[31mERROR: jupyterlab 2.0.1 has requirement jupyterlab_server~=1.0.0, but you'll have jupyterlab-server 1.1.1 which is incompatible.\u001b[0m\n",
      "Installing collected packages: XlsxWriter, six, isodate, pyparsing, rdflib, SPARQLWrapper, python-dotenv, urllib3, idna, certifi, chardet, requests, pyloci\n",
      "Successfully installed SPARQLWrapper-1.8.5 XlsxWriter-1.2.8 certifi-2020.4.5.1 chardet-3.0.4 idna-2.9 isodate-0.6.0 pyloci-0.1.1.25 pyparsing-2.4.7 python-dotenv-0.11.0 rdflib-4.2.2 requests-2.23.0 six-1.14.0 urllib3-1.25.9\n",
      "Requirement already satisfied: numpy in /opt/conda/lib/python3.7/site-packages (1.18.3)\n",
      "Requirement already satisfied: pandas in /opt/conda/lib/python3.7/site-packages (1.0.3)\n",
      "Requirement already satisfied: pytz>=2017.2 in /opt/conda/lib/python3.7/site-packages (from pandas) (2020.1)\n",
      "Requirement already satisfied: python-dateutil>=2.6.1 in /opt/conda/lib/python3.7/site-packages (from pandas) (2.8.1)\n",
      "Requirement already satisfied: six>=1.5 in /opt/conda/lib/python3.7/site-packages (from python-dateutil>=2.6.1->pandas) (1.14.0)\n"
     ]
    }
   ],
   "source": [
    "!pip install --quiet --ignore-installed --no-cache-dir --force-reinstall git+https://github.com/CSIRO-enviro-informatics/loci-scripts.git@master\n",
    "!pip install --quiet numpy pandas"
   ]
  },
  {
   "cell_type": "markdown",
   "metadata": {},
   "source": [
    "# Reapportioning ASGS16 LGA to Other feature examples using the pyloci API\n",
    "\n",
    "This notebook show how you would perform reapportioning using the [pyloci](https://pypi.org/project/pyloci/) library using a simple CSV file. The pyloci library interfaces directly with the SPARQL API for the Loc-I Cache GraphDB."
   ]
  },
  {
   "cell_type": "code",
   "execution_count": 2,
   "metadata": {},
   "outputs": [
    {
     "data": {
      "text/html": [
       "<div>\n",
       "<style scoped>\n",
       "    .dataframe tbody tr th:only-of-type {\n",
       "        vertical-align: middle;\n",
       "    }\n",
       "\n",
       "    .dataframe tbody tr th {\n",
       "        vertical-align: top;\n",
       "    }\n",
       "\n",
       "    .dataframe thead th {\n",
       "        text-align: right;\n",
       "    }\n",
       "</style>\n",
       "<table border=\"1\" class=\"dataframe\">\n",
       "  <thead>\n",
       "    <tr style=\"text-align: right;\">\n",
       "      <th></th>\n",
       "      <th>LGA</th>\n",
       "      <th>Estimated Agricultural Area</th>\n",
       "      <th>Estimated value 2016</th>\n",
       "    </tr>\n",
       "  </thead>\n",
       "  <tbody>\n",
       "    <tr>\n",
       "      <th>0</th>\n",
       "      <td>http://linked.data.gov.au/dataset/asgs2016/loc...</td>\n",
       "      <td>608800</td>\n",
       "      <td>118073000</td>\n",
       "    </tr>\n",
       "    <tr>\n",
       "      <th>1</th>\n",
       "      <td>http://linked.data.gov.au/dataset/asgs2016/loc...</td>\n",
       "      <td>144111000</td>\n",
       "      <td>39100</td>\n",
       "    </tr>\n",
       "    <tr>\n",
       "      <th>2</th>\n",
       "      <td>http://linked.data.gov.au/dataset/asgs2016/loc...</td>\n",
       "      <td>254500</td>\n",
       "      <td>142090000</td>\n",
       "    </tr>\n",
       "    <tr>\n",
       "      <th>3</th>\n",
       "      <td>http://linked.data.gov.au/dataset/asgs2016/loc...</td>\n",
       "      <td>18900</td>\n",
       "      <td>5195000</td>\n",
       "    </tr>\n",
       "    <tr>\n",
       "      <th>4</th>\n",
       "      <td>http://linked.data.gov.au/dataset/asgs2016/loc...</td>\n",
       "      <td>74100</td>\n",
       "      <td>55850000</td>\n",
       "    </tr>\n",
       "  </tbody>\n",
       "</table>\n",
       "</div>"
      ],
      "text/plain": [
       "                                                 LGA  \\\n",
       "0  http://linked.data.gov.au/dataset/asgs2016/loc...   \n",
       "1  http://linked.data.gov.au/dataset/asgs2016/loc...   \n",
       "2  http://linked.data.gov.au/dataset/asgs2016/loc...   \n",
       "3  http://linked.data.gov.au/dataset/asgs2016/loc...   \n",
       "4  http://linked.data.gov.au/dataset/asgs2016/loc...   \n",
       "\n",
       "   Estimated Agricultural Area  Estimated value 2016  \n",
       "0                       608800             118073000  \n",
       "1                    144111000                 39100  \n",
       "2                       254500             142090000  \n",
       "3                        18900               5195000  \n",
       "4                        74100              55850000  "
      ]
     },
     "execution_count": 2,
     "metadata": {},
     "output_type": "execute_result"
    }
   ],
   "source": [
    "import numpy as np\n",
    "import pandas as pd\n",
    "df = pd.read_csv('loci-lga-sa1-test-case1.csv', delimiter = ',')\n",
    "#show the csv file read in\n",
    "df"
   ]
  },
  {
   "cell_type": "code",
   "execution_count": 3,
   "metadata": {},
   "outputs": [
    {
     "name": "stdout",
     "output_type": "stream",
     "text": [
      "http://db.loci.cat/repositories/loci-cache\n"
     ]
    }
   ],
   "source": [
    "#sure the config for the SPARQL endpoint to hit is set\n",
    "import os\n",
    "from dotenv import load_dotenv, find_dotenv\n",
    "load_dotenv(find_dotenv())\n",
    "print(os.getenv(\"SPARQL_ENDPOINT\"))"
   ]
  },
  {
   "cell_type": "code",
   "execution_count": 4,
   "metadata": {},
   "outputs": [],
   "source": [
    "#import the reapportioning module from pyloci\n",
    "from pyloci import reapportioning\n",
    "\n",
    "\n",
    "from pyloci.api.util import Util as API_Util\n",
    "from pyloci.sparql import util as sparql_util\n",
    "import time\n",
    "import json\n",
    "import ipywidgets as widgets\n",
    "\n",
    "auth = None\n",
    "api_util = API_Util()\n",
    "LOCI_INTEGRATION_API = \"https://api.loci.cat/api/v1\""
   ]
  },
  {
   "cell_type": "code",
   "execution_count": 5,
   "metadata": {},
   "outputs": [],
   "source": [
    "#Listing feature types that have albers area - see https://github.com/CSIRO-enviro-informatics/asgs-dataset/issues/15 for more info\n",
    "datatypes=[('mb', 'http://linked.data.gov.au/def/asgs#MeshBlock'),\n",
    "           ('sa1', 'http://linked.data.gov.au/def/asgs#StatisticalAreaLevel1'), \n",
    "           ('sa2', 'http://linked.data.gov.au/def/asgs#StatisticalAreaLevel2'), \n",
    "           ('gccsa', 'http://linked.data.gov.au/def/asgs#StatisticalAreaLevel3'), \n",
    "           ('sa4', 'http://linked.data.gov.au/def/asgs#StatisticalAreaLevel4'), \n",
    "           ('ste', 'http://linked.data.gov.au/def/asgs#StateOrTerritory'), \n",
    "           ('ra', 'http://linked.data.gov.au/def/asgs#RemotenessArea'), \n",
    "           ('cc', 'http://linked.data.gov.au/def/geofabric#ContractedCatchment'), \n",
    "           ('rr', 'http://linked.data.gov.au/def/geofabric#RiverRegion'), \n",
    "           ('dd', 'http://linked.data.gov.au/def/geofabric#DrainageDivision')\n",
    "]"
   ]
  },
  {
   "cell_type": "code",
   "execution_count": 6,
   "metadata": {},
   "outputs": [],
   "source": [
    "ft_selector_widget = widgets.Dropdown(\n",
    "    options=datatypes,\n",
    "    description='Feature Type:',\n",
    ")\n"
   ]
  },
  {
   "cell_type": "code",
   "execution_count": 7,
   "metadata": {},
   "outputs": [
    {
     "data": {
      "application/vnd.jupyter.widget-view+json": {
       "model_id": "6c9265baffaa4772b02941dab6c710d0",
       "version_major": 2,
       "version_minor": 0
      },
      "text/plain": [
       "Dropdown(description='Feature Type:', options=(('mb', 'http://linked.data.gov.au/def/asgs#MeshBlock'), ('sa1',…"
      ]
     },
     "metadata": {},
     "output_type": "display_data"
    }
   ],
   "source": [
    "display(ft_selector_widget)"
   ]
  },
  {
   "cell_type": "code",
   "execution_count": 8,
   "metadata": {},
   "outputs": [
    {
     "data": {
      "text/plain": [
       "'http://linked.data.gov.au/def/asgs#MeshBlock'"
      ]
     },
     "execution_count": 8,
     "metadata": {},
     "output_type": "execute_result"
    }
   ],
   "source": [
    "ft_selector_widget.value"
   ]
  },
  {
   "cell_type": "code",
   "execution_count": 9,
   "metadata": {},
   "outputs": [
    {
     "data": {
      "text/plain": [
       "'mb'"
      ]
     },
     "execution_count": 9,
     "metadata": {},
     "output_type": "execute_result"
    }
   ],
   "source": [
    "ft_selector_widget.label"
   ]
  },
  {
   "cell_type": "code",
   "execution_count": 10,
   "metadata": {},
   "outputs": [],
   "source": [
    "ft_selector_widget\n",
    "toFeatureType = ft_selector_widget.value\n",
    "toFeatureTypeLabel = ft_selector_widget.label"
   ]
  },
  {
   "cell_type": "code",
   "execution_count": 11,
   "metadata": {},
   "outputs": [
    {
     "name": "stdout",
     "output_type": "stream",
     "text": [
      "http://linked.data.gov.au/dataset/asgs2016/localgovernmentarea/55880, 118073000\n",
      "Querying overlaps of http://linked.data.gov.au/dataset/asgs2016/localgovernmentarea/55880 to http://linked.data.gov.au/def/asgs#MeshBlock...\n",
      "query_api_location_overlaps took 0.7305 seconds\n",
      "http://linked.data.gov.au/dataset/asgs2016/localgovernmentarea/40070, 39100\n",
      "Querying overlaps of http://linked.data.gov.au/dataset/asgs2016/localgovernmentarea/40070 to http://linked.data.gov.au/def/asgs#MeshBlock...\n",
      "query_api_location_overlaps took 2.4002 seconds\n",
      "http://linked.data.gov.au/dataset/asgs2016/localgovernmentarea/50080, 142090000\n",
      "Querying overlaps of http://linked.data.gov.au/dataset/asgs2016/localgovernmentarea/50080 to http://linked.data.gov.au/def/asgs#MeshBlock...\n",
      "query_api_location_overlaps took 3.0872 seconds\n",
      "http://linked.data.gov.au/dataset/asgs2016/localgovernmentarea/10050, 5195000\n",
      "Querying overlaps of http://linked.data.gov.au/dataset/asgs2016/localgovernmentarea/10050 to http://linked.data.gov.au/def/asgs#MeshBlock...\n",
      "query_api_location_overlaps took 3.4119 seconds\n",
      "http://linked.data.gov.au/dataset/asgs2016/localgovernmentarea/20110, 55850000\n",
      "Querying overlaps of http://linked.data.gov.au/dataset/asgs2016/localgovernmentarea/20110 to http://linked.data.gov.au/def/asgs#MeshBlock...\n",
      "query_api_location_overlaps took 1.6019 seconds\n",
      "CPU times: user 412 ms, sys: 23.1 ms, total: 435 ms\n",
      "Wall time: 11.6 s\n"
     ]
    }
   ],
   "source": [
    "%%time\n",
    "target_col = \"Estimated value 2016\"\n",
    "res_df_cols = {\n",
    "    \"LGA\" : [],\n",
    "    toFeatureTypeLabel : [],\n",
    "    \"percent_overlap\": [],\n",
    "    target_col: [],\n",
    "    \"reapportioned_data\": [],\n",
    "}\n",
    "for index, row in df.iterrows():\n",
    "    fromFeature = row['LGA']\n",
    "    print(\"{}, {}\".format(row['LGA'], str(row[target_col])))\n",
    "    print(\"Querying overlaps of {} to {}...\".format(fromFeature, toFeatureType))\n",
    "    tic = time.perf_counter()\n",
    "    list_locations = api_util.query_api_location_overlaps(fromFeature, toFeatureType, LOCI_INTEGRATION_API, crosswalk='true')\n",
    "    toc = time.perf_counter()\n",
    "    print(f\"query_api_location_overlaps took {toc - tic:0.4f} seconds\")\n",
    "    #print(list_locations)\n",
    "    for o in list_locations['overlaps']:\n",
    "        res_df_cols[\"LGA\"].append(fromFeature)\n",
    "        res_df_cols[toFeatureTypeLabel].append(o['uri'])\n",
    "        res_df_cols[\"percent_overlap\"].append(o['forwardPercentage'])\n",
    "        res_df_cols[target_col].append(row[target_col])\n",
    "        reapportioned = (float(o['forwardPercentage'])/100.0)*float(row[target_col])\n",
    "        res_df_cols[\"reapportioned_data\"].append(reapportioned)\n",
    "\n",
    "        "
   ]
  },
  {
   "cell_type": "code",
   "execution_count": 12,
   "metadata": {},
   "outputs": [
    {
     "data": {
      "text/html": [
       "<div>\n",
       "<style scoped>\n",
       "    .dataframe tbody tr th:only-of-type {\n",
       "        vertical-align: middle;\n",
       "    }\n",
       "\n",
       "    .dataframe tbody tr th {\n",
       "        vertical-align: top;\n",
       "    }\n",
       "\n",
       "    .dataframe thead th {\n",
       "        text-align: right;\n",
       "    }\n",
       "</style>\n",
       "<table border=\"1\" class=\"dataframe\">\n",
       "  <thead>\n",
       "    <tr style=\"text-align: right;\">\n",
       "      <th></th>\n",
       "      <th>LGA</th>\n",
       "      <th>mb</th>\n",
       "      <th>percent_overlap</th>\n",
       "      <th>Estimated value 2016</th>\n",
       "      <th>reapportioned_data</th>\n",
       "    </tr>\n",
       "  </thead>\n",
       "  <tbody>\n",
       "    <tr>\n",
       "      <th>0</th>\n",
       "      <td>http://linked.data.gov.au/dataset/asgs2016/localgovernmentarea/55880</td>\n",
       "      <td>http://linked.data.gov.au/dataset/asgs2016/meshblock/50218930000</td>\n",
       "      <td>0.00</td>\n",
       "      <td>118073000</td>\n",
       "      <td>534.45</td>\n",
       "    </tr>\n",
       "    <tr>\n",
       "      <th>1</th>\n",
       "      <td>http://linked.data.gov.au/dataset/asgs2016/localgovernmentarea/55880</td>\n",
       "      <td>http://linked.data.gov.au/dataset/asgs2016/meshblock/50218752000</td>\n",
       "      <td>0.00</td>\n",
       "      <td>118073000</td>\n",
       "      <td>2660.66</td>\n",
       "    </tr>\n",
       "    <tr>\n",
       "      <th>2</th>\n",
       "      <td>http://linked.data.gov.au/dataset/asgs2016/localgovernmentarea/55880</td>\n",
       "      <td>http://linked.data.gov.au/dataset/asgs2016/meshblock/50383200000</td>\n",
       "      <td>0.01</td>\n",
       "      <td>118073000</td>\n",
       "      <td>7551.87</td>\n",
       "    </tr>\n",
       "    <tr>\n",
       "      <th>3</th>\n",
       "      <td>http://linked.data.gov.au/dataset/asgs2016/localgovernmentarea/55880</td>\n",
       "      <td>http://linked.data.gov.au/dataset/asgs2016/meshblock/50219110000</td>\n",
       "      <td>5.17</td>\n",
       "      <td>118073000</td>\n",
       "      <td>6109849.68</td>\n",
       "    </tr>\n",
       "    <tr>\n",
       "      <th>4</th>\n",
       "      <td>http://linked.data.gov.au/dataset/asgs2016/localgovernmentarea/55880</td>\n",
       "      <td>http://linked.data.gov.au/dataset/asgs2016/meshblock/50383220000</td>\n",
       "      <td>0.01</td>\n",
       "      <td>118073000</td>\n",
       "      <td>11699.95</td>\n",
       "    </tr>\n",
       "    <tr>\n",
       "      <th>...</th>\n",
       "      <td>...</td>\n",
       "      <td>...</td>\n",
       "      <td>...</td>\n",
       "      <td>...</td>\n",
       "      <td>...</td>\n",
       "    </tr>\n",
       "    <tr>\n",
       "      <th>2625</th>\n",
       "      <td>http://linked.data.gov.au/dataset/asgs2016/localgovernmentarea/20110</td>\n",
       "      <td>http://linked.data.gov.au/dataset/asgs2016/meshblock/20002010000</td>\n",
       "      <td>0.00</td>\n",
       "      <td>55850000</td>\n",
       "      <td>335.93</td>\n",
       "    </tr>\n",
       "    <tr>\n",
       "      <th>2626</th>\n",
       "      <td>http://linked.data.gov.au/dataset/asgs2016/localgovernmentarea/20110</td>\n",
       "      <td>http://linked.data.gov.au/dataset/asgs2016/meshblock/20688050000</td>\n",
       "      <td>0.10</td>\n",
       "      <td>55850000</td>\n",
       "      <td>58093.53</td>\n",
       "    </tr>\n",
       "    <tr>\n",
       "      <th>2627</th>\n",
       "      <td>http://linked.data.gov.au/dataset/asgs2016/localgovernmentarea/20110</td>\n",
       "      <td>http://linked.data.gov.au/dataset/asgs2016/meshblock/20000431000</td>\n",
       "      <td>0.37</td>\n",
       "      <td>55850000</td>\n",
       "      <td>206086.81</td>\n",
       "    </tr>\n",
       "    <tr>\n",
       "      <th>2628</th>\n",
       "      <td>http://linked.data.gov.au/dataset/asgs2016/localgovernmentarea/20110</td>\n",
       "      <td>http://linked.data.gov.au/dataset/asgs2016/meshblock/20001240000</td>\n",
       "      <td>0.00</td>\n",
       "      <td>55850000</td>\n",
       "      <td>557.55</td>\n",
       "    </tr>\n",
       "    <tr>\n",
       "      <th>2629</th>\n",
       "      <td>http://linked.data.gov.au/dataset/asgs2016/localgovernmentarea/20110</td>\n",
       "      <td>http://linked.data.gov.au/dataset/asgs2016/meshblock/20001751000</td>\n",
       "      <td>0.15</td>\n",
       "      <td>55850000</td>\n",
       "      <td>82198.76</td>\n",
       "    </tr>\n",
       "  </tbody>\n",
       "</table>\n",
       "<p>2630 rows × 5 columns</p>\n",
       "</div>"
      ],
      "text/plain": [
       "                                                                       LGA  \\\n",
       "0     http://linked.data.gov.au/dataset/asgs2016/localgovernmentarea/55880   \n",
       "1     http://linked.data.gov.au/dataset/asgs2016/localgovernmentarea/55880   \n",
       "2     http://linked.data.gov.au/dataset/asgs2016/localgovernmentarea/55880   \n",
       "3     http://linked.data.gov.au/dataset/asgs2016/localgovernmentarea/55880   \n",
       "4     http://linked.data.gov.au/dataset/asgs2016/localgovernmentarea/55880   \n",
       "...                                                                    ...   \n",
       "2625  http://linked.data.gov.au/dataset/asgs2016/localgovernmentarea/20110   \n",
       "2626  http://linked.data.gov.au/dataset/asgs2016/localgovernmentarea/20110   \n",
       "2627  http://linked.data.gov.au/dataset/asgs2016/localgovernmentarea/20110   \n",
       "2628  http://linked.data.gov.au/dataset/asgs2016/localgovernmentarea/20110   \n",
       "2629  http://linked.data.gov.au/dataset/asgs2016/localgovernmentarea/20110   \n",
       "\n",
       "                                                                    mb  \\\n",
       "0     http://linked.data.gov.au/dataset/asgs2016/meshblock/50218930000   \n",
       "1     http://linked.data.gov.au/dataset/asgs2016/meshblock/50218752000   \n",
       "2     http://linked.data.gov.au/dataset/asgs2016/meshblock/50383200000   \n",
       "3     http://linked.data.gov.au/dataset/asgs2016/meshblock/50219110000   \n",
       "4     http://linked.data.gov.au/dataset/asgs2016/meshblock/50383220000   \n",
       "...                                                                ...   \n",
       "2625  http://linked.data.gov.au/dataset/asgs2016/meshblock/20002010000   \n",
       "2626  http://linked.data.gov.au/dataset/asgs2016/meshblock/20688050000   \n",
       "2627  http://linked.data.gov.au/dataset/asgs2016/meshblock/20000431000   \n",
       "2628  http://linked.data.gov.au/dataset/asgs2016/meshblock/20001240000   \n",
       "2629  http://linked.data.gov.au/dataset/asgs2016/meshblock/20001751000   \n",
       "\n",
       "      percent_overlap  Estimated value 2016  reapportioned_data  \n",
       "0    0.00              118073000            534.45               \n",
       "1    0.00              118073000            2660.66              \n",
       "2    0.01              118073000            7551.87              \n",
       "3    5.17              118073000            6109849.68           \n",
       "4    0.01              118073000            11699.95             \n",
       "...   ...                    ...                 ...             \n",
       "2625 0.00              55850000             335.93               \n",
       "2626 0.10              55850000             58093.53             \n",
       "2627 0.37              55850000             206086.81            \n",
       "2628 0.00              55850000             557.55               \n",
       "2629 0.15              55850000             82198.76             \n",
       "\n",
       "[2630 rows x 5 columns]"
      ]
     },
     "execution_count": 12,
     "metadata": {},
     "output_type": "execute_result"
    }
   ],
   "source": [
    "res_df = pd.DataFrame (res_df_cols, columns = ['LGA', toFeatureTypeLabel, \"percent_overlap\", target_col, \"reapportioned_data\"])\n",
    "pd.options.display.float_format = '{:.2f}'.format\n",
    "pd.set_option('display.max_colwidth', 0)\n",
    "res_df"
   ]
  },
  {
   "cell_type": "code",
   "execution_count": null,
   "metadata": {},
   "outputs": [],
   "source": []
  },
  {
   "cell_type": "code",
   "execution_count": null,
   "metadata": {},
   "outputs": [],
   "source": []
  }
 ],
 "metadata": {
  "kernelspec": {
   "display_name": "Python 3",
   "language": "python",
   "name": "python3"
  },
  "language_info": {
   "codemirror_mode": {
    "name": "ipython",
    "version": 3
   },
   "file_extension": ".py",
   "mimetype": "text/x-python",
   "name": "python",
   "nbconvert_exporter": "python",
   "pygments_lexer": "ipython3",
   "version": "3.8.3"
  }
 },
 "nbformat": 4,
 "nbformat_minor": 4
}
