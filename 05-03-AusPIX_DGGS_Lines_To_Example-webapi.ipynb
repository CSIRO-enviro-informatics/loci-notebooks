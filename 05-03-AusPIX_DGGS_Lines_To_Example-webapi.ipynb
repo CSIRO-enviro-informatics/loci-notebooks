{
 "cells": [
  {
   "cell_type": "code",
   "execution_count": 1,
   "metadata": {},
   "outputs": [
    {
     "name": "stdout",
     "output_type": "stream",
     "text": [
      "Requirement already satisfied: geojson in /opt/conda/lib/python3.7/site-packages (2.5.0)\r\n"
     ]
    }
   ],
   "source": [
    "!pip install geojson"
   ]
  },
  {
   "cell_type": "code",
   "execution_count": 2,
   "metadata": {},
   "outputs": [],
   "source": [
    "import geojson\n",
    "import requests\n",
    "fname = \"SA_RoadsExample_lines.geojson\"\n",
    "geojson_data = None\n",
    "with open(fname) as json_file:\n",
    "    geojson_data = geojson.load(json_file)\n",
    "    "
   ]
  },
  {
   "cell_type": "code",
   "execution_count": 3,
   "metadata": {
    "scrolled": true
   },
   "outputs": [
    {
     "data": {
      "application/vnd.jupyter.widget-view+json": {
       "model_id": "b32ec4d6d59d4a92b269e265aa95c90b",
       "version_major": 2,
       "version_minor": 0
      },
      "text/plain": [
       "Map(center=[-34.74, 138.78], controls=(ZoomControl(options=['position', 'zoom_in_text', 'zoom_in_title', 'zoom…"
      ]
     },
     "metadata": {},
     "output_type": "display_data"
    }
   ],
   "source": [
    "#draw the geometry for the feature on a map\n",
    "import ipyleaflet as ipy \n",
    "import ipywidgets as ipyw\n",
    "from ipyleaflet import GeoJSON, Map, Marker\n",
    "\n",
    "x_coord = -34.74\n",
    "y_coord = 138.78\n",
    "\n",
    "map1 = ipy.Map(center=[x_coord, y_coord], zoom=12)\n",
    "label = ipyw.Label(layout=ipyw.Layout(width='100%'))\n",
    "\n",
    "geo_json1 = GeoJSON(data=geojson_data, style = {'color': 'blue', 'opacity':0.8, 'weight':1.9, 'fillOpacity':0.3})\n",
    "map1.add_layer(geo_json1)\n",
    "map1"
   ]
  },
  {
   "cell_type": "code",
   "execution_count": 4,
   "metadata": {},
   "outputs": [],
   "source": [
    "dggs_api_param = {\n",
    "    'resolution' : 8,\n",
    "    \"dggs_as_polygon\" : False\n",
    "}"
   ]
  },
  {
   "cell_type": "code",
   "execution_count": 6,
   "metadata": {},
   "outputs": [
    {
     "name": "stdout",
     "output_type": "stream",
     "text": [
      "200\n"
     ]
    }
   ],
   "source": [
    "import requests\n",
    "DGGS_WEB_API_URL = \"https://dggs.loci.cat/api/search/find_dggs_by_geojson\"\n",
    "r = requests.post(DGGS_WEB_API_URL, params=dggs_api_param, json=geojson_data)\n",
    "print(r.status_code)\n",
    "res = r.json()"
   ]
  },
  {
   "cell_type": "code",
   "execution_count": 7,
   "metadata": {},
   "outputs": [
    {
     "data": {
      "text/plain": [
       "{'meta': {'cells_count': 41},\n",
       " 'dggs_cells': ['R77512152',\n",
       "  'R77512240',\n",
       "  'R77512184',\n",
       "  'R77512185',\n",
       "  'R77512238',\n",
       "  'R77512246',\n",
       "  'R77512271',\n",
       "  'R77512262',\n",
       "  'R77512265',\n",
       "  'R77512230',\n",
       "  'R77512260',\n",
       "  'R77512236',\n",
       "  'R77512232',\n",
       "  'R77512243',\n",
       "  'R77512264',\n",
       "  'R77512273',\n",
       "  'R77512157',\n",
       "  'R77512263',\n",
       "  'R77512231',\n",
       "  'R77512158',\n",
       "  'R77512266',\n",
       "  'R77512151',\n",
       "  'R77512244',\n",
       "  'R77512182',\n",
       "  'R77512155',\n",
       "  'R77512233',\n",
       "  'R77512270',\n",
       "  'R77512128',\n",
       "  'R77512274',\n",
       "  'R77512235',\n",
       "  'R77512247',\n",
       "  'R77512241',\n",
       "  'R77512234',\n",
       "  'R77512261',\n",
       "  'R77512181',\n",
       "  'R77512206',\n",
       "  'R77512237',\n",
       "  'R77512216',\n",
       "  'R77512217',\n",
       "  'R77512154',\n",
       "  'R77512188']}"
      ]
     },
     "execution_count": 7,
     "metadata": {},
     "output_type": "execute_result"
    }
   ],
   "source": [
    "res"
   ]
  },
  {
   "cell_type": "code",
   "execution_count": 11,
   "metadata": {},
   "outputs": [],
   "source": [
    "dggs_api_param = {\n",
    "    'resolution' : 10,\n",
    "    \"dggs_as_polygon\" : True\n",
    "}"
   ]
  },
  {
   "cell_type": "code",
   "execution_count": 12,
   "metadata": {},
   "outputs": [
    {
     "name": "stdout",
     "output_type": "stream",
     "text": [
      "200\n"
     ]
    }
   ],
   "source": [
    "r = requests.post(DGGS_WEB_API_URL, params=dggs_api_param, json=geojson_data)\n",
    "print(r.status_code)\n",
    "res = r.json()"
   ]
  },
  {
   "cell_type": "code",
   "execution_count": 13,
   "metadata": {},
   "outputs": [
    {
     "data": {
      "application/vnd.jupyter.widget-view+json": {
       "model_id": "c93c2692bbeb40d78df9f716bc170794",
       "version_major": 2,
       "version_minor": 0
      },
      "text/plain": [
       "Map(center=[-35.282, 149.09], controls=(ZoomControl(options=['position', 'zoom_in_text', 'zoom_in_title', 'zoo…"
      ]
     },
     "metadata": {},
     "output_type": "display_data"
    }
   ],
   "source": [
    "#draw the geometry for the feature on a map\n",
    "x_coord = -35.282\n",
    "y_coord = 149.09\n",
    "\n",
    "\n",
    "map2 = ipy.Map(center=[x_coord, y_coord], zoom=9)\n",
    "label = ipyw.Label(layout=ipyw.Layout(width='100%'))\n",
    "\n",
    "geo_json2 = GeoJSON(data=res, style = {'color': 'blue', 'opacity':0.8, 'weight':1.9, 'fillOpacity':0.3})\n",
    "map2.add_layer(geo_json2)\n",
    "map2"
   ]
  },
  {
   "cell_type": "code",
   "execution_count": null,
   "metadata": {},
   "outputs": [],
   "source": [
    "from shapely.geometry import shape, LineString, MultiLineString, Polygon, MultiPolygon\n",
    "from geojson.utils import coords\n",
    "from geojson import Feature, FeatureCollection\n",
    "from auspixdggs.callablemodules.dggs_in_poly_for_geojson_callable import cells_in_poly, get_dggs_cell_bbox\n",
    "from auspixdggs.callablemodules.dggs_in_line import line_to_DGGS, densify_my_line\n",
    "#from auspixdggs.callablemodules.dggs_for_lines_geojson_callable import densify_my_line\n",
    "\n",
    "def bbox(coord_list):\n",
    "     box = []\n",
    "     for i in (0,1):\n",
    "         res = sorted(coord_list, key=lambda x:x[i])\n",
    "         box.append((res[0][i],res[-1][i]))\n",
    "     ret = [ box[0][0], box[1][0], box[0][1], box[1][1] ]\n",
    "     return ret\n",
    "    \n",
    "def geojson_to_shape(g):\n",
    "    return shape(g)\n",
    "    \n",
    "def get_cells_in_geojson(geojson, resolution):\n",
    "    list_cells = []\n",
    "    for fea in geojson['features']:  # for feature in attribute table\n",
    "        res_cells = get_cells_in_feature(fea, resolution)\n",
    "        list_cells = list(list_cells + res_cells)\n",
    "    return list_cells \n",
    "\n",
    "def get_cells_in_feature(fea, resolution, cell_obj=True):\n",
    "    geom = geojson_to_shape(fea['geometry'])\n",
    "    curr_coords = list(coords(fea))\n",
    "    thisbbox = bbox(curr_coords)\n",
    "    cells = []\n",
    "    if isinstance(geom, LineString) or isinstance(geom, MultiLineString): \n",
    "        fea['geometry']['coordinates'] = densify_my_line(fea['geometry']['coordinates'], resolution)\n",
    "        curr_coords = list(coords(fea))\n",
    "        print(curr_coords)        \n",
    "        res_cells = line_to_DGGS(curr_coords, resolution)  # start at DGGS level 10   \n",
    "        cells = res_cells\n",
    "    elif isinstance(geom, Polygon) or  isinstance(geom, MultiPolygon):\n",
    "        res_cells = cells_in_poly(thisbbox, fea['geometry']['coordinates'], resolution)  # start at DGGS level 10    \n",
    "        print(res_cells)\n",
    "        cells = [item[0] for item in res_cells]\n",
    "    else: #try something anyway\n",
    "        res_cells = cells_in_poly(thisbbox, fea['geometry']['coordinates'], resolution)  # start at DGGS level 10    \n",
    "        print(res_cells)\n",
    "        cells = [item[0] for item in res_cells]\n",
    "    return cells\n",
    "\n",
    "     "
   ]
  },
  {
   "cell_type": "code",
   "execution_count": null,
   "metadata": {},
   "outputs": [],
   "source": [
    "\n",
    "DGGS_RESOLUTION=10\n",
    "list_cells = get_cells_in_geojson(geojson_data, DGGS_RESOLUTION)  \n",
    "list_features = []\n",
    "for cell in list_cells:\n",
    "    bbox_coords = get_dggs_cell_bbox(cell)\n",
    "    geom_obj = Polygon(bbox_coords)\n",
    "    feat = Feature(geometry=geom_obj, properties={\"dggs_cell_id\": str(cell)}) \n",
    "    list_features.append(feat)\n",
    "\n",
    "feature_collection = FeatureCollection(list_features)\n",
    "\n",
    "#uncomment if you want to get a file output\n",
    "#geojson_dump = geojson.dumps(feature_collection, indent=4, sort_keys=True)\n",
    "#with open('poly.geojson', 'w') as json_file:\n",
    "#    data = geojson.dump(feature_collection, json_file, indent=4, sort_keys=True)   "
   ]
  },
  {
   "cell_type": "code",
   "execution_count": null,
   "metadata": {},
   "outputs": [],
   "source": [
    "map2 = ipy.Map(center=[x_coord, y_coord], zoom=12)\n",
    "label = ipyw.Label(layout=ipyw.Layout(width='100%'))\n",
    "\n",
    "geo_json2 = GeoJSON(data=feature_collection, \n",
    "                    style={\n",
    "                          'color': 'black', \n",
    "                          'opacity': 1, \n",
    "                          'weight':1, \n",
    "                          'fillColor': 'red', \n",
    "                          'fillOpacity': 0.3})\n",
    "map2.add_layer(geo_json2)\n",
    "map2.add_layer(geo_json1)\n",
    "map2"
   ]
  },
  {
   "cell_type": "code",
   "execution_count": null,
   "metadata": {},
   "outputs": [],
   "source": [
    "import requests\n",
    "import json\n",
    "#iterate over features in feature collection and query Loc-I API for features\n",
    "def find_features_at_dggs_cell(dggs_cell_id):\n",
    "    payload = {\n",
    "        'dggs_cell' : dggs_cell_id\n",
    "    }\n",
    "    r = requests.get('https://api.loci.cat/api/v1/location/find-at-DGGS-cell', params=payload)\n",
    "    json_res = r.json()\n",
    "    return json_res\n"
   ]
  },
  {
   "cell_type": "code",
   "execution_count": null,
   "metadata": {},
   "outputs": [],
   "source": [
    "target_feature_type = 'asgs16_sa1'\n",
    "\n",
    "set_of_sa1_features = set([])\n",
    "for feature in feature_collection['features']:\n",
    "    cell_id = feature['properties']['dggs_cell_id']\n",
    "    print(\"Processing {}\".format(cell_id))\n",
    "    res = find_features_at_dggs_cell(cell_id)\n",
    "    if 'locations' in res:\n",
    "        for loc in res['locations']:\n",
    "            if 'dataType' in loc and loc['dataType'] == target_feature_type:\n",
    "                set_of_sa1_features.add(loc['uri'])\n",
    "                print(\"Adding {}\".format(loc['uri']))\n",
    "\n",
    "    \n"
   ]
  },
  {
   "cell_type": "code",
   "execution_count": null,
   "metadata": {},
   "outputs": [],
   "source": [
    "print(json.dumps(list(set_of_sa1_features), indent=3))"
   ]
  },
  {
   "cell_type": "code",
   "execution_count": null,
   "metadata": {},
   "outputs": [],
   "source": [
    "def get_geom(loci_uri):\n",
    "    payload = {\n",
    "        \"uri\": loci_uri\n",
    "    }\n",
    "    url = \"https://api.loci.cat/api/v1/location/geometry\"\n",
    "    r = requests.get(url, params=payload)\n",
    "    res = r.json()\n",
    "    #get the first geom result\n",
    "    geojson_data = []\n",
    "    if len( res['geometry']) > 0:\n",
    "        geojson_data = res['geometry'][0]\n",
    "    return geojson_data\n",
    "\n",
    "\n"
   ]
  },
  {
   "cell_type": "code",
   "execution_count": null,
   "metadata": {},
   "outputs": [],
   "source": [
    "map3 = ipy.Map(center=[x_coord, y_coord], zoom=12)\n",
    "label = ipyw.Label(layout=ipyw.Layout(width='100%'))\n"
   ]
  },
  {
   "cell_type": "code",
   "execution_count": null,
   "metadata": {},
   "outputs": [],
   "source": [
    "for feature_uri in list(set_of_sa1_features):\n",
    "    curr_geojson_layer = GeoJSON(data=get_geom(feature_uri), \n",
    "                    style={\n",
    "                          'color': 'black', \n",
    "                          'opacity': 1, \n",
    "                          'weight':1, \n",
    "                          'fillColor': 'yellow', \n",
    "                          'fillOpacity': 0.3})\n",
    "    map3.add_layer(curr_geojson_layer)\n"
   ]
  },
  {
   "cell_type": "code",
   "execution_count": null,
   "metadata": {},
   "outputs": [],
   "source": [
    "map3.add_layer(geo_json1)\n",
    "\n"
   ]
  },
  {
   "cell_type": "code",
   "execution_count": null,
   "metadata": {},
   "outputs": [],
   "source": [
    "map3"
   ]
  },
  {
   "cell_type": "code",
   "execution_count": null,
   "metadata": {},
   "outputs": [],
   "source": []
  }
 ],
 "metadata": {
  "kernelspec": {
   "display_name": "Python 3",
   "language": "python",
   "name": "python3"
  },
  "language_info": {
   "codemirror_mode": {
    "name": "ipython",
    "version": 3
   },
   "file_extension": ".py",
   "mimetype": "text/x-python",
   "name": "python",
   "nbconvert_exporter": "python",
   "pygments_lexer": "ipython3",
   "version": "3.7.6"
  }
 },
 "nbformat": 4,
 "nbformat_minor": 4
}
