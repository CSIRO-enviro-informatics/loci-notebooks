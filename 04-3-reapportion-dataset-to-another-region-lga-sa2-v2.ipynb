{
 "cells": [
  {
   "cell_type": "code",
   "execution_count": 1,
   "metadata": {
    "hide_input": false
   },
   "outputs": [],
   "source": [
    "!pip install --quiet git+https://github.com/CSIRO-enviro-informatics/loci-scripts.git@master\n",
    "!pip install --quiet numpy pandas\n",
    "!pip install --quiet seaborn"
   ]
  },
  {
   "cell_type": "markdown",
   "metadata": {},
   "source": [
    "# Reapportioning ASGS16 LGA to SA2  example using the pyloci API\n",
    "\n",
    "This notebook show how you would perform reapportioning using the [pyloci](https://pypi.org/project/pyloci/) library using a simple CSV file. The pyloci library interfaces directly with the SPARQL API for the Loc-I Cache GraphDB."
   ]
  },
  {
   "cell_type": "code",
   "execution_count": 2,
   "metadata": {
    "hide_input": false
   },
   "outputs": [
    {
     "data": {
      "text/html": [
       "<div>\n",
       "<style scoped>\n",
       "    .dataframe tbody tr th:only-of-type {\n",
       "        vertical-align: middle;\n",
       "    }\n",
       "\n",
       "    .dataframe tbody tr th {\n",
       "        vertical-align: top;\n",
       "    }\n",
       "\n",
       "    .dataframe thead th {\n",
       "        text-align: right;\n",
       "    }\n",
       "</style>\n",
       "<table border=\"1\" class=\"dataframe\">\n",
       "  <thead>\n",
       "    <tr style=\"text-align: right;\">\n",
       "      <th></th>\n",
       "      <th>LGA</th>\n",
       "      <th>LGA ID</th>\n",
       "      <th>Confirmed cases (ever)</th>\n",
       "      <th>Active cases (current)</th>\n",
       "    </tr>\n",
       "  </thead>\n",
       "  <tbody>\n",
       "    <tr>\n",
       "      <th>0</th>\n",
       "      <td>HUME</td>\n",
       "      <td>http://linked.data.gov.au/dataset/asgs2016/loc...</td>\n",
       "      <td>416</td>\n",
       "      <td>222</td>\n",
       "    </tr>\n",
       "    <tr>\n",
       "      <th>1</th>\n",
       "      <td>MELBOURNE</td>\n",
       "      <td>http://linked.data.gov.au/dataset/asgs2016/loc...</td>\n",
       "      <td>312</td>\n",
       "      <td>217</td>\n",
       "    </tr>\n",
       "    <tr>\n",
       "      <th>2</th>\n",
       "      <td>WYNDHAM</td>\n",
       "      <td>http://linked.data.gov.au/dataset/asgs2016/loc...</td>\n",
       "      <td>306</td>\n",
       "      <td>209</td>\n",
       "    </tr>\n",
       "    <tr>\n",
       "      <th>3</th>\n",
       "      <td>BRIMBANK</td>\n",
       "      <td>http://linked.data.gov.au/dataset/asgs2016/loc...</td>\n",
       "      <td>271</td>\n",
       "      <td>127</td>\n",
       "    </tr>\n",
       "    <tr>\n",
       "      <th>4</th>\n",
       "      <td>MOONEE VALLEY</td>\n",
       "      <td>http://linked.data.gov.au/dataset/asgs2016/loc...</td>\n",
       "      <td>271</td>\n",
       "      <td>178</td>\n",
       "    </tr>\n",
       "    <tr>\n",
       "      <th>5</th>\n",
       "      <td>MORELAND</td>\n",
       "      <td>http://linked.data.gov.au/dataset/asgs2016/loc...</td>\n",
       "      <td>200</td>\n",
       "      <td>88</td>\n",
       "    </tr>\n",
       "    <tr>\n",
       "      <th>6</th>\n",
       "      <td>CASEY</td>\n",
       "      <td>http://linked.data.gov.au/dataset/asgs2016/loc...</td>\n",
       "      <td>144</td>\n",
       "      <td>23</td>\n",
       "    </tr>\n",
       "    <tr>\n",
       "      <th>7</th>\n",
       "      <td>BANYULE</td>\n",
       "      <td>http://linked.data.gov.au/dataset/asgs2016/loc...</td>\n",
       "      <td>140</td>\n",
       "      <td>42</td>\n",
       "    </tr>\n",
       "    <tr>\n",
       "      <th>8</th>\n",
       "      <td>WHITTLESEA</td>\n",
       "      <td>http://linked.data.gov.au/dataset/asgs2016/loc...</td>\n",
       "      <td>137</td>\n",
       "      <td>64</td>\n",
       "    </tr>\n",
       "  </tbody>\n",
       "</table>\n",
       "</div>"
      ],
      "text/plain": [
       "             LGA                                             LGA ID  \\\n",
       "0           HUME  http://linked.data.gov.au/dataset/asgs2016/loc...   \n",
       "1      MELBOURNE  http://linked.data.gov.au/dataset/asgs2016/loc...   \n",
       "2        WYNDHAM  http://linked.data.gov.au/dataset/asgs2016/loc...   \n",
       "3       BRIMBANK  http://linked.data.gov.au/dataset/asgs2016/loc...   \n",
       "4  MOONEE VALLEY  http://linked.data.gov.au/dataset/asgs2016/loc...   \n",
       "5       MORELAND  http://linked.data.gov.au/dataset/asgs2016/loc...   \n",
       "6          CASEY  http://linked.data.gov.au/dataset/asgs2016/loc...   \n",
       "7        BANYULE  http://linked.data.gov.au/dataset/asgs2016/loc...   \n",
       "8     WHITTLESEA  http://linked.data.gov.au/dataset/asgs2016/loc...   \n",
       "\n",
       "   Confirmed cases (ever)  Active cases (current)  \n",
       "0                     416                     222  \n",
       "1                     312                     217  \n",
       "2                     306                     209  \n",
       "3                     271                     127  \n",
       "4                     271                     178  \n",
       "5                     200                      88  \n",
       "6                     144                      23  \n",
       "7                     140                      42  \n",
       "8                     137                      64  "
      ]
     },
     "execution_count": 2,
     "metadata": {},
     "output_type": "execute_result"
    }
   ],
   "source": [
    "import numpy as np\n",
    "import pandas as pd\n",
    "df = pd.read_csv('covid19-20200713.csv', delimiter = ',')\n",
    "#show the csv file read in\n",
    "df"
   ]
  },
  {
   "cell_type": "markdown",
   "metadata": {},
   "source": [
    "### Visualise LGA data"
   ]
  },
  {
   "cell_type": "code",
   "execution_count": 3,
   "metadata": {
    "hide_input": true
   },
   "outputs": [],
   "source": [
    "#visualise LGA \n",
    "import json\n",
    "import requests\n",
    "def get_geom(loci_uri):\n",
    "    payload = {\n",
    "        \"uri\": loci_uri\n",
    "    }\n",
    "    url = \"https://api.loci.cat/api/v1/location/geometry\"\n",
    "    r = requests.get(url, params=payload)\n",
    "    res = r.json()\n",
    "    #get the first geom result\n",
    "    geojson_data = []\n",
    "    if len( res['geometry']) > 0:\n",
    "        geojson_data = res['geometry'][0]\n",
    "    return geojson_data"
   ]
  },
  {
   "cell_type": "code",
   "execution_count": 4,
   "metadata": {
    "hide_input": true
   },
   "outputs": [],
   "source": [
    "import seaborn as sns\n",
    "from ipywidgets import Text, HTML\n",
    "from ipyleaflet import (WidgetControl)\n",
    "import math\n",
    "target_col = \"Active cases (current)\"\n",
    "palette = sns.light_palette(\"navy\", 3, reverse=True)\n",
    "hexpal = palette.as_hex()\n",
    "df['quantiles'] = pd.qcut(df[target_col], q=3, precision=0)\n",
    "df['hex'] = pd.qcut(df[target_col], q=3, precision=0, labels=hexpal)\n"
   ]
  },
  {
   "cell_type": "code",
   "execution_count": 5,
   "metadata": {
    "hide_input": true
   },
   "outputs": [],
   "source": [
    "import ipyleaflet as ipy \n",
    "import ipywidgets as ipyw\n",
    "from ipyleaflet import GeoJSON, Map, Marker\n",
    "\n",
    "x_coord = -37.8136\n",
    "y_coord = 144.9631\n",
    "\n",
    "map1 = ipy.Map(center=[x_coord, y_coord], zoom=9)\n",
    "label = ipyw.Label(layout=ipyw.Layout(width='100%'))\n",
    "\n",
    "html = HTML('''Hover over a region''')\n",
    "html.layout.margin = '0px 20px 20px 20px'\n",
    "control = WidgetControl(widget=html, position='topright')\n",
    "map1.add_control(control)\n",
    "\n",
    "def update_html(feature, **kwargs):\n",
    "     html.value = '''\n",
    "     <h4>LGA : {}</h4>\n",
    "     <h4>No. Cases: {}</h4>\n",
    "      '''.format(feature['id'], math.floor(feature['num_cases']))\n",
    "\n",
    "res_df_cols = {\n",
    "    \"LGA\" : [],\n",
    "    \"SA2\" : [],\n",
    "    \"percent_overlap\": [],\n",
    "    target_col: [],\n",
    "    \"reapportioned_data\": [],\n",
    "}\n",
    "for index, row in df.iterrows():\n",
    "    fromFeature = row['LGA ID']\n",
    "    value  = row[target_col]\n",
    "    geojson_data = get_geom(fromFeature)\n",
    "    geojson_data['num_cases'] = value\n",
    "    curr_geojson_layer = GeoJSON(data=geojson_data, \n",
    "                    style={\n",
    "                          'color': 'black', \n",
    "                          'opacity': 1, \n",
    "                          'weight':1, \n",
    "                          'fillColor': row['hex'], \n",
    "                          'fillOpacity': 0.7},\n",
    "                     hover_style={\n",
    "                          'color': 'black', \n",
    "                          'opacity': 1, \n",
    "                          'weight':1, \n",
    "                          'fillColor': row['hex'], \n",
    "                          'fillOpacity': 0.9,                    \n",
    "                    })\n",
    "    curr_geojson_layer.on_hover(update_html)\n",
    "    map1.add_layer(curr_geojson_layer)\n",
    "\n",
    "    "
   ]
  },
  {
   "cell_type": "code",
   "execution_count": 6,
   "metadata": {
    "hide_input": true,
    "scrolled": true
   },
   "outputs": [
    {
     "data": {
      "application/vnd.jupyter.widget-view+json": {
       "model_id": "13dd6830fc0a40358ecfcc0337348794",
       "version_major": 2,
       "version_minor": 0
      },
      "text/plain": [
       "Map(center=[-37.8136, 144.9631], controls=(ZoomControl(options=['position', 'zoom_in_text', 'zoom_in_title', '…"
      ]
     },
     "metadata": {},
     "output_type": "display_data"
    }
   ],
   "source": [
    "map1"
   ]
  },
  {
   "cell_type": "markdown",
   "metadata": {},
   "source": [
    "### Query LOC-I APIs to get SA2 regions for each LGA input"
   ]
  },
  {
   "cell_type": "code",
   "execution_count": null,
   "metadata": {
    "code_folding": [],
    "hide_input": false
   },
   "outputs": [
    {
     "data": {
      "application/vnd.jupyter.widget-view+json": {
       "model_id": "9018fdf2149a4458993514f5d85cce73",
       "version_major": 2,
       "version_minor": 0
      },
      "text/plain": [
       "HBox(children=(FloatProgress(value=0.0, max=9.0), HTML(value='')))"
      ]
     },
     "metadata": {},
     "output_type": "display_data"
    }
   ],
   "source": [
    "%%time\n",
    "from tqdm.notebook import tqdm\n",
    "\n",
    "target_col = \"Active cases (current)\"\n",
    "res_df_cols = {\n",
    "    \"LGA ID\" : [],\n",
    "    \"SA2\" : [],\n",
    "    \"percent_overlap\": [],\n",
    "    target_col: [],\n",
    "    \"reapportioned_data\": [],\n",
    "}\n",
    "with tqdm(total=len(list(df.iterrows()))) as pbar:\n",
    "    for index, row in df.iterrows():\n",
    "        fromFeature = row['LGA ID']\n",
    "        #print(\"{}, {}\".format(row['LGA'], str(row[target_col])))\n",
    "        #print(\"Querying overlaps of {} to {}...\".format(fromFeature, toFeatureType))\n",
    "        tic = time.perf_counter()\n",
    "        list_locations = api_util.query_api_location_overlaps(fromFeature, toFeatureType, LOCI_INTEGRATION_API, crosswalk='true')\n",
    "        toc = time.perf_counter()\n",
    "        #print(f\"query_api_location_overlaps took {toc - tic:0.4f} seconds\")\n",
    "        #print(list_locations)\n",
    "        for o in list_locations['overlaps']:\n",
    "            res_df_cols[\"LGA ID\"].append(fromFeature)\n",
    "            res_df_cols[\"SA2\"].append(o['uri'])\n",
    "            res_df_cols[\"percent_overlap\"].append(o['forwardPercentage'])\n",
    "            res_df_cols[target_col].append(row[target_col])\n",
    "            reapportioned = (float(o['forwardPercentage'])/100.0)*float(row[target_col])\n",
    "            res_df_cols[\"reapportioned_data\"].append(reapportioned)\n",
    "        pbar.update(1)\n",
    "\n",
    "  "
   ]
  },
  {
   "cell_type": "code",
   "execution_count": 8,
   "metadata": {
    "code_folding": [
     0
    ],
    "hide_input": true
   },
   "outputs": [],
   "source": [
    "#sure the config for the SPARQL endpoint to hit is set\n",
    "import os\n",
    "from dotenv import load_dotenv, find_dotenv\n",
    "load_dotenv(find_dotenv())\n",
    "#print(os.getenv(\"SPARQL_ENDPOINT\"))\n",
    "#import the reapportioning module from pyloci\n",
    "from pyloci import reapportioning\n",
    "from pyloci.api.util import Util as API_Util\n",
    "from pyloci.sparql import util as sparql_util\n",
    "import time\n",
    "\n",
    "auth = None\n",
    "api_util = API_Util()\n",
    "toFeatureType = \"http://linked.data.gov.au/def/asgs#StatisticalAreaLevel2\"\n",
    "LOCI_INTEGRATION_API = \"https://api.loci.cat/api/v1\"\n"
   ]
  },
  {
   "cell_type": "markdown",
   "metadata": {
    "hide_input": true
   },
   "source": [
    "### Show results of the reapportioned data to SA2"
   ]
  },
  {
   "cell_type": "code",
   "execution_count": 9,
   "metadata": {
    "hide_input": true
   },
   "outputs": [
    {
     "data": {
      "text/html": [
       "<div>\n",
       "<style scoped>\n",
       "    .dataframe tbody tr th:only-of-type {\n",
       "        vertical-align: middle;\n",
       "    }\n",
       "\n",
       "    .dataframe tbody tr th {\n",
       "        vertical-align: top;\n",
       "    }\n",
       "\n",
       "    .dataframe thead th {\n",
       "        text-align: right;\n",
       "    }\n",
       "</style>\n",
       "<table border=\"1\" class=\"dataframe\">\n",
       "  <thead>\n",
       "    <tr style=\"text-align: right;\">\n",
       "      <th></th>\n",
       "      <th>LGA ID</th>\n",
       "      <th>SA2</th>\n",
       "      <th>percent_overlap</th>\n",
       "      <th>Active cases (current)</th>\n",
       "      <th>reapportioned_data</th>\n",
       "    </tr>\n",
       "  </thead>\n",
       "  <tbody>\n",
       "  </tbody>\n",
       "</table>\n",
       "</div>"
      ],
      "text/plain": [
       "Empty DataFrame\n",
       "Columns: [LGA ID, SA2, percent_overlap, Active cases (current), reapportioned_data]\n",
       "Index: []"
      ]
     },
     "execution_count": 9,
     "metadata": {},
     "output_type": "execute_result"
    }
   ],
   "source": [
    "res_df = pd.DataFrame (res_df_cols, columns = ['LGA ID', \"SA2\", \"percent_overlap\", target_col, \"reapportioned_data\"])\n",
    "pd.options.display.float_format = '{:.2f}'.format\n",
    "pd.set_option('display.max_colwidth', 0)\n",
    "res_df\n"
   ]
  },
  {
   "cell_type": "code",
   "execution_count": 10,
   "metadata": {
    "hide_input": true
   },
   "outputs": [
    {
     "ename": "ValueError",
     "evalue": "Bin edges must be unique: array([nan, nan, nan, nan, nan, nan, nan, nan, nan, nan, nan]).\nYou can drop duplicate edges by setting the 'duplicates' kwarg",
     "output_type": "error",
     "traceback": [
      "\u001b[0;31m---------------------------------------------------------------------------\u001b[0m",
      "\u001b[0;31mValueError\u001b[0m                                Traceback (most recent call last)",
      "\u001b[0;32m<ipython-input-10-6032e7d14ad4>\u001b[0m in \u001b[0;36m<module>\u001b[0;34m\u001b[0m\n\u001b[1;32m      1\u001b[0m \u001b[0mpalette\u001b[0m \u001b[0;34m=\u001b[0m \u001b[0msns\u001b[0m\u001b[0;34m.\u001b[0m\u001b[0mcolor_palette\u001b[0m\u001b[0;34m(\u001b[0m\u001b[0;34m\"Blues\"\u001b[0m\u001b[0;34m,\u001b[0m \u001b[0;36m10\u001b[0m\u001b[0;34m)\u001b[0m\u001b[0;34m\u001b[0m\u001b[0;34m\u001b[0m\u001b[0m\n\u001b[1;32m      2\u001b[0m \u001b[0mhexpal\u001b[0m \u001b[0;34m=\u001b[0m \u001b[0mpalette\u001b[0m\u001b[0;34m.\u001b[0m\u001b[0mas_hex\u001b[0m\u001b[0;34m(\u001b[0m\u001b[0;34m)\u001b[0m\u001b[0;34m\u001b[0m\u001b[0;34m\u001b[0m\u001b[0m\n\u001b[0;32m----> 3\u001b[0;31m \u001b[0mres_df\u001b[0m\u001b[0;34m[\u001b[0m\u001b[0;34m'quantiles'\u001b[0m\u001b[0;34m]\u001b[0m \u001b[0;34m=\u001b[0m \u001b[0mpd\u001b[0m\u001b[0;34m.\u001b[0m\u001b[0mqcut\u001b[0m\u001b[0;34m(\u001b[0m\u001b[0mres_df\u001b[0m\u001b[0;34m[\u001b[0m\u001b[0;34m'reapportioned_data'\u001b[0m\u001b[0;34m]\u001b[0m\u001b[0;34m,\u001b[0m \u001b[0mq\u001b[0m\u001b[0;34m=\u001b[0m\u001b[0;36m10\u001b[0m\u001b[0;34m,\u001b[0m \u001b[0mprecision\u001b[0m\u001b[0;34m=\u001b[0m\u001b[0;36m0\u001b[0m\u001b[0;34m)\u001b[0m\u001b[0;34m\u001b[0m\u001b[0;34m\u001b[0m\u001b[0m\n\u001b[0m\u001b[1;32m      4\u001b[0m \u001b[0mres_df\u001b[0m\u001b[0;34m[\u001b[0m\u001b[0;34m'hex'\u001b[0m\u001b[0;34m]\u001b[0m \u001b[0;34m=\u001b[0m \u001b[0mpd\u001b[0m\u001b[0;34m.\u001b[0m\u001b[0mqcut\u001b[0m\u001b[0;34m(\u001b[0m\u001b[0mres_df\u001b[0m\u001b[0;34m[\u001b[0m\u001b[0;34m'reapportioned_data'\u001b[0m\u001b[0;34m]\u001b[0m\u001b[0;34m,\u001b[0m \u001b[0mq\u001b[0m\u001b[0;34m=\u001b[0m\u001b[0;36m10\u001b[0m\u001b[0;34m,\u001b[0m \u001b[0mprecision\u001b[0m\u001b[0;34m=\u001b[0m\u001b[0;36m0\u001b[0m\u001b[0;34m,\u001b[0m \u001b[0mlabels\u001b[0m\u001b[0;34m=\u001b[0m\u001b[0mhexpal\u001b[0m\u001b[0;34m)\u001b[0m\u001b[0;34m\u001b[0m\u001b[0;34m\u001b[0m\u001b[0m\n\u001b[1;32m      5\u001b[0m \u001b[0;34m\u001b[0m\u001b[0m\n",
      "\u001b[0;32m/opt/conda/lib/python3.8/site-packages/pandas/core/reshape/tile.py\u001b[0m in \u001b[0;36mqcut\u001b[0;34m(x, q, labels, retbins, precision, duplicates)\u001b[0m\n\u001b[1;32m    339\u001b[0m         \u001b[0mquantiles\u001b[0m \u001b[0;34m=\u001b[0m \u001b[0mq\u001b[0m\u001b[0;34m\u001b[0m\u001b[0;34m\u001b[0m\u001b[0m\n\u001b[1;32m    340\u001b[0m     \u001b[0mbins\u001b[0m \u001b[0;34m=\u001b[0m \u001b[0malgos\u001b[0m\u001b[0;34m.\u001b[0m\u001b[0mquantile\u001b[0m\u001b[0;34m(\u001b[0m\u001b[0mx\u001b[0m\u001b[0;34m,\u001b[0m \u001b[0mquantiles\u001b[0m\u001b[0;34m)\u001b[0m\u001b[0;34m\u001b[0m\u001b[0;34m\u001b[0m\u001b[0m\n\u001b[0;32m--> 341\u001b[0;31m     fac, bins = _bins_to_cuts(\n\u001b[0m\u001b[1;32m    342\u001b[0m         \u001b[0mx\u001b[0m\u001b[0;34m,\u001b[0m\u001b[0;34m\u001b[0m\u001b[0;34m\u001b[0m\u001b[0m\n\u001b[1;32m    343\u001b[0m         \u001b[0mbins\u001b[0m\u001b[0;34m,\u001b[0m\u001b[0;34m\u001b[0m\u001b[0;34m\u001b[0m\u001b[0m\n",
      "\u001b[0;32m/opt/conda/lib/python3.8/site-packages/pandas/core/reshape/tile.py\u001b[0m in \u001b[0;36m_bins_to_cuts\u001b[0;34m(x, bins, right, labels, precision, include_lowest, dtype, duplicates)\u001b[0m\n\u001b[1;32m    378\u001b[0m     \u001b[0;32mif\u001b[0m \u001b[0mlen\u001b[0m\u001b[0;34m(\u001b[0m\u001b[0munique_bins\u001b[0m\u001b[0;34m)\u001b[0m \u001b[0;34m<\u001b[0m \u001b[0mlen\u001b[0m\u001b[0;34m(\u001b[0m\u001b[0mbins\u001b[0m\u001b[0;34m)\u001b[0m \u001b[0;32mand\u001b[0m \u001b[0mlen\u001b[0m\u001b[0;34m(\u001b[0m\u001b[0mbins\u001b[0m\u001b[0;34m)\u001b[0m \u001b[0;34m!=\u001b[0m \u001b[0;36m2\u001b[0m\u001b[0;34m:\u001b[0m\u001b[0;34m\u001b[0m\u001b[0;34m\u001b[0m\u001b[0m\n\u001b[1;32m    379\u001b[0m         \u001b[0;32mif\u001b[0m \u001b[0mduplicates\u001b[0m \u001b[0;34m==\u001b[0m \u001b[0;34m\"raise\"\u001b[0m\u001b[0;34m:\u001b[0m\u001b[0;34m\u001b[0m\u001b[0;34m\u001b[0m\u001b[0m\n\u001b[0;32m--> 380\u001b[0;31m             raise ValueError(\n\u001b[0m\u001b[1;32m    381\u001b[0m                 \u001b[0;34mf\"Bin edges must be unique: {repr(bins)}.\\n\"\u001b[0m\u001b[0;34m\u001b[0m\u001b[0;34m\u001b[0m\u001b[0m\n\u001b[1;32m    382\u001b[0m                 \u001b[0;34mf\"You can drop duplicate edges by setting the 'duplicates' kwarg\"\u001b[0m\u001b[0;34m\u001b[0m\u001b[0;34m\u001b[0m\u001b[0m\n",
      "\u001b[0;31mValueError\u001b[0m: Bin edges must be unique: array([nan, nan, nan, nan, nan, nan, nan, nan, nan, nan, nan]).\nYou can drop duplicate edges by setting the 'duplicates' kwarg"
     ]
    }
   ],
   "source": [
    "palette = sns.color_palette(\"Blues\", 10)\n",
    "hexpal = palette.as_hex()\n",
    "res_df['quantiles'] = pd.qcut(res_df['reapportioned_data'], q=10, precision=0)\n",
    "res_df['hex'] = pd.qcut(res_df['reapportioned_data'], q=10, precision=0, labels=hexpal)\n",
    "\n",
    "#interval_range = pd.interval_range(start=0, freq=10000, end=200000)\n",
    "#res_df['defined_ranges'] = pd.cut(res_df['reapportioned_data'], bins=interval_range, labels=[1,2,3])\n",
    "#res_df.head()"
   ]
  },
  {
   "cell_type": "code",
   "execution_count": null,
   "metadata": {
    "hide_input": true
   },
   "outputs": [],
   "source": [
    "column = res_df[\"reapportioned_data\"]\n",
    "max_value = column.max()\n",
    "interval_range = pd.interval_range(start=0, freq=10, end=max_value)\n",
    "res_df['defined_ranges'] = pd.cut(res_df['reapportioned_data'], bins=interval_range)\n",
    "#len(interval_range)"
   ]
  },
  {
   "cell_type": "markdown",
   "metadata": {},
   "source": [
    "### Categorise reapportioned data into 10 quantiles "
   ]
  },
  {
   "cell_type": "code",
   "execution_count": null,
   "metadata": {
    "hide_input": true
   },
   "outputs": [],
   "source": [
    "res_df"
   ]
  },
  {
   "cell_type": "markdown",
   "metadata": {},
   "source": [
    "### Plot the SA2 reapportioned data on a map"
   ]
  },
  {
   "cell_type": "code",
   "execution_count": null,
   "metadata": {
    "hide_input": true
   },
   "outputs": [],
   "source": [
    "map3 = ipy.Map(center=[x_coord, y_coord], zoom=9)\n",
    "label = ipyw.Label(layout=ipyw.Layout(width='100%'))\n",
    "\n",
    "column = res_df[\"reapportioned_data\"]\n",
    "max_value = column.max()\n",
    "min_value = column.min()\n",
    "\n",
    "html2 = HTML('''Hover over a region''')\n",
    "html2.layout.margin = '0px 20px 20px 20px'\n",
    "control2 = WidgetControl(widget=html2, position='topright')\n",
    "map3.add_control(control2)\n",
    "\n",
    "def update_html2(feature, **kwargs):\n",
    "     html2.value = '''\n",
    "     <h4>ASGS SA2 ID: {}</h4>\n",
    "     <h4>No. Cases: {}</h4>\n",
    "      '''.format(feature['id'], math.floor(feature['num_cases']))\n",
    "\n",
    "for index, row in res_df.iterrows():\n",
    "    fromFeature = row['SA2']\n",
    "    value = row['reapportioned_data']\n",
    "    fillcolor = row['hex']\n",
    "    geojson_data = get_geom(fromFeature)\n",
    "    geojson_data['num_cases'] = value\n",
    "    curr_geojson_layer = GeoJSON(data=geojson_data, \n",
    "                    style={\n",
    "                          'color': 'black', \n",
    "                          'opacity': 1, \n",
    "                          'weight':1, \n",
    "                          'fillColor': fillcolor, \n",
    "                          'fillOpacity': 0.7,\n",
    "                    },\n",
    "                    hover_style={\n",
    "                          'color': 'black', \n",
    "                          'opacity': 1, \n",
    "                          'weight':1, \n",
    "                          'fillColor': fillcolor, \n",
    "                          'fillOpacity': 0.9,                    \n",
    "                    },)\n",
    "    curr_geojson_layer.on_hover(update_html2)\n",
    "    map3.add_layer(curr_geojson_layer)"
   ]
  },
  {
   "cell_type": "code",
   "execution_count": null,
   "metadata": {
    "hide_input": true
   },
   "outputs": [],
   "source": [
    "map3"
   ]
  },
  {
   "cell_type": "code",
   "execution_count": null,
   "metadata": {},
   "outputs": [],
   "source": []
  },
  {
   "cell_type": "code",
   "execution_count": null,
   "metadata": {
    "hide_input": true
   },
   "outputs": [],
   "source": []
  }
 ],
 "metadata": {
  "kernelspec": {
   "display_name": "Python 3",
   "language": "python",
   "name": "python3"
  },
  "language_info": {
   "codemirror_mode": {
    "name": "ipython",
    "version": 3
   },
   "file_extension": ".py",
   "mimetype": "text/x-python",
   "name": "python",
   "nbconvert_exporter": "python",
   "pygments_lexer": "ipython3",
   "version": "3.8.3"
  }
 },
 "nbformat": 4,
 "nbformat_minor": 4
}
