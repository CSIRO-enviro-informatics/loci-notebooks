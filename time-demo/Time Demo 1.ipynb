{
 "cells": [
  {
   "cell_type": "code",
   "execution_count": 1,
   "metadata": {},
   "outputs": [
    {
     "data": {
      "application/javascript": [
       "require.config({\n",
       "    paths: {\n",
       "        datatables: 'https://cdn.datatables.net/1.10.19/js/jquery.dataTables.min',\n",
       "    }\n",
       "});\n",
       "\n",
       "$('head').append('<link rel=\"stylesheet\" type=\"text/css\" \\\n",
       "                href = \"https://cdn.datatables.net/1.10.19/css/jquery.dataTables.min.css\" > ');\n",
       "\n",
       "$('head').append('<style> table td { text-overflow: ellipsis; overflow: hidden; } </style>');\n",
       "\n",
       "$('head').append(`<script>\n",
       "function eval_functions(map_or_text) {\n",
       "    if (typeof map_or_text === \"string\") {\n",
       "        if (map_or_text.startsWith(\"function\")) {\n",
       "            try {\n",
       "                // Note: parenthesis are required around the whole expression for eval to return a value!\n",
       "                // See https://stackoverflow.com/a/7399078/911298.\n",
       "                //\n",
       "                // eval(\"local_fun = \" + map_or_text) would fail because local_fun is not declared\n",
       "                // (using var, let or const would work, but it would only be declared in the local scope\n",
       "                // and therefore the value could not be retrieved).\n",
       "                const func = eval(\"(\" + map_or_text + \")\");\n",
       "                if (typeof func !== \"function\") {\n",
       "                    // Note: backquotes are super convenient!\n",
       "                    // https://developer.mozilla.org/en-US/docs/Web/JavaScript/Reference/Template_literals\n",
       "                    console.error(\"Evaluated expression \" + map_or_text + \" is not a function (type is \" + typeof func + \")\");\n",
       "                    return map_or_text;\n",
       "                }\n",
       "                // Return the function\n",
       "                return func;\n",
       "            } catch (e) {\n",
       "                // Make sure to print the error with a second argument to console.error().\n",
       "                console.error(\"itables was not able to parse \" + map_or_text, e);\n",
       "            }\n",
       "        }\n",
       "    } else if (typeof map_or_text === \"object\") {\n",
       "        if (map_or_text instanceof Array) {\n",
       "            // Note: \"var\" is now superseded by \"let\" and \"const\".\n",
       "            // https://medium.com/javascript-scene/javascript-es6-var-let-or-const-ba58b8dcde75\n",
       "            const result = [];\n",
       "            // Note: \"for of\" is the best way to iterate through an iterable.\n",
       "            // https://developer.mozilla.org/en-US/docs/Web/JavaScript/Reference/Statements/for...of\n",
       "            for (const item of map_or_text) {\n",
       "                result.push(eval_functions(item));\n",
       "            }\n",
       "            return result;\n",
       "\n",
       "            // Alternatively, more functional approach in one line:\n",
       "            // return map_or_text.map(eval_functions);\n",
       "        } else {\n",
       "            const result = {};\n",
       "            // Object.keys() is safer than \"for in\" because otherwise you might have keys\n",
       "            // that aren't defined in the object itself.\n",
       "            //\n",
       "            // See https://stackoverflow.com/a/684692/911298.\n",
       "            for (const item of Object.keys(map_or_text)) {\n",
       "                result[item] = eval_functions(map_or_text[item]);\n",
       "            }\n",
       "            return result;\n",
       "        }\n",
       "    }\n",
       "\n",
       "    return map_or_text;\n",
       "}\n",
       "\n",
       "</` + 'script>');"
      ],
      "text/plain": [
       "<IPython.core.display.Javascript object>"
      ]
     },
     "metadata": {},
     "output_type": "display_data"
    }
   ],
   "source": [
    "from tqdm.notebook import tqdm  as tqdm\n",
    "import ipyleaflet as ipy \n",
    "import ipywidgets as ipyw\n",
    "from ipyleaflet import GeoJSON, Map, Marker\n",
    "from shapely.geometry import shape\n",
    "import json\n",
    "import requests\n",
    "\n",
    "from datetime import datetime\n",
    "\n",
    "from itables import init_notebook_mode\n",
    "init_notebook_mode(all_interactive=True)\n",
    "import pandas as pd\n",
    "import itables.options as opt\n",
    "opt.columnDefs = [{\"className\":\"dt-left\", \"targets\": \"_all\"}]\n",
    "opt.lengthMenu = [50, 100, 200, 500]\n",
    "import urllib, json, requests\n",
    "import ipywidgets as widgets\n"
   ]
  },
  {
   "cell_type": "code",
   "execution_count": 2,
   "metadata": {},
   "outputs": [],
   "source": [
    "TIME_API = \"http://time-api.loci.cat/api/v1\""
   ]
  },
  {
   "cell_type": "code",
   "execution_count": 3,
   "metadata": {},
   "outputs": [],
   "source": [
    "#visualise LGA \n",
    "\n",
    "def get_geom(loci_uri):\n",
    "    payload = {\n",
    "        \"uri\": loci_uri\n",
    "    }\n",
    "    url = TIME_API  + \"/location/geometry\"\n",
    "    r = requests.get(url, params=payload)\n",
    "    res = r.json()\n",
    "    #get the first geom result\n",
    "    return res"
   ]
  },
  {
   "cell_type": "markdown",
   "metadata": {},
   "source": [
    "# Loc-I Change Over Time Demo\n",
    "\n",
    "This notebook demonstrates the prototype Loc-I change over time API available at http://time-api.loci.cat\n",
    "\n",
    "Some basic API functionality is introduced and a selection of use cases will be demonstrated below.\n",
    "\n",
    "## Loc-I Time API Basics\n",
    "\n",
    "### Search for a feature by name/label/code\n",
    "\n",
    "Example: Find features with label of \"Fraser\""
   ]
  },
  {
   "cell_type": "code",
   "execution_count": 4,
   "metadata": {},
   "outputs": [],
   "source": [
    "w = widgets.Text(\n",
    "    value='Maribyrnong',\n",
    "    placeholder='Maribyrnong',\n",
    "    description='Input label:',\n",
    "    disabled=False\n",
    ")\n"
   ]
  },
  {
   "cell_type": "code",
   "execution_count": 5,
   "metadata": {},
   "outputs": [
    {
     "data": {
      "application/vnd.jupyter.widget-view+json": {
       "model_id": "9f94d024ebeb449fb7b20c00f1cc5c1e",
       "version_major": 2,
       "version_minor": 0
      },
      "text/plain": [
       "Text(value='Maribyrnong', description='Input label:', placeholder='Maribyrnong')"
      ]
     },
     "metadata": {},
     "output_type": "display_data"
    }
   ],
   "source": [
    "display(w)"
   ]
  },
  {
   "cell_type": "code",
   "execution_count": 6,
   "metadata": {},
   "outputs": [
    {
     "name": "stdout",
     "output_type": "stream",
     "text": [
      "Issuing query to /location/find-by-label API endpoint. One moment please...\n"
     ]
    },
    {
     "data": {
      "text/html": [
       "<div><table id=\"ecc49899-7888-4ec9-9b7d-218e8027c478\" class=\"display\"><thead>\n",
       "    <tr style=\"text-align: right;\">\n",
       "      \n",
       "      <th>uri</th>\n",
       "      <th>match</th>\n",
       "    </tr>\n",
       "  </thead></table>\n",
       "<script type=\"text/javascript\">\n",
       "require([\"datatables\"], function (datatables) {\n",
       "    $(document).ready(function () {\n",
       "        var dt_args = {\"columnDefs\": [{\"className\": \"dt-left\", \"targets\": \"_all\"}], \"lengthMenu\": [50, 100, 200, 500], \"paging\": false, \"data\": [[\"https://linked.data.gov.au/dataset/asgs/localgovernmentarea/24330\", \"Maribyrnong (C)\"], [\"https://linked.data.gov.au/dataset/asgs/localgovernmentarea/24330/2019-07\", \"Maribyrnong (C)\"], [\"https://linked.data.gov.au/dataset/asgs/localgovernmentarea/24330/2016-07\", \"Maribyrnong (C)\"], [\"https://linked.data.gov.au/dataset/asgs/localgovernmentarea/24330/2020-06\", \"Maribyrnong (C)\"], [\"https://linked.data.gov.au/dataset/asgs/localgovernmentarea/24330/2017-07\", \"Maribyrnong (C)\"], [\"https://linked.data.gov.au/dataset/asgs/localgovernmentarea/24330/2018-07\", \"Maribyrnong (C)\"], [\"https://linked.data.gov.au/dataset/asgs/commonwealthelectoraldivision/maribyrnong/2017-07\", \"Maribyrnong\"], [\"https://linked.data.gov.au/dataset/asgs/commonwealthelectoraldivision/maribyrnong/2016-07\", \"Maribyrnong\"], [\"https://linked.data.gov.au/dataset/asgs/commonwealthelectoraldivision/maribyrnong/2018-07\", \"Maribyrnong\"], [\"https://linked.data.gov.au/dataset/asgs/commonwealthelectoraldivision/maribyrnong\", \"Maribyrnong\"], [\"https://linked.data.gov.au/dataset/asgs2016/statisticalarealevel2/213031349/2016-07\", \"Maribyrnong\"], [\"https://linked.data.gov.au/dataset/asgs2016/statisticalarealevel2/213031349\", \"Maribyrnong\"], [\"https://linked.data.gov.au/dataset/asgs2016/statisticalarealevel3/21303/2016-07\", \"Maribyrnong\"], [\"https://linked.data.gov.au/dataset/asgs2016/statisticalarealevel3/21303\", \"Maribyrnong\"]]};\n",
       "        dt_args = eval_functions(dt_args);\n",
       "        table = $('#ecc49899-7888-4ec9-9b7d-218e8027c478').DataTable(dt_args);\n",
       "    });\n",
       "})\n",
       "</script>\n",
       "</div>\n"
      ],
      "text/plain": [
       "                                                  uri            match\n",
       "0   https://linked.data.gov.au/dataset/asgs/localg...  Maribyrnong (C)\n",
       "1   https://linked.data.gov.au/dataset/asgs/localg...  Maribyrnong (C)\n",
       "2   https://linked.data.gov.au/dataset/asgs/localg...  Maribyrnong (C)\n",
       "3   https://linked.data.gov.au/dataset/asgs/localg...  Maribyrnong (C)\n",
       "4   https://linked.data.gov.au/dataset/asgs/localg...  Maribyrnong (C)\n",
       "5   https://linked.data.gov.au/dataset/asgs/localg...  Maribyrnong (C)\n",
       "6   https://linked.data.gov.au/dataset/asgs/common...      Maribyrnong\n",
       "7   https://linked.data.gov.au/dataset/asgs/common...      Maribyrnong\n",
       "8   https://linked.data.gov.au/dataset/asgs/common...      Maribyrnong\n",
       "9   https://linked.data.gov.au/dataset/asgs/common...      Maribyrnong\n",
       "10  https://linked.data.gov.au/dataset/asgs2016/st...      Maribyrnong\n",
       "11  https://linked.data.gov.au/dataset/asgs2016/st...      Maribyrnong\n",
       "12  https://linked.data.gov.au/dataset/asgs2016/st...      Maribyrnong\n",
       "13  https://linked.data.gov.au/dataset/asgs2016/st...      Maribyrnong"
      ]
     },
     "execution_count": 6,
     "metadata": {},
     "output_type": "execute_result"
    }
   ],
   "source": [
    "API_ENDPOINT = \"/location/find-by-label\"\n",
    "\n",
    "print(\"Issuing query to /location/find-by-label API endpoint. One moment please...\")\n",
    "url = TIME_API + API_ENDPOINT\n",
    "payload = {\n",
    "    'query': w.value\n",
    "}\n",
    "r = requests.get(url, params=payload)\n",
    "jsondata = r.json()\n",
    "#jsondata\n",
    "df = pd.DataFrame (jsondata, columns = ['uri', 'match'])\n",
    "df"
   ]
  },
  {
   "cell_type": "markdown",
   "metadata": {},
   "source": [
    "### Get a Loc-I Feature at a point in time\n",
    "\n",
    "Example: Find the CED Commonwealth Electoral District (CED) of Maribyrnong at a point in time, 7th September 2017."
   ]
  },
  {
   "cell_type": "code",
   "execution_count": 7,
   "metadata": {},
   "outputs": [
    {
     "name": "stdout",
     "output_type": "stream",
     "text": [
      "Issuing query to /temporal/feature API endpoint with source CED https://linked.data.gov.au/dataset/asgs/commonwealthelectoraldivision/maribyrnong and time at 2017-09-07. One moment please...\n",
      "{\n",
      "    \"uri\": \"https://linked.data.gov.au/dataset/asgs/commonwealthelectoraldivision/maribyrnong/2017-07\",\n",
      "    \"feature_type\": \"https://linked.data.gov.au/def/asgs#CommonwealthElectoralDivision\",\n",
      "    \"valid_from\": \"2017-07-01\",\n",
      "    \"valid_to\": \"2018-06-30\",\n",
      "    \"code\": \"228\",\n",
      "    \"name\": \"Maribyrnong\",\n",
      "    \"ced_code16\": \"228\",\n",
      "    \"ced_name16\": \"Maribyrnong\",\n",
      "    \"areasqkm16\": \"72.514600000000002\"\n",
      "}\n"
     ]
    },
    {
     "data": {
      "text/html": [
       "<div><table id=\"3dfc1c08-1237-421a-b255-88f6710d88ef\" class=\"display\"><thead>\n",
       "    <tr style=\"text-align: right;\">\n",
       "      \n",
       "      <th>uri</th>\n",
       "      <th>feature_type</th>\n",
       "      <th>valid_from</th>\n",
       "      <th>valid_to</th>\n",
       "      <th>code</th>\n",
       "      <th>name</th>\n",
       "      <th>ced_code16</th>\n",
       "      <th>ced_name16</th>\n",
       "      <th>areasqkm16</th>\n",
       "    </tr>\n",
       "  </thead></table>\n",
       "<script type=\"text/javascript\">\n",
       "require([\"datatables\"], function (datatables) {\n",
       "    $(document).ready(function () {\n",
       "        var dt_args = {\"columnDefs\": [{\"className\": \"dt-left\", \"targets\": \"_all\"}], \"lengthMenu\": [50, 100, 200, 500], \"paging\": false, \"data\": [[\"https://linked.data.gov.au/dataset/asgs/commonwealthelectoraldivision/maribyrnong/2017-07\", \"https://linked.data.gov.au/def/asgs#CommonwealthElectoralDivision\", \"2017-07-01\", \"2018-06-30\", \"228\", \"Maribyrnong\", \"228\", \"Maribyrnong\", \"72.514600000000002\"]]};\n",
       "        dt_args = eval_functions(dt_args);\n",
       "        table = $('#3dfc1c08-1237-421a-b255-88f6710d88ef').DataTable(dt_args);\n",
       "    });\n",
       "})\n",
       "</script>\n",
       "</div>\n"
      ],
      "text/plain": [
       "                                                 uri  \\\n",
       "0  https://linked.data.gov.au/dataset/asgs/common...   \n",
       "\n",
       "                                        feature_type  valid_from    valid_to  \\\n",
       "0  https://linked.data.gov.au/def/asgs#Commonweal...  2017-07-01  2018-06-30   \n",
       "\n",
       "  code         name ced_code16   ced_name16          areasqkm16  \n",
       "0  228  Maribyrnong        228  Maribyrnong  72.514600000000002  "
      ]
     },
     "execution_count": 7,
     "metadata": {},
     "output_type": "execute_result"
    }
   ],
   "source": [
    "SOURCE_CED = \"https://linked.data.gov.au/dataset/asgs/commonwealthelectoraldivision/maribyrnong\"\n",
    "TIME_VARIABLE = \"2017-09-07\"\n",
    "\n",
    "API_ENDPOINT = \"/temporal/feature\"\n",
    "\n",
    "print(\"Issuing query to /temporal/feature API endpoint with source CED \" + SOURCE_CED + \" and time at \" + TIME_VARIABLE + \". One moment please...\")\n",
    "\n",
    "url = TIME_API + API_ENDPOINT\n",
    "payload = {\n",
    "    'uri': SOURCE_CED,\n",
    "    'time' : TIME_VARIABLE\n",
    "}\n",
    "r = requests.get(url, params=payload)\n",
    "jsondata = r.json()\n",
    "print(json.dumps(jsondata, indent=4))\n",
    "\n",
    "mydict = {k: [v] for k, v in jsondata.items()}\n",
    "df = pd.DataFrame (mydict, columns = mydict.keys())\n",
    "df"
   ]
  },
  {
   "cell_type": "markdown",
   "metadata": {},
   "source": [
    "Show the geometry for the feature on a map..."
   ]
  },
  {
   "cell_type": "code",
   "execution_count": 8,
   "metadata": {},
   "outputs": [
    {
     "data": {
      "application/vnd.jupyter.widget-view+json": {
       "model_id": "e2d767f6b10c4413be1b63aafe73a226",
       "version_major": 2,
       "version_minor": 0
      },
      "text/plain": [
       "Map(center=[-37.7533330724475, 144.86146427671474], controls=(ZoomControl(options=['position', 'zoom_in_text',…"
      ]
     },
     "metadata": {},
     "output_type": "display_data"
    }
   ],
   "source": [
    "#draw the geometry for the feature on a map\n",
    "SOURCE_CED_URI=jsondata['uri']\n",
    "source_geojson_data = get_geom(SOURCE_CED_URI)\n",
    "g= shape(source_geojson_data)\n",
    "\n",
    "x_coord = g.centroid.coords[0][1]\n",
    "y_coord = g.centroid.coords[0][0]\n",
    "\n",
    "map = ipy.Map(center=[x_coord, y_coord], zoom=11)\n",
    "label = ipyw.Label(layout=ipyw.Layout(width='100%'))\n",
    "\n",
    "geo_json1 = GeoJSON(data=source_geojson_data, style = {'color': 'red', 'opacity':1, 'weight':1.9, 'fillOpacity':0.5})\n",
    "map.add_layer(geo_json1)\n",
    "map"
   ]
  },
  {
   "cell_type": "markdown",
   "metadata": {},
   "source": [
    "Show the same CED for 2021-05-06"
   ]
  },
  {
   "cell_type": "code",
   "execution_count": 9,
   "metadata": {},
   "outputs": [
    {
     "name": "stdout",
     "output_type": "stream",
     "text": [
      "Issuing query to /temporal/feature API endpoint with source CED https://linked.data.gov.au/dataset/asgs/commonwealthelectoraldivision/maribyrnong and time at 2021-05-06. One moment please...\n",
      "{\n",
      "    \"uri\": \"https://linked.data.gov.au/dataset/asgs/commonwealthelectoraldivision/maribyrnong/2018-07\",\n",
      "    \"feature_type\": \"https://linked.data.gov.au/def/asgs#CommonwealthElectoralDivision\",\n",
      "    \"valid_from\": \"2018-07-01\",\n",
      "    \"valid_to\": null,\n",
      "    \"code\": \"230\",\n",
      "    \"name\": \"Maribyrnong\",\n",
      "    \"ced_code16\": \"230\",\n",
      "    \"ced_name16\": \"Maribyrnong\",\n",
      "    \"areasqkm16\": \"63.1908\"\n",
      "}\n"
     ]
    },
    {
     "data": {
      "application/vnd.jupyter.widget-view+json": {
       "model_id": "abecf89a96f943c48475f142b15c11b6",
       "version_major": 2,
       "version_minor": 0
      },
      "text/plain": [
       "Map(center=[-37.75516062914489, 144.88991893659147], controls=(ZoomControl(options=['position', 'zoom_in_text'…"
      ]
     },
     "metadata": {},
     "output_type": "display_data"
    }
   ],
   "source": [
    "SOURCE_CED = \"https://linked.data.gov.au/dataset/asgs/commonwealthelectoraldivision/maribyrnong\"\n",
    "TIME_VARIABLE = \"2021-05-06\"\n",
    "API_ENDPOINT = \"/temporal/feature\"\n",
    "\n",
    "print(\"Issuing query to /temporal/feature API endpoint with source CED \" + SOURCE_CED + \" and time at \" + TIME_VARIABLE + \". One moment please...\")\n",
    "\n",
    "url = TIME_API + API_ENDPOINT\n",
    "payload = {\n",
    "    'uri': SOURCE_CED,\n",
    "    'time' : TIME_VARIABLE\n",
    "}\n",
    "r = requests.get(url, params=payload)\n",
    "jsondata = r.json()\n",
    "print(json.dumps(jsondata, indent=4))\n",
    "SOURCE_CED_URI=jsondata['uri']\n",
    "source_geojson_data = get_geom(SOURCE_CED_URI)\n",
    "g= shape(source_geojson_data)\n",
    "\n",
    "x_coord = g.centroid.coords[0][1]\n",
    "y_coord = g.centroid.coords[0][0]\n",
    "\n",
    "map1_1 = ipy.Map(center=[x_coord, y_coord], zoom=11)\n",
    "label = ipyw.Label(layout=ipyw.Layout(width='100%'))\n",
    "\n",
    "geo_json1 = GeoJSON(data=source_geojson_data, style = {'color': 'blue', 'opacity':1, 'weight':1.9, 'fillOpacity':0.5})\n",
    "map1_1.add_layer(geo_json1)\n",
    "map1_1"
   ]
  },
  {
   "cell_type": "markdown",
   "metadata": {},
   "source": [
    "## Use case 1.A. Features intersecting at the same time (Fix at a point in time for source feature)\n",
    "\n",
    "For entity A, in data set X, return identifiers for entities of class 2 from data set Y, that intersect A at time α\n",
    "\n",
    "Example: For a starting feature of CED Commonwealth Electoral District (CED) of Maribyrnong, return identifiers for the target features that intersected the source CED, on 7 September 2017."
   ]
  },
  {
   "cell_type": "code",
   "execution_count": 10,
   "metadata": {},
   "outputs": [],
   "source": [
    "SOURCE_CED = \"https://linked.data.gov.au/dataset/asgs/commonwealthelectoraldivision/maribyrnong\"\n",
    "TIME_VARIABLE = \"2017-09-07\""
   ]
  },
  {
   "cell_type": "code",
   "execution_count": 11,
   "metadata": {},
   "outputs": [],
   "source": [
    "\n",
    "datetime_object = datetime.strptime('07/09/2017', '%d/%m/%Y')\n",
    "\n",
    "\n",
    "wdate_target_ft = widgets.Dropdown(\n",
    "    options=[(\"ASGS LGAs\", 'https://linked.data.gov.au/def/asgs#LocalGovernmentArea'),\n",
    "             (\"ASGS SEDs\", 'https://linked.data.gov.au/def/asgs#StateElectoralDivision'),\n",
    "             (\"ASGS SA2s\", 'https://linked.data.gov.au/def/asgs#StatisticalAreaLevel2')\n",
    "              ],\n",
    "    description='Feature type:',\n",
    "    value=\"https://linked.data.gov.au/def/asgs#LocalGovernmentArea\"\n",
    ")\n",
    "\n",
    "wdate_date = widgets.DatePicker(\n",
    "    description='Source Feature Date', \n",
    "    value=datetime_object,\n",
    "    disabled=False\n",
    ")"
   ]
  },
  {
   "cell_type": "code",
   "execution_count": 12,
   "metadata": {},
   "outputs": [
    {
     "data": {
      "application/vnd.jupyter.widget-view+json": {
       "model_id": "6d5762e60e0b4795b436b2461e4877e7",
       "version_major": 2,
       "version_minor": 0
      },
      "text/plain": [
       "Dropdown(description='Feature type:', options=(('ASGS LGAs', 'https://linked.data.gov.au/def/asgs#LocalGovernm…"
      ]
     },
     "metadata": {},
     "output_type": "display_data"
    },
    {
     "data": {
      "application/vnd.jupyter.widget-view+json": {
       "model_id": "733f952678a84ccea6dc5063b3b99baf",
       "version_major": 2,
       "version_minor": 0
      },
      "text/plain": [
       "DatePicker(value=datetime.datetime(2017, 9, 7, 0, 0), description='Source Feature Date')"
      ]
     },
     "metadata": {},
     "output_type": "display_data"
    }
   ],
   "source": [
    "display(wdate_target_ft)\n",
    "display(wdate_date)"
   ]
  },
  {
   "cell_type": "code",
   "execution_count": 13,
   "metadata": {},
   "outputs": [
    {
     "name": "stdout",
     "output_type": "stream",
     "text": [
      "Issuing query to /temporal/intersects API endpoint with source CED https://linked.data.gov.au/dataset/asgs/commonwealthelectoraldivision/maribyrnong and time at 2017-09-07 00:00:00 and target features of https://linked.data.gov.au/def/asgs#LocalGovernmentArea. One moment please...\n"
     ]
    },
    {
     "data": {
      "text/html": [
       "<div><table id=\"e23dc5a9-338b-469c-aa8e-d4d8bc68f2da\" class=\"display\"><thead>\n",
       "    <tr style=\"text-align: right;\">\n",
       "      \n",
       "      <th>uri</th>\n",
       "    </tr>\n",
       "  </thead></table>\n",
       "<script type=\"text/javascript\">\n",
       "require([\"datatables\"], function (datatables) {\n",
       "    $(document).ready(function () {\n",
       "        var dt_args = {\"columnDefs\": [{\"className\": \"dt-left\", \"targets\": \"_all\"}], \"lengthMenu\": [50, 100, 200, 500], \"paging\": false, \"data\": [[\"https://linked.data.gov.au/dataset/asgs/localgovernmentarea/21180/2017-07\"], [\"https://linked.data.gov.au/dataset/asgs/localgovernmentarea/24330/2017-07\"], [\"https://linked.data.gov.au/dataset/asgs/localgovernmentarea/25060/2017-07\"], [\"https://linked.data.gov.au/dataset/asgs/localgovernmentarea/25250/2017-07\"]]};\n",
       "        dt_args = eval_functions(dt_args);\n",
       "        table = $('#e23dc5a9-338b-469c-aa8e-d4d8bc68f2da').DataTable(dt_args);\n",
       "    });\n",
       "})\n",
       "</script>\n",
       "</div>\n"
      ],
      "text/plain": [
       "                                                 uri\n",
       "0  https://linked.data.gov.au/dataset/asgs/localg...\n",
       "1  https://linked.data.gov.au/dataset/asgs/localg...\n",
       "2  https://linked.data.gov.au/dataset/asgs/localg...\n",
       "3  https://linked.data.gov.au/dataset/asgs/localg..."
      ]
     },
     "execution_count": 13,
     "metadata": {},
     "output_type": "execute_result"
    }
   ],
   "source": [
    "TO_FEATURE_TYPE = wdate_target_ft.value\n",
    "#print(wdate_date.value)\n",
    "TIME_VARIABLE=wdate_date.value\n",
    "\n",
    "API_ENDPOINT = \"/temporal/intersects\"\n",
    "\n",
    "print(\"Issuing query to \"+  API_ENDPOINT + \" API endpoint with source CED \" + SOURCE_CED + \" and time at \" + str(TIME_VARIABLE) + \" and target features of \" + TO_FEATURE_TYPE + \". One moment please...\")\n",
    "\n",
    "\n",
    "url = TIME_API + API_ENDPOINT\n",
    "payload = {\n",
    "    'uri': SOURCE_CED,\n",
    "    'time' : TIME_VARIABLE,\n",
    "    'toFeatureType' : TO_FEATURE_TYPE\n",
    "}\n",
    "r = requests.get(url, params=payload)\n",
    "jsondata = r.json()\n",
    "mylist = [[k] for k in jsondata]\n",
    "df = pd.DataFrame (mylist, columns = ['uri'])\n",
    "df"
   ]
  },
  {
   "cell_type": "markdown",
   "metadata": {},
   "source": [
    "Show the results on a map..."
   ]
  },
  {
   "cell_type": "code",
   "execution_count": 14,
   "metadata": {},
   "outputs": [
    {
     "data": {
      "application/vnd.jupyter.widget-view+json": {
       "model_id": "b8778134350f4489aecda1ed978fd427",
       "version_major": 2,
       "version_minor": 0
      },
      "text/plain": [
       "  0%|          | 0/4 [00:00<?, ?it/s]"
      ]
     },
     "metadata": {},
     "output_type": "display_data"
    },
    {
     "data": {
      "application/vnd.jupyter.widget-view+json": {
       "model_id": "d3f1c4e1096845488ade05ef6ad23f03",
       "version_major": 2,
       "version_minor": 0
      },
      "text/plain": [
       "Map(center=[-37.75516062914489, 144.88991893659147], controls=(ZoomControl(options=['position', 'zoom_in_text'…"
      ]
     },
     "metadata": {},
     "output_type": "display_data"
    }
   ],
   "source": [
    "map2 = ipy.Map(center=[x_coord, y_coord], zoom=11)\n",
    "label = ipyw.Label(layout=ipyw.Layout(width='100%'))\n",
    "\n",
    "source_geojson = GeoJSON(data=source_geojson_data, style = {'color': 'red', 'opacity':1, 'weight':1.9, 'fillOpacity':0.1})\n",
    "map2.add_layer(source_geojson)\n",
    "\n",
    "with tqdm(total=len(jsondata)) as pbar:\n",
    "    for uri in jsondata:\n",
    "        #print(uri)\n",
    "        geojson_data = get_geom(uri)\n",
    "        geo_json1 = GeoJSON(data=geojson_data, style = {\n",
    "            'stroke': True, 'color': 'black', 'opacity': 0.3, 'weight':1, \n",
    "            'fillColor': 'blue', 'fillOpacity':0.1})\n",
    "        map2.add_layer(geo_json1)\n",
    "        pbar.update(1)\n",
    "map2"
   ]
  },
  {
   "cell_type": "markdown",
   "metadata": {},
   "source": [
    "## Use case 1.B. Features intersecting at the same time (Fix at a point in time for both)\n",
    "\n",
    "For entity A, in data set X, return identifiers for entities of class 2 from data set Y at time b, that intersect A at time α, where time α and b are the same\n",
    "\n",
    "Example: For a starting feature of CED Commonwealth Electoral District (CED) of Maribyrnong, return identifiers for the target features, LGA regions, that existed at 2017-09-07, that intersected the source CED, on 7 September 2017."
   ]
  },
  {
   "cell_type": "code",
   "execution_count": 15,
   "metadata": {},
   "outputs": [],
   "source": [
    "SOURCE_CED = \"https://linked.data.gov.au/dataset/asgs/commonwealthelectoraldivision/maribyrnong\"\n",
    "TO_FEATURE_TYPE = \"https://linked.data.gov.au/def/asgs#LocalGovernmentArea\"\n",
    "TIME_SOURCE_FEATURE = \"2017-09-07\"\n",
    "TIME_TARGET_FEATURE_TYPE = \"2017-09-07\""
   ]
  },
  {
   "cell_type": "code",
   "execution_count": 16,
   "metadata": {},
   "outputs": [],
   "source": [
    "\n",
    "datetime_object = datetime.strptime('07/09/2017', '%d/%m/%Y')\n",
    "\n",
    "\n",
    "wdate_target_ft = widgets.Dropdown(\n",
    "    options=[(\"ASGS LGAs\", 'https://linked.data.gov.au/def/asgs#LocalGovernmentArea'),\n",
    "             (\"ASGS SEDs\", 'https://linked.data.gov.au/def/asgs#StateElectoralDivision'),\n",
    "             (\"ASGS SA3s\", 'https://linked.data.gov.au/def/asgs#StatisticalAreaLevel3'),\n",
    "             (\"ASGS SA2s\", 'https://linked.data.gov.au/def/asgs#StatisticalAreaLevel2')\n",
    "              ],\n",
    "    description='Feature type:',\n",
    "    value=\"https://linked.data.gov.au/def/asgs#LocalGovernmentArea\"\n",
    ")\n",
    "\n",
    "wdate_date = widgets.DatePicker(\n",
    "    description='Source Feature Date', \n",
    "    value=datetime_object,\n",
    "    disabled=False\n",
    ")\n",
    "\n",
    "wdate_date2 = widgets.DatePicker(\n",
    "    description='Target FeatureType Date', \n",
    "    value=datetime_object,\n",
    "    disabled=False\n",
    ")"
   ]
  },
  {
   "cell_type": "code",
   "execution_count": 17,
   "metadata": {},
   "outputs": [
    {
     "data": {
      "application/vnd.jupyter.widget-view+json": {
       "model_id": "8c46e0e5eea841b6ae48bba4b40680e3",
       "version_major": 2,
       "version_minor": 0
      },
      "text/plain": [
       "Dropdown(description='Feature type:', options=(('ASGS LGAs', 'https://linked.data.gov.au/def/asgs#LocalGovernm…"
      ]
     },
     "metadata": {},
     "output_type": "display_data"
    },
    {
     "data": {
      "application/vnd.jupyter.widget-view+json": {
       "model_id": "a68319a4522a4982b80bcd9599d87969",
       "version_major": 2,
       "version_minor": 0
      },
      "text/plain": [
       "DatePicker(value=datetime.datetime(2017, 9, 7, 0, 0), description='Source Feature Date')"
      ]
     },
     "metadata": {},
     "output_type": "display_data"
    },
    {
     "data": {
      "application/vnd.jupyter.widget-view+json": {
       "model_id": "fded9bc093a143b488cbf1cf09fbab26",
       "version_major": 2,
       "version_minor": 0
      },
      "text/plain": [
       "DatePicker(value=datetime.datetime(2017, 9, 7, 0, 0), description='Target FeatureType Date')"
      ]
     },
     "metadata": {},
     "output_type": "display_data"
    }
   ],
   "source": [
    "display(wdate_target_ft)\n",
    "display(wdate_date)\n",
    "display(wdate_date2)"
   ]
  },
  {
   "cell_type": "code",
   "execution_count": 18,
   "metadata": {},
   "outputs": [
    {
     "name": "stdout",
     "output_type": "stream",
     "text": [
      "Issuing query to /temporal/intersects2 API endpoint with source CED https://linked.data.gov.au/dataset/asgs/commonwealthelectoraldivision/maribyrnong and time at 2017-09-07 00:00:00 and target features of https://linked.data.gov.au/def/asgs#LocalGovernmentArea at time  and 2017-09-07 00:00:00. One moment please...\n",
      "http://time-api.loci.cat/api/v1/temporal/intersects2?uri=https%3A%2F%2Flinked.data.gov.au%2Fdataset%2Fasgs%2Fcommonwealthelectoraldivision%2Fmaribyrnong&fromTime=2017-09-07&toTime=2017-09-07&toFeatureType=https%3A%2F%2Flinked.data.gov.au%2Fdef%2Fasgs%23LocalGovernmentArea\n"
     ]
    },
    {
     "data": {
      "text/html": [
       "<div><table id=\"01a6be7f-c133-433c-a0d5-9b1d57cba463\" class=\"display\"><thead>\n",
       "    <tr style=\"text-align: right;\">\n",
       "      \n",
       "      <th>uri</th>\n",
       "    </tr>\n",
       "  </thead></table>\n",
       "<script type=\"text/javascript\">\n",
       "require([\"datatables\"], function (datatables) {\n",
       "    $(document).ready(function () {\n",
       "        var dt_args = {\"columnDefs\": [{\"className\": \"dt-left\", \"targets\": \"_all\"}], \"lengthMenu\": [50, 100, 200, 500], \"paging\": false, \"data\": [[\"https://linked.data.gov.au/dataset/asgs/localgovernmentarea/21180/2017-07\"], [\"https://linked.data.gov.au/dataset/asgs/localgovernmentarea/24330/2017-07\"], [\"https://linked.data.gov.au/dataset/asgs/localgovernmentarea/25060/2017-07\"], [\"https://linked.data.gov.au/dataset/asgs/localgovernmentarea/25250/2017-07\"]]};\n",
       "        dt_args = eval_functions(dt_args);\n",
       "        table = $('#01a6be7f-c133-433c-a0d5-9b1d57cba463').DataTable(dt_args);\n",
       "    });\n",
       "})\n",
       "</script>\n",
       "</div>\n"
      ],
      "text/plain": [
       "                                                 uri\n",
       "0  https://linked.data.gov.au/dataset/asgs/localg...\n",
       "1  https://linked.data.gov.au/dataset/asgs/localg...\n",
       "2  https://linked.data.gov.au/dataset/asgs/localg...\n",
       "3  https://linked.data.gov.au/dataset/asgs/localg..."
      ]
     },
     "execution_count": 18,
     "metadata": {},
     "output_type": "execute_result"
    }
   ],
   "source": [
    "TO_FEATURE_TYPE = wdate_target_ft.value\n",
    "#print(wdate_date.value)\n",
    "TIME_VARIABLE=wdate_date.value\n",
    "TIME_VARIABLE2=wdate_date2.value\n",
    "\n",
    "API_ENDPOINT = \"/temporal/intersects2\"\n",
    "\n",
    "print(\"Issuing query to \"+  API_ENDPOINT + \" API endpoint with source CED \" + SOURCE_CED + \" and time at \" + str(TIME_VARIABLE) + \" and target features of \" + TO_FEATURE_TYPE + \" at time \" + \" and \" + str(TIME_VARIABLE2) + \". One moment please...\")\n",
    "\n",
    "\n",
    "url = TIME_API + API_ENDPOINT\n",
    "payload = {\n",
    "    'uri': SOURCE_CED,\n",
    "    'fromTime' : TIME_SOURCE_FEATURE,\n",
    "    'toTime' : TIME_TARGET_FEATURE_TYPE,\n",
    "    'toFeatureType' : TO_FEATURE_TYPE\n",
    "}\n",
    "r = requests.get(url, params=payload)\n",
    "print(r.url)\n",
    "jsondata = r.json()\n",
    "mylist = [[k] for k in jsondata]\n",
    "df = pd.DataFrame (mylist, columns = ['uri'])\n",
    "df"
   ]
  },
  {
   "cell_type": "code",
   "execution_count": 19,
   "metadata": {},
   "outputs": [
    {
     "data": {
      "application/vnd.jupyter.widget-view+json": {
       "model_id": "b4c85118b44e4697931fc6def896863a",
       "version_major": 2,
       "version_minor": 0
      },
      "text/plain": [
       "  0%|          | 0/4 [00:00<?, ?it/s]"
      ]
     },
     "metadata": {},
     "output_type": "display_data"
    },
    {
     "data": {
      "application/vnd.jupyter.widget-view+json": {
       "model_id": "0576fb4d35794d0fbb32283f49ee8a8a",
       "version_major": 2,
       "version_minor": 0
      },
      "text/plain": [
       "Map(center=[-37.75516062914489, 144.88991893659147], controls=(ZoomControl(options=['position', 'zoom_in_text'…"
      ]
     },
     "metadata": {},
     "output_type": "display_data"
    }
   ],
   "source": [
    "map3 = ipy.Map(center=[x_coord, y_coord], zoom=10)\n",
    "label = ipyw.Label(layout=ipyw.Layout(width='100%'))\n",
    "\n",
    "source_geojson = GeoJSON(data=source_geojson_data, style = {\n",
    "              'color': 'red', 'opacity':1, 'weight':1.9, 'fillOpacity':0.1})\n",
    "map3.add_layer(source_geojson)\n",
    "\n",
    "with tqdm(total=len(jsondata)) as pbar:\n",
    "    for uri in jsondata:\n",
    "        #print(uri)\n",
    "        geojson_data = get_geom(uri)\n",
    "        geo_json1 = GeoJSON(data=geojson_data, style = {\n",
    "            'stroke': True, 'color': 'black', 'opacity': 0.3, 'weight':1, \n",
    "            'fillColor': 'green', 'fillOpacity':0.2})\n",
    "        map3.add_layer(geo_json1)\n",
    "        pbar.update(1)\n",
    "map3"
   ]
  },
  {
   "cell_type": "markdown",
   "metadata": {},
   "source": [
    "## Use case 1.B. Features intersecting at different times (Specify time points for source feature and target feature types)\n",
    "\n",
    "For entity A, in data set X, return identifiers for entities of class 2 from data set Y at time b, that intersect A at time α, where time α and b are different\n",
    "\n",
    "### Change the CED date from 2017-09-07 to 2020-01-01 and keep LGA time the same\n",
    "\n",
    "First get the 2020-01-01 CED feature"
   ]
  },
  {
   "cell_type": "code",
   "execution_count": 20,
   "metadata": {},
   "outputs": [],
   "source": [
    "wdate_target_ft = widgets.Dropdown(\n",
    "    options=[(\"ASGS LGAs\", 'https://linked.data.gov.au/def/asgs#LocalGovernmentArea'),\n",
    "             (\"ASGS CEDs\", 'https://linked.data.gov.au/def/asgs#CommonwealthElectoralDivision'),\n",
    "             (\"ASGS SEDs\", 'https://linked.data.gov.au/def/asgs#StateElectoralDivision'),\n",
    "             (\"ASGS SA3s\", 'https://linked.data.gov.au/def/asgs#StatisticalAreaLevel3'),\n",
    "             (\"ASGS SA2s\", 'https://linked.data.gov.au/def/asgs#StatisticalAreaLevel2')\n",
    "              ],\n",
    "    description='Feature type:',\n",
    "    value=\"https://linked.data.gov.au/def/asgs#LocalGovernmentArea\"\n",
    ")\n",
    "\n",
    "wdate_source_feature = widgets.Dropdown(\n",
    "    options=[('2017-01-01', \"2017-01-01\"), ('2018-01-01', \"2018-01-01\"),('2019-01-01', \"2019-01-01\"), ('2020-01-01', \"2020-01-01\")],\n",
    "    description='Source Feature Date:',\n",
    "    value=\"2020-01-01\"\n",
    ")\n",
    "\n",
    "wdate_target_features = widgets.Dropdown(\n",
    "    options=[('2017-01-01', \"2017-01-01\"), ('2018-01-01', \"2018-01-01\"),('2019-01-01', \"2019-01-01\"), ('2020-01-01', \"2020-01-01\")],\n",
    "    description='Target Features Date:',\n",
    ")"
   ]
  },
  {
   "cell_type": "code",
   "execution_count": 21,
   "metadata": {},
   "outputs": [
    {
     "data": {
      "application/vnd.jupyter.widget-view+json": {
       "model_id": "06da4e201c6e4fab811cc540013af9ed",
       "version_major": 2,
       "version_minor": 0
      },
      "text/plain": [
       "Dropdown(description='Feature type:', options=(('ASGS LGAs', 'https://linked.data.gov.au/def/asgs#LocalGovernm…"
      ]
     },
     "metadata": {},
     "output_type": "display_data"
    },
    {
     "data": {
      "application/vnd.jupyter.widget-view+json": {
       "model_id": "59a4b446cb5542739ea5007173a20503",
       "version_major": 2,
       "version_minor": 0
      },
      "text/plain": [
       "Dropdown(description='Source Feature Date:', index=3, options=(('2017-01-01', '2017-01-01'), ('2018-01-01', '2…"
      ]
     },
     "metadata": {},
     "output_type": "display_data"
    },
    {
     "data": {
      "application/vnd.jupyter.widget-view+json": {
       "model_id": "c2ccad39e9d1473da9978ec129951713",
       "version_major": 2,
       "version_minor": 0
      },
      "text/plain": [
       "Dropdown(description='Target Features Date:', options=(('2017-01-01', '2017-01-01'), ('2018-01-01', '2018-01-0…"
      ]
     },
     "metadata": {},
     "output_type": "display_data"
    }
   ],
   "source": [
    "display(wdate_target_ft)\n",
    "display(wdate_source_feature)\n",
    "display(wdate_target_features)"
   ]
  },
  {
   "cell_type": "code",
   "execution_count": 22,
   "metadata": {},
   "outputs": [
    {
     "data": {
      "text/plain": [
       "{'uri': 'https://linked.data.gov.au/dataset/asgs/commonwealthelectoraldivision/fraser/2018-07',\n",
       " 'feature_type': 'https://linked.data.gov.au/def/asgs#CommonwealthElectoralDivision',\n",
       " 'valid_from': '2018-07-01',\n",
       " 'valid_to': None,\n",
       " 'code': '214',\n",
       " 'name': 'Fraser',\n",
       " 'ced_code16': '214',\n",
       " 'ced_name16': 'Fraser',\n",
       " 'areasqkm16': '100.8444'}"
      ]
     },
     "execution_count": 22,
     "metadata": {},
     "output_type": "execute_result"
    }
   ],
   "source": [
    "SOURCE_FEATURE = \"https://linked.data.gov.au/dataset/asgs/commonwealthelectoraldivision/fraser\"\n",
    "TIME_VARIABLE = wdate_source_feature.value\n",
    "API_ENDPOINT = \"/temporal/feature\"\n",
    "\n",
    "url = TIME_API + API_ENDPOINT\n",
    "payload = {\n",
    "    'uri': SOURCE_FEATURE,\n",
    "    'time' : TIME_VARIABLE\n",
    "}\n",
    "r = requests.get(url, params=payload)\n",
    "jsondata = r.json()\n",
    "jsondata"
   ]
  },
  {
   "cell_type": "code",
   "execution_count": 23,
   "metadata": {},
   "outputs": [],
   "source": [
    "SOURCE_FEATURE = jsondata['uri']\n",
    "#TO_FEATURE_TYPE = \"https://linked.data.gov.au/def/asgs#StatisticalAreaLevel1\"\n",
    "#TO_FEATURE_TYPE = \"https://linked.data.gov.au/def/asgs#LocalGovernmentArea\"\n",
    "TO_FEATURE_TYPE = wdate_target_ft.value\n",
    "TIME_SOURCE_FEATURE = wdate_source_feature.value\n",
    "TIME_TARGET_FEATURE_TYPE = wdate_target_features.value"
   ]
  },
  {
   "cell_type": "code",
   "execution_count": 24,
   "metadata": {},
   "outputs": [
    {
     "name": "stdout",
     "output_type": "stream",
     "text": [
      "http://time-api.loci.cat/api/v1/temporal/intersects2?uri=https%3A%2F%2Flinked.data.gov.au%2Fdataset%2Fasgs%2Fcommonwealthelectoraldivision%2Ffraser%2F2018-07&fromTime=2020-01-01&toTime=2017-01-01&toFeatureType=https%3A%2F%2Flinked.data.gov.au%2Fdef%2Fasgs%23LocalGovernmentArea\n"
     ]
    },
    {
     "data": {
      "text/html": [
       "<div><table id=\"6264cdab-a2ac-4eee-9d1b-ab471464ee67\" class=\"display\"><thead>\n",
       "    <tr style=\"text-align: right;\">\n",
       "      \n",
       "      <th>uri</th>\n",
       "    </tr>\n",
       "  </thead></table>\n",
       "<script type=\"text/javascript\">\n",
       "require([\"datatables\"], function (datatables) {\n",
       "    $(document).ready(function () {\n",
       "        var dt_args = {\"columnDefs\": [{\"className\": \"dt-left\", \"targets\": \"_all\"}], \"lengthMenu\": [50, 100, 200, 500], \"paging\": false, \"data\": [[\"https://linked.data.gov.au/dataset/asgs/localgovernmentarea/23110/2016-07\"], [\"https://linked.data.gov.au/dataset/asgs/localgovernmentarea/23270/2016-07\"], [\"https://linked.data.gov.au/dataset/asgs/localgovernmentarea/24330/2016-07\"], [\"https://linked.data.gov.au/dataset/asgs/localgovernmentarea/24650/2016-07\"], [\"https://linked.data.gov.au/dataset/asgs/localgovernmentarea/27260/2016-07\"], [\"https://linked.data.gov.au/dataset/asgs/localgovernmentarea/21180/2016-07\"], [\"https://linked.data.gov.au/dataset/asgs/localgovernmentarea/25060/2016-07\"]]};\n",
       "        dt_args = eval_functions(dt_args);\n",
       "        table = $('#6264cdab-a2ac-4eee-9d1b-ab471464ee67').DataTable(dt_args);\n",
       "    });\n",
       "})\n",
       "</script>\n",
       "</div>\n"
      ],
      "text/plain": [
       "                                                 uri\n",
       "0  https://linked.data.gov.au/dataset/asgs/localg...\n",
       "1  https://linked.data.gov.au/dataset/asgs/localg...\n",
       "2  https://linked.data.gov.au/dataset/asgs/localg...\n",
       "3  https://linked.data.gov.au/dataset/asgs/localg...\n",
       "4  https://linked.data.gov.au/dataset/asgs/localg...\n",
       "5  https://linked.data.gov.au/dataset/asgs/localg...\n",
       "6  https://linked.data.gov.au/dataset/asgs/localg..."
      ]
     },
     "execution_count": 24,
     "metadata": {},
     "output_type": "execute_result"
    }
   ],
   "source": [
    "API_ENDPOINT = \"/temporal/intersects2\"\n",
    "\n",
    "url = TIME_API + API_ENDPOINT\n",
    "payload = {\n",
    "    'uri': SOURCE_FEATURE,\n",
    "    'fromTime' : TIME_SOURCE_FEATURE,\n",
    "    'toTime' : TIME_TARGET_FEATURE_TYPE,\n",
    "    'toFeatureType' : TO_FEATURE_TYPE\n",
    "}\n",
    "\n",
    "source_geojson_data = get_geom(SOURCE_FEATURE)\n",
    "\n",
    "r = requests.get(url, params=payload)\n",
    "print(r.url)\n",
    "jsondata2 = r.json()\n",
    "mylist = [[k] for k in jsondata2]\n",
    "df = pd.DataFrame (mylist, columns = ['uri'])\n",
    "df"
   ]
  },
  {
   "cell_type": "code",
   "execution_count": 25,
   "metadata": {},
   "outputs": [
    {
     "data": {
      "application/vnd.jupyter.widget-view+json": {
       "model_id": "93a81765bf7d4fbbac6eba4f3e298603",
       "version_major": 2,
       "version_minor": 0
      },
      "text/plain": [
       "  0%|          | 0/7 [00:00<?, ?it/s]"
      ]
     },
     "metadata": {},
     "output_type": "display_data"
    },
    {
     "data": {
      "application/vnd.jupyter.widget-view+json": {
       "model_id": "b6cf0eb0795d449795a43e97cbae9bdb",
       "version_major": 2,
       "version_minor": 0
      },
      "text/plain": [
       "Map(center=[-37.7467757320652, 144.8069843868863], controls=(ZoomControl(options=['position', 'zoom_in_text', …"
      ]
     },
     "metadata": {},
     "output_type": "display_data"
    }
   ],
   "source": [
    "source_geojson_data = get_geom(SOURCE_FEATURE)\n",
    "g= shape(source_geojson_data)\n",
    "x_coord = g.centroid.coords[0][1]\n",
    "y_coord = g.centroid.coords[0][0]\n",
    "\n",
    "map4 = ipy.Map(center=[x_coord, y_coord], zoom=10)\n",
    "label = ipyw.Label(layout=ipyw.Layout(width='100%'))\n",
    "\n",
    "source_geojson = GeoJSON(data=source_geojson_data, style = {\n",
    "              'color': 'red', 'opacity':1, 'weight':1.9, 'fillOpacity':0.5})\n",
    "map4.add_layer(source_geojson)\n",
    "\n",
    "with tqdm(total=len(jsondata2)) as pbar:\n",
    "    for uri in jsondata2:\n",
    "        #print(uri)\n",
    "        geojson_data = get_geom(uri)\n",
    "        geo_json1 = GeoJSON(data=geojson_data, style = {\n",
    "            'stroke': True, 'color': 'black', 'opacity': 1, 'weight':1, \n",
    "            'fillColor': 'green', 'fillOpacity':0.2})\n",
    "        map4.add_layer(geo_json1)\n",
    "        pbar.update(1)\n",
    "map4"
   ]
  },
  {
   "cell_type": "markdown",
   "metadata": {},
   "source": [
    "## Use case 2.A. Features intersecting input feature between time A and B.\n",
    "\n",
    "For entity A, in data set X, return identifiers for entities of class 2 from data set Y, that intersected entity A between times α and β\n",
    "\n",
    "Example: For a starting feature of CED Commonwealth Electoral District (CED) of Maribyrnong, return identifiers for the target features, ASGS Non-ABS LGAs, that intersected the source CED, on 7 September 2017 and 7 September 2020"
   ]
  },
  {
   "cell_type": "code",
   "execution_count": 26,
   "metadata": {},
   "outputs": [
    {
     "name": "stdout",
     "output_type": "stream",
     "text": [
      "http://time-api.loci.cat/api/v1/temporal/feature?uri=https%3A%2F%2Flinked.data.gov.au%2Fdataset%2Fasgs%2Fcommonwealthelectoraldivision%2Fmaribyrnong&time=2017-09-07\n"
     ]
    },
    {
     "data": {
      "text/plain": [
       "{'uri': 'https://linked.data.gov.au/dataset/asgs/commonwealthelectoraldivision/maribyrnong/2017-07',\n",
       " 'feature_type': 'https://linked.data.gov.au/def/asgs#CommonwealthElectoralDivision',\n",
       " 'valid_from': '2017-07-01',\n",
       " 'valid_to': '2018-06-30',\n",
       " 'code': '228',\n",
       " 'name': 'Maribyrnong',\n",
       " 'ced_code16': '228',\n",
       " 'ced_name16': 'Maribyrnong',\n",
       " 'areasqkm16': '72.514600000000002'}"
      ]
     },
     "execution_count": 26,
     "metadata": {},
     "output_type": "execute_result"
    }
   ],
   "source": [
    "#get the fraser feature\n",
    "SOURCE_CED = \"https://linked.data.gov.au/dataset/asgs/commonwealthelectoraldivision/maribyrnong\"\n",
    "TIME_VARIABLE = \"2017-09-07\"\n",
    "API_ENDPOINT = \"/temporal/feature\"\n",
    "\n",
    "url = TIME_API + API_ENDPOINT\n",
    "payload = {\n",
    "    'uri': SOURCE_CED,\n",
    "    'time' : TIME_VARIABLE\n",
    "}\n",
    "r = requests.get(url, params=payload)\n",
    "print(r.url)\n",
    "jsondata = r.json()\n",
    "jsondata"
   ]
  },
  {
   "cell_type": "code",
   "execution_count": 27,
   "metadata": {},
   "outputs": [],
   "source": [
    "FROM_FEATURE = jsondata['uri']\n",
    "TO_FEATURE_TYPE = \"https://linked.data.gov.au/def/asgs#LocalGovernmentArea\"\n",
    "TIMESPAN_START = \"2017-09-07\"\n",
    "TIMESPAN_END = \"2020-09-07\""
   ]
  },
  {
   "cell_type": "code",
   "execution_count": 28,
   "metadata": {},
   "outputs": [
    {
     "data": {
      "text/html": [
       "<div><table id=\"5876b77c-1001-43a1-8f3c-6807bf9f55ec\" class=\"display\"><thead>\n",
       "    <tr style=\"text-align: right;\">\n",
       "      \n",
       "      <th>https://linked.data.gov.au/dataset/asgs/commonwealthelectoraldivision/maribyrnong/2017-07</th>\n",
       "    </tr>\n",
       "  </thead></table>\n",
       "<script type=\"text/javascript\">\n",
       "require([\"datatables\"], function (datatables) {\n",
       "    $(document).ready(function () {\n",
       "        var dt_args = {\"columnDefs\": [{\"className\": \"dt-left\", \"targets\": \"_all\"}], \"lengthMenu\": [50, 100, 200, 500], \"paging\": false, \"data\": [[\"https://linked.data.gov.au/dataset/asgs/localgovernmentarea/21180/2017-07\"], [\"https://linked.data.gov.au/dataset/asgs/localgovernmentarea/24330/2017-07\"], [\"https://linked.data.gov.au/dataset/asgs/localgovernmentarea/25060/2017-07\"], [\"https://linked.data.gov.au/dataset/asgs/localgovernmentarea/25250/2017-07\"]]};\n",
       "        dt_args = eval_functions(dt_args);\n",
       "        table = $('#5876b77c-1001-43a1-8f3c-6807bf9f55ec').DataTable(dt_args);\n",
       "    });\n",
       "})\n",
       "</script>\n",
       "</div>\n"
      ],
      "text/plain": [
       "  https://linked.data.gov.au/dataset/asgs/commonwealthelectoraldivision/maribyrnong/2017-07\n",
       "0  https://linked.data.gov.au/dataset/asgs/localg...                                       \n",
       "1  https://linked.data.gov.au/dataset/asgs/localg...                                       \n",
       "2  https://linked.data.gov.au/dataset/asgs/localg...                                       \n",
       "3  https://linked.data.gov.au/dataset/asgs/localg...                                       "
      ]
     },
     "execution_count": 28,
     "metadata": {},
     "output_type": "execute_result"
    }
   ],
   "source": [
    "API_ENDPOINT = \"/temporal/intersects3\"\n",
    "\n",
    "url = TIME_API + API_ENDPOINT\n",
    "payload = {\n",
    "    'uri': FROM_FEATURE,\n",
    "    'fromTime' : TIMESPAN_START,\n",
    "    'toTime' : TIMESPAN_END,\n",
    "    'toFeatureType' : TO_FEATURE_TYPE\n",
    "}\n",
    "r = requests.get(url, params=payload)\n",
    "#print(r.url)\n",
    "jsondata = r.json()\n",
    "mydict = {k: sorted(v) for k, v in jsondata.items()}\n",
    "df = pd.DataFrame (mydict, columns = mydict.keys())\n",
    "df"
   ]
  },
  {
   "cell_type": "code",
   "execution_count": 29,
   "metadata": {},
   "outputs": [
    {
     "data": {
      "application/vnd.jupyter.widget-view+json": {
       "model_id": "3a34dd62f49a47f787c3e72508e0aefc",
       "version_major": 2,
       "version_minor": 0
      },
      "text/plain": [
       "  0%|          | 0/4 [00:00<?, ?it/s]"
      ]
     },
     "metadata": {},
     "output_type": "display_data"
    },
    {
     "data": {
      "application/vnd.jupyter.widget-view+json": {
       "model_id": "b4d9cf02cf384a4bb1d52618d0e455f2",
       "version_major": 2,
       "version_minor": 0
      },
      "text/plain": [
       "Map(center=[-37.7533330724475, 144.86146427671474], controls=(ZoomControl(options=['position', 'zoom_in_text',…"
      ]
     },
     "metadata": {},
     "output_type": "display_data"
    }
   ],
   "source": [
    "from_feature_geom = get_geom(FROM_FEATURE)\n",
    "g= shape(from_feature_geom)\n",
    "x_coord_2020 = g.centroid.coords[0][1]\n",
    "y_coord_2020 = g.centroid.coords[0][0]\n",
    "\n",
    "map5 = ipy.Map(center=[x_coord_2020, y_coord_2020], zoom=10)\n",
    "label = ipyw.Label(layout=ipyw.Layout(width='100%'))\n",
    "\n",
    "source_geojson = GeoJSON(data=from_feature_geom, style = {\n",
    "              'color': 'red', 'opacity':1, 'weight':1.9, 'fillOpacity':0.1})\n",
    "map5.add_layer(source_geojson)\n",
    "\n",
    "count = 0\n",
    "for k in jsondata:\n",
    "    count = count + len(jsondata[k])\n",
    "\n",
    "with tqdm(total=count) as pbar:\n",
    "    for key in jsondata:\n",
    "        for uri in jsondata[key]:\n",
    "            #print(uri)\n",
    "            geojson_data = get_geom(uri)\n",
    "            geo_json1 = GeoJSON(data=geojson_data, style = {\n",
    "                'stroke': True, 'color': 'black', 'opacity': 0.3, 'weight':1, \n",
    "                'fillColor': 'green', 'fillOpacity':0.2})\n",
    "            map5.add_layer(geo_json1)\n",
    "            pbar.update(1)\n",
    "map5"
   ]
  },
  {
   "cell_type": "markdown",
   "metadata": {},
   "source": [
    "### Now do the reverse\n",
    "\n",
    "Example: For a starting feature of LGA 27260, return identifiers for the target features, ASGS Non-ABS CEDs, that intersected the source LGA, on 7 September 2017 and 7 September 2020 (there was an election in 2019, so CEDs were changed in 2018)."
   ]
  },
  {
   "cell_type": "code",
   "execution_count": 30,
   "metadata": {},
   "outputs": [
    {
     "data": {
      "text/plain": [
       "{'uri': 'https://linked.data.gov.au/dataset/asgs/localgovernmentarea/25060/2019-07',\n",
       " 'feature_type': 'https://linked.data.gov.au/def/asgs#LocalGovernmentArea',\n",
       " 'valid_from': '2019-07-01',\n",
       " 'valid_to': '2020-05-31',\n",
       " 'code': '25060',\n",
       " 'name': 'Moonee Valley (C)',\n",
       " 'lga_code16': '25060',\n",
       " 'lga_name16': 'Moonee Valley (C)',\n",
       " 'ste_code16': '2',\n",
       " 'ste_name16': 'Victoria',\n",
       " 'areasqkm16': '43.1386'}"
      ]
     },
     "execution_count": 30,
     "metadata": {},
     "output_type": "execute_result"
    }
   ],
   "source": [
    "LGA_URI = \"https://linked.data.gov.au/dataset/asgs/localgovernmentarea/25060\"\n",
    "TIME_VARIABLE = \"2020-01-01\"\n",
    "API_ENDPOINT = \"/temporal/feature\"\n",
    "\n",
    "url = TIME_API + API_ENDPOINT\n",
    "payload = {\n",
    "    'uri': LGA_URI,\n",
    "    'time' : TIME_VARIABLE\n",
    "}\n",
    "r = requests.get(url, params=payload)\n",
    "jsondata = r.json()\n",
    "jsondata"
   ]
  },
  {
   "cell_type": "code",
   "execution_count": 31,
   "metadata": {},
   "outputs": [],
   "source": [
    "FROM_FEATURE = jsondata['uri']\n",
    "TO_FEATURE_TYPE = \"https://linked.data.gov.au/def/asgs#CommonwealthElectoralDivision\"\n",
    "TIMESPAN_START = \"2017-09-07\"\n",
    "TIMESPAN_END = \"2020-09-07\""
   ]
  },
  {
   "cell_type": "code",
   "execution_count": 32,
   "metadata": {},
   "outputs": [
    {
     "data": {
      "text/html": [
       "<div><table id=\"72d885a4-41d5-4b63-8d1e-64a15f46360d\" class=\"display\"><thead>\n",
       "    <tr style=\"text-align: right;\">\n",
       "      \n",
       "      <th>https://linked.data.gov.au/dataset/asgs/localgovernmentarea/25060/2019-07</th>\n",
       "    </tr>\n",
       "  </thead></table>\n",
       "<script type=\"text/javascript\">\n",
       "require([\"datatables\"], function (datatables) {\n",
       "    $(document).ready(function () {\n",
       "        var dt_args = {\"columnDefs\": [{\"className\": \"dt-left\", \"targets\": \"_all\"}], \"lengthMenu\": [50, 100, 200, 500], \"paging\": false, \"data\": [[\"https://linked.data.gov.au/dataset/asgs/commonwealthelectoraldivision/calwell\"], [\"https://linked.data.gov.au/dataset/asgs/commonwealthelectoraldivision/calwell/2018-07\"], [\"https://linked.data.gov.au/dataset/asgs/commonwealthelectoraldivision/fraser\"], [\"https://linked.data.gov.au/dataset/asgs/commonwealthelectoraldivision/fraser/2018-07\"], [\"https://linked.data.gov.au/dataset/asgs/commonwealthelectoraldivision/maribyrnong\"], [\"https://linked.data.gov.au/dataset/asgs/commonwealthelectoraldivision/maribyrnong/2018-07\"], [\"https://linked.data.gov.au/dataset/asgs/commonwealthelectoraldivision/melbourne\"], [\"https://linked.data.gov.au/dataset/asgs/commonwealthelectoraldivision/melbourne/2018-07\"], [\"https://linked.data.gov.au/dataset/asgs/commonwealthelectoraldivision/wills\"], [\"https://linked.data.gov.au/dataset/asgs/commonwealthelectoraldivision/wills/2018-07\"]]};\n",
       "        dt_args = eval_functions(dt_args);\n",
       "        table = $('#72d885a4-41d5-4b63-8d1e-64a15f46360d').DataTable(dt_args);\n",
       "    });\n",
       "})\n",
       "</script>\n",
       "</div>\n"
      ],
      "text/plain": [
       "  https://linked.data.gov.au/dataset/asgs/localgovernmentarea/25060/2019-07\n",
       "0  https://linked.data.gov.au/dataset/asgs/common...                       \n",
       "1  https://linked.data.gov.au/dataset/asgs/common...                       \n",
       "2  https://linked.data.gov.au/dataset/asgs/common...                       \n",
       "3  https://linked.data.gov.au/dataset/asgs/common...                       \n",
       "4  https://linked.data.gov.au/dataset/asgs/common...                       \n",
       "5  https://linked.data.gov.au/dataset/asgs/common...                       \n",
       "6  https://linked.data.gov.au/dataset/asgs/common...                       \n",
       "7  https://linked.data.gov.au/dataset/asgs/common...                       \n",
       "8  https://linked.data.gov.au/dataset/asgs/common...                       \n",
       "9  https://linked.data.gov.au/dataset/asgs/common...                       "
      ]
     },
     "execution_count": 32,
     "metadata": {},
     "output_type": "execute_result"
    }
   ],
   "source": [
    "API_ENDPOINT = \"/temporal/intersects3\"\n",
    "\n",
    "url = TIME_API + API_ENDPOINT\n",
    "payload = {\n",
    "    'uri': FROM_FEATURE,\n",
    "    'fromTime' : TIMESPAN_START,\n",
    "    'toTime' : TIMESPAN_END,\n",
    "    'toFeatureType' : TO_FEATURE_TYPE\n",
    "}\n",
    "r = requests.get(url, params=payload)\n",
    "#print(r.url)\n",
    "jsondata = r.json()\n",
    "mydict = {k: sorted(v) for k, v in jsondata.items()}\n",
    "df = pd.DataFrame (mydict, columns = mydict.keys())\n",
    "df"
   ]
  },
  {
   "cell_type": "code",
   "execution_count": 33,
   "metadata": {},
   "outputs": [
    {
     "data": {
      "text/plain": [
       "{'https://linked.data.gov.au/dataset/asgs/localgovernmentarea/25060/2019-07': ['https://linked.data.gov.au/dataset/asgs/commonwealthelectoraldivision/calwell/2018-07',\n",
       "  'https://linked.data.gov.au/dataset/asgs/commonwealthelectoraldivision/fraser/2018-07',\n",
       "  'https://linked.data.gov.au/dataset/asgs/commonwealthelectoraldivision/maribyrnong/2018-07',\n",
       "  'https://linked.data.gov.au/dataset/asgs/commonwealthelectoraldivision/melbourne/2018-07',\n",
       "  'https://linked.data.gov.au/dataset/asgs/commonwealthelectoraldivision/wills/2018-07',\n",
       "  'https://linked.data.gov.au/dataset/asgs/commonwealthelectoraldivision/calwell',\n",
       "  'https://linked.data.gov.au/dataset/asgs/commonwealthelectoraldivision/maribyrnong',\n",
       "  'https://linked.data.gov.au/dataset/asgs/commonwealthelectoraldivision/melbourne',\n",
       "  'https://linked.data.gov.au/dataset/asgs/commonwealthelectoraldivision/wills',\n",
       "  'https://linked.data.gov.au/dataset/asgs/commonwealthelectoraldivision/fraser']}"
      ]
     },
     "execution_count": 33,
     "metadata": {},
     "output_type": "execute_result"
    }
   ],
   "source": [
    "jsondata"
   ]
  },
  {
   "cell_type": "code",
   "execution_count": 34,
   "metadata": {},
   "outputs": [
    {
     "data": {
      "application/vnd.jupyter.widget-view+json": {
       "model_id": "fc81b66694454eecb11a4b429c38fd09",
       "version_major": 2,
       "version_minor": 0
      },
      "text/plain": [
       "  0%|          | 0/10 [00:00<?, ?it/s]"
      ]
     },
     "metadata": {},
     "output_type": "display_data"
    },
    {
     "data": {
      "application/vnd.jupyter.widget-view+json": {
       "model_id": "8840d5f0254b473f82c87dcaa5d6fd9e",
       "version_major": 2,
       "version_minor": 0
      },
      "text/plain": [
       "Map(center=[-37.749499924536416, 144.89576166688516], controls=(ZoomControl(options=['position', 'zoom_in_text…"
      ]
     },
     "metadata": {},
     "output_type": "display_data"
    }
   ],
   "source": [
    "from_feature_geom = get_geom(FROM_FEATURE)\n",
    "g= shape(from_feature_geom)\n",
    "x_coord_2020 = g.centroid.coords[0][1]\n",
    "y_coord_2020 = g.centroid.coords[0][0]\n",
    "\n",
    "map6 = ipy.Map(center=[x_coord_2020, y_coord_2020], zoom=10)\n",
    "label = ipyw.Label(layout=ipyw.Layout(width='100%'))\n",
    "\n",
    "source_geojson = GeoJSON(data=from_feature_geom, style = {\n",
    "              'color': 'red', 'opacity':1, 'weight':1.9, 'fillOpacity':0.1})\n",
    "map6.add_layer(source_geojson)\n",
    "\n",
    "count = 0\n",
    "for k in jsondata:\n",
    "    count = count + len(jsondata[k])\n",
    "\n",
    "with tqdm(total=count) as pbar:\n",
    "    for key in jsondata:\n",
    "        for uri in jsondata[key]:\n",
    "            #print(uri)\n",
    "            geojson_data = get_geom(uri)\n",
    "            geo_json1 = GeoJSON(data=geojson_data, style = {\n",
    "                'stroke': True, 'color': 'black', 'opacity': 0.3, 'weight':1, \n",
    "                'fillColor': 'green', 'fillOpacity':0.2})\n",
    "            map6.add_layer(geo_json1)\n",
    "            pbar.update(1)\n",
    "map6"
   ]
  }
 ],
 "metadata": {
  "hide_input": true,
  "kernelspec": {
   "display_name": "Python 3",
   "language": "python",
   "name": "python3"
  },
  "language_info": {
   "codemirror_mode": {
    "name": "ipython",
    "version": 3
   },
   "file_extension": ".py",
   "mimetype": "text/x-python",
   "name": "python",
   "nbconvert_exporter": "python",
   "pygments_lexer": "ipython3",
   "version": "3.8.8"
  }
 },
 "nbformat": 4,
 "nbformat_minor": 4
}
