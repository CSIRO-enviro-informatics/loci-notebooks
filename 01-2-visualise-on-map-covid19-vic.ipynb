{
 "cells": [
  {
   "cell_type": "code",
   "execution_count": 1,
   "metadata": {
    "hide_input": true
   },
   "outputs": [],
   "source": [
    "!pip install --quiet git+https://github.com/CSIRO-enviro-informatics/loci-scripts.git@master\n",
    "!pip install --quiet numpy pandas\n",
    "!pip install --quiet seaborn"
   ]
  },
  {
   "cell_type": "markdown",
   "metadata": {},
   "source": [
    "# Visualise LGA Data - Example DHHS Vic Covid-19\n",
    "\n",
    "This notebook show how to visualise tabular data location coded to LGA on a map using Loc-I APIs."
   ]
  },
  {
   "cell_type": "code",
   "execution_count": 2,
   "metadata": {
    "hide_input": false
   },
   "outputs": [
    {
     "data": {
      "text/html": [
       "<div>\n",
       "<style scoped>\n",
       "    .dataframe tbody tr th:only-of-type {\n",
       "        vertical-align: middle;\n",
       "    }\n",
       "\n",
       "    .dataframe tbody tr th {\n",
       "        vertical-align: top;\n",
       "    }\n",
       "\n",
       "    .dataframe thead th {\n",
       "        text-align: right;\n",
       "    }\n",
       "</style>\n",
       "<table border=\"1\" class=\"dataframe\">\n",
       "  <thead>\n",
       "    <tr style=\"text-align: right;\">\n",
       "      <th></th>\n",
       "      <th>LGA</th>\n",
       "      <th>Active cases (current)</th>\n",
       "      <th>LGA_ID</th>\n",
       "      <th>LGA_URI</th>\n",
       "    </tr>\n",
       "  </thead>\n",
       "  <tbody>\n",
       "    <tr>\n",
       "      <th>0</th>\n",
       "      <td>Alpine</td>\n",
       "      <td>1</td>\n",
       "      <td>20110</td>\n",
       "      <td>http://linked.data.gov.au/dataset/asgs2016/loc...</td>\n",
       "    </tr>\n",
       "    <tr>\n",
       "      <th>1</th>\n",
       "      <td>Ararat</td>\n",
       "      <td>5</td>\n",
       "      <td>20260</td>\n",
       "      <td>http://linked.data.gov.au/dataset/asgs2016/loc...</td>\n",
       "    </tr>\n",
       "    <tr>\n",
       "      <th>2</th>\n",
       "      <td>Ballarat</td>\n",
       "      <td>23</td>\n",
       "      <td>20570</td>\n",
       "      <td>http://linked.data.gov.au/dataset/asgs2016/loc...</td>\n",
       "    </tr>\n",
       "    <tr>\n",
       "      <th>3</th>\n",
       "      <td>Banyule</td>\n",
       "      <td>265</td>\n",
       "      <td>20660</td>\n",
       "      <td>http://linked.data.gov.au/dataset/asgs2016/loc...</td>\n",
       "    </tr>\n",
       "    <tr>\n",
       "      <th>4</th>\n",
       "      <td>Bass Coast</td>\n",
       "      <td>6</td>\n",
       "      <td>20740</td>\n",
       "      <td>http://linked.data.gov.au/dataset/asgs2016/loc...</td>\n",
       "    </tr>\n",
       "    <tr>\n",
       "      <th>...</th>\n",
       "      <td>...</td>\n",
       "      <td>...</td>\n",
       "      <td>...</td>\n",
       "      <td>...</td>\n",
       "    </tr>\n",
       "    <tr>\n",
       "      <th>74</th>\n",
       "      <td>Wodonga</td>\n",
       "      <td>1</td>\n",
       "      <td>27170</td>\n",
       "      <td>http://linked.data.gov.au/dataset/asgs2016/loc...</td>\n",
       "    </tr>\n",
       "    <tr>\n",
       "      <th>75</th>\n",
       "      <td>Wyndham</td>\n",
       "      <td>694</td>\n",
       "      <td>27260</td>\n",
       "      <td>http://linked.data.gov.au/dataset/asgs2016/loc...</td>\n",
       "    </tr>\n",
       "    <tr>\n",
       "      <th>76</th>\n",
       "      <td>Yarra</td>\n",
       "      <td>205</td>\n",
       "      <td>27350</td>\n",
       "      <td>http://linked.data.gov.au/dataset/asgs2016/loc...</td>\n",
       "    </tr>\n",
       "    <tr>\n",
       "      <th>77</th>\n",
       "      <td>Yarra Ranges</td>\n",
       "      <td>46</td>\n",
       "      <td>27450</td>\n",
       "      <td>http://linked.data.gov.au/dataset/asgs2016/loc...</td>\n",
       "    </tr>\n",
       "    <tr>\n",
       "      <th>78</th>\n",
       "      <td>Yarriambiack</td>\n",
       "      <td>1</td>\n",
       "      <td>27630</td>\n",
       "      <td>http://linked.data.gov.au/dataset/asgs2016/loc...</td>\n",
       "    </tr>\n",
       "  </tbody>\n",
       "</table>\n",
       "<p>79 rows × 4 columns</p>\n",
       "</div>"
      ],
      "text/plain": [
       "             LGA  Active cases (current)  LGA_ID  \\\n",
       "0         Alpine                       1   20110   \n",
       "1         Ararat                       5   20260   \n",
       "2       Ballarat                      23   20570   \n",
       "3        Banyule                     265   20660   \n",
       "4     Bass Coast                       6   20740   \n",
       "..           ...                     ...     ...   \n",
       "74       Wodonga                       1   27170   \n",
       "75       Wyndham                     694   27260   \n",
       "76         Yarra                     205   27350   \n",
       "77  Yarra Ranges                      46   27450   \n",
       "78  Yarriambiack                       1   27630   \n",
       "\n",
       "                                              LGA_URI  \n",
       "0   http://linked.data.gov.au/dataset/asgs2016/loc...  \n",
       "1   http://linked.data.gov.au/dataset/asgs2016/loc...  \n",
       "2   http://linked.data.gov.au/dataset/asgs2016/loc...  \n",
       "3   http://linked.data.gov.au/dataset/asgs2016/loc...  \n",
       "4   http://linked.data.gov.au/dataset/asgs2016/loc...  \n",
       "..                                                ...  \n",
       "74  http://linked.data.gov.au/dataset/asgs2016/loc...  \n",
       "75  http://linked.data.gov.au/dataset/asgs2016/loc...  \n",
       "76  http://linked.data.gov.au/dataset/asgs2016/loc...  \n",
       "77  http://linked.data.gov.au/dataset/asgs2016/loc...  \n",
       "78  http://linked.data.gov.au/dataset/asgs2016/loc...  \n",
       "\n",
       "[79 rows x 4 columns]"
      ]
     },
     "execution_count": 2,
     "metadata": {},
     "output_type": "execute_result"
    }
   ],
   "source": [
    "import numpy as np\n",
    "import pandas as pd\n",
    "df = pd.read_csv('vic_covid_20200723.csv', delimiter = ',')\n",
    "#show the csv file read in\n",
    "df"
   ]
  },
  {
   "cell_type": "markdown",
   "metadata": {
    "hide_input": false
   },
   "source": [
    "### Visualise LGA data"
   ]
  },
  {
   "cell_type": "code",
   "execution_count": 3,
   "metadata": {
    "hide_input": false
   },
   "outputs": [],
   "source": [
    "#visualise LGA \n",
    "import json\n",
    "import requests\n",
    "def get_geom(loci_uri):\n",
    "    payload = {\n",
    "        \"uri\": loci_uri\n",
    "    }\n",
    "    url = \"https://api.loci.cat/api/v1/location/geometry\"\n",
    "    r = requests.get(url, params=payload)\n",
    "    res = r.json()\n",
    "    #get the first geom result\n",
    "    geojson_data = []\n",
    "    return_code = [-1, '']\n",
    "    if len( res['geometry']) > 0:\n",
    "        geojson_data = res['geometry'][0]\n",
    "        return_code = [0, '']\n",
    "    if 'meta' in res and 'geom_response_errors' in res['meta']:\n",
    "        err_message = res['meta']['geom_response_errors']\n",
    "        return_code = [1, err_message]        \n",
    "    return (return_code, geojson_data)"
   ]
  },
  {
   "cell_type": "code",
   "execution_count": 4,
   "metadata": {
    "hide_input": false
   },
   "outputs": [],
   "source": [
    "import seaborn as sns\n",
    "from ipywidgets import Text, HTML\n",
    "from ipyleaflet import (WidgetControl)\n",
    "import math\n",
    "target_col = \"Active cases (current)\"\n",
    "palette = sns.light_palette(\"navy\", 6, reverse=False)\n",
    "hexpal = palette.as_hex()\n",
    "#df['quantiles'] = pd.qcut(df[target_col], q=5,  duplicates=\"drop\")\n",
    "df['categories'] = pd.cut(df[target_col], [0,1,10,100,200,300,500])\n",
    "df['hex'] = pd.cut(df[target_col], [0,1,10,100,200,300,500],labels=hexpal)"
   ]
  },
  {
   "cell_type": "code",
   "execution_count": 5,
   "metadata": {},
   "outputs": [],
   "source": [
    "geom_idx = {}"
   ]
  },
  {
   "cell_type": "code",
   "execution_count": 6,
   "metadata": {
    "hide_input": false
   },
   "outputs": [],
   "source": [
    "import ipyleaflet as ipy \n",
    "import ipywidgets as ipyw\n",
    "from ipyleaflet import GeoJSON, Map, Marker, WidgetControl\n",
    "from ipywidgets import Text, HTML\n",
    "\n",
    "\n",
    "x_coord = -37.8136\n",
    "y_coord = 144.9631\n",
    "\n",
    "map1 = ipy.Map(center=[x_coord, y_coord], zoom=9)\n",
    "label = ipyw.Label(layout=ipyw.Layout(width='100%'))\n",
    "\n",
    "html = HTML('''Hover over a region''')\n",
    "html.layout.margin = '0px 20px 20px 20px'\n",
    "control = WidgetControl(widget=html, position='topright')\n",
    "map1.add_control(control)\n",
    "\n",
    "def update_html(feature, **kwargs):\n",
    "     html.value = '''\n",
    "     <h4>LGA code: {}</h4>\n",
    "     <h4>LGA name: {}</h4>\n",
    "     <h4>No. Cases: {}</h4>\n",
    "      '''.format(feature['id'], feature['label'], math.floor(feature['num_cases']))\n",
    "\n",
    "res_df_cols = {\n",
    "    \"LGA\" : [],\n",
    "    \"SA2\" : [],\n",
    "    \"percent_overlap\": [],\n",
    "    target_col: [],\n",
    "    \"reapportioned_data\": [],\n",
    "}\n",
    "for index, row in df.iterrows():\n",
    "    fromFeature = row['LGA_URI']\n",
    "    lgaName = row['LGA']\n",
    "    if fromFeature == None or fromFeature == '':\n",
    "        continue\n",
    "    value  = row[target_col]\n",
    "    thegeom = {}\n",
    "    if fromFeature in geom_idx:\n",
    "        thegeom = geom_idx[fromFeature]\n",
    "    else:\n",
    "        (return_code, geojson_data) = get_geom(fromFeature)\n",
    "        if(return_code[0] != 0):\n",
    "            print(\"Error in fetching {}. Error message: {}\".format(fromFeature, return_code[1]))\n",
    "            continue\n",
    "        else:\n",
    "            geom_idx[fromFeature] = geojson_data\n",
    "            thegeom = geojson_data        \n",
    "    thegeom['num_cases'] = value\n",
    "    thegeom['label'] = lgaName\n",
    "    color = row['hex']\n",
    "    if row['hex'] == None or row['hex'] == 'NaN' or str(row['hex']) == 'nan':\n",
    "        color = \"#FFFFFF\"\n",
    "    if value > 0:\n",
    "        curr_geojson_layer = GeoJSON(data=thegeom, \n",
    "                    style={\n",
    "                          'color': 'black', \n",
    "                          'opacity': 1, \n",
    "                          'weight':1, \n",
    "                          'fillColor': color, \n",
    "                          'fillOpacity': 0.7},\n",
    "                     hover_style={\n",
    "                          'color': 'black', \n",
    "                          'opacity': 1, \n",
    "                          'weight':1, \n",
    "                          'fillColor': color, \n",
    "                          'fillOpacity': 0.9,                    \n",
    "                    })\n",
    "        curr_geojson_layer.on_hover(update_html)\n",
    "        map1.add_layer(curr_geojson_layer)\n",
    "\n",
    "    "
   ]
  },
  {
   "cell_type": "code",
   "execution_count": 7,
   "metadata": {
    "hide_input": false,
    "scrolled": true
   },
   "outputs": [
    {
     "data": {
      "application/vnd.jupyter.widget-view+json": {
       "model_id": "119214bccea14cd79278c34d5cc80b48",
       "version_major": 2,
       "version_minor": 0
      },
      "text/plain": [
       "Map(center=[-37.8136, 144.9631], controls=(ZoomControl(options=['position', 'zoom_in_text', 'zoom_in_title', '…"
      ]
     },
     "metadata": {},
     "output_type": "display_data"
    }
   ],
   "source": [
    "map1"
   ]
  },
  {
   "cell_type": "code",
   "execution_count": null,
   "metadata": {},
   "outputs": [],
   "source": []
  },
  {
   "cell_type": "code",
   "execution_count": null,
   "metadata": {
    "hide_input": true
   },
   "outputs": [],
   "source": []
  }
 ],
 "metadata": {
  "kernelspec": {
   "display_name": "Python 3",
   "language": "python",
   "name": "python3"
  },
  "language_info": {
   "codemirror_mode": {
    "name": "ipython",
    "version": 3
   },
   "file_extension": ".py",
   "mimetype": "text/x-python",
   "name": "python",
   "nbconvert_exporter": "python",
   "pygments_lexer": "ipython3",
   "version": "3.8.3"
  }
 },
 "nbformat": 4,
 "nbformat_minor": 4
}
