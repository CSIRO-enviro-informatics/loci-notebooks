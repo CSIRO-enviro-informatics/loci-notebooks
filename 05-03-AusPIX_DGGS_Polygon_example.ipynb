{
 "cells": [
  {
   "cell_type": "code",
   "execution_count": 1,
   "metadata": {},
   "outputs": [
    {
     "name": "stdout",
     "output_type": "stream",
     "text": [
      "Collecting git+https://github.com/CSIRO-enviro-informatics/AusPIX_DGGS.git@geojson\n",
      "  Cloning https://github.com/CSIRO-enviro-informatics/AusPIX_DGGS.git (to revision geojson) to /tmp/pip-req-build-97_3mk0y\n",
      "  Running command git clone -q https://github.com/CSIRO-enviro-informatics/AusPIX_DGGS.git /tmp/pip-req-build-97_3mk0y\n",
      "  Running command git checkout -b geojson --track origin/geojson\n",
      "  Switched to a new branch 'geojson'\n",
      "  Branch 'geojson' set up to track remote branch 'geojson' from 'origin'.\n",
      "Requirement already satisfied (use --upgrade to upgrade): auspixdggs==1.0.0 from git+https://github.com/CSIRO-enviro-informatics/AusPIX_DGGS.git@geojson in /opt/conda/lib/python3.7/site-packages\n",
      "Requirement already satisfied: numpy in /opt/conda/lib/python3.7/site-packages (from auspixdggs==1.0.0) (1.18.4)\n",
      "Requirement already satisfied: pyproj in /opt/conda/lib/python3.7/site-packages (from auspixdggs==1.0.0) (2.6.1.post1)\n",
      "Requirement already satisfied: scipy in /opt/conda/lib/python3.7/site-packages (from auspixdggs==1.0.0) (1.4.1)\n",
      "Requirement already satisfied: shapely in /opt/conda/lib/python3.7/site-packages (from auspixdggs==1.0.0) (1.7.0)\n",
      "Requirement already satisfied: pyshp in /opt/conda/lib/python3.7/site-packages (from auspixdggs==1.0.0) (2.1.0)\n",
      "Building wheels for collected packages: auspixdggs\n",
      "  Building wheel for auspixdggs (setup.py) ... \u001b[?25ldone\n",
      "\u001b[?25h  Created wheel for auspixdggs: filename=auspixdggs-1.0.0-py3-none-any.whl size=66542 sha256=08ea55dcd1a74f68e93c8197567047e6058e3178dac2a80a6b61db6e78198715\n",
      "  Stored in directory: /tmp/pip-ephem-wheel-cache-xtirlbpk/wheels/fb/47/2e/b372479b10426ba7a860a2db22819a2237f731c183a9383fba\n",
      "Successfully built auspixdggs\n"
     ]
    }
   ],
   "source": [
    "!pip install git+https://github.com/CSIRO-enviro-informatics/AusPIX_DGGS.git@geojson    "
   ]
  },
  {
   "cell_type": "code",
   "execution_count": 2,
   "metadata": {},
   "outputs": [
    {
     "name": "stdout",
     "output_type": "stream",
     "text": [
      "Requirement already satisfied: geojson in /opt/conda/lib/python3.7/site-packages (2.5.0)\n",
      "Requirement already satisfied: shapely in /opt/conda/lib/python3.7/site-packages (1.7.0)\n",
      "Requirement already satisfied: pygeoj in /opt/conda/lib/python3.7/site-packages (1.0.0)\n",
      "Requirement already satisfied: matplotlib in /opt/conda/lib/python3.7/site-packages (3.2.1)\n",
      "Requirement already satisfied: pyparsing!=2.0.4,!=2.1.2,!=2.1.6,>=2.0.1 in /opt/conda/lib/python3.7/site-packages (from matplotlib) (2.4.7)\n",
      "Requirement already satisfied: python-dateutil>=2.1 in /opt/conda/lib/python3.7/site-packages (from matplotlib) (2.8.1)\n",
      "Requirement already satisfied: kiwisolver>=1.0.1 in /opt/conda/lib/python3.7/site-packages (from matplotlib) (1.2.0)\n",
      "Requirement already satisfied: numpy>=1.11 in /opt/conda/lib/python3.7/site-packages (from matplotlib) (1.18.4)\n",
      "Requirement already satisfied: cycler>=0.10 in /opt/conda/lib/python3.7/site-packages (from matplotlib) (0.10.0)\n",
      "Requirement already satisfied: six>=1.5 in /opt/conda/lib/python3.7/site-packages (from python-dateutil>=2.1->matplotlib) (1.14.0)\n"
     ]
    }
   ],
   "source": [
    "!pip install geojson shapely pygeoj matplotlib"
   ]
  },
  {
   "cell_type": "code",
   "execution_count": 3,
   "metadata": {},
   "outputs": [],
   "source": [
    "import geojson\n",
    "fname = \"ACT_SA1_Black_Mountain.geojson\"\n",
    "geojson_data = None\n",
    "with open(fname) as json_file:\n",
    "    geojson_data = geojson.load(json_file)\n",
    "    "
   ]
  },
  {
   "cell_type": "code",
   "execution_count": 4,
   "metadata": {},
   "outputs": [
    {
     "data": {
      "application/vnd.jupyter.widget-view+json": {
       "model_id": "8bb9519f344348e399482f4921486303",
       "version_major": 2,
       "version_minor": 0
      },
      "text/plain": [
       "Map(center=[-35.282, 149.09], controls=(ZoomControl(options=['position', 'zoom_in_text', 'zoom_in_title', 'zoo…"
      ]
     },
     "metadata": {},
     "output_type": "display_data"
    }
   ],
   "source": [
    "#draw the geometry for the feature on a map\n",
    "import ipyleaflet as ipy \n",
    "import ipywidgets as ipyw\n",
    "from ipyleaflet import GeoJSON, Map, Marker\n",
    "\n",
    "x_coord = -35.282\n",
    "y_coord = 149.09\n",
    "\n",
    "map1 = ipy.Map(center=[x_coord, y_coord], zoom=13)\n",
    "label = ipyw.Label(layout=ipyw.Layout(width='100%'))\n",
    "\n",
    "geo_json1 = GeoJSON(data=geojson_data, style = {'color': 'blue', 'opacity':0.8, 'weight':1.9, 'fillOpacity':0.3})\n",
    "map1.add_layer(geo_json1)\n",
    "map1"
   ]
  },
  {
   "cell_type": "code",
   "execution_count": 5,
   "metadata": {},
   "outputs": [
    {
     "name": "stdout",
     "output_type": "stream",
     "text": [
      "auspixengine.pj_rhealpix\n",
      "auspixengine.pj_rhealpix\n",
      "auspixengine.pj_rhealpix\n",
      "auspixengine.pj_rhealpix\n",
      "auspixengine.pj_rhealpix\n",
      "auspixengine.pj_rhealpix\n",
      "auspixengine.pj_rhealpix\n",
      "auspixengine.pj_rhealpix\n",
      "auspixengine.pj_rhealpix\n",
      "auspixengine.pj_rhealpix\n",
      "auspixengine.pj_rhealpix\n",
      "auspixengine.pj_rhealpix\n",
      "auspixengine.pj_rhealpix\n",
      "auspixengine.pj_rhealpix\n",
      "auspixengine.pj_rhealpix\n",
      "auspixengine.pj_rhealpix\n",
      "auspixengine.pj_rhealpix\n",
      "auspixengine.pj_rhealpix\n",
      "auspixengine.pj_rhealpix\n",
      "auspixengine.pj_rhealpix\n",
      "auspixengine.pj_rhealpix\n",
      "auspixengine.pj_rhealpix\n",
      "auspixengine.pj_rhealpix\n",
      "auspixengine.pj_rhealpix\n",
      "auspixengine.pj_rhealpix\n",
      "auspixengine.pj_rhealpix\n",
      "auspixengine.pj_rhealpix\n",
      "auspixengine.pj_rhealpix\n",
      "\n",
      "num cells in bb =  812\n",
      "total vertex in this poly 515\n",
      "number of edges 514\n",
      "[[<auspixdggs.auspixengine.dggs.Cell object at 0x7f76594e8350>, 149.08931565310164, -35.258169606995914], [<auspixdggs.auspixengine.dggs.Cell object at 0x7f76594e8390>, 149.09083981100443, -35.258169606995914], [<auspixdggs.auspixengine.dggs.Cell object at 0x7f76594e8a90>, 149.08779149519887, -35.25975401460269], [<auspixdggs.auspixengine.dggs.Cell object at 0x7f76594e8ad0>, 149.08931565310164, -35.25975401460269], [<auspixdggs.auspixengine.dggs.Cell object at 0x7f76594e8b10>, 149.09083981100443, -35.25975401460269], [<auspixdggs.auspixengine.dggs.Cell object at 0x7f76594e8b50>, 149.09236396890716, -35.25975401460269], [<auspixdggs.auspixengine.dggs.Cell object at 0x7f76594e8b90>, 149.0938881268099, -35.25975401460269], [<auspixdggs.auspixengine.dggs.Cell object at 0x7f76594f21d0>, 149.08779149519887, -35.261338452909435], [<auspixdggs.auspixengine.dggs.Cell object at 0x7f76594f2210>, 149.08931565310164, -35.261338452909435], [<auspixdggs.auspixengine.dggs.Cell object at 0x7f76594f2250>, 149.09083981100443, -35.261338452909435], [<auspixdggs.auspixengine.dggs.Cell object at 0x7f76594f2290>, 149.09236396890716, -35.261338452909435], [<auspixdggs.auspixengine.dggs.Cell object at 0x7f76594f22d0>, 149.0938881268099, -35.261338452909435], [<auspixdggs.auspixengine.dggs.Cell object at 0x7f76594f2310>, 149.0954122847127, -35.261338452909435], [<auspixdggs.auspixengine.dggs.Cell object at 0x7f76594f2350>, 149.09693644261543, -35.261338452909435], [<auspixdggs.auspixengine.dggs.Cell object at 0x7f76594f2390>, 149.0984606005182, -35.261338452909435], [<auspixdggs.auspixengine.dggs.Cell object at 0x7f76594f23d0>, 149.099984758421, -35.261338452909435], [<auspixdggs.auspixengine.dggs.Cell object at 0x7f76594f2410>, 149.10150891632372, -35.261338452909435], [<auspixdggs.auspixengine.dggs.Cell object at 0x7f76594f2450>, 149.1030330742265, -35.261338452909435], [<auspixdggs.auspixengine.dggs.Cell object at 0x7f76594f2490>, 149.10455723212922, -35.261338452909435], [<auspixdggs.auspixengine.dggs.Cell object at 0x7f76594f24d0>, 149.106081390032, -35.261338452909435], [<auspixdggs.auspixengine.dggs.Cell object at 0x7f76594f2510>, 149.10760554793475, -35.261338452909435], [<auspixdggs.auspixengine.dggs.Cell object at 0x7f76594f2550>, 149.1091297058375, -35.261338452909435], [<auspixdggs.auspixengine.dggs.Cell object at 0x7f76594f2910>, 149.08626733729614, -35.26292292191915], [<auspixdggs.auspixengine.dggs.Cell object at 0x7f76594f2950>, 149.08779149519887, -35.26292292191915], [<auspixdggs.auspixengine.dggs.Cell object at 0x7f76594f2990>, 149.08931565310164, -35.26292292191915], [<auspixdggs.auspixengine.dggs.Cell object at 0x7f76594f29d0>, 149.09083981100443, -35.26292292191915], [<auspixdggs.auspixengine.dggs.Cell object at 0x7f76594f2a10>, 149.09236396890716, -35.26292292191915], [<auspixdggs.auspixengine.dggs.Cell object at 0x7f76594f2a50>, 149.0938881268099, -35.26292292191915], [<auspixdggs.auspixengine.dggs.Cell object at 0x7f76594f2a90>, 149.0954122847127, -35.26292292191915], [<auspixdggs.auspixengine.dggs.Cell object at 0x7f76594f2ad0>, 149.09693644261543, -35.26292292191915], [<auspixdggs.auspixengine.dggs.Cell object at 0x7f76594f2b10>, 149.0984606005182, -35.26292292191915], [<auspixdggs.auspixengine.dggs.Cell object at 0x7f76594f2b50>, 149.099984758421, -35.26292292191915], [<auspixdggs.auspixengine.dggs.Cell object at 0x7f76594f2b90>, 149.10150891632372, -35.26292292191915], [<auspixdggs.auspixengine.dggs.Cell object at 0x7f76594f2bd0>, 149.1030330742265, -35.26292292191915], [<auspixdggs.auspixengine.dggs.Cell object at 0x7f76594f2c10>, 149.10455723212922, -35.26292292191915], [<auspixdggs.auspixengine.dggs.Cell object at 0x7f76594f2c50>, 149.106081390032, -35.26292292191915], [<auspixdggs.auspixengine.dggs.Cell object at 0x7f76594f2c90>, 149.10760554793475, -35.26292292191915], [<auspixdggs.auspixengine.dggs.Cell object at 0x7f76594f2cd0>, 149.1091297058375, -35.26292292191915], [<auspixdggs.auspixengine.dggs.Cell object at 0x7f76594f2d10>, 149.11065386374025, -35.26292292191915], [<auspixdggs.auspixengine.dggs.Cell object at 0x7f76594f8050>, 149.08626733729614, -35.264507421634846], [<auspixdggs.auspixengine.dggs.Cell object at 0x7f76594f8090>, 149.08779149519887, -35.264507421634846], [<auspixdggs.auspixengine.dggs.Cell object at 0x7f76594f80d0>, 149.08931565310164, -35.264507421634846], [<auspixdggs.auspixengine.dggs.Cell object at 0x7f76594f8110>, 149.09083981100443, -35.264507421634846], [<auspixdggs.auspixengine.dggs.Cell object at 0x7f76594f8150>, 149.09236396890716, -35.264507421634846], [<auspixdggs.auspixengine.dggs.Cell object at 0x7f76594f8190>, 149.0938881268099, -35.264507421634846], [<auspixdggs.auspixengine.dggs.Cell object at 0x7f76594f81d0>, 149.0954122847127, -35.264507421634846], [<auspixdggs.auspixengine.dggs.Cell object at 0x7f76594f8210>, 149.09693644261543, -35.264507421634846], [<auspixdggs.auspixengine.dggs.Cell object at 0x7f76594f8250>, 149.0984606005182, -35.264507421634846], [<auspixdggs.auspixengine.dggs.Cell object at 0x7f76594f8290>, 149.099984758421, -35.264507421634846], [<auspixdggs.auspixengine.dggs.Cell object at 0x7f76594f82d0>, 149.10150891632372, -35.264507421634846], [<auspixdggs.auspixengine.dggs.Cell object at 0x7f76594f8310>, 149.1030330742265, -35.264507421634846], [<auspixdggs.auspixengine.dggs.Cell object at 0x7f76594f8350>, 149.10455723212922, -35.264507421634846], [<auspixdggs.auspixengine.dggs.Cell object at 0x7f76594f8390>, 149.106081390032, -35.264507421634846], [<auspixdggs.auspixengine.dggs.Cell object at 0x7f76594f83d0>, 149.10760554793475, -35.264507421634846], [<auspixdggs.auspixengine.dggs.Cell object at 0x7f76594f8410>, 149.1091297058375, -35.264507421634846], [<auspixdggs.auspixengine.dggs.Cell object at 0x7f76594f8450>, 149.11065386374025, -35.264507421634846], [<auspixdggs.auspixengine.dggs.Cell object at 0x7f76594f8690>, 149.08626733729614, -35.266091952059526], [<auspixdggs.auspixengine.dggs.Cell object at 0x7f76594f86d0>, 149.08779149519887, -35.266091952059526], [<auspixdggs.auspixengine.dggs.Cell object at 0x7f76594f8810>, 149.08931565310164, -35.266091952059526], [<auspixdggs.auspixengine.dggs.Cell object at 0x7f76594f8850>, 149.09083981100443, -35.266091952059526], [<auspixdggs.auspixengine.dggs.Cell object at 0x7f76594f8890>, 149.09236396890716, -35.266091952059526], [<auspixdggs.auspixengine.dggs.Cell object at 0x7f76594f88d0>, 149.0938881268099, -35.266091952059526], [<auspixdggs.auspixengine.dggs.Cell object at 0x7f76594f8910>, 149.0954122847127, -35.266091952059526], [<auspixdggs.auspixengine.dggs.Cell object at 0x7f76594f8950>, 149.09693644261543, -35.266091952059526], [<auspixdggs.auspixengine.dggs.Cell object at 0x7f76594f8990>, 149.0984606005182, -35.266091952059526], [<auspixdggs.auspixengine.dggs.Cell object at 0x7f76594f89d0>, 149.099984758421, -35.266091952059526], [<auspixdggs.auspixengine.dggs.Cell object at 0x7f76594f8a10>, 149.10150891632372, -35.266091952059526], [<auspixdggs.auspixengine.dggs.Cell object at 0x7f76594f8a50>, 149.1030330742265, -35.266091952059526], [<auspixdggs.auspixengine.dggs.Cell object at 0x7f76594f8a90>, 149.10455723212922, -35.266091952059526], [<auspixdggs.auspixengine.dggs.Cell object at 0x7f76594f8ad0>, 149.106081390032, -35.266091952059526], [<auspixdggs.auspixengine.dggs.Cell object at 0x7f76594f8b10>, 149.10760554793475, -35.266091952059526], [<auspixdggs.auspixengine.dggs.Cell object at 0x7f76594f8b50>, 149.1091297058375, -35.266091952059526], [<auspixdggs.auspixengine.dggs.Cell object at 0x7f76594f8e10>, 149.08779149519887, -35.26767651319617], [<auspixdggs.auspixengine.dggs.Cell object at 0x7f76594f8f50>, 149.08931565310164, -35.26767651319617], [<auspixdggs.auspixengine.dggs.Cell object at 0x7f76594f8ed0>, 149.09083981100443, -35.26767651319617], [<auspixdggs.auspixengine.dggs.Cell object at 0x7f76594fc050>, 149.09236396890716, -35.26767651319617], [<auspixdggs.auspixengine.dggs.Cell object at 0x7f76594fc090>, 149.0938881268099, -35.26767651319617], [<auspixdggs.auspixengine.dggs.Cell object at 0x7f76594fc0d0>, 149.0954122847127, -35.26767651319617], [<auspixdggs.auspixengine.dggs.Cell object at 0x7f76594fc110>, 149.09693644261543, -35.26767651319617], [<auspixdggs.auspixengine.dggs.Cell object at 0x7f76594fc150>, 149.0984606005182, -35.26767651319617], [<auspixdggs.auspixengine.dggs.Cell object at 0x7f76594fc190>, 149.099984758421, -35.26767651319617], [<auspixdggs.auspixengine.dggs.Cell object at 0x7f76594fc1d0>, 149.10150891632372, -35.26767651319617], [<auspixdggs.auspixengine.dggs.Cell object at 0x7f76594fc210>, 149.1030330742265, -35.26767651319617], [<auspixdggs.auspixengine.dggs.Cell object at 0x7f76594fc250>, 149.10455723212922, -35.26767651319617], [<auspixdggs.auspixengine.dggs.Cell object at 0x7f76594fc290>, 149.106081390032, -35.26767651319617], [<auspixdggs.auspixengine.dggs.Cell object at 0x7f76594fc2d0>, 149.10760554793475, -35.26767651319617], [<auspixdggs.auspixengine.dggs.Cell object at 0x7f76594fc310>, 149.1091297058375, -35.26767651319617], [<auspixdggs.auspixengine.dggs.Cell object at 0x7f76594fc710>, 149.08779149519887, -35.26926110504782], [<auspixdggs.auspixengine.dggs.Cell object at 0x7f76594fc750>, 149.08931565310164, -35.26926110504782], [<auspixdggs.auspixengine.dggs.Cell object at 0x7f76594fc790>, 149.09083981100443, -35.26926110504782], [<auspixdggs.auspixengine.dggs.Cell object at 0x7f76594fc7d0>, 149.09236396890716, -35.26926110504782], [<auspixdggs.auspixengine.dggs.Cell object at 0x7f76594fc810>, 149.0938881268099, -35.26926110504782], [<auspixdggs.auspixengine.dggs.Cell object at 0x7f76594fc850>, 149.0954122847127, -35.26926110504782], [<auspixdggs.auspixengine.dggs.Cell object at 0x7f76594fc890>, 149.09693644261543, -35.26926110504782], [<auspixdggs.auspixengine.dggs.Cell object at 0x7f76594fc8d0>, 149.0984606005182, -35.26926110504782], [<auspixdggs.auspixengine.dggs.Cell object at 0x7f76594fc910>, 149.099984758421, -35.26926110504782], [<auspixdggs.auspixengine.dggs.Cell object at 0x7f76594fc950>, 149.10150891632372, -35.26926110504782], [<auspixdggs.auspixengine.dggs.Cell object at 0x7f76594fc990>, 149.1030330742265, -35.26926110504782], [<auspixdggs.auspixengine.dggs.Cell object at 0x7f76594fc9d0>, 149.10455723212922, -35.26926110504782], [<auspixdggs.auspixengine.dggs.Cell object at 0x7f76594fca10>, 149.106081390032, -35.26926110504782], [<auspixdggs.auspixengine.dggs.Cell object at 0x7f76594fca50>, 149.10760554793475, -35.26926110504782], [<auspixdggs.auspixengine.dggs.Cell object at 0x7f76594fca90>, 149.1091297058375, -35.26926110504782], [<auspixdggs.auspixengine.dggs.Cell object at 0x7f76594fce10>, 149.08931565310164, -35.27084572761746], [<auspixdggs.auspixengine.dggs.Cell object at 0x7f76594fce50>, 149.09083981100443, -35.27084572761746], [<auspixdggs.auspixengine.dggs.Cell object at 0x7f76594fce90>, 149.09236396890716, -35.27084572761746], [<auspixdggs.auspixengine.dggs.Cell object at 0x7f76594fced0>, 149.0938881268099, -35.27084572761746], [<auspixdggs.auspixengine.dggs.Cell object at 0x7f76594fcf10>, 149.0954122847127, -35.27084572761746], [<auspixdggs.auspixengine.dggs.Cell object at 0x7f76594fcf50>, 149.09693644261543, -35.27084572761746], [<auspixdggs.auspixengine.dggs.Cell object at 0x7f76594fcd50>, 149.0984606005182, -35.27084572761746], [<auspixdggs.auspixengine.dggs.Cell object at 0x7f7659501050>, 149.099984758421, -35.27084572761746], [<auspixdggs.auspixengine.dggs.Cell object at 0x7f7659501090>, 149.10150891632372, -35.27084572761746], [<auspixdggs.auspixengine.dggs.Cell object at 0x7f76595010d0>, 149.1030330742265, -35.27084572761746], [<auspixdggs.auspixengine.dggs.Cell object at 0x7f7659501110>, 149.10455723212922, -35.27084572761746], [<auspixdggs.auspixengine.dggs.Cell object at 0x7f7659501150>, 149.106081390032, -35.27084572761746], [<auspixdggs.auspixengine.dggs.Cell object at 0x7f7659501190>, 149.10760554793475, -35.27084572761746], [<auspixdggs.auspixengine.dggs.Cell object at 0x7f76595011d0>, 149.1091297058375, -35.27084572761746], [<auspixdggs.auspixengine.dggs.Cell object at 0x7f7659501590>, 149.08931565310164, -35.272430380908084], [<auspixdggs.auspixengine.dggs.Cell object at 0x7f76595015d0>, 149.09083981100443, -35.272430380908084], [<auspixdggs.auspixengine.dggs.Cell object at 0x7f7659501610>, 149.09236396890716, -35.272430380908084], [<auspixdggs.auspixengine.dggs.Cell object at 0x7f7659501650>, 149.0938881268099, -35.272430380908084], [<auspixdggs.auspixengine.dggs.Cell object at 0x7f7659501690>, 149.0954122847127, -35.272430380908084], [<auspixdggs.auspixengine.dggs.Cell object at 0x7f76595016d0>, 149.09693644261543, -35.272430380908084], [<auspixdggs.auspixengine.dggs.Cell object at 0x7f7659501710>, 149.0984606005182, -35.272430380908084], [<auspixdggs.auspixengine.dggs.Cell object at 0x7f7659501750>, 149.099984758421, -35.272430380908084], [<auspixdggs.auspixengine.dggs.Cell object at 0x7f7659501790>, 149.10150891632372, -35.272430380908084], [<auspixdggs.auspixengine.dggs.Cell object at 0x7f76595017d0>, 149.1030330742265, -35.272430380908084], [<auspixdggs.auspixengine.dggs.Cell object at 0x7f7659501810>, 149.10455723212922, -35.272430380908084], [<auspixdggs.auspixengine.dggs.Cell object at 0x7f7659501850>, 149.106081390032, -35.272430380908084], [<auspixdggs.auspixengine.dggs.Cell object at 0x7f7659501890>, 149.10760554793475, -35.272430380908084], [<auspixdggs.auspixengine.dggs.Cell object at 0x7f76595018d0>, 149.1091297058375, -35.272430380908084], [<auspixdggs.auspixengine.dggs.Cell object at 0x7f7659501910>, 149.11065386374025, -35.272430380908084], [<auspixdggs.auspixengine.dggs.Cell object at 0x7f7659501c90>, 149.08931565310164, -35.274015064922715], [<auspixdggs.auspixengine.dggs.Cell object at 0x7f7659501cd0>, 149.09083981100443, -35.274015064922715], [<auspixdggs.auspixengine.dggs.Cell object at 0x7f7659501d10>, 149.09236396890716, -35.274015064922715], [<auspixdggs.auspixengine.dggs.Cell object at 0x7f7659501d50>, 149.0938881268099, -35.274015064922715], [<auspixdggs.auspixengine.dggs.Cell object at 0x7f7659501d90>, 149.0954122847127, -35.274015064922715], [<auspixdggs.auspixengine.dggs.Cell object at 0x7f7659501dd0>, 149.09693644261543, -35.274015064922715], [<auspixdggs.auspixengine.dggs.Cell object at 0x7f7659501e10>, 149.0984606005182, -35.274015064922715], [<auspixdggs.auspixengine.dggs.Cell object at 0x7f7659501e50>, 149.099984758421, -35.274015064922715], [<auspixdggs.auspixengine.dggs.Cell object at 0x7f7659501e90>, 149.10150891632372, -35.274015064922715], [<auspixdggs.auspixengine.dggs.Cell object at 0x7f7659501ed0>, 149.1030330742265, -35.274015064922715], [<auspixdggs.auspixengine.dggs.Cell object at 0x7f7659501f10>, 149.10455723212922, -35.274015064922715], [<auspixdggs.auspixengine.dggs.Cell object at 0x7f7659501f50>, 149.106081390032, -35.274015064922715], [<auspixdggs.auspixengine.dggs.Cell object at 0x7f7659501bd0>, 149.10760554793475, -35.274015064922715], [<auspixdggs.auspixengine.dggs.Cell object at 0x7f7659508050>, 149.1091297058375, -35.274015064922715], [<auspixdggs.auspixengine.dggs.Cell object at 0x7f7659508090>, 149.11065386374025, -35.274015064922715], [<auspixdggs.auspixengine.dggs.Cell object at 0x7f7659508450>, 149.08779149519887, -35.27559977966433], [<auspixdggs.auspixengine.dggs.Cell object at 0x7f7659508490>, 149.08931565310164, -35.27559977966433], [<auspixdggs.auspixengine.dggs.Cell object at 0x7f76595084d0>, 149.09083981100443, -35.27559977966433], [<auspixdggs.auspixengine.dggs.Cell object at 0x7f7659508510>, 149.09236396890716, -35.27559977966433], [<auspixdggs.auspixengine.dggs.Cell object at 0x7f7659508550>, 149.0938881268099, -35.27559977966433], [<auspixdggs.auspixengine.dggs.Cell object at 0x7f7659508590>, 149.0954122847127, -35.27559977966433], [<auspixdggs.auspixengine.dggs.Cell object at 0x7f76595085d0>, 149.09693644261543, -35.27559977966433], [<auspixdggs.auspixengine.dggs.Cell object at 0x7f7659508610>, 149.0984606005182, -35.27559977966433], [<auspixdggs.auspixengine.dggs.Cell object at 0x7f7659508650>, 149.099984758421, -35.27559977966433], [<auspixdggs.auspixengine.dggs.Cell object at 0x7f7659508690>, 149.10150891632372, -35.27559977966433], [<auspixdggs.auspixengine.dggs.Cell object at 0x7f76595086d0>, 149.1030330742265, -35.27559977966433], [<auspixdggs.auspixengine.dggs.Cell object at 0x7f7659508710>, 149.10455723212922, -35.27559977966433], [<auspixdggs.auspixengine.dggs.Cell object at 0x7f7659508750>, 149.106081390032, -35.27559977966433], [<auspixdggs.auspixengine.dggs.Cell object at 0x7f7659508790>, 149.10760554793475, -35.27559977966433], [<auspixdggs.auspixengine.dggs.Cell object at 0x7f76595087d0>, 149.1091297058375, -35.27559977966433], [<auspixdggs.auspixengine.dggs.Cell object at 0x7f7659508810>, 149.11065386374025, -35.27559977966433], [<auspixdggs.auspixengine.dggs.Cell object at 0x7f7659508a10>, 149.08779149519887, -35.27718452513598], [<auspixdggs.auspixengine.dggs.Cell object at 0x7f7659508b50>, 149.08931565310164, -35.27718452513598], [<auspixdggs.auspixengine.dggs.Cell object at 0x7f7659508b90>, 149.09083981100443, -35.27718452513598], [<auspixdggs.auspixengine.dggs.Cell object at 0x7f7659508bd0>, 149.09236396890716, -35.27718452513598], [<auspixdggs.auspixengine.dggs.Cell object at 0x7f7659508c10>, 149.0938881268099, -35.27718452513598], [<auspixdggs.auspixengine.dggs.Cell object at 0x7f7659508c50>, 149.0954122847127, -35.27718452513598], [<auspixdggs.auspixengine.dggs.Cell object at 0x7f7659508c90>, 149.09693644261543, -35.27718452513598], [<auspixdggs.auspixengine.dggs.Cell object at 0x7f7659508cd0>, 149.0984606005182, -35.27718452513598], [<auspixdggs.auspixengine.dggs.Cell object at 0x7f7659508d10>, 149.099984758421, -35.27718452513598], [<auspixdggs.auspixengine.dggs.Cell object at 0x7f7659508d50>, 149.10150891632372, -35.27718452513598], [<auspixdggs.auspixengine.dggs.Cell object at 0x7f7659508d90>, 149.1030330742265, -35.27718452513598], [<auspixdggs.auspixengine.dggs.Cell object at 0x7f7659508dd0>, 149.10455723212922, -35.27718452513598], [<auspixdggs.auspixengine.dggs.Cell object at 0x7f7659508e10>, 149.106081390032, -35.27718452513598], [<auspixdggs.auspixengine.dggs.Cell object at 0x7f7659508e50>, 149.10760554793475, -35.27718452513598], [<auspixdggs.auspixengine.dggs.Cell object at 0x7f7659508e90>, 149.1091297058375, -35.27718452513598], [<auspixdggs.auspixengine.dggs.Cell object at 0x7f7659508ed0>, 149.11065386374025, -35.27718452513598], [<auspixdggs.auspixengine.dggs.Cell object at 0x7f765950e2d0>, 149.08779149519887, -35.27876930134061], [<auspixdggs.auspixengine.dggs.Cell object at 0x7f765950e310>, 149.08931565310164, -35.27876930134061], [<auspixdggs.auspixengine.dggs.Cell object at 0x7f765950e350>, 149.09083981100443, -35.27876930134061], [<auspixdggs.auspixengine.dggs.Cell object at 0x7f765950e390>, 149.09236396890716, -35.27876930134061], [<auspixdggs.auspixengine.dggs.Cell object at 0x7f765950e3d0>, 149.0938881268099, -35.27876930134061], [<auspixdggs.auspixengine.dggs.Cell object at 0x7f765950e410>, 149.0954122847127, -35.27876930134061], [<auspixdggs.auspixengine.dggs.Cell object at 0x7f765950e450>, 149.09693644261543, -35.27876930134061], [<auspixdggs.auspixengine.dggs.Cell object at 0x7f765950e490>, 149.0984606005182, -35.27876930134061], [<auspixdggs.auspixengine.dggs.Cell object at 0x7f765950e4d0>, 149.099984758421, -35.27876930134061], [<auspixdggs.auspixengine.dggs.Cell object at 0x7f765950e510>, 149.10150891632372, -35.27876930134061], [<auspixdggs.auspixengine.dggs.Cell object at 0x7f765950e550>, 149.1030330742265, -35.27876930134061], [<auspixdggs.auspixengine.dggs.Cell object at 0x7f765950e590>, 149.10455723212922, -35.27876930134061], [<auspixdggs.auspixengine.dggs.Cell object at 0x7f765950e5d0>, 149.106081390032, -35.27876930134061], [<auspixdggs.auspixengine.dggs.Cell object at 0x7f765950e610>, 149.10760554793475, -35.27876930134061], [<auspixdggs.auspixengine.dggs.Cell object at 0x7f765950e650>, 149.1091297058375, -35.27876930134061], [<auspixdggs.auspixengine.dggs.Cell object at 0x7f765950e690>, 149.11065386374025, -35.27876930134061], [<auspixdggs.auspixengine.dggs.Cell object at 0x7f765950e9d0>, 149.08779149519887, -35.280354108281294], [<auspixdggs.auspixengine.dggs.Cell object at 0x7f765950ea10>, 149.08931565310164, -35.280354108281294], [<auspixdggs.auspixengine.dggs.Cell object at 0x7f765950ea50>, 149.09083981100443, -35.280354108281294], [<auspixdggs.auspixengine.dggs.Cell object at 0x7f765950ea90>, 149.09236396890716, -35.280354108281294], [<auspixdggs.auspixengine.dggs.Cell object at 0x7f765950ead0>, 149.0938881268099, -35.280354108281294], [<auspixdggs.auspixengine.dggs.Cell object at 0x7f765950eb10>, 149.0954122847127, -35.280354108281294], [<auspixdggs.auspixengine.dggs.Cell object at 0x7f765950eb50>, 149.09693644261543, -35.280354108281294], [<auspixdggs.auspixengine.dggs.Cell object at 0x7f765950eb90>, 149.0984606005182, -35.280354108281294], [<auspixdggs.auspixengine.dggs.Cell object at 0x7f765950ebd0>, 149.099984758421, -35.280354108281294], [<auspixdggs.auspixengine.dggs.Cell object at 0x7f765950ec10>, 149.10150891632372, -35.280354108281294], [<auspixdggs.auspixengine.dggs.Cell object at 0x7f765950ec50>, 149.1030330742265, -35.280354108281294], [<auspixdggs.auspixengine.dggs.Cell object at 0x7f765950ec90>, 149.10455723212922, -35.280354108281294], [<auspixdggs.auspixengine.dggs.Cell object at 0x7f765950ecd0>, 149.106081390032, -35.280354108281294], [<auspixdggs.auspixengine.dggs.Cell object at 0x7f765950ed10>, 149.10760554793475, -35.280354108281294], [<auspixdggs.auspixengine.dggs.Cell object at 0x7f765950ed50>, 149.1091297058375, -35.280354108281294], [<auspixdggs.auspixengine.dggs.Cell object at 0x7f7659512150>, 149.08779149519887, -35.28193894596099], [<auspixdggs.auspixengine.dggs.Cell object at 0x7f7659512190>, 149.08931565310164, -35.28193894596099], [<auspixdggs.auspixengine.dggs.Cell object at 0x7f76595121d0>, 149.09083981100443, -35.28193894596099], [<auspixdggs.auspixengine.dggs.Cell object at 0x7f7659512210>, 149.09236396890716, -35.28193894596099], [<auspixdggs.auspixengine.dggs.Cell object at 0x7f7659512250>, 149.0938881268099, -35.28193894596099], [<auspixdggs.auspixengine.dggs.Cell object at 0x7f7659512290>, 149.0954122847127, -35.28193894596099], [<auspixdggs.auspixengine.dggs.Cell object at 0x7f76595122d0>, 149.09693644261543, -35.28193894596099], [<auspixdggs.auspixengine.dggs.Cell object at 0x7f7659512310>, 149.0984606005182, -35.28193894596099], [<auspixdggs.auspixengine.dggs.Cell object at 0x7f7659512350>, 149.099984758421, -35.28193894596099], [<auspixdggs.auspixengine.dggs.Cell object at 0x7f7659512390>, 149.10150891632372, -35.28193894596099], [<auspixdggs.auspixengine.dggs.Cell object at 0x7f76595123d0>, 149.1030330742265, -35.28193894596099], [<auspixdggs.auspixengine.dggs.Cell object at 0x7f7659512410>, 149.10455723212922, -35.28193894596099], [<auspixdggs.auspixengine.dggs.Cell object at 0x7f7659512450>, 149.106081390032, -35.28193894596099], [<auspixdggs.auspixengine.dggs.Cell object at 0x7f7659512490>, 149.10760554793475, -35.28193894596099], [<auspixdggs.auspixengine.dggs.Cell object at 0x7f7659512890>, 149.08626733729614, -35.28352381438273], [<auspixdggs.auspixengine.dggs.Cell object at 0x7f76595128d0>, 149.08779149519887, -35.28352381438273], [<auspixdggs.auspixengine.dggs.Cell object at 0x7f7659512910>, 149.08931565310164, -35.28352381438273], [<auspixdggs.auspixengine.dggs.Cell object at 0x7f7659512950>, 149.09083981100443, -35.28352381438273], [<auspixdggs.auspixengine.dggs.Cell object at 0x7f7659512990>, 149.09236396890716, -35.28352381438273], [<auspixdggs.auspixengine.dggs.Cell object at 0x7f76595129d0>, 149.0938881268099, -35.28352381438273], [<auspixdggs.auspixengine.dggs.Cell object at 0x7f7659512a10>, 149.0954122847127, -35.28352381438273], [<auspixdggs.auspixengine.dggs.Cell object at 0x7f7659512a50>, 149.09693644261543, -35.28352381438273], [<auspixdggs.auspixengine.dggs.Cell object at 0x7f7659512a90>, 149.0984606005182, -35.28352381438273], [<auspixdggs.auspixengine.dggs.Cell object at 0x7f7659512ad0>, 149.099984758421, -35.28352381438273], [<auspixdggs.auspixengine.dggs.Cell object at 0x7f7659512b10>, 149.10150891632372, -35.28352381438273], [<auspixdggs.auspixengine.dggs.Cell object at 0x7f7659512b50>, 149.1030330742265, -35.28352381438273], [<auspixdggs.auspixengine.dggs.Cell object at 0x7f7659512b90>, 149.10455723212922, -35.28352381438273], [<auspixdggs.auspixengine.dggs.Cell object at 0x7f7659512f50>, 149.08779149519887, -35.285108713549484], [<auspixdggs.auspixengine.dggs.Cell object at 0x7f7659518050>, 149.08931565310164, -35.285108713549484], [<auspixdggs.auspixengine.dggs.Cell object at 0x7f7659518090>, 149.09083981100443, -35.285108713549484], [<auspixdggs.auspixengine.dggs.Cell object at 0x7f76595180d0>, 149.09236396890716, -35.285108713549484], [<auspixdggs.auspixengine.dggs.Cell object at 0x7f7659518110>, 149.0938881268099, -35.285108713549484], [<auspixdggs.auspixengine.dggs.Cell object at 0x7f7659518150>, 149.0954122847127, -35.285108713549484], [<auspixdggs.auspixengine.dggs.Cell object at 0x7f7659518190>, 149.09693644261543, -35.285108713549484], [<auspixdggs.auspixengine.dggs.Cell object at 0x7f7659518210>, 149.099984758421, -35.285108713549484], [<auspixdggs.auspixengine.dggs.Cell object at 0x7f7659518250>, 149.10150891632372, -35.285108713549484], [<auspixdggs.auspixengine.dggs.Cell object at 0x7f7659518750>, 149.08626733729614, -35.28669364346431], [<auspixdggs.auspixengine.dggs.Cell object at 0x7f7659518790>, 149.08779149519887, -35.28669364346431], [<auspixdggs.auspixengine.dggs.Cell object at 0x7f7659518e50>, 149.08321902149063, -35.28827860413017], [<auspixdggs.auspixengine.dggs.Cell object at 0x7f7659518cd0>, 149.08474317939337, -35.28827860413017], [<auspixdggs.auspixengine.dggs.Cell object at 0x7f7659518d10>, 149.08626733729614, -35.28827860413017], [<auspixdggs.auspixengine.dggs.Cell object at 0x7f765926f490>, 149.0801707056851, -35.28986359555011], [<auspixdggs.auspixengine.dggs.Cell object at 0x7f765926f510>, 149.08169486358787, -35.28986359555011], [<auspixdggs.auspixengine.dggs.Cell object at 0x7f765926f5d0>, 149.08321902149063, -35.28986359555011], [<auspixdggs.auspixengine.dggs.Cell object at 0x7f765926f4d0>, 149.08474317939337, -35.28986359555011], [<auspixdggs.auspixengine.dggs.Cell object at 0x7f765926f590>, 149.07864654778237, -35.29144861772709], [<auspixdggs.auspixengine.dggs.Cell object at 0x7f765926fb50>, 149.0801707056851, -35.29144861772709], [<auspixdggs.auspixengine.dggs.Cell object at 0x7f765926fc50>, 149.08169486358787, -35.29144861772709], [<auspixdggs.auspixengine.dggs.Cell object at 0x7f765926fd10>, 149.08321902149063, -35.29144861772709], [<auspixdggs.auspixengine.dggs.Cell object at 0x7f765926fb90>, 149.08474317939337, -35.29144861772709], [<auspixdggs.auspixengine.dggs.Cell object at 0x7f7659274190>, 149.07712238987958, -35.293033670664194], [<auspixdggs.auspixengine.dggs.Cell object at 0x7f76592741d0>, 149.07864654778237, -35.293033670664194], [<auspixdggs.auspixengine.dggs.Cell object at 0x7f7659274350>, 149.0801707056851, -35.293033670664194], [<auspixdggs.auspixengine.dggs.Cell object at 0x7f76592743d0>, 149.08169486358787, -35.293033670664194], [<auspixdggs.auspixengine.dggs.Cell object at 0x7f7659274490>, 149.08321902149063, -35.293033670664194], [<auspixdggs.auspixengine.dggs.Cell object at 0x7f76592749d0>, 149.0755982319768, -35.29461875436437], [<auspixdggs.auspixengine.dggs.Cell object at 0x7f7659274a10>, 149.0801707056851, -35.29461875436437], [<auspixdggs.auspixengine.dggs.Cell object at 0x7f7659274b10>, 149.08169486358787, -35.29461875436437], [<auspixdggs.auspixengine.dggs.Cell object at 0x7f7659274bd0>, 149.08321902149063, -35.29461875436437], [<auspixdggs.auspixengine.dggs.Cell object at 0x7f7659278150>, 149.07254991617128, -35.29620386883064], [<auspixdggs.auspixengine.dggs.Cell object at 0x7f7659278190>, 149.07407407407408, -35.29620386883064], [<auspixdggs.auspixengine.dggs.Cell object at 0x7f7659278210>, 149.0801707056851, -35.29620386883064], [<auspixdggs.auspixengine.dggs.Cell object at 0x7f7659278290>, 149.08169486358787, -35.29620386883064], [<auspixdggs.auspixengine.dggs.Cell object at 0x7f7659278350>, 149.08321902149063, -35.29620386883064], [<auspixdggs.auspixengine.dggs.Cell object at 0x7f7659278110>, 149.07102575826855, -35.29778901406605]]\n"
     ]
    }
   ],
   "source": [
    "from shapely.geometry import shape, LineString, MultiLineString, Polygon, MultiPolygon\n",
    "from geojson.utils import coords\n",
    "from geojson import Feature, FeatureCollection\n",
    "from auspixdggs.callablemodules.dggs_in_poly_for_geojson_callable import cells_in_poly, get_dggs_cell_bbox\n",
    "from auspixdggs.callablemodules.dggs_in_line import line_to_DGGS\n",
    "\n",
    "def bbox(coord_list):\n",
    "     box = []\n",
    "     for i in (0,1):\n",
    "         res = sorted(coord_list, key=lambda x:x[i])\n",
    "         box.append((res[0][i],res[-1][i]))\n",
    "     ret = [ box[0][0], box[1][0], box[0][1], box[1][1] ]\n",
    "     return ret\n",
    "    \n",
    "def geojson_to_shape(g):\n",
    "    return shape(g)\n",
    "    \n",
    "def get_cells_in_geojson(geojson, resolution):\n",
    "    list_cells = []\n",
    "    for fea in geojson['features']:  # for feature in attribute table\n",
    "        res_cells = get_cells_in_feature(fea, resolution)\n",
    "        list_cells = list(list_cells + res_cells)\n",
    "    return list_cells \n",
    "\n",
    "def get_cells_in_feature(fea, resolution, cell_obj=True):\n",
    "    geom = geojson_to_shape(fea['geometry'])\n",
    "    curr_coords = list(coords(fea))\n",
    "    thisbbox = bbox(curr_coords)\n",
    "    cells = []\n",
    "    if isinstance(geom, LineString) or isinstance(geom, MultiLineString): \n",
    "        res_cells = line_to_DGGS(curr_coords, resolution)  # start at DGGS level 10   \n",
    "        cells = res_cells\n",
    "    elif isinstance(geom, Polygon) or  isinstance(geom, MultiPolygon):\n",
    "        res_cells = cells_in_poly(thisbbox, curr_coords, resolution, return_cell_obj=True)  # start at DGGS level 10    \n",
    "        print(res_cells)\n",
    "        cells = [item[0] for item in res_cells]\n",
    "    else: #try something anyway\n",
    "        cells = cells_in_poly(thisbbox, curr_coords, resolution, return_cell_obj=True)  # start at DGGS level 10    \n",
    "        print(res_cells)\n",
    "        cells = [item[0] for item in res_cells]\n",
    "\n",
    "    return cells\n",
    "\n",
    "list_cells = get_cells_in_geojson(geojson_data, 10)    \n",
    "list_features = []\n",
    "for cell in list_cells:\n",
    "    bbox_coords = get_dggs_cell_bbox(cell)\n",
    "    geom_obj = Polygon(bbox_coords)\n",
    "    feat = Feature(geometry=geom_obj) \n",
    "    list_features.append(feat)\n",
    "\n",
    "feature_collection = FeatureCollection(list_features)\n",
    "\n",
    "#uncomment if you want to get a file output\n",
    "#geojson_dump = geojson.dumps(feature_collection, indent=4, sort_keys=True)\n",
    "#with open('poly.geojson', 'w') as json_file:\n",
    "#    data = geojson.dump(feature_collection, json_file, indent=4, sort_keys=True)        "
   ]
  },
  {
   "cell_type": "code",
   "execution_count": 6,
   "metadata": {},
   "outputs": [
    {
     "data": {
      "application/vnd.jupyter.widget-view+json": {
       "model_id": "d47fbd46112a400b98b5ae49362b6887",
       "version_major": 2,
       "version_minor": 0
      },
      "text/plain": [
       "Map(center=[-35.282, 149.09], controls=(ZoomControl(options=['position', 'zoom_in_text', 'zoom_in_title', 'zoo…"
      ]
     },
     "metadata": {},
     "output_type": "display_data"
    }
   ],
   "source": [
    "x_coord = -35.282\n",
    "y_coord = 149.09\n",
    "\n",
    "map2 = ipy.Map(center=[x_coord, y_coord], zoom=13)\n",
    "label = ipyw.Label(layout=ipyw.Layout(width='100%'))\n",
    "\n",
    "geo_json2 = GeoJSON(data=feature_collection, \n",
    "                    style={\n",
    "                          'color': 'black', \n",
    "                          'opacity': 1, \n",
    "                          'weight':1, \n",
    "                          'fillColor': 'red', \n",
    "                          'fillOpacity': 0.3})\n",
    "map2.add_layer(geo_json2)\n",
    "map2"
   ]
  },
  {
   "cell_type": "code",
   "execution_count": null,
   "metadata": {},
   "outputs": [],
   "source": []
  }
 ],
 "metadata": {
  "kernelspec": {
   "display_name": "Python 3",
   "language": "python",
   "name": "python3"
  },
  "language_info": {
   "codemirror_mode": {
    "name": "ipython",
    "version": 3
   },
   "file_extension": ".py",
   "mimetype": "text/x-python",
   "name": "python",
   "nbconvert_exporter": "python",
   "pygments_lexer": "ipython3",
   "version": "3.7.6"
  }
 },
 "nbformat": 4,
 "nbformat_minor": 4
}
