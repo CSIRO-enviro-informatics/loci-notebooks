{
 "cells": [
  {
   "cell_type": "code",
   "execution_count": 1,
   "metadata": {},
   "outputs": [
    {
     "name": "stdout",
     "output_type": "stream",
     "text": [
      "\u001b[33mWARNING: Value for scheme.headers does not match. Please report this to <https://github.com/pypa/pip/issues/9617>\n",
      "distutils: /opt/conda/include/python3.8/UNKNOWN\n",
      "sysconfig: /opt/conda/include/python3.8\u001b[0m\n",
      "\u001b[33mWARNING: Additional context:\n",
      "user = False\n",
      "home = None\n",
      "root = None\n",
      "prefix = None\u001b[0m\n",
      "Requirement already satisfied: itables in /opt/conda/lib/python3.8/site-packages (0.3.0)\n",
      "Requirement already satisfied: IPython in /opt/conda/lib/python3.8/site-packages (from itables) (7.22.0)\n",
      "Requirement already satisfied: pandas in /opt/conda/lib/python3.8/site-packages (from itables) (1.2.4)\n",
      "Requirement already satisfied: backcall in /opt/conda/lib/python3.8/site-packages (from IPython->itables) (0.2.0)\n",
      "Requirement already satisfied: pexpect>4.3 in /opt/conda/lib/python3.8/site-packages (from IPython->itables) (4.8.0)\n",
      "Requirement already satisfied: traitlets>=4.2 in /opt/conda/lib/python3.8/site-packages (from IPython->itables) (5.0.5)\n",
      "Requirement already satisfied: pygments in /opt/conda/lib/python3.8/site-packages (from IPython->itables) (2.8.1)\n",
      "Requirement already satisfied: decorator in /opt/conda/lib/python3.8/site-packages (from IPython->itables) (4.4.2)\n",
      "Requirement already satisfied: prompt-toolkit!=3.0.0,!=3.0.1,<3.1.0,>=2.0.0 in /opt/conda/lib/python3.8/site-packages (from IPython->itables) (2.0.10)\n",
      "Requirement already satisfied: jedi>=0.16 in /opt/conda/lib/python3.8/site-packages (from IPython->itables) (0.18.0)\n",
      "Requirement already satisfied: setuptools>=18.5 in /opt/conda/lib/python3.8/site-packages (from IPython->itables) (49.6.0.post20210108)\n",
      "Requirement already satisfied: pickleshare in /opt/conda/lib/python3.8/site-packages (from IPython->itables) (0.7.5)\n",
      "Requirement already satisfied: parso<0.9.0,>=0.8.0 in /opt/conda/lib/python3.8/site-packages (from jedi>=0.16->IPython->itables) (0.8.2)\n",
      "Requirement already satisfied: ptyprocess>=0.5 in /opt/conda/lib/python3.8/site-packages (from pexpect>4.3->IPython->itables) (0.7.0)\n",
      "Requirement already satisfied: six>=1.9.0 in /opt/conda/lib/python3.8/site-packages (from prompt-toolkit!=3.0.0,!=3.0.1,<3.1.0,>=2.0.0->IPython->itables) (1.15.0)\n",
      "Requirement already satisfied: wcwidth in /opt/conda/lib/python3.8/site-packages (from prompt-toolkit!=3.0.0,!=3.0.1,<3.1.0,>=2.0.0->IPython->itables) (0.2.5)\n",
      "Requirement already satisfied: ipython-genutils in /opt/conda/lib/python3.8/site-packages (from traitlets>=4.2->IPython->itables) (0.2.0)\n",
      "Requirement already satisfied: numpy>=1.16.5 in /opt/conda/lib/python3.8/site-packages (from pandas->itables) (1.20.2)\n",
      "Requirement already satisfied: python-dateutil>=2.7.3 in /opt/conda/lib/python3.8/site-packages (from pandas->itables) (2.8.1)\n",
      "Requirement already satisfied: pytz>=2017.3 in /opt/conda/lib/python3.8/site-packages (from pandas->itables) (2021.1)\n",
      "\u001b[33mWARNING: Value for scheme.headers does not match. Please report this to <https://github.com/pypa/pip/issues/9617>\n",
      "distutils: /opt/conda/include/python3.8/UNKNOWN\n",
      "sysconfig: /opt/conda/include/python3.8\u001b[0m\n",
      "\u001b[33mWARNING: Additional context:\n",
      "user = False\n",
      "home = None\n",
      "root = None\n",
      "prefix = None\u001b[0m\n"
     ]
    }
   ],
   "source": [
    "!pip install itables "
   ]
  },
  {
   "cell_type": "code",
   "execution_count": 15,
   "metadata": {},
   "outputs": [
    {
     "data": {
      "application/javascript": [
       "require.config({\n",
       "    paths: {\n",
       "        datatables: 'https://cdn.datatables.net/1.10.19/js/jquery.dataTables.min',\n",
       "    }\n",
       "});\n",
       "\n",
       "$('head').append('<link rel=\"stylesheet\" type=\"text/css\" \\\n",
       "                href = \"https://cdn.datatables.net/1.10.19/css/jquery.dataTables.min.css\" > ');\n",
       "\n",
       "$('head').append('<style> table td { text-overflow: ellipsis; overflow: hidden; } </style>');\n",
       "\n",
       "$('head').append(`<script>\n",
       "function eval_functions(map_or_text) {\n",
       "    if (typeof map_or_text === \"string\") {\n",
       "        if (map_or_text.startsWith(\"function\")) {\n",
       "            try {\n",
       "                // Note: parenthesis are required around the whole expression for eval to return a value!\n",
       "                // See https://stackoverflow.com/a/7399078/911298.\n",
       "                //\n",
       "                // eval(\"local_fun = \" + map_or_text) would fail because local_fun is not declared\n",
       "                // (using var, let or const would work, but it would only be declared in the local scope\n",
       "                // and therefore the value could not be retrieved).\n",
       "                const func = eval(\"(\" + map_or_text + \")\");\n",
       "                if (typeof func !== \"function\") {\n",
       "                    // Note: backquotes are super convenient!\n",
       "                    // https://developer.mozilla.org/en-US/docs/Web/JavaScript/Reference/Template_literals\n",
       "                    console.error(\"Evaluated expression \" + map_or_text + \" is not a function (type is \" + typeof func + \")\");\n",
       "                    return map_or_text;\n",
       "                }\n",
       "                // Return the function\n",
       "                return func;\n",
       "            } catch (e) {\n",
       "                // Make sure to print the error with a second argument to console.error().\n",
       "                console.error(\"itables was not able to parse \" + map_or_text, e);\n",
       "            }\n",
       "        }\n",
       "    } else if (typeof map_or_text === \"object\") {\n",
       "        if (map_or_text instanceof Array) {\n",
       "            // Note: \"var\" is now superseded by \"let\" and \"const\".\n",
       "            // https://medium.com/javascript-scene/javascript-es6-var-let-or-const-ba58b8dcde75\n",
       "            const result = [];\n",
       "            // Note: \"for of\" is the best way to iterate through an iterable.\n",
       "            // https://developer.mozilla.org/en-US/docs/Web/JavaScript/Reference/Statements/for...of\n",
       "            for (const item of map_or_text) {\n",
       "                result.push(eval_functions(item));\n",
       "            }\n",
       "            return result;\n",
       "\n",
       "            // Alternatively, more functional approach in one line:\n",
       "            // return map_or_text.map(eval_functions);\n",
       "        } else {\n",
       "            const result = {};\n",
       "            // Object.keys() is safer than \"for in\" because otherwise you might have keys\n",
       "            // that aren't defined in the object itself.\n",
       "            //\n",
       "            // See https://stackoverflow.com/a/684692/911298.\n",
       "            for (const item of Object.keys(map_or_text)) {\n",
       "                result[item] = eval_functions(map_or_text[item]);\n",
       "            }\n",
       "            return result;\n",
       "        }\n",
       "    }\n",
       "\n",
       "    return map_or_text;\n",
       "}\n",
       "\n",
       "</` + 'script>');"
      ],
      "text/plain": [
       "<IPython.core.display.Javascript object>"
      ]
     },
     "metadata": {},
     "output_type": "display_data"
    }
   ],
   "source": [
    "from itables import init_notebook_mode\n",
    "init_notebook_mode(all_interactive=True)\n",
    "import pandas as pd\n",
    "import itables.options as opt\n",
    "opt.columnDefs = [{\"className\":\"dt-left\", \"targets\": \"_all\"}]\n",
    "opt.lengthMenu = [50, 100, 200, 500]\n",
    "import urllib, json, requests\n",
    "import ipywidgets as widgets\n"
   ]
  },
  {
   "cell_type": "code",
   "execution_count": 16,
   "metadata": {},
   "outputs": [],
   "source": [
    "TIME_API = \"http://time-api.loci.cat/api/v1\""
   ]
  },
  {
   "cell_type": "code",
   "execution_count": 17,
   "metadata": {},
   "outputs": [],
   "source": [
    "#visualise LGA \n",
    "import json\n",
    "import requests\n",
    "def get_geom(loci_uri):\n",
    "    payload = {\n",
    "        \"uri\": loci_uri\n",
    "    }\n",
    "    url = TIME_API  + \"/location/geometry\"\n",
    "    r = requests.get(url, params=payload)\n",
    "    res = r.json()\n",
    "    #get the first geom result\n",
    "    return (res)"
   ]
  },
  {
   "cell_type": "markdown",
   "metadata": {},
   "source": [
    "# Loc-I Change Over Time Demo\n",
    "\n",
    "This notebook demonstrates the prototype Loc-I change over time API available at http://time-api.loci.cat\n",
    "\n",
    "Some basic API functionality is introduced and a selection of use cases will be demonstrated below."
   ]
  },
  {
   "cell_type": "markdown",
   "metadata": {},
   "source": [
    "## Loc-I Time API Basics\n",
    "\n"
   ]
  },
  {
   "cell_type": "markdown",
   "metadata": {},
   "source": [
    "### Search for a feature by name/label/code\n",
    "\n",
    "Example: Find features with label of \"Fraser\""
   ]
  },
  {
   "cell_type": "code",
   "execution_count": 6,
   "metadata": {},
   "outputs": [
    {
     "data": {
      "application/vnd.jupyter.widget-view+json": {
       "model_id": "197881ccda6040128741229682cea24e",
       "version_major": 2,
       "version_minor": 0
      },
      "text/plain": [
       "Text(value='Fraser', description='Input label:', placeholder='Fraser')"
      ]
     },
     "metadata": {},
     "output_type": "display_data"
    }
   ],
   "source": [
    "w = widgets.Text(\n",
    "    value='Fraser',\n",
    "    placeholder='Fraser',\n",
    "    description='Input label:',\n",
    "    disabled=False\n",
    ")\n",
    "display(w)"
   ]
  },
  {
   "cell_type": "code",
   "execution_count": 9,
   "metadata": {},
   "outputs": [
    {
     "data": {
      "text/html": [
       "<div><table id=\"628aa7ee-9d3d-49d7-9bc4-ea11f8e9eb43\" class=\"display\"><thead>\n",
       "    <tr style=\"text-align: right;\">\n",
       "      \n",
       "      <th>uri</th>\n",
       "      <th>match</th>\n",
       "    </tr>\n",
       "  </thead></table>\n",
       "<script type=\"text/javascript\">\n",
       "require([\"datatables\"], function (datatables) {\n",
       "    $(document).ready(function () {\n",
       "        var dt_args = {\"columnDefs\": [{\"className\": \"dt-left\", \"targets\": \"_all\"}], \"lengthMenu\": [50, 100, 200, 500], \"paging\": false, \"data\": [[\"https://linked.data.gov.au/dataset/asgs/localgovernmentarea/33220/2020-06\", \"Fraser Coast (R)\"], [\"https://linked.data.gov.au/dataset/asgs/localgovernmentarea/33220/2018-07\", \"Fraser Coast (R)\"], [\"https://linked.data.gov.au/dataset/asgs/localgovernmentarea/33220\", \"Fraser Coast (R)\"], [\"https://linked.data.gov.au/dataset/asgs/localgovernmentarea/33220/2017-07\", \"Fraser Coast (R)\"], [\"https://linked.data.gov.au/dataset/asgs/localgovernmentarea/33220/2019-07\", \"Fraser Coast (R)\"], [\"https://linked.data.gov.au/dataset/asgs/localgovernmentarea/33220/2016-07\", \"Fraser Coast (R)\"], [\"https://linked.data.gov.au/dataset/asgs/commonwealthelectoraldivision/214/2018-07\", \"Fraser\"], [\"https://linked.data.gov.au/dataset/asgs/commonwealthelectoraldivision/214\", \"Fraser\"], [\"https://linked.data.gov.au/dataset/asgs2016/statisticalarealevel2/319051522/2016-07\", \"Burrum - Fraser\"], [\"https://linked.data.gov.au/dataset/asgs2016/statisticalarealevel2/319051522\", \"Burrum - Fraser\"], [\"https://linked.data.gov.au/dataset/asgs2016/statisticalarealevel2/801011010/2016-07\", \"Fraser\"], [\"https://linked.data.gov.au/dataset/asgs2016/statisticalarealevel2/801011010\", \"Fraser\"]]};\n",
       "        dt_args = eval_functions(dt_args);\n",
       "        table = $('#628aa7ee-9d3d-49d7-9bc4-ea11f8e9eb43').DataTable(dt_args);\n",
       "    });\n",
       "})\n",
       "</script>\n",
       "</div>\n"
      ],
      "text/plain": [
       "                                                  uri             match\n",
       "0   https://linked.data.gov.au/dataset/asgs/localg...  Fraser Coast (R)\n",
       "1   https://linked.data.gov.au/dataset/asgs/localg...  Fraser Coast (R)\n",
       "2   https://linked.data.gov.au/dataset/asgs/localg...  Fraser Coast (R)\n",
       "3   https://linked.data.gov.au/dataset/asgs/localg...  Fraser Coast (R)\n",
       "4   https://linked.data.gov.au/dataset/asgs/localg...  Fraser Coast (R)\n",
       "5   https://linked.data.gov.au/dataset/asgs/localg...  Fraser Coast (R)\n",
       "6   https://linked.data.gov.au/dataset/asgs/common...            Fraser\n",
       "7   https://linked.data.gov.au/dataset/asgs/common...            Fraser\n",
       "8   https://linked.data.gov.au/dataset/asgs2016/st...   Burrum - Fraser\n",
       "9   https://linked.data.gov.au/dataset/asgs2016/st...   Burrum - Fraser\n",
       "10  https://linked.data.gov.au/dataset/asgs2016/st...            Fraser\n",
       "11  https://linked.data.gov.au/dataset/asgs2016/st...            Fraser"
      ]
     },
     "execution_count": 9,
     "metadata": {},
     "output_type": "execute_result"
    }
   ],
   "source": [
    "API_ENDPOINT = \"/location/find-by-label\"\n",
    "\n",
    "url = TIME_API + API_ENDPOINT\n",
    "payload = {\n",
    "    'query': w.value\n",
    "}\n",
    "r = requests.get(url, params=payload)\n",
    "jsondata = r.json()\n",
    "#jsondata\n",
    "df = pd.DataFrame (jsondata, columns = ['uri', 'match'])\n",
    "df"
   ]
  },
  {
   "cell_type": "markdown",
   "metadata": {},
   "source": [
    "### Get a Loc-I Feature at a point in time\n",
    "\n",
    "Example: Find the CED Commonwealth Electoral District (CED) of Fraser at a point in time, 7th September 2017."
   ]
  },
  {
   "cell_type": "code",
   "execution_count": 10,
   "metadata": {},
   "outputs": [],
   "source": [
    "FRASER_CED = \"https://linked.data.gov.au/dataset/asgs/commonwealthelectoraldivision/214\"\n",
    "TIME_VARIABLE = \"2017-09-07\""
   ]
  },
  {
   "cell_type": "code",
   "execution_count": 11,
   "metadata": {},
   "outputs": [
    {
     "data": {
      "text/plain": [
       "{'uri': 'https://linked.data.gov.au/dataset/asgs/commonwealthelectoraldivision/214/2017-07',\n",
       " 'feature_type': 'https://linked.data.gov.au/def/asgs#CommonwealthElectoralDivision',\n",
       " 'valid_from': '2017-07-01',\n",
       " 'valid_to': '2018-06-30',\n",
       " 'code': '214',\n",
       " 'name': 'Gellibrand',\n",
       " 'ced_code16': '214',\n",
       " 'ced_name16': 'Gellibrand',\n",
       " 'areasqkm16': '100.685100000000006'}"
      ]
     },
     "execution_count": 11,
     "metadata": {},
     "output_type": "execute_result"
    }
   ],
   "source": [
    "API_ENDPOINT = \"/temporal/feature\"\n",
    "\n",
    "url = TIME_API + API_ENDPOINT\n",
    "payload = {\n",
    "    'uri': FRASER_CED,\n",
    "    'time' : TIME_VARIABLE\n",
    "}\n",
    "r = requests.get(url, params=payload)\n",
    "jsondata = r.json()\n",
    "jsondata"
   ]
  },
  {
   "cell_type": "code",
   "execution_count": 12,
   "metadata": {},
   "outputs": [
    {
     "data": {
      "text/html": [
       "<div><table id=\"4a9ae0dd-515a-490f-9aec-2988ebdfb5ab\" class=\"display\"><thead>\n",
       "    <tr style=\"text-align: right;\">\n",
       "      \n",
       "      <th>uri</th>\n",
       "      <th>feature_type</th>\n",
       "      <th>valid_from</th>\n",
       "      <th>valid_to</th>\n",
       "      <th>code</th>\n",
       "      <th>name</th>\n",
       "      <th>ced_code16</th>\n",
       "      <th>ced_name16</th>\n",
       "      <th>areasqkm16</th>\n",
       "    </tr>\n",
       "  </thead></table>\n",
       "<script type=\"text/javascript\">\n",
       "require([\"datatables\"], function (datatables) {\n",
       "    $(document).ready(function () {\n",
       "        var dt_args = {\"columnDefs\": [{\"className\": \"dt-left\", \"targets\": \"_all\"}], \"lengthMenu\": [50, 100, 200, 500], \"paging\": false, \"data\": [[\"https://linked.data.gov.au/dataset/asgs/commonwealthelectoraldivision/214/2017-07\", \"https://linked.data.gov.au/def/asgs#CommonwealthElectoralDivision\", \"2017-07-01\", \"2018-06-30\", \"214\", \"Gellibrand\", \"214\", \"Gellibrand\", \"100.685100000000006\"]]};\n",
       "        dt_args = eval_functions(dt_args);\n",
       "        table = $('#4a9ae0dd-515a-490f-9aec-2988ebdfb5ab').DataTable(dt_args);\n",
       "    });\n",
       "})\n",
       "</script>\n",
       "</div>\n"
      ],
      "text/plain": [
       "                                                 uri  \\\n",
       "0  https://linked.data.gov.au/dataset/asgs/common...   \n",
       "\n",
       "                                        feature_type  valid_from    valid_to  \\\n",
       "0  https://linked.data.gov.au/def/asgs#Commonweal...  2017-07-01  2018-06-30   \n",
       "\n",
       "  code        name ced_code16  ced_name16           areasqkm16  \n",
       "0  214  Gellibrand        214  Gellibrand  100.685100000000006  "
      ]
     },
     "execution_count": 12,
     "metadata": {},
     "output_type": "execute_result"
    }
   ],
   "source": [
    "mydict = {k: [v] for k, v in jsondata.items()}\n",
    "df = pd.DataFrame (mydict, columns = mydict.keys())\n",
    "df"
   ]
  },
  {
   "cell_type": "code",
   "execution_count": 18,
   "metadata": {},
   "outputs": [
    {
     "ename": "KeyError",
     "evalue": "'geometry'",
     "output_type": "error",
     "traceback": [
      "\u001b[0;31m---------------------------------------------------------------------------\u001b[0m",
      "\u001b[0;31mKeyError\u001b[0m                                  Traceback (most recent call last)",
      "\u001b[0;32m<ipython-input-18-715b397d3385>\u001b[0m in \u001b[0;36m<module>\u001b[0;34m\u001b[0m\n\u001b[0;32m----> 1\u001b[0;31m \u001b[0mgeojson_data\u001b[0m \u001b[0;34m=\u001b[0m \u001b[0mget_geom\u001b[0m\u001b[0;34m(\u001b[0m\u001b[0mFRASER_CED\u001b[0m\u001b[0;34m)\u001b[0m\u001b[0;34m\u001b[0m\u001b[0;34m\u001b[0m\u001b[0m\n\u001b[0m",
      "\u001b[0;32m<ipython-input-17-ac5b330d735f>\u001b[0m in \u001b[0;36mget_geom\u001b[0;34m(loci_uri)\u001b[0m\n\u001b[1;32m     12\u001b[0m     \u001b[0mgeojson_data\u001b[0m \u001b[0;34m=\u001b[0m \u001b[0;34m[\u001b[0m\u001b[0;34m]\u001b[0m\u001b[0;34m\u001b[0m\u001b[0;34m\u001b[0m\u001b[0m\n\u001b[1;32m     13\u001b[0m     \u001b[0mreturn_code\u001b[0m \u001b[0;34m=\u001b[0m \u001b[0;34m[\u001b[0m\u001b[0;34m-\u001b[0m\u001b[0;36m1\u001b[0m\u001b[0;34m,\u001b[0m \u001b[0;34m''\u001b[0m\u001b[0;34m]\u001b[0m\u001b[0;34m\u001b[0m\u001b[0;34m\u001b[0m\u001b[0m\n\u001b[0;32m---> 14\u001b[0;31m     \u001b[0;32mif\u001b[0m \u001b[0mlen\u001b[0m\u001b[0;34m(\u001b[0m \u001b[0mres\u001b[0m\u001b[0;34m[\u001b[0m\u001b[0;34m'geometry'\u001b[0m\u001b[0;34m]\u001b[0m\u001b[0;34m)\u001b[0m \u001b[0;34m>\u001b[0m \u001b[0;36m0\u001b[0m\u001b[0;34m:\u001b[0m\u001b[0;34m\u001b[0m\u001b[0;34m\u001b[0m\u001b[0m\n\u001b[0m\u001b[1;32m     15\u001b[0m         \u001b[0mgeojson_data\u001b[0m \u001b[0;34m=\u001b[0m \u001b[0mres\u001b[0m\u001b[0;34m[\u001b[0m\u001b[0;34m'geometry'\u001b[0m\u001b[0;34m]\u001b[0m\u001b[0;34m[\u001b[0m\u001b[0;36m0\u001b[0m\u001b[0;34m]\u001b[0m\u001b[0;34m\u001b[0m\u001b[0;34m\u001b[0m\u001b[0m\n\u001b[1;32m     16\u001b[0m         \u001b[0mreturn_code\u001b[0m \u001b[0;34m=\u001b[0m \u001b[0;34m[\u001b[0m\u001b[0;36m0\u001b[0m\u001b[0;34m,\u001b[0m \u001b[0;34m''\u001b[0m\u001b[0;34m]\u001b[0m\u001b[0;34m\u001b[0m\u001b[0;34m\u001b[0m\u001b[0m\n",
      "\u001b[0;31mKeyError\u001b[0m: 'geometry'"
     ]
    }
   ],
   "source": [
    "geojson_data = get_geom(FRASER_CED)"
   ]
  },
  {
   "cell_type": "code",
   "execution_count": 13,
   "metadata": {},
   "outputs": [
    {
     "ename": "NameError",
     "evalue": "name 'centroid_geojson_data' is not defined",
     "output_type": "error",
     "traceback": [
      "\u001b[0;31m---------------------------------------------------------------------------\u001b[0m",
      "\u001b[0;31mNameError\u001b[0m                                 Traceback (most recent call last)",
      "\u001b[0;32m<ipython-input-13-f759af88cea5>\u001b[0m in \u001b[0;36m<module>\u001b[0;34m\u001b[0m\n\u001b[1;32m      4\u001b[0m \u001b[0;32mfrom\u001b[0m \u001b[0mipyleaflet\u001b[0m \u001b[0;32mimport\u001b[0m \u001b[0mGeoJSON\u001b[0m\u001b[0;34m,\u001b[0m \u001b[0mMap\u001b[0m\u001b[0;34m,\u001b[0m \u001b[0mMarker\u001b[0m\u001b[0;34m\u001b[0m\u001b[0;34m\u001b[0m\u001b[0m\n\u001b[1;32m      5\u001b[0m \u001b[0;34m\u001b[0m\u001b[0m\n\u001b[0;32m----> 6\u001b[0;31m \u001b[0mx_coord\u001b[0m \u001b[0;34m=\u001b[0m \u001b[0mcentroid_geojson_data\u001b[0m\u001b[0;34m[\u001b[0m\u001b[0;34m'coordinates'\u001b[0m\u001b[0;34m]\u001b[0m\u001b[0;34m[\u001b[0m\u001b[0;36m1\u001b[0m\u001b[0;34m]\u001b[0m\u001b[0;34m\u001b[0m\u001b[0;34m\u001b[0m\u001b[0m\n\u001b[0m\u001b[1;32m      7\u001b[0m \u001b[0my_coord\u001b[0m \u001b[0;34m=\u001b[0m \u001b[0mcentroid_geojson_data\u001b[0m\u001b[0;34m[\u001b[0m\u001b[0;34m'coordinates'\u001b[0m\u001b[0;34m]\u001b[0m\u001b[0;34m[\u001b[0m\u001b[0;36m0\u001b[0m\u001b[0;34m]\u001b[0m\u001b[0;34m\u001b[0m\u001b[0;34m\u001b[0m\u001b[0m\n\u001b[1;32m      8\u001b[0m \u001b[0;34m\u001b[0m\u001b[0m\n",
      "\u001b[0;31mNameError\u001b[0m: name 'centroid_geojson_data' is not defined"
     ]
    }
   ],
   "source": [
    "#draw the geometry for the feature on a map\n",
    "import ipyleaflet as ipy \n",
    "import ipywidgets as ipyw\n",
    "from ipyleaflet import GeoJSON, Map, Marker\n",
    "\n",
    "x_coord = centroid_geojson_data['coordinates'][1]\n",
    "y_coord = centroid_geojson_data['coordinates'][0]\n",
    "\n",
    "map = ipy.Map(zoom=15)\n",
    "label = ipyw.Label(layout=ipyw.Layout(width='100%'))\n",
    "\n",
    "geo_json1 = GeoJSON(data=geojson_data, style = {'color': 'red', 'opacity':1, 'weight':1.9, 'fillOpacity':0.5})\n",
    "map.add_layer(geo_json1)\n",
    "map"
   ]
  },
  {
   "cell_type": "markdown",
   "metadata": {},
   "source": [
    "## Use case 1.A. Features intersecting at the same time (Fix at a point in time for source feature)\n",
    "\n",
    "For entity A, in data set X, return identifiers for entities of class 2 from data set Y, that intersect A at time α\n",
    "\n",
    "Example: For a starting feature of CED Commonwealth Electoral District (CED) of Fraser (ACT), return identifiers for the target features, SA1 regions from the ASGS edition 2 (2016), that intersected the source CED, on 7 September 2017."
   ]
  },
  {
   "cell_type": "code",
   "execution_count": 35,
   "metadata": {},
   "outputs": [],
   "source": [
    "FRASER_CED = \"https://linked.data.gov.au/dataset/asgs/commonwealthelectoraldivision/214\"\n",
    "TIME_VARIABLE = \"2017-09-07\"\n",
    "TO_FEATURE_TYPE = \"https://linked.data.gov.au/def/asgs#StatisticalAreaLevel1\""
   ]
  },
  {
   "cell_type": "code",
   "execution_count": 36,
   "metadata": {},
   "outputs": [],
   "source": [
    "API_ENDPOINT = \"/temporal/intersects\"\n",
    "\n",
    "url = TIME_API + API_ENDPOINT\n",
    "payload = {\n",
    "    'uri': FRASER_CED,\n",
    "    'time' : TIME_VARIABLE,\n",
    "    'toFeatureType' : TO_FEATURE_TYPE\n",
    "}\n",
    "r = requests.get(url, params=payload)\n",
    "jsondata = r.json()\n",
    "mylist = [[k] for k in jsondata]"
   ]
  },
  {
   "cell_type": "code",
   "execution_count": 37,
   "metadata": {},
   "outputs": [
    {
     "data": {
      "text/html": [
       "<div><table id=\"2b19bffc-dbc9-4b6f-99bc-8de0e4440bac\" class=\"display\"><thead>\n",
       "    <tr style=\"text-align: right;\">\n",
       "      \n",
       "      <th>uri</th>\n",
       "    </tr>\n",
       "  </thead></table>\n",
       "<script type=\"text/javascript\">\n",
       "require([\"datatables\"], function (datatables) {\n",
       "    $(document).ready(function () {\n",
       "        var dt_args = {\"columnDefs\": [{\"className\": \"dt-left\", \"targets\": \"_all\"}], \"lengthMenu\": [50, 100, 200, 500], \"data\": [[\"https://linked.data.gov.au/dataset/asgs2016/statisticalarealevel1/21302134221/2016-07\"], [\"https://linked.data.gov.au/dataset/asgs2016/statisticalarealevel1/20603111305/2016-07\"], [\"https://linked.data.gov.au/dataset/asgs2016/statisticalarealevel1/20604112001/2016-07\"], [\"https://linked.data.gov.au/dataset/asgs2016/statisticalarealevel1/20604112119/2016-07\"], [\"https://linked.data.gov.au/dataset/asgs2016/statisticalarealevel1/20604112126/2016-07\"], [\"https://linked.data.gov.au/dataset/asgs2016/statisticalarealevel1/20604112701/2016-07\"], [\"https://linked.data.gov.au/dataset/asgs2016/statisticalarealevel1/20604112702/2016-07\"], [\"https://linked.data.gov.au/dataset/asgs2016/statisticalarealevel1/20605113102/2016-07\"], [\"https://linked.data.gov.au/dataset/asgs2016/statisticalarealevel1/21302134230/2016-07\"], [\"https://linked.data.gov.au/dataset/asgs2016/statisticalarealevel1/21302134231/2016-07\"], [\"https://linked.data.gov.au/dataset/asgs2016/statisticalarealevel1/21302134232/2016-07\"], [\"https://linked.data.gov.au/dataset/asgs2016/statisticalarealevel1/21302134233/2016-07\"], [\"https://linked.data.gov.au/dataset/asgs2016/statisticalarealevel1/21302134234/2016-07\"], [\"https://linked.data.gov.au/dataset/asgs2016/statisticalarealevel1/21302134126/2016-07\"], [\"https://linked.data.gov.au/dataset/asgs2016/statisticalarealevel1/21302134214/2016-07\"], [\"https://linked.data.gov.au/dataset/asgs2016/statisticalarealevel1/21302134235/2016-07\"], [\"https://linked.data.gov.au/dataset/asgs2016/statisticalarealevel1/21302134236/2016-07\"], [\"https://linked.data.gov.au/dataset/asgs2016/statisticalarealevel1/21302134237/2016-07\"], [\"https://linked.data.gov.au/dataset/asgs2016/statisticalarealevel1/21301133528/2016-07\"], [\"https://linked.data.gov.au/dataset/asgs2016/statisticalarealevel1/21302134215/2016-07\"], [\"https://linked.data.gov.au/dataset/asgs2016/statisticalarealevel1/21301133603/2016-07\"], [\"https://linked.data.gov.au/dataset/asgs2016/statisticalarealevel1/21301133604/2016-07\"], [\"https://linked.data.gov.au/dataset/asgs2016/statisticalarealevel1/21302134216/2016-07\"], [\"https://linked.data.gov.au/dataset/asgs2016/statisticalarealevel1/21301133605/2016-07\"], [\"https://linked.data.gov.au/dataset/asgs2016/statisticalarealevel1/21301133704/2016-07\"], [\"https://linked.data.gov.au/dataset/asgs2016/statisticalarealevel1/21301132801/2016-07\"], [\"https://linked.data.gov.au/dataset/asgs2016/statisticalarealevel1/21301132802/2016-07\"], [\"https://linked.data.gov.au/dataset/asgs2016/statisticalarealevel1/21301132803/2016-07\"], [\"https://linked.data.gov.au/dataset/asgs2016/statisticalarealevel1/21301132804/2016-07\"], [\"https://linked.data.gov.au/dataset/asgs2016/statisticalarealevel1/21301132805/2016-07\"], [\"https://linked.data.gov.au/dataset/asgs2016/statisticalarealevel1/21301132806/2016-07\"], [\"https://linked.data.gov.au/dataset/asgs2016/statisticalarealevel1/21301132807/2016-07\"], [\"https://linked.data.gov.au/dataset/asgs2016/statisticalarealevel1/21301132808/2016-07\"], [\"https://linked.data.gov.au/dataset/asgs2016/statisticalarealevel1/21301132809/2016-07\"], [\"https://linked.data.gov.au/dataset/asgs2016/statisticalarealevel1/21301132810/2016-07\"], [\"https://linked.data.gov.au/dataset/asgs2016/statisticalarealevel1/21301132811/2016-07\"], [\"https://linked.data.gov.au/dataset/asgs2016/statisticalarealevel1/21301132812/2016-07\"], [\"https://linked.data.gov.au/dataset/asgs2016/statisticalarealevel1/21301132813/2016-07\"], [\"https://linked.data.gov.au/dataset/asgs2016/statisticalarealevel1/21301132814/2016-07\"], [\"https://linked.data.gov.au/dataset/asgs2016/statisticalarealevel1/21301132815/2016-07\"], [\"https://linked.data.gov.au/dataset/asgs2016/statisticalarealevel1/21301132816/2016-07\"], [\"https://linked.data.gov.au/dataset/asgs2016/statisticalarealevel1/21301132817/2016-07\"], [\"https://linked.data.gov.au/dataset/asgs2016/statisticalarealevel1/21301132818/2016-07\"], [\"https://linked.data.gov.au/dataset/asgs2016/statisticalarealevel1/21301132819/2016-07\"], [\"https://linked.data.gov.au/dataset/asgs2016/statisticalarealevel1/21301132918/2016-07\"], [\"https://linked.data.gov.au/dataset/asgs2016/statisticalarealevel1/21301133009/2016-07\"], [\"https://linked.data.gov.au/dataset/asgs2016/statisticalarealevel1/21301133010/2016-07\"], [\"https://linked.data.gov.au/dataset/asgs2016/statisticalarealevel1/21301133011/2016-07\"], [\"https://linked.data.gov.au/dataset/asgs2016/statisticalarealevel1/21301133525/2016-07\"], [\"https://linked.data.gov.au/dataset/asgs2016/statisticalarealevel1/21301133601/2016-07\"], [\"https://linked.data.gov.au/dataset/asgs2016/statisticalarealevel1/21301133602/2016-07\"], [\"https://linked.data.gov.au/dataset/asgs2016/statisticalarealevel1/21302134238/2016-07\"], [\"https://linked.data.gov.au/dataset/asgs2016/statisticalarealevel1/21301133606/2016-07\"], [\"https://linked.data.gov.au/dataset/asgs2016/statisticalarealevel1/21301133607/2016-07\"], [\"https://linked.data.gov.au/dataset/asgs2016/statisticalarealevel1/21301133608/2016-07\"], [\"https://linked.data.gov.au/dataset/asgs2016/statisticalarealevel1/21301133609/2016-07\"], [\"https://linked.data.gov.au/dataset/asgs2016/statisticalarealevel1/21301133610/2016-07\"], [\"https://linked.data.gov.au/dataset/asgs2016/statisticalarealevel1/21301133611/2016-07\"], [\"https://linked.data.gov.au/dataset/asgs2016/statisticalarealevel1/21301133612/2016-07\"], [\"https://linked.data.gov.au/dataset/asgs2016/statisticalarealevel1/21301133613/2016-07\"], [\"https://linked.data.gov.au/dataset/asgs2016/statisticalarealevel1/21301133614/2016-07\"], [\"https://linked.data.gov.au/dataset/asgs2016/statisticalarealevel1/21301133615/2016-07\"], [\"https://linked.data.gov.au/dataset/asgs2016/statisticalarealevel1/21301133616/2016-07\"], [\"https://linked.data.gov.au/dataset/asgs2016/statisticalarealevel1/21301133617/2016-07\"], [\"https://linked.data.gov.au/dataset/asgs2016/statisticalarealevel1/21301133618/2016-07\"], [\"https://linked.data.gov.au/dataset/asgs2016/statisticalarealevel1/21301133619/2016-07\"], [\"https://linked.data.gov.au/dataset/asgs2016/statisticalarealevel1/21301133709/2016-07\"], [\"https://linked.data.gov.au/dataset/asgs2016/statisticalarealevel1/21301133711/2016-07\"], [\"https://linked.data.gov.au/dataset/asgs2016/statisticalarealevel1/21301133712/2016-07\"], [\"https://linked.data.gov.au/dataset/asgs2016/statisticalarealevel1/21301133725/2016-07\"], [\"https://linked.data.gov.au/dataset/asgs2016/statisticalarealevel1/21301133801/2016-07\"], [\"https://linked.data.gov.au/dataset/asgs2016/statisticalarealevel1/21301133802/2016-07\"], [\"https://linked.data.gov.au/dataset/asgs2016/statisticalarealevel1/21301133803/2016-07\"], [\"https://linked.data.gov.au/dataset/asgs2016/statisticalarealevel1/21301133804/2016-07\"], [\"https://linked.data.gov.au/dataset/asgs2016/statisticalarealevel1/21301133805/2016-07\"], [\"https://linked.data.gov.au/dataset/asgs2016/statisticalarealevel1/21301133806/2016-07\"], [\"https://linked.data.gov.au/dataset/asgs2016/statisticalarealevel1/21301133807/2016-07\"], [\"https://linked.data.gov.au/dataset/asgs2016/statisticalarealevel1/21301133808/2016-07\"], [\"https://linked.data.gov.au/dataset/asgs2016/statisticalarealevel1/21301133809/2016-07\"], [\"https://linked.data.gov.au/dataset/asgs2016/statisticalarealevel1/21301133810/2016-07\"], [\"https://linked.data.gov.au/dataset/asgs2016/statisticalarealevel1/21301133811/2016-07\"], [\"https://linked.data.gov.au/dataset/asgs2016/statisticalarealevel1/21301133812/2016-07\"], [\"https://linked.data.gov.au/dataset/asgs2016/statisticalarealevel1/21301133813/2016-07\"], [\"https://linked.data.gov.au/dataset/asgs2016/statisticalarealevel1/21301133814/2016-07\"], [\"https://linked.data.gov.au/dataset/asgs2016/statisticalarealevel1/21301133815/2016-07\"], [\"https://linked.data.gov.au/dataset/asgs2016/statisticalarealevel1/21301133824/2016-07\"], [\"https://linked.data.gov.au/dataset/asgs2016/statisticalarealevel1/21301133816/2016-07\"], [\"https://linked.data.gov.au/dataset/asgs2016/statisticalarealevel1/21301133817/2016-07\"], [\"https://linked.data.gov.au/dataset/asgs2016/statisticalarealevel1/21301133818/2016-07\"], [\"https://linked.data.gov.au/dataset/asgs2016/statisticalarealevel1/21301133819/2016-07\"], [\"https://linked.data.gov.au/dataset/asgs2016/statisticalarealevel1/21301133820/2016-07\"], [\"https://linked.data.gov.au/dataset/asgs2016/statisticalarealevel1/21301133821/2016-07\"], [\"https://linked.data.gov.au/dataset/asgs2016/statisticalarealevel1/21301133822/2016-07\"], [\"https://linked.data.gov.au/dataset/asgs2016/statisticalarealevel1/21301133823/2016-07\"], [\"https://linked.data.gov.au/dataset/asgs2016/statisticalarealevel1/21301133825/2016-07\"], [\"https://linked.data.gov.au/dataset/asgs2016/statisticalarealevel1/21301133826/2016-07\"], [\"https://linked.data.gov.au/dataset/asgs2016/statisticalarealevel1/21301133827/2016-07\"], [\"https://linked.data.gov.au/dataset/asgs2016/statisticalarealevel1/21301133828/2016-07\"], [\"https://linked.data.gov.au/dataset/asgs2016/statisticalarealevel1/21301133829/2016-07\"], [\"https://linked.data.gov.au/dataset/asgs2016/statisticalarealevel1/21301133830/2016-07\"], [\"https://linked.data.gov.au/dataset/asgs2016/statisticalarealevel1/21301133831/2016-07\"], [\"https://linked.data.gov.au/dataset/asgs2016/statisticalarealevel1/21301133832/2016-07\"], [\"https://linked.data.gov.au/dataset/asgs2016/statisticalarealevel1/21301133840/2016-07\"], [\"https://linked.data.gov.au/dataset/asgs2016/statisticalarealevel1/21301133833/2016-07\"], [\"https://linked.data.gov.au/dataset/asgs2016/statisticalarealevel1/21301133834/2016-07\"], [\"https://linked.data.gov.au/dataset/asgs2016/statisticalarealevel1/21301133835/2016-07\"], [\"https://linked.data.gov.au/dataset/asgs2016/statisticalarealevel1/21301133836/2016-07\"], [\"https://linked.data.gov.au/dataset/asgs2016/statisticalarealevel1/21301133837/2016-07\"], [\"https://linked.data.gov.au/dataset/asgs2016/statisticalarealevel1/21301133838/2016-07\"], [\"https://linked.data.gov.au/dataset/asgs2016/statisticalarealevel1/21301133839/2016-07\"], [\"https://linked.data.gov.au/dataset/asgs2016/statisticalarealevel1/21302134217/2016-07\"], [\"https://linked.data.gov.au/dataset/asgs2016/statisticalarealevel1/21301133841/2016-07\"], [\"https://linked.data.gov.au/dataset/asgs2016/statisticalarealevel1/21301133842/2016-07\"], [\"https://linked.data.gov.au/dataset/asgs2016/statisticalarealevel1/21301133843/2016-07\"], [\"https://linked.data.gov.au/dataset/asgs2016/statisticalarealevel1/21301133844/2016-07\"], [\"https://linked.data.gov.au/dataset/asgs2016/statisticalarealevel1/21301133845/2016-07\"], [\"https://linked.data.gov.au/dataset/asgs2016/statisticalarealevel1/21302134108/2016-07\"], [\"https://linked.data.gov.au/dataset/asgs2016/statisticalarealevel1/21302134107/2016-07\"], [\"https://linked.data.gov.au/dataset/asgs2016/statisticalarealevel1/21302134101/2016-07\"], [\"https://linked.data.gov.au/dataset/asgs2016/statisticalarealevel1/21302134102/2016-07\"], [\"https://linked.data.gov.au/dataset/asgs2016/statisticalarealevel1/21302134103/2016-07\"], [\"https://linked.data.gov.au/dataset/asgs2016/statisticalarealevel1/21302134104/2016-07\"], [\"https://linked.data.gov.au/dataset/asgs2016/statisticalarealevel1/21302134105/2016-07\"], [\"https://linked.data.gov.au/dataset/asgs2016/statisticalarealevel1/21302134106/2016-07\"], [\"https://linked.data.gov.au/dataset/asgs2016/statisticalarealevel1/21302134109/2016-07\"], [\"https://linked.data.gov.au/dataset/asgs2016/statisticalarealevel1/21302134110/2016-07\"], [\"https://linked.data.gov.au/dataset/asgs2016/statisticalarealevel1/21302134111/2016-07\"], [\"https://linked.data.gov.au/dataset/asgs2016/statisticalarealevel1/21302134112/2016-07\"], [\"https://linked.data.gov.au/dataset/asgs2016/statisticalarealevel1/21302134113/2016-07\"], [\"https://linked.data.gov.au/dataset/asgs2016/statisticalarealevel1/21302134114/2016-07\"], [\"https://linked.data.gov.au/dataset/asgs2016/statisticalarealevel1/21302134115/2016-07\"], [\"https://linked.data.gov.au/dataset/asgs2016/statisticalarealevel1/21302134116/2016-07\"], [\"https://linked.data.gov.au/dataset/asgs2016/statisticalarealevel1/21302134118/2016-07\"], [\"https://linked.data.gov.au/dataset/asgs2016/statisticalarealevel1/21302134119/2016-07\"], [\"https://linked.data.gov.au/dataset/asgs2016/statisticalarealevel1/21302134120/2016-07\"], [\"https://linked.data.gov.au/dataset/asgs2016/statisticalarealevel1/21302134121/2016-07\"], [\"https://linked.data.gov.au/dataset/asgs2016/statisticalarealevel1/21302134123/2016-07\"], [\"https://linked.data.gov.au/dataset/asgs2016/statisticalarealevel1/21302134124/2016-07\"], [\"https://linked.data.gov.au/dataset/asgs2016/statisticalarealevel1/21302134125/2016-07\"], [\"https://linked.data.gov.au/dataset/asgs2016/statisticalarealevel1/21302134127/2016-07\"], [\"https://linked.data.gov.au/dataset/asgs2016/statisticalarealevel1/21302134128/2016-07\"], [\"https://linked.data.gov.au/dataset/asgs2016/statisticalarealevel1/21302134129/2016-07\"], [\"https://linked.data.gov.au/dataset/asgs2016/statisticalarealevel1/21302134130/2016-07\"], [\"https://linked.data.gov.au/dataset/asgs2016/statisticalarealevel1/21302134131/2016-07\"], [\"https://linked.data.gov.au/dataset/asgs2016/statisticalarealevel1/21302134132/2016-07\"], [\"https://linked.data.gov.au/dataset/asgs2016/statisticalarealevel1/21302134133/2016-07\"], [\"https://linked.data.gov.au/dataset/asgs2016/statisticalarealevel1/21302134134/2016-07\"], [\"https://linked.data.gov.au/dataset/asgs2016/statisticalarealevel1/21302134201/2016-07\"], [\"https://linked.data.gov.au/dataset/asgs2016/statisticalarealevel1/21302134202/2016-07\"], [\"https://linked.data.gov.au/dataset/asgs2016/statisticalarealevel1/21302134203/2016-07\"], [\"https://linked.data.gov.au/dataset/asgs2016/statisticalarealevel1/21302134204/2016-07\"], [\"https://linked.data.gov.au/dataset/asgs2016/statisticalarealevel1/21302134205/2016-07\"], [\"https://linked.data.gov.au/dataset/asgs2016/statisticalarealevel1/21302134206/2016-07\"], [\"https://linked.data.gov.au/dataset/asgs2016/statisticalarealevel1/21302134207/2016-07\"], [\"https://linked.data.gov.au/dataset/asgs2016/statisticalarealevel1/21302134218/2016-07\"], [\"https://linked.data.gov.au/dataset/asgs2016/statisticalarealevel1/21302134219/2016-07\"], [\"https://linked.data.gov.au/dataset/asgs2016/statisticalarealevel1/21302134220/2016-07\"], [\"https://linked.data.gov.au/dataset/asgs2016/statisticalarealevel1/21302134208/2016-07\"], [\"https://linked.data.gov.au/dataset/asgs2016/statisticalarealevel1/21302134209/2016-07\"], [\"https://linked.data.gov.au/dataset/asgs2016/statisticalarealevel1/21302134210/2016-07\"], [\"https://linked.data.gov.au/dataset/asgs2016/statisticalarealevel1/21302134211/2016-07\"], [\"https://linked.data.gov.au/dataset/asgs2016/statisticalarealevel1/21302134212/2016-07\"], [\"https://linked.data.gov.au/dataset/asgs2016/statisticalarealevel1/21302134213/2016-07\"], [\"https://linked.data.gov.au/dataset/asgs2016/statisticalarealevel1/21302134222/2016-07\"], [\"https://linked.data.gov.au/dataset/asgs2016/statisticalarealevel1/21302134223/2016-07\"], [\"https://linked.data.gov.au/dataset/asgs2016/statisticalarealevel1/21302134224/2016-07\"], [\"https://linked.data.gov.au/dataset/asgs2016/statisticalarealevel1/21302134225/2016-07\"], [\"https://linked.data.gov.au/dataset/asgs2016/statisticalarealevel1/21302134226/2016-07\"], [\"https://linked.data.gov.au/dataset/asgs2016/statisticalarealevel1/21302134227/2016-07\"], [\"https://linked.data.gov.au/dataset/asgs2016/statisticalarealevel1/21302134228/2016-07\"], [\"https://linked.data.gov.au/dataset/asgs2016/statisticalarealevel1/21302134229/2016-07\"], [\"https://linked.data.gov.au/dataset/asgs2016/statisticalarealevel1/21302134239/2016-07\"], [\"https://linked.data.gov.au/dataset/asgs2016/statisticalarealevel1/21302134240/2016-07\"], [\"https://linked.data.gov.au/dataset/asgs2016/statisticalarealevel1/21302134241/2016-07\"], [\"https://linked.data.gov.au/dataset/asgs2016/statisticalarealevel1/21302134242/2016-07\"], [\"https://linked.data.gov.au/dataset/asgs2016/statisticalarealevel1/21302134243/2016-07\"], [\"https://linked.data.gov.au/dataset/asgs2016/statisticalarealevel1/21302134244/2016-07\"], [\"https://linked.data.gov.au/dataset/asgs2016/statisticalarealevel1/21302134245/2016-07\"], [\"https://linked.data.gov.au/dataset/asgs2016/statisticalarealevel1/21302134246/2016-07\"], [\"https://linked.data.gov.au/dataset/asgs2016/statisticalarealevel1/21302134321/2016-07\"], [\"https://linked.data.gov.au/dataset/asgs2016/statisticalarealevel1/21302134247/2016-07\"], [\"https://linked.data.gov.au/dataset/asgs2016/statisticalarealevel1/21302134248/2016-07\"], [\"https://linked.data.gov.au/dataset/asgs2016/statisticalarealevel1/21302134301/2016-07\"], [\"https://linked.data.gov.au/dataset/asgs2016/statisticalarealevel1/21302134302/2016-07\"], [\"https://linked.data.gov.au/dataset/asgs2016/statisticalarealevel1/21302134303/2016-07\"], [\"https://linked.data.gov.au/dataset/asgs2016/statisticalarealevel1/21302134304/2016-07\"], [\"https://linked.data.gov.au/dataset/asgs2016/statisticalarealevel1/21302134305/2016-07\"], [\"https://linked.data.gov.au/dataset/asgs2016/statisticalarealevel1/21302134306/2016-07\"], [\"https://linked.data.gov.au/dataset/asgs2016/statisticalarealevel1/21302134307/2016-07\"], [\"https://linked.data.gov.au/dataset/asgs2016/statisticalarealevel1/21302134308/2016-07\"], [\"https://linked.data.gov.au/dataset/asgs2016/statisticalarealevel1/21302134322/2016-07\"], [\"https://linked.data.gov.au/dataset/asgs2016/statisticalarealevel1/21302134323/2016-07\"], [\"https://linked.data.gov.au/dataset/asgs2016/statisticalarealevel1/21302134324/2016-07\"], [\"https://linked.data.gov.au/dataset/asgs2016/statisticalarealevel1/21302134309/2016-07\"], [\"https://linked.data.gov.au/dataset/asgs2016/statisticalarealevel1/21302134310/2016-07\"], [\"https://linked.data.gov.au/dataset/asgs2016/statisticalarealevel1/21302134311/2016-07\"], [\"https://linked.data.gov.au/dataset/asgs2016/statisticalarealevel1/21302134312/2016-07\"], [\"https://linked.data.gov.au/dataset/asgs2016/statisticalarealevel1/21302134313/2016-07\"], [\"https://linked.data.gov.au/dataset/asgs2016/statisticalarealevel1/21302134314/2016-07\"], [\"https://linked.data.gov.au/dataset/asgs2016/statisticalarealevel1/21302134315/2016-07\"], [\"https://linked.data.gov.au/dataset/asgs2016/statisticalarealevel1/21302134316/2016-07\"], [\"https://linked.data.gov.au/dataset/asgs2016/statisticalarealevel1/21302134317/2016-07\"], [\"https://linked.data.gov.au/dataset/asgs2016/statisticalarealevel1/21302134318/2016-07\"], [\"https://linked.data.gov.au/dataset/asgs2016/statisticalarealevel1/21302134319/2016-07\"], [\"https://linked.data.gov.au/dataset/asgs2016/statisticalarealevel1/21302134320/2016-07\"], [\"https://linked.data.gov.au/dataset/asgs2016/statisticalarealevel1/21302134325/2016-07\"], [\"https://linked.data.gov.au/dataset/asgs2016/statisticalarealevel1/21302134326/2016-07\"], [\"https://linked.data.gov.au/dataset/asgs2016/statisticalarealevel1/21302134327/2016-07\"], [\"https://linked.data.gov.au/dataset/asgs2016/statisticalarealevel1/21302134328/2016-07\"], [\"https://linked.data.gov.au/dataset/asgs2016/statisticalarealevel1/21302134329/2016-07\"], [\"https://linked.data.gov.au/dataset/asgs2016/statisticalarealevel1/21302134330/2016-07\"], [\"https://linked.data.gov.au/dataset/asgs2016/statisticalarealevel1/21302134331/2016-07\"], [\"https://linked.data.gov.au/dataset/asgs2016/statisticalarealevel1/21302134332/2016-07\"], [\"https://linked.data.gov.au/dataset/asgs2016/statisticalarealevel1/21302134401/2016-07\"], [\"https://linked.data.gov.au/dataset/asgs2016/statisticalarealevel1/21302134402/2016-07\"], [\"https://linked.data.gov.au/dataset/asgs2016/statisticalarealevel1/21302134403/2016-07\"], [\"https://linked.data.gov.au/dataset/asgs2016/statisticalarealevel1/21302134404/2016-07\"], [\"https://linked.data.gov.au/dataset/asgs2016/statisticalarealevel1/21302134405/2016-07\"], [\"https://linked.data.gov.au/dataset/asgs2016/statisticalarealevel1/21302134406/2016-07\"], [\"https://linked.data.gov.au/dataset/asgs2016/statisticalarealevel1/21302134407/2016-07\"], [\"https://linked.data.gov.au/dataset/asgs2016/statisticalarealevel1/21302134408/2016-07\"], [\"https://linked.data.gov.au/dataset/asgs2016/statisticalarealevel1/21302134409/2016-07\"], [\"https://linked.data.gov.au/dataset/asgs2016/statisticalarealevel1/21302134410/2016-07\"], [\"https://linked.data.gov.au/dataset/asgs2016/statisticalarealevel1/21302134411/2016-07\"], [\"https://linked.data.gov.au/dataset/asgs2016/statisticalarealevel1/21302134412/2016-07\"], [\"https://linked.data.gov.au/dataset/asgs2016/statisticalarealevel1/21302134420/2016-07\"], [\"https://linked.data.gov.au/dataset/asgs2016/statisticalarealevel1/21302134421/2016-07\"], [\"https://linked.data.gov.au/dataset/asgs2016/statisticalarealevel1/21302134422/2016-07\"], [\"https://linked.data.gov.au/dataset/asgs2016/statisticalarealevel1/21302134413/2016-07\"], [\"https://linked.data.gov.au/dataset/asgs2016/statisticalarealevel1/21302134414/2016-07\"], [\"https://linked.data.gov.au/dataset/asgs2016/statisticalarealevel1/21302134415/2016-07\"], [\"https://linked.data.gov.au/dataset/asgs2016/statisticalarealevel1/21302134416/2016-07\"], [\"https://linked.data.gov.au/dataset/asgs2016/statisticalarealevel1/21302134417/2016-07\"], [\"https://linked.data.gov.au/dataset/asgs2016/statisticalarealevel1/21302134418/2016-07\"], [\"https://linked.data.gov.au/dataset/asgs2016/statisticalarealevel1/21302134419/2016-07\"], [\"https://linked.data.gov.au/dataset/asgs2016/statisticalarealevel1/21302134423/2016-07\"], [\"https://linked.data.gov.au/dataset/asgs2016/statisticalarealevel1/21302134424/2016-07\"], [\"https://linked.data.gov.au/dataset/asgs2016/statisticalarealevel1/21302134425/2016-07\"], [\"https://linked.data.gov.au/dataset/asgs2016/statisticalarealevel1/21302134426/2016-07\"], [\"https://linked.data.gov.au/dataset/asgs2016/statisticalarealevel1/21302134427/2016-07\"], [\"https://linked.data.gov.au/dataset/asgs2016/statisticalarealevel1/21302134428/2016-07\"], [\"https://linked.data.gov.au/dataset/asgs2016/statisticalarealevel1/21302134429/2016-07\"], [\"https://linked.data.gov.au/dataset/asgs2016/statisticalarealevel1/21302134430/2016-07\"], [\"https://linked.data.gov.au/dataset/asgs2016/statisticalarealevel1/21302134431/2016-07\"], [\"https://linked.data.gov.au/dataset/asgs2016/statisticalarealevel1/21302134432/2016-07\"], [\"https://linked.data.gov.au/dataset/asgs2016/statisticalarealevel1/21302134433/2016-07\"], [\"https://linked.data.gov.au/dataset/asgs2016/statisticalarealevel1/21302134434/2016-07\"], [\"https://linked.data.gov.au/dataset/asgs2016/statisticalarealevel1/21302134435/2016-07\"], [\"https://linked.data.gov.au/dataset/asgs2016/statisticalarealevel1/21302134436/2016-07\"], [\"https://linked.data.gov.au/dataset/asgs2016/statisticalarealevel1/21302134437/2016-07\"], [\"https://linked.data.gov.au/dataset/asgs2016/statisticalarealevel1/21302134438/2016-07\"], [\"https://linked.data.gov.au/dataset/asgs2016/statisticalarealevel1/21302134439/2016-07\"], [\"https://linked.data.gov.au/dataset/asgs2016/statisticalarealevel1/21302134440/2016-07\"], [\"https://linked.data.gov.au/dataset/asgs2016/statisticalarealevel1/21302134441/2016-07\"], [\"https://linked.data.gov.au/dataset/asgs2016/statisticalarealevel1/21302134442/2016-07\"], [\"https://linked.data.gov.au/dataset/asgs2016/statisticalarealevel1/21302134503/2016-07\"], [\"https://linked.data.gov.au/dataset/asgs2016/statisticalarealevel1/21302134505/2016-07\"], [\"https://linked.data.gov.au/dataset/asgs2016/statisticalarealevel1/21302134506/2016-07\"], [\"https://linked.data.gov.au/dataset/asgs2016/statisticalarealevel1/21302134612/2016-07\"], [\"https://linked.data.gov.au/dataset/asgs2016/statisticalarealevel1/21302134601/2016-07\"], [\"https://linked.data.gov.au/dataset/asgs2016/statisticalarealevel1/21302134602/2016-07\"], [\"https://linked.data.gov.au/dataset/asgs2016/statisticalarealevel1/21302134603/2016-07\"], [\"https://linked.data.gov.au/dataset/asgs2016/statisticalarealevel1/21302134604/2016-07\"], [\"https://linked.data.gov.au/dataset/asgs2016/statisticalarealevel1/21302134605/2016-07\"], [\"https://linked.data.gov.au/dataset/asgs2016/statisticalarealevel1/21302134606/2016-07\"], [\"https://linked.data.gov.au/dataset/asgs2016/statisticalarealevel1/21302134607/2016-07\"], [\"https://linked.data.gov.au/dataset/asgs2016/statisticalarealevel1/21302134608/2016-07\"], [\"https://linked.data.gov.au/dataset/asgs2016/statisticalarealevel1/21302134609/2016-07\"], [\"https://linked.data.gov.au/dataset/asgs2016/statisticalarealevel1/21302134610/2016-07\"], [\"https://linked.data.gov.au/dataset/asgs2016/statisticalarealevel1/21302134611/2016-07\"], [\"https://linked.data.gov.au/dataset/asgs2016/statisticalarealevel1/21302134613/2016-07\"], [\"https://linked.data.gov.au/dataset/asgs2016/statisticalarealevel1/21302134614/2016-07\"], [\"https://linked.data.gov.au/dataset/asgs2016/statisticalarealevel1/21302134615/2016-07\"], [\"https://linked.data.gov.au/dataset/asgs2016/statisticalarealevel1/21302134616/2016-07\"], [\"https://linked.data.gov.au/dataset/asgs2016/statisticalarealevel1/21302134617/2016-07\"], [\"https://linked.data.gov.au/dataset/asgs2016/statisticalarealevel1/21302134618/2016-07\"], [\"https://linked.data.gov.au/dataset/asgs2016/statisticalarealevel1/21302134619/2016-07\"], [\"https://linked.data.gov.au/dataset/asgs2016/statisticalarealevel1/21302134620/2016-07\"], [\"https://linked.data.gov.au/dataset/asgs2016/statisticalarealevel1/21302134621/2016-07\"], [\"https://linked.data.gov.au/dataset/asgs2016/statisticalarealevel1/21303134707/2016-07\"], [\"https://linked.data.gov.au/dataset/asgs2016/statisticalarealevel1/21302134622/2016-07\"], [\"https://linked.data.gov.au/dataset/asgs2016/statisticalarealevel1/21302134623/2016-07\"], [\"https://linked.data.gov.au/dataset/asgs2016/statisticalarealevel1/21302134624/2016-07\"], [\"https://linked.data.gov.au/dataset/asgs2016/statisticalarealevel1/21302134625/2016-07\"], [\"https://linked.data.gov.au/dataset/asgs2016/statisticalarealevel1/21302134626/2016-07\"], [\"https://linked.data.gov.au/dataset/asgs2016/statisticalarealevel1/21302134627/2016-07\"], [\"https://linked.data.gov.au/dataset/asgs2016/statisticalarealevel1/21302134628/2016-07\"], [\"https://linked.data.gov.au/dataset/asgs2016/statisticalarealevel1/21302134629/2016-07\"], [\"https://linked.data.gov.au/dataset/asgs2016/statisticalarealevel1/21303135125/2016-07\"], [\"https://linked.data.gov.au/dataset/asgs2016/statisticalarealevel1/21302134630/2016-07\"], [\"https://linked.data.gov.au/dataset/asgs2016/statisticalarealevel1/21302134631/2016-07\"], [\"https://linked.data.gov.au/dataset/asgs2016/statisticalarealevel1/21302134632/2016-07\"], [\"https://linked.data.gov.au/dataset/asgs2016/statisticalarealevel1/21302134633/2016-07\"], [\"https://linked.data.gov.au/dataset/asgs2016/statisticalarealevel1/21302134634/2016-07\"], [\"https://linked.data.gov.au/dataset/asgs2016/statisticalarealevel1/21302134635/2016-07\"], [\"https://linked.data.gov.au/dataset/asgs2016/statisticalarealevel1/21303134701/2016-07\"], [\"https://linked.data.gov.au/dataset/asgs2016/statisticalarealevel1/21303134702/2016-07\"], [\"https://linked.data.gov.au/dataset/asgs2016/statisticalarealevel1/21303134705/2016-07\"], [\"https://linked.data.gov.au/dataset/asgs2016/statisticalarealevel1/21303134706/2016-07\"], [\"https://linked.data.gov.au/dataset/asgs2016/statisticalarealevel1/21303134708/2016-07\"], [\"https://linked.data.gov.au/dataset/asgs2016/statisticalarealevel1/21303134709/2016-07\"], [\"https://linked.data.gov.au/dataset/asgs2016/statisticalarealevel1/21303134710/2016-07\"], [\"https://linked.data.gov.au/dataset/asgs2016/statisticalarealevel1/21303134711/2016-07\"], [\"https://linked.data.gov.au/dataset/asgs2016/statisticalarealevel1/21303134712/2016-07\"], [\"https://linked.data.gov.au/dataset/asgs2016/statisticalarealevel1/21303134713/2016-07\"], [\"https://linked.data.gov.au/dataset/asgs2016/statisticalarealevel1/21303134717/2016-07\"], [\"https://linked.data.gov.au/dataset/asgs2016/statisticalarealevel1/21303134731/2016-07\"], [\"https://linked.data.gov.au/dataset/asgs2016/statisticalarealevel1/21303134721/2016-07\"], [\"https://linked.data.gov.au/dataset/asgs2016/statisticalarealevel1/21303134722/2016-07\"], [\"https://linked.data.gov.au/dataset/asgs2016/statisticalarealevel1/21303134723/2016-07\"], [\"https://linked.data.gov.au/dataset/asgs2016/statisticalarealevel1/21303134724/2016-07\"], [\"https://linked.data.gov.au/dataset/asgs2016/statisticalarealevel1/21303134725/2016-07\"], [\"https://linked.data.gov.au/dataset/asgs2016/statisticalarealevel1/21303134726/2016-07\"], [\"https://linked.data.gov.au/dataset/asgs2016/statisticalarealevel1/21303134728/2016-07\"], [\"https://linked.data.gov.au/dataset/asgs2016/statisticalarealevel1/21303134729/2016-07\"], [\"https://linked.data.gov.au/dataset/asgs2016/statisticalarealevel1/21303134737/2016-07\"], [\"https://linked.data.gov.au/dataset/asgs2016/statisticalarealevel1/21303134813/2016-07\"], [\"https://linked.data.gov.au/dataset/asgs2016/statisticalarealevel1/21303134801/2016-07\"], [\"https://linked.data.gov.au/dataset/asgs2016/statisticalarealevel1/21303134802/2016-07\"], [\"https://linked.data.gov.au/dataset/asgs2016/statisticalarealevel1/21303134803/2016-07\"], [\"https://linked.data.gov.au/dataset/asgs2016/statisticalarealevel1/21303134804/2016-07\"], [\"https://linked.data.gov.au/dataset/asgs2016/statisticalarealevel1/21303134805/2016-07\"], [\"https://linked.data.gov.au/dataset/asgs2016/statisticalarealevel1/21303134806/2016-07\"], [\"https://linked.data.gov.au/dataset/asgs2016/statisticalarealevel1/21303134807/2016-07\"], [\"https://linked.data.gov.au/dataset/asgs2016/statisticalarealevel1/21303134809/2016-07\"], [\"https://linked.data.gov.au/dataset/asgs2016/statisticalarealevel1/21303134810/2016-07\"], [\"https://linked.data.gov.au/dataset/asgs2016/statisticalarealevel1/21303134811/2016-07\"], [\"https://linked.data.gov.au/dataset/asgs2016/statisticalarealevel1/21303134812/2016-07\"], [\"https://linked.data.gov.au/dataset/asgs2016/statisticalarealevel1/21303134814/2016-07\"], [\"https://linked.data.gov.au/dataset/asgs2016/statisticalarealevel1/21303134815/2016-07\"], [\"https://linked.data.gov.au/dataset/asgs2016/statisticalarealevel1/21303134816/2016-07\"], [\"https://linked.data.gov.au/dataset/asgs2016/statisticalarealevel1/21303134817/2016-07\"], [\"https://linked.data.gov.au/dataset/asgs2016/statisticalarealevel1/21303134818/2016-07\"], [\"https://linked.data.gov.au/dataset/asgs2016/statisticalarealevel1/21303134819/2016-07\"], [\"https://linked.data.gov.au/dataset/asgs2016/statisticalarealevel1/21303134820/2016-07\"], [\"https://linked.data.gov.au/dataset/asgs2016/statisticalarealevel1/21303134821/2016-07\"], [\"https://linked.data.gov.au/dataset/asgs2016/statisticalarealevel1/21303134822/2016-07\"], [\"https://linked.data.gov.au/dataset/asgs2016/statisticalarealevel1/21303134823/2016-07\"], [\"https://linked.data.gov.au/dataset/asgs2016/statisticalarealevel1/21303134824/2016-07\"], [\"https://linked.data.gov.au/dataset/asgs2016/statisticalarealevel1/21303134825/2016-07\"], [\"https://linked.data.gov.au/dataset/asgs2016/statisticalarealevel1/21303134826/2016-07\"], [\"https://linked.data.gov.au/dataset/asgs2016/statisticalarealevel1/21303134827/2016-07\"], [\"https://linked.data.gov.au/dataset/asgs2016/statisticalarealevel1/21303134829/2016-07\"], [\"https://linked.data.gov.au/dataset/asgs2016/statisticalarealevel1/21303134830/2016-07\"], [\"https://linked.data.gov.au/dataset/asgs2016/statisticalarealevel1/21303134831/2016-07\"], [\"https://linked.data.gov.au/dataset/asgs2016/statisticalarealevel1/21303134832/2016-07\"], [\"https://linked.data.gov.au/dataset/asgs2016/statisticalarealevel1/21303134833/2016-07\"], [\"https://linked.data.gov.au/dataset/asgs2016/statisticalarealevel1/21303134834/2016-07\"], [\"https://linked.data.gov.au/dataset/asgs2016/statisticalarealevel1/21303134835/2016-07\"], [\"https://linked.data.gov.au/dataset/asgs2016/statisticalarealevel1/21303134836/2016-07\"], [\"https://linked.data.gov.au/dataset/asgs2016/statisticalarealevel1/21303134906/2016-07\"], [\"https://linked.data.gov.au/dataset/asgs2016/statisticalarealevel1/21303134907/2016-07\"], [\"https://linked.data.gov.au/dataset/asgs2016/statisticalarealevel1/21303134916/2016-07\"], [\"https://linked.data.gov.au/dataset/asgs2016/statisticalarealevel1/21303134924/2016-07\"], [\"https://linked.data.gov.au/dataset/asgs2016/statisticalarealevel1/21303134926/2016-07\"], [\"https://linked.data.gov.au/dataset/asgs2016/statisticalarealevel1/21303134928/2016-07\"], [\"https://linked.data.gov.au/dataset/asgs2016/statisticalarealevel1/21303135001/2016-07\"], [\"https://linked.data.gov.au/dataset/asgs2016/statisticalarealevel1/21303135002/2016-07\"], [\"https://linked.data.gov.au/dataset/asgs2016/statisticalarealevel1/21303135003/2016-07\"], [\"https://linked.data.gov.au/dataset/asgs2016/statisticalarealevel1/21303135004/2016-07\"], [\"https://linked.data.gov.au/dataset/asgs2016/statisticalarealevel1/21303135005/2016-07\"], [\"https://linked.data.gov.au/dataset/asgs2016/statisticalarealevel1/21303135006/2016-07\"], [\"https://linked.data.gov.au/dataset/asgs2016/statisticalarealevel1/21303135007/2016-07\"], [\"https://linked.data.gov.au/dataset/asgs2016/statisticalarealevel1/21303135008/2016-07\"], [\"https://linked.data.gov.au/dataset/asgs2016/statisticalarealevel1/21303135009/2016-07\"], [\"https://linked.data.gov.au/dataset/asgs2016/statisticalarealevel1/21303135010/2016-07\"], [\"https://linked.data.gov.au/dataset/asgs2016/statisticalarealevel1/21303135011/2016-07\"], [\"https://linked.data.gov.au/dataset/asgs2016/statisticalarealevel1/21303135012/2016-07\"], [\"https://linked.data.gov.au/dataset/asgs2016/statisticalarealevel1/21303135013/2016-07\"], [\"https://linked.data.gov.au/dataset/asgs2016/statisticalarealevel1/21303135014/2016-07\"], [\"https://linked.data.gov.au/dataset/asgs2016/statisticalarealevel1/21303135015/2016-07\"], [\"https://linked.data.gov.au/dataset/asgs2016/statisticalarealevel1/21303135016/2016-07\"], [\"https://linked.data.gov.au/dataset/asgs2016/statisticalarealevel1/21303135017/2016-07\"], [\"https://linked.data.gov.au/dataset/asgs2016/statisticalarealevel1/21303135018/2016-07\"], [\"https://linked.data.gov.au/dataset/asgs2016/statisticalarealevel1/21303135019/2016-07\"], [\"https://linked.data.gov.au/dataset/asgs2016/statisticalarealevel1/21303135101/2016-07\"], [\"https://linked.data.gov.au/dataset/asgs2016/statisticalarealevel1/21303135102/2016-07\"], [\"https://linked.data.gov.au/dataset/asgs2016/statisticalarealevel1/21303135103/2016-07\"], [\"https://linked.data.gov.au/dataset/asgs2016/statisticalarealevel1/21303135104/2016-07\"], [\"https://linked.data.gov.au/dataset/asgs2016/statisticalarealevel1/21303135105/2016-07\"], [\"https://linked.data.gov.au/dataset/asgs2016/statisticalarealevel1/21303135106/2016-07\"], [\"https://linked.data.gov.au/dataset/asgs2016/statisticalarealevel1/21303135107/2016-07\"], [\"https://linked.data.gov.au/dataset/asgs2016/statisticalarealevel1/21303135108/2016-07\"], [\"https://linked.data.gov.au/dataset/asgs2016/statisticalarealevel1/21303135109/2016-07\"], [\"https://linked.data.gov.au/dataset/asgs2016/statisticalarealevel1/21303135110/2016-07\"], [\"https://linked.data.gov.au/dataset/asgs2016/statisticalarealevel1/21303135111/2016-07\"], [\"https://linked.data.gov.au/dataset/asgs2016/statisticalarealevel1/21303135112/2016-07\"], [\"https://linked.data.gov.au/dataset/asgs2016/statisticalarealevel1/21303135113/2016-07\"], [\"https://linked.data.gov.au/dataset/asgs2016/statisticalarealevel1/21303135114/2016-07\"], [\"https://linked.data.gov.au/dataset/asgs2016/statisticalarealevel1/21303135115/2016-07\"], [\"https://linked.data.gov.au/dataset/asgs2016/statisticalarealevel1/21303135116/2016-07\"], [\"https://linked.data.gov.au/dataset/asgs2016/statisticalarealevel1/21303135117/2016-07\"], [\"https://linked.data.gov.au/dataset/asgs2016/statisticalarealevel1/21303135118/2016-07\"], [\"https://linked.data.gov.au/dataset/asgs2016/statisticalarealevel1/21303135119/2016-07\"], [\"https://linked.data.gov.au/dataset/asgs2016/statisticalarealevel1/21303135120/2016-07\"], [\"https://linked.data.gov.au/dataset/asgs2016/statisticalarealevel1/21303135121/2016-07\"], [\"https://linked.data.gov.au/dataset/asgs2016/statisticalarealevel1/21303135122/2016-07\"], [\"https://linked.data.gov.au/dataset/asgs2016/statisticalarealevel1/21303135123/2016-07\"], [\"https://linked.data.gov.au/dataset/asgs2016/statisticalarealevel1/21303135124/2016-07\"], [\"https://linked.data.gov.au/dataset/asgs2016/statisticalarealevel1/21303135126/2016-07\"], [\"https://linked.data.gov.au/dataset/asgs2016/statisticalarealevel1/21303135127/2016-07\"], [\"https://linked.data.gov.au/dataset/asgs2016/statisticalarealevel1/21303135128/2016-07\"], [\"https://linked.data.gov.au/dataset/asgs2016/statisticalarealevel1/21303135201/2016-07\"], [\"https://linked.data.gov.au/dataset/asgs2016/statisticalarealevel1/21303135202/2016-07\"], [\"https://linked.data.gov.au/dataset/asgs2016/statisticalarealevel1/21303135203/2016-07\"], [\"https://linked.data.gov.au/dataset/asgs2016/statisticalarealevel1/21303135204/2016-07\"], [\"https://linked.data.gov.au/dataset/asgs2016/statisticalarealevel1/21303135205/2016-07\"], [\"https://linked.data.gov.au/dataset/asgs2016/statisticalarealevel1/21303135206/2016-07\"], [\"https://linked.data.gov.au/dataset/asgs2016/statisticalarealevel1/21303135207/2016-07\"], [\"https://linked.data.gov.au/dataset/asgs2016/statisticalarealevel1/21303135208/2016-07\"], [\"https://linked.data.gov.au/dataset/asgs2016/statisticalarealevel1/21303135209/2016-07\"], [\"https://linked.data.gov.au/dataset/asgs2016/statisticalarealevel1/21303135210/2016-07\"], [\"https://linked.data.gov.au/dataset/asgs2016/statisticalarealevel1/21303135211/2016-07\"], [\"https://linked.data.gov.au/dataset/asgs2016/statisticalarealevel1/21303135212/2016-07\"], [\"https://linked.data.gov.au/dataset/asgs2016/statisticalarealevel1/21303135213/2016-07\"], [\"https://linked.data.gov.au/dataset/asgs2016/statisticalarealevel1/21303135214/2016-07\"], [\"https://linked.data.gov.au/dataset/asgs2016/statisticalarealevel1/21303135215/2016-07\"], [\"https://linked.data.gov.au/dataset/asgs2016/statisticalarealevel1/21303135216/2016-07\"], [\"https://linked.data.gov.au/dataset/asgs2016/statisticalarealevel1/21303135217/2016-07\"], [\"https://linked.data.gov.au/dataset/asgs2016/statisticalarealevel1/21303135218/2016-07\"], [\"https://linked.data.gov.au/dataset/asgs2016/statisticalarealevel1/21303135219/2016-07\"], [\"https://linked.data.gov.au/dataset/asgs2016/statisticalarealevel1/21303135220/2016-07\"], [\"https://linked.data.gov.au/dataset/asgs2016/statisticalarealevel1/21303135221/2016-07\"], [\"https://linked.data.gov.au/dataset/asgs2016/statisticalarealevel1/21303135222/2016-07\"], [\"https://linked.data.gov.au/dataset/asgs2016/statisticalarealevel1/21303135223/2016-07\"], [\"https://linked.data.gov.au/dataset/asgs2016/statisticalarealevel1/21303135224/2016-07\"], [\"https://linked.data.gov.au/dataset/asgs2016/statisticalarealevel1/21303135225/2016-07\"], [\"https://linked.data.gov.au/dataset/asgs2016/statisticalarealevel1/21303135226/2016-07\"], [\"https://linked.data.gov.au/dataset/asgs2016/statisticalarealevel1/21303135227/2016-07\"], [\"https://linked.data.gov.au/dataset/asgs2016/statisticalarealevel1/21303135228/2016-07\"], [\"https://linked.data.gov.au/dataset/asgs2016/statisticalarealevel1/21303135229/2016-07\"], [\"https://linked.data.gov.au/dataset/asgs2016/statisticalarealevel1/21303135230/2016-07\"], [\"https://linked.data.gov.au/dataset/asgs2016/statisticalarealevel1/21303135231/2016-07\"], [\"https://linked.data.gov.au/dataset/asgs2016/statisticalarealevel1/21303135232/2016-07\"], [\"https://linked.data.gov.au/dataset/asgs2016/statisticalarealevel1/21305136303/2016-07\"], [\"https://linked.data.gov.au/dataset/asgs2016/statisticalarealevel1/21305136304/2016-07\"], [\"https://linked.data.gov.au/dataset/asgs2016/statisticalarealevel1/21305136307/2016-07\"], [\"https://linked.data.gov.au/dataset/asgs2016/statisticalarealevel1/21305136308/2016-07\"], [\"https://linked.data.gov.au/dataset/asgs2016/statisticalarealevel1/21305136309/2016-07\"], [\"https://linked.data.gov.au/dataset/asgs2016/statisticalarealevel1/21305136310/2016-07\"], [\"https://linked.data.gov.au/dataset/asgs2016/statisticalarealevel1/21305136313/2016-07\"], [\"https://linked.data.gov.au/dataset/asgs2016/statisticalarealevel1/21305136315/2016-07\"], [\"https://linked.data.gov.au/dataset/asgs2016/statisticalarealevel1/21305146403/2016-07\"], [\"https://linked.data.gov.au/dataset/asgs2016/statisticalarealevel1/21305146402/2016-07\"], [\"https://linked.data.gov.au/dataset/asgs2016/statisticalarealevel1/21305146404/2016-07\"], [\"https://linked.data.gov.au/dataset/asgs2016/statisticalarealevel1/21305146405/2016-07\"], [\"https://linked.data.gov.au/dataset/asgs2016/statisticalarealevel1/21305146536/2016-07\"], [\"https://linked.data.gov.au/dataset/asgs2016/statisticalarealevel1/20604112701\"], [\"https://linked.data.gov.au/dataset/asgs2016/statisticalarealevel1/20603111305\"], [\"https://linked.data.gov.au/dataset/asgs2016/statisticalarealevel1/20604112001\"], [\"https://linked.data.gov.au/dataset/asgs2016/statisticalarealevel1/20604112119\"], [\"https://linked.data.gov.au/dataset/asgs2016/statisticalarealevel1/20604112126\"], [\"https://linked.data.gov.au/dataset/asgs2016/statisticalarealevel1/20604112702\"], [\"https://linked.data.gov.au/dataset/asgs2016/statisticalarealevel1/21302134221\"], [\"https://linked.data.gov.au/dataset/asgs2016/statisticalarealevel1/20605113102\"], [\"https://linked.data.gov.au/dataset/asgs2016/statisticalarealevel1/21302134230\"], [\"https://linked.data.gov.au/dataset/asgs2016/statisticalarealevel1/21302134232\"], [\"https://linked.data.gov.au/dataset/asgs2016/statisticalarealevel1/21302134231\"], [\"https://linked.data.gov.au/dataset/asgs2016/statisticalarealevel1/21302134233\"], [\"https://linked.data.gov.au/dataset/asgs2016/statisticalarealevel1/21302134234\"], [\"https://linked.data.gov.au/dataset/asgs2016/statisticalarealevel1/21302134214\"], [\"https://linked.data.gov.au/dataset/asgs2016/statisticalarealevel1/21302134237\"], [\"https://linked.data.gov.au/dataset/asgs2016/statisticalarealevel1/21301133528\"], [\"https://linked.data.gov.au/dataset/asgs2016/statisticalarealevel1/21302134215\"], [\"https://linked.data.gov.au/dataset/asgs2016/statisticalarealevel1/21301133605\"], [\"https://linked.data.gov.au/dataset/asgs2016/statisticalarealevel1/21301132801\"], [\"https://linked.data.gov.au/dataset/asgs2016/statisticalarealevel1/21301132802\"], [\"https://linked.data.gov.au/dataset/asgs2016/statisticalarealevel1/21301132803\"], [\"https://linked.data.gov.au/dataset/asgs2016/statisticalarealevel1/21301132804\"], [\"https://linked.data.gov.au/dataset/asgs2016/statisticalarealevel1/21301132805\"], [\"https://linked.data.gov.au/dataset/asgs2016/statisticalarealevel1/21301132918\"], [\"https://linked.data.gov.au/dataset/asgs2016/statisticalarealevel1/21301133009\"], [\"https://linked.data.gov.au/dataset/asgs2016/statisticalarealevel1/21301133010\"], [\"https://linked.data.gov.au/dataset/asgs2016/statisticalarealevel1/21301133011\"], [\"https://linked.data.gov.au/dataset/asgs2016/statisticalarealevel1/21301133601\"], [\"https://linked.data.gov.au/dataset/asgs2016/statisticalarealevel1/21301133602\"], [\"https://linked.data.gov.au/dataset/asgs2016/statisticalarealevel1/21302134238\"], [\"https://linked.data.gov.au/dataset/asgs2016/statisticalarealevel1/21301133606\"], [\"https://linked.data.gov.au/dataset/asgs2016/statisticalarealevel1/21301133607\"], [\"https://linked.data.gov.au/dataset/asgs2016/statisticalarealevel1/21301133608\"], [\"https://linked.data.gov.au/dataset/asgs2016/statisticalarealevel1/21301133609\"], [\"https://linked.data.gov.au/dataset/asgs2016/statisticalarealevel1/21301133610\"], [\"https://linked.data.gov.au/dataset/asgs2016/statisticalarealevel1/21301133611\"], [\"https://linked.data.gov.au/dataset/asgs2016/statisticalarealevel1/21301133612\"], [\"https://linked.data.gov.au/dataset/asgs2016/statisticalarealevel1/21301133613\"], [\"https://linked.data.gov.au/dataset/asgs2016/statisticalarealevel1/21301133614\"], [\"https://linked.data.gov.au/dataset/asgs2016/statisticalarealevel1/21301133615\"], [\"https://linked.data.gov.au/dataset/asgs2016/statisticalarealevel1/21301133616\"], [\"https://linked.data.gov.au/dataset/asgs2016/statisticalarealevel1/21301133803\"], [\"https://linked.data.gov.au/dataset/asgs2016/statisticalarealevel1/21301133804\"], [\"https://linked.data.gov.au/dataset/asgs2016/statisticalarealevel1/21301133805\"], [\"https://linked.data.gov.au/dataset/asgs2016/statisticalarealevel1/21301133806\"], [\"https://linked.data.gov.au/dataset/asgs2016/statisticalarealevel1/21301133807\"], [\"https://linked.data.gov.au/dataset/asgs2016/statisticalarealevel1/21301133808\"], [\"https://linked.data.gov.au/dataset/asgs2016/statisticalarealevel1/21301133809\"], [\"https://linked.data.gov.au/dataset/asgs2016/statisticalarealevel1/21301133810\"], [\"https://linked.data.gov.au/dataset/asgs2016/statisticalarealevel1/21301133811\"], [\"https://linked.data.gov.au/dataset/asgs2016/statisticalarealevel1/21301133812\"], [\"https://linked.data.gov.au/dataset/asgs2016/statisticalarealevel1/21301133813\"], [\"https://linked.data.gov.au/dataset/asgs2016/statisticalarealevel1/21301133814\"], [\"https://linked.data.gov.au/dataset/asgs2016/statisticalarealevel1/21301133815\"], [\"https://linked.data.gov.au/dataset/asgs2016/statisticalarealevel1/21301133824\"], [\"https://linked.data.gov.au/dataset/asgs2016/statisticalarealevel1/21301133816\"], [\"https://linked.data.gov.au/dataset/asgs2016/statisticalarealevel1/21301133817\"], [\"https://linked.data.gov.au/dataset/asgs2016/statisticalarealevel1/21301133818\"], [\"https://linked.data.gov.au/dataset/asgs2016/statisticalarealevel1/21301133819\"], [\"https://linked.data.gov.au/dataset/asgs2016/statisticalarealevel1/21301133820\"], [\"https://linked.data.gov.au/dataset/asgs2016/statisticalarealevel1/21301133821\"], [\"https://linked.data.gov.au/dataset/asgs2016/statisticalarealevel1/21301133822\"], [\"https://linked.data.gov.au/dataset/asgs2016/statisticalarealevel1/21301133823\"], [\"https://linked.data.gov.au/dataset/asgs2016/statisticalarealevel1/21301133825\"], [\"https://linked.data.gov.au/dataset/asgs2016/statisticalarealevel1/21302134108\"], [\"https://linked.data.gov.au/dataset/asgs2016/statisticalarealevel1/21302134101\"], [\"https://linked.data.gov.au/dataset/asgs2016/statisticalarealevel1/21302134102\"], [\"https://linked.data.gov.au/dataset/asgs2016/statisticalarealevel1/21302134103\"], [\"https://linked.data.gov.au/dataset/asgs2016/statisticalarealevel1/21302134104\"], [\"https://linked.data.gov.au/dataset/asgs2016/statisticalarealevel1/21302134105\"], [\"https://linked.data.gov.au/dataset/asgs2016/statisticalarealevel1/21302134106\"], [\"https://linked.data.gov.au/dataset/asgs2016/statisticalarealevel1/21302134109\"], [\"https://linked.data.gov.au/dataset/asgs2016/statisticalarealevel1/21302134110\"], [\"https://linked.data.gov.au/dataset/asgs2016/statisticalarealevel1/21302134111\"], [\"https://linked.data.gov.au/dataset/asgs2016/statisticalarealevel1/21302134112\"], [\"https://linked.data.gov.au/dataset/asgs2016/statisticalarealevel1/21302134113\"], [\"https://linked.data.gov.au/dataset/asgs2016/statisticalarealevel1/21302134114\"], [\"https://linked.data.gov.au/dataset/asgs2016/statisticalarealevel1/21302134115\"], [\"https://linked.data.gov.au/dataset/asgs2016/statisticalarealevel1/21302134116\"], [\"https://linked.data.gov.au/dataset/asgs2016/statisticalarealevel1/21302134118\"], [\"https://linked.data.gov.au/dataset/asgs2016/statisticalarealevel1/21302134119\"], [\"https://linked.data.gov.au/dataset/asgs2016/statisticalarealevel1/21302134120\"], [\"https://linked.data.gov.au/dataset/asgs2016/statisticalarealevel1/21302134121\"], [\"https://linked.data.gov.au/dataset/asgs2016/statisticalarealevel1/21302134123\"], [\"https://linked.data.gov.au/dataset/asgs2016/statisticalarealevel1/21302134124\"], [\"https://linked.data.gov.au/dataset/asgs2016/statisticalarealevel1/21302134125\"], [\"https://linked.data.gov.au/dataset/asgs2016/statisticalarealevel1/21302134222\"], [\"https://linked.data.gov.au/dataset/asgs2016/statisticalarealevel1/21302134223\"], [\"https://linked.data.gov.au/dataset/asgs2016/statisticalarealevel1/21302134224\"], [\"https://linked.data.gov.au/dataset/asgs2016/statisticalarealevel1/21302134225\"], [\"https://linked.data.gov.au/dataset/asgs2016/statisticalarealevel1/21302134226\"], [\"https://linked.data.gov.au/dataset/asgs2016/statisticalarealevel1/21302134227\"], [\"https://linked.data.gov.au/dataset/asgs2016/statisticalarealevel1/21302134228\"], [\"https://linked.data.gov.au/dataset/asgs2016/statisticalarealevel1/21302134229\"], [\"https://linked.data.gov.au/dataset/asgs2016/statisticalarealevel1/21302134239\"], [\"https://linked.data.gov.au/dataset/asgs2016/statisticalarealevel1/21302134240\"], [\"https://linked.data.gov.au/dataset/asgs2016/statisticalarealevel1/21302134241\"], [\"https://linked.data.gov.au/dataset/asgs2016/statisticalarealevel1/21302134242\"], [\"https://linked.data.gov.au/dataset/asgs2016/statisticalarealevel1/21302134243\"], [\"https://linked.data.gov.au/dataset/asgs2016/statisticalarealevel1/21302134244\"], [\"https://linked.data.gov.au/dataset/asgs2016/statisticalarealevel1/21302134245\"], [\"https://linked.data.gov.au/dataset/asgs2016/statisticalarealevel1/21302134246\"], [\"https://linked.data.gov.au/dataset/asgs2016/statisticalarealevel1/21302134321\"], [\"https://linked.data.gov.au/dataset/asgs2016/statisticalarealevel1/21302134247\"], [\"https://linked.data.gov.au/dataset/asgs2016/statisticalarealevel1/21302134248\"], [\"https://linked.data.gov.au/dataset/asgs2016/statisticalarealevel1/21302134301\"], [\"https://linked.data.gov.au/dataset/asgs2016/statisticalarealevel1/21302134302\"], [\"https://linked.data.gov.au/dataset/asgs2016/statisticalarealevel1/21302134303\"], [\"https://linked.data.gov.au/dataset/asgs2016/statisticalarealevel1/21302134304\"], [\"https://linked.data.gov.au/dataset/asgs2016/statisticalarealevel1/21302134305\"], [\"https://linked.data.gov.au/dataset/asgs2016/statisticalarealevel1/21302134331\"], [\"https://linked.data.gov.au/dataset/asgs2016/statisticalarealevel1/21302134332\"], [\"https://linked.data.gov.au/dataset/asgs2016/statisticalarealevel1/21302134401\"], [\"https://linked.data.gov.au/dataset/asgs2016/statisticalarealevel1/21302134402\"], [\"https://linked.data.gov.au/dataset/asgs2016/statisticalarealevel1/21302134403\"], [\"https://linked.data.gov.au/dataset/asgs2016/statisticalarealevel1/21302134404\"], [\"https://linked.data.gov.au/dataset/asgs2016/statisticalarealevel1/21302134405\"], [\"https://linked.data.gov.au/dataset/asgs2016/statisticalarealevel1/21302134406\"], [\"https://linked.data.gov.au/dataset/asgs2016/statisticalarealevel1/21302134407\"], [\"https://linked.data.gov.au/dataset/asgs2016/statisticalarealevel1/21302134408\"], [\"https://linked.data.gov.au/dataset/asgs2016/statisticalarealevel1/21302134409\"], [\"https://linked.data.gov.au/dataset/asgs2016/statisticalarealevel1/21302134410\"], [\"https://linked.data.gov.au/dataset/asgs2016/statisticalarealevel1/21302134411\"], [\"https://linked.data.gov.au/dataset/asgs2016/statisticalarealevel1/21302134412\"], [\"https://linked.data.gov.au/dataset/asgs2016/statisticalarealevel1/21302134420\"], [\"https://linked.data.gov.au/dataset/asgs2016/statisticalarealevel1/21302134421\"], [\"https://linked.data.gov.au/dataset/asgs2016/statisticalarealevel1/21302134422\"], [\"https://linked.data.gov.au/dataset/asgs2016/statisticalarealevel1/21302134413\"], [\"https://linked.data.gov.au/dataset/asgs2016/statisticalarealevel1/21302134414\"], [\"https://linked.data.gov.au/dataset/asgs2016/statisticalarealevel1/21302134415\"], [\"https://linked.data.gov.au/dataset/asgs2016/statisticalarealevel1/21302134416\"], [\"https://linked.data.gov.au/dataset/asgs2016/statisticalarealevel1/21302134417\"], [\"https://linked.data.gov.au/dataset/asgs2016/statisticalarealevel1/21302134418\"], [\"https://linked.data.gov.au/dataset/asgs2016/statisticalarealevel1/21302134505\"], [\"https://linked.data.gov.au/dataset/asgs2016/statisticalarealevel1/21302134506\"], [\"https://linked.data.gov.au/dataset/asgs2016/statisticalarealevel1/21302134612\"], [\"https://linked.data.gov.au/dataset/asgs2016/statisticalarealevel1/21302134601\"], [\"https://linked.data.gov.au/dataset/asgs2016/statisticalarealevel1/21302134602\"], [\"https://linked.data.gov.au/dataset/asgs2016/statisticalarealevel1/21302134603\"], [\"https://linked.data.gov.au/dataset/asgs2016/statisticalarealevel1/21302134604\"], [\"https://linked.data.gov.au/dataset/asgs2016/statisticalarealevel1/21302134605\"], [\"https://linked.data.gov.au/dataset/asgs2016/statisticalarealevel1/21302134606\"], [\"https://linked.data.gov.au/dataset/asgs2016/statisticalarealevel1/21302134607\"], [\"https://linked.data.gov.au/dataset/asgs2016/statisticalarealevel1/21302134608\"], [\"https://linked.data.gov.au/dataset/asgs2016/statisticalarealevel1/21302134609\"], [\"https://linked.data.gov.au/dataset/asgs2016/statisticalarealevel1/21302134610\"], [\"https://linked.data.gov.au/dataset/asgs2016/statisticalarealevel1/21302134611\"], [\"https://linked.data.gov.au/dataset/asgs2016/statisticalarealevel1/21302134613\"], [\"https://linked.data.gov.au/dataset/asgs2016/statisticalarealevel1/21302134614\"], [\"https://linked.data.gov.au/dataset/asgs2016/statisticalarealevel1/21303134702\"], [\"https://linked.data.gov.au/dataset/asgs2016/statisticalarealevel1/21303134705\"], [\"https://linked.data.gov.au/dataset/asgs2016/statisticalarealevel1/21303134706\"], [\"https://linked.data.gov.au/dataset/asgs2016/statisticalarealevel1/21303134708\"], [\"https://linked.data.gov.au/dataset/asgs2016/statisticalarealevel1/21303134709\"], [\"https://linked.data.gov.au/dataset/asgs2016/statisticalarealevel1/21303134710\"], [\"https://linked.data.gov.au/dataset/asgs2016/statisticalarealevel1/21303134711\"], [\"https://linked.data.gov.au/dataset/asgs2016/statisticalarealevel1/21303134712\"], [\"https://linked.data.gov.au/dataset/asgs2016/statisticalarealevel1/21303134713\"], [\"https://linked.data.gov.au/dataset/asgs2016/statisticalarealevel1/21303134717\"], [\"https://linked.data.gov.au/dataset/asgs2016/statisticalarealevel1/21303134731\"], [\"https://linked.data.gov.au/dataset/asgs2016/statisticalarealevel1/21303134721\"], [\"https://linked.data.gov.au/dataset/asgs2016/statisticalarealevel1/21303134722\"], [\"https://linked.data.gov.au/dataset/asgs2016/statisticalarealevel1/21303134723\"], [\"https://linked.data.gov.au/dataset/asgs2016/statisticalarealevel1/21303134724\"], [\"https://linked.data.gov.au/dataset/asgs2016/statisticalarealevel1/21303134725\"], [\"https://linked.data.gov.au/dataset/asgs2016/statisticalarealevel1/21303134726\"], [\"https://linked.data.gov.au/dataset/asgs2016/statisticalarealevel1/21303134810\"], [\"https://linked.data.gov.au/dataset/asgs2016/statisticalarealevel1/21303134811\"], [\"https://linked.data.gov.au/dataset/asgs2016/statisticalarealevel1/21303134812\"], [\"https://linked.data.gov.au/dataset/asgs2016/statisticalarealevel1/21303134814\"], [\"https://linked.data.gov.au/dataset/asgs2016/statisticalarealevel1/21303134815\"], [\"https://linked.data.gov.au/dataset/asgs2016/statisticalarealevel1/21303134816\"], [\"https://linked.data.gov.au/dataset/asgs2016/statisticalarealevel1/21303134817\"], [\"https://linked.data.gov.au/dataset/asgs2016/statisticalarealevel1/21303134818\"], [\"https://linked.data.gov.au/dataset/asgs2016/statisticalarealevel1/21303134819\"], [\"https://linked.data.gov.au/dataset/asgs2016/statisticalarealevel1/21303134820\"], [\"https://linked.data.gov.au/dataset/asgs2016/statisticalarealevel1/21303134821\"], [\"https://linked.data.gov.au/dataset/asgs2016/statisticalarealevel1/21303134822\"], [\"https://linked.data.gov.au/dataset/asgs2016/statisticalarealevel1/21303134823\"], [\"https://linked.data.gov.au/dataset/asgs2016/statisticalarealevel1/21303134824\"], [\"https://linked.data.gov.au/dataset/asgs2016/statisticalarealevel1/21303134825\"], [\"https://linked.data.gov.au/dataset/asgs2016/statisticalarealevel1/21303134826\"], [\"https://linked.data.gov.au/dataset/asgs2016/statisticalarealevel1/21303134827\"], [\"https://linked.data.gov.au/dataset/asgs2016/statisticalarealevel1/21303134829\"], [\"https://linked.data.gov.au/dataset/asgs2016/statisticalarealevel1/21303134830\"], [\"https://linked.data.gov.au/dataset/asgs2016/statisticalarealevel1/21303134831\"], [\"https://linked.data.gov.au/dataset/asgs2016/statisticalarealevel1/21303134832\"], [\"https://linked.data.gov.au/dataset/asgs2016/statisticalarealevel1/21303134833\"], [\"https://linked.data.gov.au/dataset/asgs2016/statisticalarealevel1/21303134834\"], [\"https://linked.data.gov.au/dataset/asgs2016/statisticalarealevel1/21303134835\"], [\"https://linked.data.gov.au/dataset/asgs2016/statisticalarealevel1/21303134926\"], [\"https://linked.data.gov.au/dataset/asgs2016/statisticalarealevel1/21303134928\"], [\"https://linked.data.gov.au/dataset/asgs2016/statisticalarealevel1/21303135001\"], [\"https://linked.data.gov.au/dataset/asgs2016/statisticalarealevel1/21303135002\"], [\"https://linked.data.gov.au/dataset/asgs2016/statisticalarealevel1/21303135003\"], [\"https://linked.data.gov.au/dataset/asgs2016/statisticalarealevel1/21303135004\"], [\"https://linked.data.gov.au/dataset/asgs2016/statisticalarealevel1/21303135005\"], [\"https://linked.data.gov.au/dataset/asgs2016/statisticalarealevel1/21303135006\"], [\"https://linked.data.gov.au/dataset/asgs2016/statisticalarealevel1/21303135007\"], [\"https://linked.data.gov.au/dataset/asgs2016/statisticalarealevel1/21303135008\"], [\"https://linked.data.gov.au/dataset/asgs2016/statisticalarealevel1/21303135009\"], [\"https://linked.data.gov.au/dataset/asgs2016/statisticalarealevel1/21303135010\"], [\"https://linked.data.gov.au/dataset/asgs2016/statisticalarealevel1/21303135011\"], [\"https://linked.data.gov.au/dataset/asgs2016/statisticalarealevel1/21303135012\"], [\"https://linked.data.gov.au/dataset/asgs2016/statisticalarealevel1/21303135013\"], [\"https://linked.data.gov.au/dataset/asgs2016/statisticalarealevel1/21303135014\"], [\"https://linked.data.gov.au/dataset/asgs2016/statisticalarealevel1/21303135015\"], [\"https://linked.data.gov.au/dataset/asgs2016/statisticalarealevel1/21303135016\"], [\"https://linked.data.gov.au/dataset/asgs2016/statisticalarealevel1/21303135017\"], [\"https://linked.data.gov.au/dataset/asgs2016/statisticalarealevel1/21303135018\"], [\"https://linked.data.gov.au/dataset/asgs2016/statisticalarealevel1/21303135019\"], [\"https://linked.data.gov.au/dataset/asgs2016/statisticalarealevel1/21303135101\"], [\"https://linked.data.gov.au/dataset/asgs2016/statisticalarealevel1/21303135127\"], [\"https://linked.data.gov.au/dataset/asgs2016/statisticalarealevel1/21303135128\"], [\"https://linked.data.gov.au/dataset/asgs2016/statisticalarealevel1/21303135201\"], [\"https://linked.data.gov.au/dataset/asgs2016/statisticalarealevel1/21303135202\"], [\"https://linked.data.gov.au/dataset/asgs2016/statisticalarealevel1/21303135203\"], [\"https://linked.data.gov.au/dataset/asgs2016/statisticalarealevel1/21303135204\"], [\"https://linked.data.gov.au/dataset/asgs2016/statisticalarealevel1/21303135205\"], [\"https://linked.data.gov.au/dataset/asgs2016/statisticalarealevel1/21303135206\"], [\"https://linked.data.gov.au/dataset/asgs2016/statisticalarealevel1/21303135207\"], [\"https://linked.data.gov.au/dataset/asgs2016/statisticalarealevel1/21303135208\"], [\"https://linked.data.gov.au/dataset/asgs2016/statisticalarealevel1/21303135209\"], [\"https://linked.data.gov.au/dataset/asgs2016/statisticalarealevel1/21303135210\"], [\"https://linked.data.gov.au/dataset/asgs2016/statisticalarealevel1/21303135211\"], [\"https://linked.data.gov.au/dataset/asgs2016/statisticalarealevel1/21303135212\"], [\"https://linked.data.gov.au/dataset/asgs2016/statisticalarealevel1/21303135213\"], [\"https://linked.data.gov.au/dataset/asgs2016/statisticalarealevel1/21303135214\"], [\"https://linked.data.gov.au/dataset/asgs2016/statisticalarealevel1/21303135215\"], [\"https://linked.data.gov.au/dataset/asgs2016/statisticalarealevel1/21303135216\"], [\"https://linked.data.gov.au/dataset/asgs2016/statisticalarealevel1/21303135217\"], [\"https://linked.data.gov.au/dataset/asgs2016/statisticalarealevel1/21303135218\"], [\"https://linked.data.gov.au/dataset/asgs2016/statisticalarealevel1/21303135219\"], [\"https://linked.data.gov.au/dataset/asgs2016/statisticalarealevel1/21303135220\"], [\"https://linked.data.gov.au/dataset/asgs2016/statisticalarealevel1/21303135221\"], [\"https://linked.data.gov.au/dataset/asgs2016/statisticalarealevel1/21303135222\"], [\"https://linked.data.gov.au/dataset/asgs2016/statisticalarealevel1/21305146402\"], [\"https://linked.data.gov.au/dataset/asgs2016/statisticalarealevel1/21305146404\"], [\"https://linked.data.gov.au/dataset/asgs2016/statisticalarealevel1/21305146405\"], [\"https://linked.data.gov.au/dataset/asgs2016/statisticalarealevel1/21305146536\"], [\"https://linked.data.gov.au/dataset/asgs2016/statisticalarealevel1/21302134126\"], [\"https://linked.data.gov.au/dataset/asgs2016/statisticalarealevel1/21302134235\"], [\"https://linked.data.gov.au/dataset/asgs2016/statisticalarealevel1/21302134236\"], [\"https://linked.data.gov.au/dataset/asgs2016/statisticalarealevel1/21301133603\"], [\"https://linked.data.gov.au/dataset/asgs2016/statisticalarealevel1/21301133604\"], [\"https://linked.data.gov.au/dataset/asgs2016/statisticalarealevel1/21302134216\"], [\"https://linked.data.gov.au/dataset/asgs2016/statisticalarealevel1/21301133704\"], [\"https://linked.data.gov.au/dataset/asgs2016/statisticalarealevel1/21301132806\"], [\"https://linked.data.gov.au/dataset/asgs2016/statisticalarealevel1/21301132807\"], [\"https://linked.data.gov.au/dataset/asgs2016/statisticalarealevel1/21301132808\"], [\"https://linked.data.gov.au/dataset/asgs2016/statisticalarealevel1/21301132809\"], [\"https://linked.data.gov.au/dataset/asgs2016/statisticalarealevel1/21301132810\"], [\"https://linked.data.gov.au/dataset/asgs2016/statisticalarealevel1/21301132811\"], [\"https://linked.data.gov.au/dataset/asgs2016/statisticalarealevel1/21301132812\"], [\"https://linked.data.gov.au/dataset/asgs2016/statisticalarealevel1/21301132813\"], [\"https://linked.data.gov.au/dataset/asgs2016/statisticalarealevel1/21301132814\"], [\"https://linked.data.gov.au/dataset/asgs2016/statisticalarealevel1/21301132815\"], [\"https://linked.data.gov.au/dataset/asgs2016/statisticalarealevel1/21301132816\"], [\"https://linked.data.gov.au/dataset/asgs2016/statisticalarealevel1/21301132817\"], [\"https://linked.data.gov.au/dataset/asgs2016/statisticalarealevel1/21301132818\"], [\"https://linked.data.gov.au/dataset/asgs2016/statisticalarealevel1/21301132819\"], [\"https://linked.data.gov.au/dataset/asgs2016/statisticalarealevel1/21301133525\"], [\"https://linked.data.gov.au/dataset/asgs2016/statisticalarealevel1/21301133617\"], [\"https://linked.data.gov.au/dataset/asgs2016/statisticalarealevel1/21301133618\"], [\"https://linked.data.gov.au/dataset/asgs2016/statisticalarealevel1/21301133619\"], [\"https://linked.data.gov.au/dataset/asgs2016/statisticalarealevel1/21301133709\"], [\"https://linked.data.gov.au/dataset/asgs2016/statisticalarealevel1/21301133711\"], [\"https://linked.data.gov.au/dataset/asgs2016/statisticalarealevel1/21301133712\"], [\"https://linked.data.gov.au/dataset/asgs2016/statisticalarealevel1/21301133725\"], [\"https://linked.data.gov.au/dataset/asgs2016/statisticalarealevel1/21301133801\"], [\"https://linked.data.gov.au/dataset/asgs2016/statisticalarealevel1/21301133802\"], [\"https://linked.data.gov.au/dataset/asgs2016/statisticalarealevel1/21301133826\"], [\"https://linked.data.gov.au/dataset/asgs2016/statisticalarealevel1/21301133827\"], [\"https://linked.data.gov.au/dataset/asgs2016/statisticalarealevel1/21301133828\"], [\"https://linked.data.gov.au/dataset/asgs2016/statisticalarealevel1/21301133829\"], [\"https://linked.data.gov.au/dataset/asgs2016/statisticalarealevel1/21301133830\"], [\"https://linked.data.gov.au/dataset/asgs2016/statisticalarealevel1/21301133831\"], [\"https://linked.data.gov.au/dataset/asgs2016/statisticalarealevel1/21301133832\"], [\"https://linked.data.gov.au/dataset/asgs2016/statisticalarealevel1/21301133840\"], [\"https://linked.data.gov.au/dataset/asgs2016/statisticalarealevel1/21301133833\"], [\"https://linked.data.gov.au/dataset/asgs2016/statisticalarealevel1/21301133834\"], [\"https://linked.data.gov.au/dataset/asgs2016/statisticalarealevel1/21301133835\"], [\"https://linked.data.gov.au/dataset/asgs2016/statisticalarealevel1/21301133836\"], [\"https://linked.data.gov.au/dataset/asgs2016/statisticalarealevel1/21301133837\"], [\"https://linked.data.gov.au/dataset/asgs2016/statisticalarealevel1/21301133838\"], [\"https://linked.data.gov.au/dataset/asgs2016/statisticalarealevel1/21301133839\"], [\"https://linked.data.gov.au/dataset/asgs2016/statisticalarealevel1/21302134217\"], [\"https://linked.data.gov.au/dataset/asgs2016/statisticalarealevel1/21301133841\"], [\"https://linked.data.gov.au/dataset/asgs2016/statisticalarealevel1/21301133842\"], [\"https://linked.data.gov.au/dataset/asgs2016/statisticalarealevel1/21301133843\"], [\"https://linked.data.gov.au/dataset/asgs2016/statisticalarealevel1/21301133844\"], [\"https://linked.data.gov.au/dataset/asgs2016/statisticalarealevel1/21301133845\"], [\"https://linked.data.gov.au/dataset/asgs2016/statisticalarealevel1/21302134107\"], [\"https://linked.data.gov.au/dataset/asgs2016/statisticalarealevel1/21302134127\"], [\"https://linked.data.gov.au/dataset/asgs2016/statisticalarealevel1/21302134128\"], [\"https://linked.data.gov.au/dataset/asgs2016/statisticalarealevel1/21302134129\"], [\"https://linked.data.gov.au/dataset/asgs2016/statisticalarealevel1/21302134130\"], [\"https://linked.data.gov.au/dataset/asgs2016/statisticalarealevel1/21302134131\"], [\"https://linked.data.gov.au/dataset/asgs2016/statisticalarealevel1/21302134132\"], [\"https://linked.data.gov.au/dataset/asgs2016/statisticalarealevel1/21302134133\"], [\"https://linked.data.gov.au/dataset/asgs2016/statisticalarealevel1/21302134134\"], [\"https://linked.data.gov.au/dataset/asgs2016/statisticalarealevel1/21302134201\"], [\"https://linked.data.gov.au/dataset/asgs2016/statisticalarealevel1/21302134202\"], [\"https://linked.data.gov.au/dataset/asgs2016/statisticalarealevel1/21302134203\"], [\"https://linked.data.gov.au/dataset/asgs2016/statisticalarealevel1/21302134204\"], [\"https://linked.data.gov.au/dataset/asgs2016/statisticalarealevel1/21302134205\"], [\"https://linked.data.gov.au/dataset/asgs2016/statisticalarealevel1/21302134206\"], [\"https://linked.data.gov.au/dataset/asgs2016/statisticalarealevel1/21302134207\"], [\"https://linked.data.gov.au/dataset/asgs2016/statisticalarealevel1/21302134218\"], [\"https://linked.data.gov.au/dataset/asgs2016/statisticalarealevel1/21302134219\"], [\"https://linked.data.gov.au/dataset/asgs2016/statisticalarealevel1/21302134220\"], [\"https://linked.data.gov.au/dataset/asgs2016/statisticalarealevel1/21302134208\"], [\"https://linked.data.gov.au/dataset/asgs2016/statisticalarealevel1/21302134209\"], [\"https://linked.data.gov.au/dataset/asgs2016/statisticalarealevel1/21302134210\"], [\"https://linked.data.gov.au/dataset/asgs2016/statisticalarealevel1/21302134211\"], [\"https://linked.data.gov.au/dataset/asgs2016/statisticalarealevel1/21302134212\"], [\"https://linked.data.gov.au/dataset/asgs2016/statisticalarealevel1/21302134213\"], [\"https://linked.data.gov.au/dataset/asgs2016/statisticalarealevel1/21302134306\"], [\"https://linked.data.gov.au/dataset/asgs2016/statisticalarealevel1/21302134307\"], [\"https://linked.data.gov.au/dataset/asgs2016/statisticalarealevel1/21302134308\"], [\"https://linked.data.gov.au/dataset/asgs2016/statisticalarealevel1/21302134322\"], [\"https://linked.data.gov.au/dataset/asgs2016/statisticalarealevel1/21302134323\"], [\"https://linked.data.gov.au/dataset/asgs2016/statisticalarealevel1/21302134324\"], [\"https://linked.data.gov.au/dataset/asgs2016/statisticalarealevel1/21302134309\"], [\"https://linked.data.gov.au/dataset/asgs2016/statisticalarealevel1/21302134310\"], [\"https://linked.data.gov.au/dataset/asgs2016/statisticalarealevel1/21302134311\"], [\"https://linked.data.gov.au/dataset/asgs2016/statisticalarealevel1/21302134312\"], [\"https://linked.data.gov.au/dataset/asgs2016/statisticalarealevel1/21302134313\"], [\"https://linked.data.gov.au/dataset/asgs2016/statisticalarealevel1/21302134314\"], [\"https://linked.data.gov.au/dataset/asgs2016/statisticalarealevel1/21302134315\"], [\"https://linked.data.gov.au/dataset/asgs2016/statisticalarealevel1/21302134316\"], [\"https://linked.data.gov.au/dataset/asgs2016/statisticalarealevel1/21302134317\"], [\"https://linked.data.gov.au/dataset/asgs2016/statisticalarealevel1/21302134318\"], [\"https://linked.data.gov.au/dataset/asgs2016/statisticalarealevel1/21302134319\"], [\"https://linked.data.gov.au/dataset/asgs2016/statisticalarealevel1/21302134320\"], [\"https://linked.data.gov.au/dataset/asgs2016/statisticalarealevel1/21302134325\"], [\"https://linked.data.gov.au/dataset/asgs2016/statisticalarealevel1/21302134326\"], [\"https://linked.data.gov.au/dataset/asgs2016/statisticalarealevel1/21302134327\"], [\"https://linked.data.gov.au/dataset/asgs2016/statisticalarealevel1/21302134328\"], [\"https://linked.data.gov.au/dataset/asgs2016/statisticalarealevel1/21302134329\"], [\"https://linked.data.gov.au/dataset/asgs2016/statisticalarealevel1/21302134330\"], [\"https://linked.data.gov.au/dataset/asgs2016/statisticalarealevel1/21302134419\"], [\"https://linked.data.gov.au/dataset/asgs2016/statisticalarealevel1/21302134423\"], [\"https://linked.data.gov.au/dataset/asgs2016/statisticalarealevel1/21302134424\"], [\"https://linked.data.gov.au/dataset/asgs2016/statisticalarealevel1/21302134425\"], [\"https://linked.data.gov.au/dataset/asgs2016/statisticalarealevel1/21302134426\"], [\"https://linked.data.gov.au/dataset/asgs2016/statisticalarealevel1/21302134427\"], [\"https://linked.data.gov.au/dataset/asgs2016/statisticalarealevel1/21302134428\"], [\"https://linked.data.gov.au/dataset/asgs2016/statisticalarealevel1/21302134429\"], [\"https://linked.data.gov.au/dataset/asgs2016/statisticalarealevel1/21302134430\"], [\"https://linked.data.gov.au/dataset/asgs2016/statisticalarealevel1/21302134431\"], [\"https://linked.data.gov.au/dataset/asgs2016/statisticalarealevel1/21302134432\"], [\"https://linked.data.gov.au/dataset/asgs2016/statisticalarealevel1/21302134433\"], [\"https://linked.data.gov.au/dataset/asgs2016/statisticalarealevel1/21302134434\"], [\"https://linked.data.gov.au/dataset/asgs2016/statisticalarealevel1/21302134435\"], [\"https://linked.data.gov.au/dataset/asgs2016/statisticalarealevel1/21302134436\"], [\"https://linked.data.gov.au/dataset/asgs2016/statisticalarealevel1/21302134437\"], [\"https://linked.data.gov.au/dataset/asgs2016/statisticalarealevel1/21302134438\"], [\"https://linked.data.gov.au/dataset/asgs2016/statisticalarealevel1/21302134439\"], [\"https://linked.data.gov.au/dataset/asgs2016/statisticalarealevel1/21302134440\"], [\"https://linked.data.gov.au/dataset/asgs2016/statisticalarealevel1/21302134441\"], [\"https://linked.data.gov.au/dataset/asgs2016/statisticalarealevel1/21302134442\"], [\"https://linked.data.gov.au/dataset/asgs2016/statisticalarealevel1/21302134503\"], [\"https://linked.data.gov.au/dataset/asgs2016/statisticalarealevel1/21302134615\"], [\"https://linked.data.gov.au/dataset/asgs2016/statisticalarealevel1/21302134616\"], [\"https://linked.data.gov.au/dataset/asgs2016/statisticalarealevel1/21302134617\"], [\"https://linked.data.gov.au/dataset/asgs2016/statisticalarealevel1/21302134618\"], [\"https://linked.data.gov.au/dataset/asgs2016/statisticalarealevel1/21302134619\"], [\"https://linked.data.gov.au/dataset/asgs2016/statisticalarealevel1/21302134620\"], [\"https://linked.data.gov.au/dataset/asgs2016/statisticalarealevel1/21302134621\"], [\"https://linked.data.gov.au/dataset/asgs2016/statisticalarealevel1/21303134707\"], [\"https://linked.data.gov.au/dataset/asgs2016/statisticalarealevel1/21302134622\"], [\"https://linked.data.gov.au/dataset/asgs2016/statisticalarealevel1/21302134623\"], [\"https://linked.data.gov.au/dataset/asgs2016/statisticalarealevel1/21302134624\"], [\"https://linked.data.gov.au/dataset/asgs2016/statisticalarealevel1/21302134625\"], [\"https://linked.data.gov.au/dataset/asgs2016/statisticalarealevel1/21302134626\"], [\"https://linked.data.gov.au/dataset/asgs2016/statisticalarealevel1/21302134627\"], [\"https://linked.data.gov.au/dataset/asgs2016/statisticalarealevel1/21302134628\"], [\"https://linked.data.gov.au/dataset/asgs2016/statisticalarealevel1/21302134629\"], [\"https://linked.data.gov.au/dataset/asgs2016/statisticalarealevel1/21303135125\"], [\"https://linked.data.gov.au/dataset/asgs2016/statisticalarealevel1/21302134630\"], [\"https://linked.data.gov.au/dataset/asgs2016/statisticalarealevel1/21302134631\"], [\"https://linked.data.gov.au/dataset/asgs2016/statisticalarealevel1/21302134632\"], [\"https://linked.data.gov.au/dataset/asgs2016/statisticalarealevel1/21302134633\"], [\"https://linked.data.gov.au/dataset/asgs2016/statisticalarealevel1/21302134634\"], [\"https://linked.data.gov.au/dataset/asgs2016/statisticalarealevel1/21302134635\"], [\"https://linked.data.gov.au/dataset/asgs2016/statisticalarealevel1/21303134701\"], [\"https://linked.data.gov.au/dataset/asgs2016/statisticalarealevel1/21303134728\"], [\"https://linked.data.gov.au/dataset/asgs2016/statisticalarealevel1/21303134729\"], [\"https://linked.data.gov.au/dataset/asgs2016/statisticalarealevel1/21303134737\"], [\"https://linked.data.gov.au/dataset/asgs2016/statisticalarealevel1/21303134813\"], [\"https://linked.data.gov.au/dataset/asgs2016/statisticalarealevel1/21303134801\"], [\"https://linked.data.gov.au/dataset/asgs2016/statisticalarealevel1/21303134802\"], [\"https://linked.data.gov.au/dataset/asgs2016/statisticalarealevel1/21303134803\"], [\"https://linked.data.gov.au/dataset/asgs2016/statisticalarealevel1/21303134804\"], [\"https://linked.data.gov.au/dataset/asgs2016/statisticalarealevel1/21303134805\"], [\"https://linked.data.gov.au/dataset/asgs2016/statisticalarealevel1/21303134806\"], [\"https://linked.data.gov.au/dataset/asgs2016/statisticalarealevel1/21303134807\"], [\"https://linked.data.gov.au/dataset/asgs2016/statisticalarealevel1/21303134809\"], [\"https://linked.data.gov.au/dataset/asgs2016/statisticalarealevel1/21303134836\"], [\"https://linked.data.gov.au/dataset/asgs2016/statisticalarealevel1/21303134906\"], [\"https://linked.data.gov.au/dataset/asgs2016/statisticalarealevel1/21303134907\"], [\"https://linked.data.gov.au/dataset/asgs2016/statisticalarealevel1/21303134916\"], [\"https://linked.data.gov.au/dataset/asgs2016/statisticalarealevel1/21303134924\"], [\"https://linked.data.gov.au/dataset/asgs2016/statisticalarealevel1/21303135102\"], [\"https://linked.data.gov.au/dataset/asgs2016/statisticalarealevel1/21303135103\"], [\"https://linked.data.gov.au/dataset/asgs2016/statisticalarealevel1/21303135104\"], [\"https://linked.data.gov.au/dataset/asgs2016/statisticalarealevel1/21303135105\"], [\"https://linked.data.gov.au/dataset/asgs2016/statisticalarealevel1/21303135106\"], [\"https://linked.data.gov.au/dataset/asgs2016/statisticalarealevel1/21303135107\"], [\"https://linked.data.gov.au/dataset/asgs2016/statisticalarealevel1/21303135108\"], [\"https://linked.data.gov.au/dataset/asgs2016/statisticalarealevel1/21303135109\"], [\"https://linked.data.gov.au/dataset/asgs2016/statisticalarealevel1/21303135110\"], [\"https://linked.data.gov.au/dataset/asgs2016/statisticalarealevel1/21303135111\"], [\"https://linked.data.gov.au/dataset/asgs2016/statisticalarealevel1/21303135112\"], [\"https://linked.data.gov.au/dataset/asgs2016/statisticalarealevel1/21303135113\"], [\"https://linked.data.gov.au/dataset/asgs2016/statisticalarealevel1/21303135114\"], [\"https://linked.data.gov.au/dataset/asgs2016/statisticalarealevel1/21303135115\"], [\"https://linked.data.gov.au/dataset/asgs2016/statisticalarealevel1/21303135116\"], [\"https://linked.data.gov.au/dataset/asgs2016/statisticalarealevel1/21303135117\"], [\"https://linked.data.gov.au/dataset/asgs2016/statisticalarealevel1/21303135118\"], [\"https://linked.data.gov.au/dataset/asgs2016/statisticalarealevel1/21303135119\"], [\"https://linked.data.gov.au/dataset/asgs2016/statisticalarealevel1/21303135120\"], [\"https://linked.data.gov.au/dataset/asgs2016/statisticalarealevel1/21303135121\"], [\"https://linked.data.gov.au/dataset/asgs2016/statisticalarealevel1/21303135122\"], [\"https://linked.data.gov.au/dataset/asgs2016/statisticalarealevel1/21303135123\"], [\"https://linked.data.gov.au/dataset/asgs2016/statisticalarealevel1/21303135124\"], [\"https://linked.data.gov.au/dataset/asgs2016/statisticalarealevel1/21303135126\"], [\"https://linked.data.gov.au/dataset/asgs2016/statisticalarealevel1/21303135223\"], [\"https://linked.data.gov.au/dataset/asgs2016/statisticalarealevel1/21303135224\"], [\"https://linked.data.gov.au/dataset/asgs2016/statisticalarealevel1/21303135225\"], [\"https://linked.data.gov.au/dataset/asgs2016/statisticalarealevel1/21303135226\"], [\"https://linked.data.gov.au/dataset/asgs2016/statisticalarealevel1/21303135227\"], [\"https://linked.data.gov.au/dataset/asgs2016/statisticalarealevel1/21303135228\"], [\"https://linked.data.gov.au/dataset/asgs2016/statisticalarealevel1/21303135229\"], [\"https://linked.data.gov.au/dataset/asgs2016/statisticalarealevel1/21303135230\"], [\"https://linked.data.gov.au/dataset/asgs2016/statisticalarealevel1/21303135231\"], [\"https://linked.data.gov.au/dataset/asgs2016/statisticalarealevel1/21303135232\"], [\"https://linked.data.gov.au/dataset/asgs2016/statisticalarealevel1/21305136303\"], [\"https://linked.data.gov.au/dataset/asgs2016/statisticalarealevel1/21305136304\"], [\"https://linked.data.gov.au/dataset/asgs2016/statisticalarealevel1/21305136307\"], [\"https://linked.data.gov.au/dataset/asgs2016/statisticalarealevel1/21305136308\"], [\"https://linked.data.gov.au/dataset/asgs2016/statisticalarealevel1/21305136309\"], [\"https://linked.data.gov.au/dataset/asgs2016/statisticalarealevel1/21305136310\"], [\"https://linked.data.gov.au/dataset/asgs2016/statisticalarealevel1/21305136313\"], [\"https://linked.data.gov.au/dataset/asgs2016/statisticalarealevel1/21305136315\"], [\"https://linked.data.gov.au/dataset/asgs2016/statisticalarealevel1/21305146403\"]]};\n",
       "        dt_args = eval_functions(dt_args);\n",
       "        table = $('#2b19bffc-dbc9-4b6f-99bc-8de0e4440bac').DataTable(dt_args);\n",
       "    });\n",
       "})\n",
       "</script>\n",
       "</div>\n"
      ],
      "text/plain": [
       "                                                   uri\n",
       "0    https://linked.data.gov.au/dataset/asgs2016/st...\n",
       "1    https://linked.data.gov.au/dataset/asgs2016/st...\n",
       "2    https://linked.data.gov.au/dataset/asgs2016/st...\n",
       "3    https://linked.data.gov.au/dataset/asgs2016/st...\n",
       "4    https://linked.data.gov.au/dataset/asgs2016/st...\n",
       "..                                                 ...\n",
       "889  https://linked.data.gov.au/dataset/asgs2016/st...\n",
       "890  https://linked.data.gov.au/dataset/asgs2016/st...\n",
       "891  https://linked.data.gov.au/dataset/asgs2016/st...\n",
       "892  https://linked.data.gov.au/dataset/asgs2016/st...\n",
       "893  https://linked.data.gov.au/dataset/asgs2016/st...\n",
       "\n",
       "[894 rows x 1 columns]"
      ]
     },
     "execution_count": 37,
     "metadata": {},
     "output_type": "execute_result"
    }
   ],
   "source": [
    "df = pd.DataFrame (mylist, columns = ['uri'])\n",
    "df"
   ]
  },
  {
   "cell_type": "markdown",
   "metadata": {},
   "source": [
    "## Use case 1.B. Features intersecting at the same time (Fix at a point in time for both)\n",
    "\n",
    "For entity A, in data set X, return identifiers for entities of class 2 from data set Y at time b, that intersect A at time α, where time α and b are the same\n",
    "\n",
    "Example: For a starting feature of CED Commonwealth Electoral District (CED) of Fraser (ACT), return identifiers for the target features, LGA regions, that existed at 2017-09-07, that intersected the source CED, on 7 September 2017."
   ]
  },
  {
   "cell_type": "code",
   "execution_count": 38,
   "metadata": {},
   "outputs": [],
   "source": [
    "FRASER_CED = \"https://linked.data.gov.au/dataset/asgs/commonwealthelectoraldivision/214\"\n",
    "TO_FEATURE_TYPE = \"https://linked.data.gov.au/def/asgs#LocalGovernmentArea\"\n",
    "TIME_SOURCE_FEATURE = \"2017-09-07\"\n",
    "TIME_TARGET_FEATURE_TYPE = \"2017-09-07\""
   ]
  },
  {
   "cell_type": "code",
   "execution_count": 39,
   "metadata": {},
   "outputs": [
    {
     "name": "stdout",
     "output_type": "stream",
     "text": [
      "http://time-api.loci.cat/api/v1/temporal/intersects2?uri=https%3A%2F%2Flinked.data.gov.au%2Fdataset%2Fasgs%2Fcommonwealthelectoraldivision%2F214&fromTime=2017-09-07&toTime=2017-09-07&toFeatureType=https%3A%2F%2Flinked.data.gov.au%2Fdef%2Fasgs%23LocalGovernmentArea\n"
     ]
    },
    {
     "data": {
      "text/html": [
       "<div><table id=\"f232f961-58c1-43b6-b42d-efbf1205eb70\" class=\"display\"><thead>\n",
       "    <tr style=\"text-align: right;\">\n",
       "      \n",
       "      <th>uri</th>\n",
       "    </tr>\n",
       "  </thead></table>\n",
       "<script type=\"text/javascript\">\n",
       "require([\"datatables\"], function (datatables) {\n",
       "    $(document).ready(function () {\n",
       "        var dt_args = {\"columnDefs\": [{\"className\": \"dt-left\", \"targets\": \"_all\"}], \"lengthMenu\": [50, 100, 200, 500], \"paging\": false, \"data\": [[\"https://linked.data.gov.au/dataset/asgs/localgovernmentarea/21180/2017-07\"], [\"https://linked.data.gov.au/dataset/asgs/localgovernmentarea/23110/2017-07\"], [\"https://linked.data.gov.au/dataset/asgs/localgovernmentarea/24330/2017-07\"], [\"https://linked.data.gov.au/dataset/asgs/localgovernmentarea/24600/2017-07\"], [\"https://linked.data.gov.au/dataset/asgs/localgovernmentarea/25060/2017-07\"], [\"https://linked.data.gov.au/dataset/asgs/localgovernmentarea/27260/2017-07\"]]};\n",
       "        dt_args = eval_functions(dt_args);\n",
       "        table = $('#f232f961-58c1-43b6-b42d-efbf1205eb70').DataTable(dt_args);\n",
       "    });\n",
       "})\n",
       "</script>\n",
       "</div>\n"
      ],
      "text/plain": [
       "                                                 uri\n",
       "0  https://linked.data.gov.au/dataset/asgs/localg...\n",
       "1  https://linked.data.gov.au/dataset/asgs/localg...\n",
       "2  https://linked.data.gov.au/dataset/asgs/localg...\n",
       "3  https://linked.data.gov.au/dataset/asgs/localg...\n",
       "4  https://linked.data.gov.au/dataset/asgs/localg...\n",
       "5  https://linked.data.gov.au/dataset/asgs/localg..."
      ]
     },
     "execution_count": 39,
     "metadata": {},
     "output_type": "execute_result"
    }
   ],
   "source": [
    "API_ENDPOINT = \"/temporal/intersects2\"\n",
    "\n",
    "url = TIME_API + API_ENDPOINT\n",
    "payload = {\n",
    "    'uri': FRASER_CED,\n",
    "    'fromTime' : TIME_SOURCE_FEATURE,\n",
    "    'toTime' : TIME_TARGET_FEATURE_TYPE,\n",
    "    'toFeatureType' : TO_FEATURE_TYPE\n",
    "}\n",
    "r = requests.get(url, params=payload)\n",
    "print(r.url)\n",
    "jsondata = r.json()\n",
    "mylist = [[k] for k in jsondata]\n",
    "df = pd.DataFrame (mylist, columns = ['uri'])\n",
    "df"
   ]
  },
  {
   "cell_type": "markdown",
   "metadata": {},
   "source": [
    "## Use case 1.B. Features intersecting at different times (Specify time points for source feature and target feature types)\n",
    "\n",
    "For entity A, in data set X, return identifiers for entities of class 2 from data set Y at time b, that intersect A at time α, where time α and b are different\n",
    "\n",
    "Example: For a starting feature of CED Commonwealth Electoral District (CED) of Fraser (ACT), return identifiers for the target features, LGA regions, that existed at 2020-09-07, that intersected the source CED, on 7 September 2017."
   ]
  },
  {
   "cell_type": "code",
   "execution_count": 40,
   "metadata": {},
   "outputs": [],
   "source": [
    "FRASER_CED = \"https://linked.data.gov.au/dataset/asgs/commonwealthelectoraldivision/214\"\n",
    "TO_FEATURE_TYPE = \"https://linked.data.gov.au/def/asgs#LocalGovernmentArea\"\n",
    "TIME_SOURCE_FEATURE = \"2017-09-07\"\n",
    "TIME_TARGET_FEATURE_TYPE = \"2020-09-07\""
   ]
  },
  {
   "cell_type": "code",
   "execution_count": 41,
   "metadata": {},
   "outputs": [
    {
     "data": {
      "text/html": [
       "<div><table id=\"3a361e74-b172-4a39-af9b-5ed53b3190cf\" class=\"display\"><thead>\n",
       "    <tr style=\"text-align: right;\">\n",
       "      \n",
       "      <th>uri</th>\n",
       "    </tr>\n",
       "  </thead></table>\n",
       "<script type=\"text/javascript\">\n",
       "require([\"datatables\"], function (datatables) {\n",
       "    $(document).ready(function () {\n",
       "        var dt_args = {\"columnDefs\": [{\"className\": \"dt-left\", \"targets\": \"_all\"}], \"lengthMenu\": [50, 100, 200, 500], \"paging\": false, \"data\": [[\"https://linked.data.gov.au/dataset/asgs/localgovernmentarea/21180/2020-06\"], [\"https://linked.data.gov.au/dataset/asgs/localgovernmentarea/23110/2020-06\"], [\"https://linked.data.gov.au/dataset/asgs/localgovernmentarea/24330/2020-06\"], [\"https://linked.data.gov.au/dataset/asgs/localgovernmentarea/24600/2020-06\"], [\"https://linked.data.gov.au/dataset/asgs/localgovernmentarea/25060/2020-06\"], [\"https://linked.data.gov.au/dataset/asgs/localgovernmentarea/27260/2020-06\"], [\"https://linked.data.gov.au/dataset/asgs/localgovernmentarea/21180\"], [\"https://linked.data.gov.au/dataset/asgs/localgovernmentarea/23110\"], [\"https://linked.data.gov.au/dataset/asgs/localgovernmentarea/24330\"], [\"https://linked.data.gov.au/dataset/asgs/localgovernmentarea/24600\"], [\"https://linked.data.gov.au/dataset/asgs/localgovernmentarea/25060\"], [\"https://linked.data.gov.au/dataset/asgs/localgovernmentarea/27260\"]]};\n",
       "        dt_args = eval_functions(dt_args);\n",
       "        table = $('#3a361e74-b172-4a39-af9b-5ed53b3190cf').DataTable(dt_args);\n",
       "    });\n",
       "})\n",
       "</script>\n",
       "</div>\n"
      ],
      "text/plain": [
       "                                                  uri\n",
       "0   https://linked.data.gov.au/dataset/asgs/localg...\n",
       "1   https://linked.data.gov.au/dataset/asgs/localg...\n",
       "2   https://linked.data.gov.au/dataset/asgs/localg...\n",
       "3   https://linked.data.gov.au/dataset/asgs/localg...\n",
       "4   https://linked.data.gov.au/dataset/asgs/localg...\n",
       "5   https://linked.data.gov.au/dataset/asgs/localg...\n",
       "6   https://linked.data.gov.au/dataset/asgs/localg...\n",
       "7   https://linked.data.gov.au/dataset/asgs/localg...\n",
       "8   https://linked.data.gov.au/dataset/asgs/localg...\n",
       "9   https://linked.data.gov.au/dataset/asgs/localg...\n",
       "10  https://linked.data.gov.au/dataset/asgs/localg...\n",
       "11  https://linked.data.gov.au/dataset/asgs/localg..."
      ]
     },
     "execution_count": 41,
     "metadata": {},
     "output_type": "execute_result"
    }
   ],
   "source": [
    "API_ENDPOINT = \"/temporal/intersects2\"\n",
    "\n",
    "url = TIME_API + API_ENDPOINT\n",
    "payload = {\n",
    "    'uri': FRASER_CED,\n",
    "    'fromTime' : TIME_SOURCE_FEATURE,\n",
    "    'toTime' : TIME_TARGET_FEATURE_TYPE,\n",
    "    'toFeatureType' : TO_FEATURE_TYPE\n",
    "}\n",
    "r = requests.get(url, params=payload)\n",
    "#print(r.url)\n",
    "jsondata = r.json()\n",
    "mylist = [[k] for k in jsondata]\n",
    "df = pd.DataFrame (mylist, columns = ['uri'])\n",
    "df"
   ]
  },
  {
   "cell_type": "markdown",
   "metadata": {},
   "source": [
    "## Use case 2.A. Features intersecting input feature between time A and B.\n",
    "\n",
    "For entity A, in data set X, return identifiers for entities of class 2 from data set Y, that intersected entity A between times α and β\n",
    "\n",
    "Example: For a starting feature of CED Commonwealth Electoral District (CED) of Fraser (ACT), return identifiers for the target features, ASGS Non-ABS LGAs, that intersected the source CED, on 7 September 2017 and 7 September 2020"
   ]
  },
  {
   "cell_type": "code",
   "execution_count": 42,
   "metadata": {},
   "outputs": [],
   "source": [
    "FRASER_CED = \"https://linked.data.gov.au/dataset/asgs/commonwealthelectoraldivision/214\"\n",
    "TO_FEATURE_TYPE = \"https://linked.data.gov.au/def/asgs#LocalGovernmentArea\"\n",
    "TIMESPAN_START = \"2017-09-07\"\n",
    "TIMESPAN_END = \"2020-09-07\""
   ]
  },
  {
   "cell_type": "code",
   "execution_count": 43,
   "metadata": {},
   "outputs": [
    {
     "name": "stdout",
     "output_type": "stream",
     "text": [
      "http://time-api.loci.cat/api/v1/temporal/intersects3?uri=https%3A%2F%2Flinked.data.gov.au%2Fdataset%2Fasgs%2Fcommonwealthelectoraldivision%2F214&fromTime=2017-09-07&toTime=2020-09-07&toFeatureType=https%3A%2F%2Flinked.data.gov.au%2Fdef%2Fasgs%23LocalGovernmentArea\n"
     ]
    },
    {
     "data": {
      "text/html": [
       "<div><table id=\"3799ab39-3ea8-4683-845d-541e5e977b13\" class=\"display\"><thead>\n",
       "    <tr style=\"text-align: right;\">\n",
       "      \n",
       "      <th>https://linked.data.gov.au/dataset/asgs/commonwealthelectoraldivision/214</th>\n",
       "      <th>https://linked.data.gov.au/dataset/asgs/commonwealthelectoraldivision/214/2018-07</th>\n",
       "    </tr>\n",
       "  </thead></table>\n",
       "<script type=\"text/javascript\">\n",
       "require([\"datatables\"], function (datatables) {\n",
       "    $(document).ready(function () {\n",
       "        var dt_args = {\"columnDefs\": [{\"className\": \"dt-left\", \"targets\": \"_all\"}], \"lengthMenu\": [50, 100, 200, 500], \"paging\": false, \"data\": [[\"https://linked.data.gov.au/dataset/asgs/localgovernmentarea/21180\", \"https://linked.data.gov.au/dataset/asgs/localgovernmentarea/21180\"], [\"https://linked.data.gov.au/dataset/asgs/localgovernmentarea/21180/2018-07\", \"https://linked.data.gov.au/dataset/asgs/localgovernmentarea/21180/2018-07\"], [\"https://linked.data.gov.au/dataset/asgs/localgovernmentarea/21180/2019-07\", \"https://linked.data.gov.au/dataset/asgs/localgovernmentarea/21180/2019-07\"], [\"https://linked.data.gov.au/dataset/asgs/localgovernmentarea/21180/2020-06\", \"https://linked.data.gov.au/dataset/asgs/localgovernmentarea/21180/2020-06\"], [\"https://linked.data.gov.au/dataset/asgs/localgovernmentarea/23110\", \"https://linked.data.gov.au/dataset/asgs/localgovernmentarea/23110\"], [\"https://linked.data.gov.au/dataset/asgs/localgovernmentarea/23110/2018-07\", \"https://linked.data.gov.au/dataset/asgs/localgovernmentarea/23110/2018-07\"], [\"https://linked.data.gov.au/dataset/asgs/localgovernmentarea/23110/2019-07\", \"https://linked.data.gov.au/dataset/asgs/localgovernmentarea/23110/2019-07\"], [\"https://linked.data.gov.au/dataset/asgs/localgovernmentarea/23110/2020-06\", \"https://linked.data.gov.au/dataset/asgs/localgovernmentarea/23110/2020-06\"], [\"https://linked.data.gov.au/dataset/asgs/localgovernmentarea/23270\", \"https://linked.data.gov.au/dataset/asgs/localgovernmentarea/23270\"], [\"https://linked.data.gov.au/dataset/asgs/localgovernmentarea/23270/2018-07\", \"https://linked.data.gov.au/dataset/asgs/localgovernmentarea/23270/2018-07\"], [\"https://linked.data.gov.au/dataset/asgs/localgovernmentarea/23270/2019-07\", \"https://linked.data.gov.au/dataset/asgs/localgovernmentarea/23270/2019-07\"], [\"https://linked.data.gov.au/dataset/asgs/localgovernmentarea/23270/2020-06\", \"https://linked.data.gov.au/dataset/asgs/localgovernmentarea/23270/2020-06\"], [\"https://linked.data.gov.au/dataset/asgs/localgovernmentarea/24330\", \"https://linked.data.gov.au/dataset/asgs/localgovernmentarea/24330\"], [\"https://linked.data.gov.au/dataset/asgs/localgovernmentarea/24330/2018-07\", \"https://linked.data.gov.au/dataset/asgs/localgovernmentarea/24330/2018-07\"], [\"https://linked.data.gov.au/dataset/asgs/localgovernmentarea/24330/2019-07\", \"https://linked.data.gov.au/dataset/asgs/localgovernmentarea/24330/2019-07\"], [\"https://linked.data.gov.au/dataset/asgs/localgovernmentarea/24330/2020-06\", \"https://linked.data.gov.au/dataset/asgs/localgovernmentarea/24330/2020-06\"], [\"https://linked.data.gov.au/dataset/asgs/localgovernmentarea/24650\", \"https://linked.data.gov.au/dataset/asgs/localgovernmentarea/24650\"], [\"https://linked.data.gov.au/dataset/asgs/localgovernmentarea/24650/2018-07\", \"https://linked.data.gov.au/dataset/asgs/localgovernmentarea/24650/2018-07\"], [\"https://linked.data.gov.au/dataset/asgs/localgovernmentarea/24650/2019-07\", \"https://linked.data.gov.au/dataset/asgs/localgovernmentarea/24650/2019-07\"], [\"https://linked.data.gov.au/dataset/asgs/localgovernmentarea/24650/2020-06\", \"https://linked.data.gov.au/dataset/asgs/localgovernmentarea/24650/2020-06\"], [\"https://linked.data.gov.au/dataset/asgs/localgovernmentarea/25060\", \"https://linked.data.gov.au/dataset/asgs/localgovernmentarea/25060\"], [\"https://linked.data.gov.au/dataset/asgs/localgovernmentarea/25060/2018-07\", \"https://linked.data.gov.au/dataset/asgs/localgovernmentarea/25060/2018-07\"], [\"https://linked.data.gov.au/dataset/asgs/localgovernmentarea/25060/2019-07\", \"https://linked.data.gov.au/dataset/asgs/localgovernmentarea/25060/2019-07\"], [\"https://linked.data.gov.au/dataset/asgs/localgovernmentarea/25060/2020-06\", \"https://linked.data.gov.au/dataset/asgs/localgovernmentarea/25060/2020-06\"], [\"https://linked.data.gov.au/dataset/asgs/localgovernmentarea/27260\", \"https://linked.data.gov.au/dataset/asgs/localgovernmentarea/27260\"], [\"https://linked.data.gov.au/dataset/asgs/localgovernmentarea/27260/2018-07\", \"https://linked.data.gov.au/dataset/asgs/localgovernmentarea/27260/2018-07\"], [\"https://linked.data.gov.au/dataset/asgs/localgovernmentarea/27260/2019-07\", \"https://linked.data.gov.au/dataset/asgs/localgovernmentarea/27260/2019-07\"], [\"https://linked.data.gov.au/dataset/asgs/localgovernmentarea/27260/2020-06\", \"https://linked.data.gov.au/dataset/asgs/localgovernmentarea/27260/2020-06\"]]};\n",
       "        dt_args = eval_functions(dt_args);\n",
       "        table = $('#3799ab39-3ea8-4683-845d-541e5e977b13').DataTable(dt_args);\n",
       "    });\n",
       "})\n",
       "</script>\n",
       "</div>\n"
      ],
      "text/plain": [
       "   https://linked.data.gov.au/dataset/asgs/commonwealthelectoraldivision/214  \\\n",
       "0   https://linked.data.gov.au/dataset/asgs/localg...                          \n",
       "1   https://linked.data.gov.au/dataset/asgs/localg...                          \n",
       "2   https://linked.data.gov.au/dataset/asgs/localg...                          \n",
       "3   https://linked.data.gov.au/dataset/asgs/localg...                          \n",
       "4   https://linked.data.gov.au/dataset/asgs/localg...                          \n",
       "5   https://linked.data.gov.au/dataset/asgs/localg...                          \n",
       "6   https://linked.data.gov.au/dataset/asgs/localg...                          \n",
       "7   https://linked.data.gov.au/dataset/asgs/localg...                          \n",
       "8   https://linked.data.gov.au/dataset/asgs/localg...                          \n",
       "9   https://linked.data.gov.au/dataset/asgs/localg...                          \n",
       "10  https://linked.data.gov.au/dataset/asgs/localg...                          \n",
       "11  https://linked.data.gov.au/dataset/asgs/localg...                          \n",
       "12  https://linked.data.gov.au/dataset/asgs/localg...                          \n",
       "13  https://linked.data.gov.au/dataset/asgs/localg...                          \n",
       "14  https://linked.data.gov.au/dataset/asgs/localg...                          \n",
       "15  https://linked.data.gov.au/dataset/asgs/localg...                          \n",
       "16  https://linked.data.gov.au/dataset/asgs/localg...                          \n",
       "17  https://linked.data.gov.au/dataset/asgs/localg...                          \n",
       "18  https://linked.data.gov.au/dataset/asgs/localg...                          \n",
       "19  https://linked.data.gov.au/dataset/asgs/localg...                          \n",
       "20  https://linked.data.gov.au/dataset/asgs/localg...                          \n",
       "21  https://linked.data.gov.au/dataset/asgs/localg...                          \n",
       "22  https://linked.data.gov.au/dataset/asgs/localg...                          \n",
       "23  https://linked.data.gov.au/dataset/asgs/localg...                          \n",
       "24  https://linked.data.gov.au/dataset/asgs/localg...                          \n",
       "25  https://linked.data.gov.au/dataset/asgs/localg...                          \n",
       "26  https://linked.data.gov.au/dataset/asgs/localg...                          \n",
       "27  https://linked.data.gov.au/dataset/asgs/localg...                          \n",
       "\n",
       "   https://linked.data.gov.au/dataset/asgs/commonwealthelectoraldivision/214/2018-07  \n",
       "0   https://linked.data.gov.au/dataset/asgs/localg...                                 \n",
       "1   https://linked.data.gov.au/dataset/asgs/localg...                                 \n",
       "2   https://linked.data.gov.au/dataset/asgs/localg...                                 \n",
       "3   https://linked.data.gov.au/dataset/asgs/localg...                                 \n",
       "4   https://linked.data.gov.au/dataset/asgs/localg...                                 \n",
       "5   https://linked.data.gov.au/dataset/asgs/localg...                                 \n",
       "6   https://linked.data.gov.au/dataset/asgs/localg...                                 \n",
       "7   https://linked.data.gov.au/dataset/asgs/localg...                                 \n",
       "8   https://linked.data.gov.au/dataset/asgs/localg...                                 \n",
       "9   https://linked.data.gov.au/dataset/asgs/localg...                                 \n",
       "10  https://linked.data.gov.au/dataset/asgs/localg...                                 \n",
       "11  https://linked.data.gov.au/dataset/asgs/localg...                                 \n",
       "12  https://linked.data.gov.au/dataset/asgs/localg...                                 \n",
       "13  https://linked.data.gov.au/dataset/asgs/localg...                                 \n",
       "14  https://linked.data.gov.au/dataset/asgs/localg...                                 \n",
       "15  https://linked.data.gov.au/dataset/asgs/localg...                                 \n",
       "16  https://linked.data.gov.au/dataset/asgs/localg...                                 \n",
       "17  https://linked.data.gov.au/dataset/asgs/localg...                                 \n",
       "18  https://linked.data.gov.au/dataset/asgs/localg...                                 \n",
       "19  https://linked.data.gov.au/dataset/asgs/localg...                                 \n",
       "20  https://linked.data.gov.au/dataset/asgs/localg...                                 \n",
       "21  https://linked.data.gov.au/dataset/asgs/localg...                                 \n",
       "22  https://linked.data.gov.au/dataset/asgs/localg...                                 \n",
       "23  https://linked.data.gov.au/dataset/asgs/localg...                                 \n",
       "24  https://linked.data.gov.au/dataset/asgs/localg...                                 \n",
       "25  https://linked.data.gov.au/dataset/asgs/localg...                                 \n",
       "26  https://linked.data.gov.au/dataset/asgs/localg...                                 \n",
       "27  https://linked.data.gov.au/dataset/asgs/localg...                                 "
      ]
     },
     "execution_count": 43,
     "metadata": {},
     "output_type": "execute_result"
    }
   ],
   "source": [
    "API_ENDPOINT = \"/temporal/intersects3\"\n",
    "\n",
    "url = TIME_API + API_ENDPOINT\n",
    "payload = {\n",
    "    'uri': FRASER_CED,\n",
    "    'fromTime' : TIMESPAN_START,\n",
    "    'toTime' : TIMESPAN_END,\n",
    "    'toFeatureType' : TO_FEATURE_TYPE\n",
    "}\n",
    "r = requests.get(url, params=payload)\n",
    "#print(r.url)\n",
    "jsondata = r.json()\n",
    "mydict = {k: sorted(v) for k, v in jsondata.items()}\n",
    "df = pd.DataFrame (mydict, columns = mydict.keys())\n",
    "df"
   ]
  },
  {
   "cell_type": "code",
   "execution_count": 28,
   "metadata": {},
   "outputs": [],
   "source": [
    "import ipycytoscape"
   ]
  },
  {
   "cell_type": "code",
   "execution_count": 16,
   "metadata": {
    "scrolled": true
   },
   "outputs": [],
   "source": [
    "import json\n",
    "with open(\"DAGData.json\") as fi:\n",
    "    json_file = json.load(fi)"
   ]
  },
  {
   "cell_type": "code",
   "execution_count": 17,
   "metadata": {},
   "outputs": [],
   "source": [
    "cytoscapeobj = ipycytoscape.CytoscapeWidget()\n",
    "cytoscapeobj.graph.add_graph_from_json(json_file)"
   ]
  },
  {
   "cell_type": "code",
   "execution_count": 18,
   "metadata": {},
   "outputs": [],
   "source": [
    "cytoscapeobj.set_layout(name='dagre', nodeSpacing=10, edgeLengthVal=10)\n",
    "cytoscapeobj.set_style([{\n",
    "                        'selector': 'node',\n",
    "                        'css': {\n",
    "                            'background-color': '#11479e'\n",
    "                            }\n",
    "                        },\n",
    "                        {\n",
    "                        'selector': 'node:parent',\n",
    "                        'css': {\n",
    "                            'background-opacity': 0.333\n",
    "                            }\n",
    "                        },\n",
    "                        {\n",
    "                            'selector': 'edge',\n",
    "                            'style': {\n",
    "                                'width': 4,\n",
    "                                'line-color': '#9dbaea',\n",
    "                                'target-arrow-shape': 'triangle',\n",
    "                                'target-arrow-color': '#9dbaea',\n",
    "                                'curve-style': 'bezier'\n",
    "                            }\n",
    "                        }])"
   ]
  },
  {
   "cell_type": "code",
   "execution_count": 19,
   "metadata": {},
   "outputs": [
    {
     "data": {
      "application/vnd.jupyter.widget-view+json": {
       "model_id": "a4f2c282589a47e48ada393b6bdd63fa",
       "version_major": 2,
       "version_minor": 0
      },
      "text/plain": [
       "CytoscapeWidget(cytoscape_layout={'name': 'dagre', 'nodeSpacing': 10, 'edgeLengthVal': 10}, cytoscape_style=[{…"
      ]
     },
     "metadata": {},
     "output_type": "display_data"
    }
   ],
   "source": [
    "cytoscapeobj"
   ]
  },
  {
   "cell_type": "code",
   "execution_count": null,
   "metadata": {},
   "outputs": [],
   "source": []
  },
  {
   "cell_type": "code",
   "execution_count": null,
   "metadata": {},
   "outputs": [],
   "source": []
  },
  {
   "cell_type": "code",
   "execution_count": null,
   "metadata": {},
   "outputs": [],
   "source": []
  },
  {
   "cell_type": "code",
   "execution_count": null,
   "metadata": {},
   "outputs": [],
   "source": []
  }
 ],
 "metadata": {
  "kernelspec": {
   "display_name": "Python 3",
   "language": "python",
   "name": "python3"
  },
  "language_info": {
   "codemirror_mode": {
    "name": "ipython",
    "version": 3
   },
   "file_extension": ".py",
   "mimetype": "text/x-python",
   "name": "python",
   "nbconvert_exporter": "python",
   "pygments_lexer": "ipython3",
   "version": "3.8.8"
  }
 },
 "nbformat": 4,
 "nbformat_minor": 4
}
