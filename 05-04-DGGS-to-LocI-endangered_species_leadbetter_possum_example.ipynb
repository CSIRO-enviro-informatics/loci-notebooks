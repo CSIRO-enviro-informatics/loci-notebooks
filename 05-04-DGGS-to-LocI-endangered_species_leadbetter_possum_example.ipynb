{
 "cells": [
  {
   "cell_type": "markdown",
   "metadata": {},
   "source": [
    "This notebook uses the Dept. Ag, Water and the Environment's data on Species of National Environmental Significance\n",
    "See https://environment.gov.au/science/erin/databases-maps/snes\n",
    "and http://www.environment.gov.au/fed/catalog/search/resource/details.page?uuid=%7B337B05B6-254E-47AD-A701-C55D9A0435EA%7D\n",
    "\n",
    "Specifically a subset of the \"critically endangered\" mammals listed in the dataset - Leadbetter Possum"
   ]
  },
  {
   "cell_type": "markdown",
   "metadata": {},
   "source": [
    "# Install requisite software libraries"
   ]
  },
  {
   "cell_type": "code",
   "execution_count": 32,
   "metadata": {
    "ExecuteTime": {
     "end_time": "2020-06-23T04:36:27.600842Z",
     "start_time": "2020-06-23T04:36:14.730526Z"
    },
    "hide_input": false
   },
   "outputs": [],
   "source": [
    "!pip install --quiet git+https://github.com/CSIRO-enviro-informatics/AusPIX_DGGS.git"
   ]
  },
  {
   "cell_type": "code",
   "execution_count": null,
   "metadata": {
    "ExecuteTime": {
     "end_time": "2020-06-23T04:36:31.213002Z",
     "start_time": "2020-06-23T04:36:27.612132Z"
    },
    "hide_input": true
   },
   "outputs": [],
   "source": [
    "!pip install geojson pygeoj"
   ]
  },
  {
   "cell_type": "markdown",
   "metadata": {
    "ExecuteTime": {
     "end_time": "2020-06-23T04:26:03.640907Z",
     "start_time": "2020-06-23T04:26:03.622506Z"
    }
   },
   "source": [
    "Load the \"critically_endangered_mammals_leadbetter.geojson\" data file"
   ]
  },
  {
   "cell_type": "code",
   "execution_count": null,
   "metadata": {
    "ExecuteTime": {
     "end_time": "2020-06-23T04:36:31.337110Z",
     "start_time": "2020-06-23T04:36:31.225560Z"
    },
    "hide_input": true
   },
   "outputs": [],
   "source": [
    "import geojson\n",
    "fname = \"critically_endangered_mammals_leadbetter.geojson\"\n",
    "geojson_data = None\n",
    "with open(fname) as json_file:\n",
    "    geojson_data = geojson.load(json_file)\n",
    "    "
   ]
  },
  {
   "cell_type": "markdown",
   "metadata": {},
   "source": [
    "Show the locations of critically endangered leadbetter possums on a map"
   ]
  },
  {
   "cell_type": "code",
   "execution_count": null,
   "metadata": {
    "ExecuteTime": {
     "end_time": "2020-06-23T04:36:33.130892Z",
     "start_time": "2020-06-23T04:36:31.356984Z"
    },
    "hide_input": true,
    "scrolled": true
   },
   "outputs": [],
   "source": [
    "#draw the geometry for the feature on a map\n",
    "import ipyleaflet as ipy \n",
    "import ipywidgets as ipyw\n",
    "from ipyleaflet import GeoJSON, Map, Marker\n",
    "\n",
    "x_coord = -37.8\n",
    "y_coord = 145.89\n",
    "\n",
    "map1 = ipy.Map(center=[x_coord, y_coord], zoom=8)\n",
    "label = ipyw.Label(layout=ipyw.Layout(width='100%'))\n",
    "\n",
    "geo_json1 = GeoJSON(data=geojson_data, style = {'color': 'red', 'opacity':0.8, 'weight':1.9, 'fillOpacity':0.5})\n",
    "map1.add_layer(geo_json1)\n"
   ]
  },
  {
   "cell_type": "code",
   "execution_count": null,
   "metadata": {
    "ExecuteTime": {
     "end_time": "2020-06-23T04:36:33.176226Z",
     "start_time": "2020-06-23T04:36:33.134975Z"
    },
    "hide_input": true,
    "scrolled": true
   },
   "outputs": [],
   "source": [
    "## Critically endangered mammals: leadbetter Possum\n",
    "map1"
   ]
  },
  {
   "cell_type": "code",
   "execution_count": null,
   "metadata": {
    "hide_input": true
   },
   "outputs": [],
   "source": [
    "from pandas import json_normalize\n",
    "features = geojson_data['features']\n",
    "json_normalize(features)"
   ]
  },
  {
   "cell_type": "code",
   "execution_count": null,
   "metadata": {
    "ExecuteTime": {
     "end_time": "2020-06-23T04:36:33.575007Z",
     "start_time": "2020-06-23T04:36:33.181642Z"
    },
    "hide_input": true
   },
   "outputs": [],
   "source": [
    "from auspixdggs.callablemodules.dggs_in_poly_for_geojson_callable import cells_in_poly\n",
    "from auspixdggs.callablemodules.dggs_in_line import line_to_DGGS, densify_my_line\n",
    "import geojson\n",
    "from geojson.utils import coords\n",
    "from shapely.geometry import shape, LineString, MultiLineString, Polygon, MultiPolygon\n",
    "\n",
    "def get_geojson_by_file(fname):\n",
    "    data = None\n",
    "    with open(fname) as json_file:\n",
    "        data = geojson.load(json_file)\n",
    "    return data\n",
    "\n",
    "def geojson_to_shape(g):\n",
    "    return shape(g)\n",
    "    \n",
    "def bbox(coord_list):\n",
    "     box = []\n",
    "     for i in (0,1):\n",
    "         res = sorted(coord_list, key=lambda x:x[i])\n",
    "         box.append((res[0][i],res[-1][i]))\n",
    "     #ret = f\"({box[0][0]} {box[1][0]}, {box[0][1]} {box[1][1]})\"\n",
    "     ret = [ box[0][0], box[1][0], box[0][1], box[1][1] ]\n",
    "     #print(\"BBOX {}\".format(ret))\n",
    "     return ret\n",
    "\n",
    "def get_cells_in_geojson(geojson, resolution, cell_obj=True):\n",
    "    list_cells = []\n",
    "    #print(\"Type geojson: {}\".format(type(geojson)))\n",
    "    dict_cells = {}\n",
    "    for fea in geojson['features']:  # for feature in attribute table\n",
    "        #print(fea)\n",
    "        res_cells = get_cells_in_feature(fea, resolution, cell_obj=cell_obj)\n",
    "        print(res_cells)\n",
    "        for item in res_cells:\n",
    "            print(\"'{}'\".format(str(item)))\n",
    "        #cell_list = [item[0] for item in res_cells]\n",
    "        cell_list = res_cells\n",
    "        #cell_id_list = res_cells\n",
    "        for cell in cell_list:\n",
    "            cell_id = str(cell)\n",
    "            if cell_id not in dict_cells:\n",
    "                dict_cells[cell_id] = cell\n",
    "    list_cells = list(dict_cells.values())\n",
    "    return list_cells \n",
    "\n",
    "def get_cells_in_feature(fea, resolution, cell_obj=True):\n",
    "    geom = geojson_to_shape(fea['geometry'])\n",
    "    curr_coords = list(coords(fea))\n",
    "    thisbbox = bbox(curr_coords)\n",
    "    cells = []\n",
    "    if isinstance(geom, LineString) or isinstance(geom, MultiLineString): \n",
    "        fea['geometry']['coordinates'] = densify_my_line(fea['geometry']['coordinates'], resolution)\n",
    "        curr_coords = list(coords(fea))\n",
    "        print(curr_coords)        \n",
    "        res_cells = line_to_DGGS(curr_coords, resolution)  # start at DGGS level 10   \n",
    "        cells = [str(item) for item in res_cells]\n",
    "    elif isinstance(geom, Polygon) or  isinstance(geom, MultiPolygon):\n",
    "        res_cells = cells_in_poly(thisbbox, fea['geometry']['coordinates'], resolution, return_cell_obj=cell_obj)  # start at DGGS level 10    \n",
    "        print(res_cells)\n",
    "        cells = [item[0] for item in res_cells]\n",
    "    else: #try something anyway\n",
    "        res_cells = cells_in_poly(thisbbox, fea['geometry']['coordinates'], resolution, return_cell_obj=cell_obj)  # start at DGGS level 10    \n",
    "        print(res_cells)\n",
    "        cells = [item[0] for item in res_cells]\n",
    "    return cells   "
   ]
  },
  {
   "cell_type": "markdown",
   "metadata": {},
   "source": [
    "# Use the Geoscience Australia AusPIX DGGS Engine to DGGS-enable the data"
   ]
  },
  {
   "cell_type": "markdown",
   "metadata": {},
   "source": [
    "Use the DGGS Engine to find cells that match the features. Also specify the DGGS resolution needed."
   ]
  },
  {
   "cell_type": "code",
   "execution_count": null,
   "metadata": {
    "ExecuteTime": {
     "end_time": "2020-06-23T04:36:33.598441Z",
     "start_time": "2020-06-23T04:36:33.588343Z"
    }
   },
   "outputs": [],
   "source": [
    "DGGS_RESOLUTION=7"
   ]
  },
  {
   "cell_type": "code",
   "execution_count": null,
   "metadata": {
    "ExecuteTime": {
     "end_time": "2020-06-23T04:36:36.070396Z",
     "start_time": "2020-06-23T04:36:33.607538Z"
    },
    "hide_input": true
   },
   "outputs": [],
   "source": [
    "list_cells = get_cells_in_geojson(geojson_data, DGGS_RESOLUTION, True)  "
   ]
  },
  {
   "cell_type": "code",
   "execution_count": null,
   "metadata": {
    "ExecuteTime": {
     "end_time": "2020-06-23T04:36:36.519707Z",
     "start_time": "2020-06-23T04:36:36.074762Z"
    },
    "hide_input": true
   },
   "outputs": [],
   "source": [
    "from auspixdggs.callablemodules.dggs_in_poly_for_geojson_callable import cells_in_poly, get_dggs_cell_bbox\n",
    "from geojson import Feature, FeatureCollection\n",
    "\n",
    "list_features = []\n",
    "for cell in list_cells:\n",
    "    bbox_coords = get_dggs_cell_bbox(cell)\n",
    "    geom_obj = Polygon(bbox_coords)\n",
    "    feat = Feature(geometry=geom_obj, properties={\"dggs_cell_id\": str(cell)}) \n",
    "    list_features.append(feat)\n",
    "\n",
    "feature_collection = FeatureCollection(list_features)"
   ]
  },
  {
   "cell_type": "markdown",
   "metadata": {},
   "source": [
    "Show the matching DGGS Cells on a map"
   ]
  },
  {
   "cell_type": "code",
   "execution_count": null,
   "metadata": {
    "ExecuteTime": {
     "end_time": "2020-06-23T04:36:36.860756Z",
     "start_time": "2020-06-23T04:36:36.529524Z"
    },
    "hide_input": true
   },
   "outputs": [],
   "source": [
    "map2 = ipy.Map(center=[x_coord, y_coord], zoom=9)\n",
    "label = ipyw.Label(layout=ipyw.Layout(width='100%'))\n",
    "\n",
    "geo_json2 = GeoJSON(data=feature_collection, \n",
    "                    style={\n",
    "                          'color': 'black', \n",
    "                          'opacity': 1, \n",
    "                          'weight':1, \n",
    "                          'fillColor': 'blue', \n",
    "                          'fillOpacity': 0.2})\n",
    "map2.add_layer(geo_json1)\n",
    "map2.add_layer(geo_json2)\n",
    "\n"
   ]
  },
  {
   "cell_type": "code",
   "execution_count": null,
   "metadata": {
    "ExecuteTime": {
     "end_time": "2020-06-23T04:36:36.960969Z",
     "start_time": "2020-06-23T04:36:36.873453Z"
    },
    "hide_input": true,
    "scrolled": false
   },
   "outputs": [],
   "source": [
    "# DGGS Enabled version - Critically endangered mammals: leadbetter Possum\n",
    "\n",
    "map2\n"
   ]
  },
  {
   "cell_type": "markdown",
   "metadata": {
    "ExecuteTime": {
     "end_time": "2020-06-23T04:30:27.060570Z",
     "start_time": "2020-06-23T04:30:27.053745Z"
    }
   },
   "source": [
    "# Query the Loc-I Integration API for matching LGAs"
   ]
  },
  {
   "cell_type": "code",
   "execution_count": null,
   "metadata": {
    "ExecuteTime": {
     "end_time": "2020-06-23T04:36:37.445598Z",
     "start_time": "2020-06-23T04:36:36.971281Z"
    },
    "hide_input": true
   },
   "outputs": [],
   "source": [
    "import requests\n",
    "import json\n",
    "#iterate over features in feature collection and query Loc-I API for features\n",
    "def find_features_at_dggs_cell(dggs_cell_id):\n",
    "    payload = {\n",
    "        'dggs_cell' : dggs_cell_id\n",
    "    }\n",
    "    r = requests.get('https://api.loci.cat/api/v1/location/find-at-DGGS-cell', params=payload)\n",
    "    json_res = r.json()\n",
    "    return json_res\n"
   ]
  },
  {
   "cell_type": "code",
   "execution_count": null,
   "metadata": {
    "ExecuteTime": {
     "end_time": "2020-06-23T04:37:16.223999Z",
     "start_time": "2020-06-23T04:36:37.459971Z"
    },
    "hide_input": true
   },
   "outputs": [],
   "source": [
    "target_feature_type = 'asgs16_lga'\n",
    "\n",
    "set_of_lga_features = set([])\n",
    "#print(feature_collection)\n",
    "for feature in feature_collection['features']:\n",
    "    cell_id = feature['properties']['dggs_cell_id']\n",
    "    #pad it out\n",
    "    cell_id = cell_id + \"000\"\n",
    "    print(\"Processing {}\".format(cell_id))\n",
    "    res = find_features_at_dggs_cell(cell_id)\n",
    "    if 'locations' in res:\n",
    "        for loc in res['locations']:\n",
    "            if 'dataType' in loc and loc['dataType'] == target_feature_type:\n",
    "                set_of_lga_features.add(loc['uri'])\n",
    "                print(\"Adding {}\".format(loc['uri']))\n",
    "\n",
    "    \n"
   ]
  },
  {
   "cell_type": "code",
   "execution_count": null,
   "metadata": {
    "ExecuteTime": {
     "end_time": "2020-06-23T04:37:16.256884Z",
     "start_time": "2020-06-23T04:37:16.234085Z"
    },
    "hide_input": true
   },
   "outputs": [],
   "source": [
    "def get_geom(loci_uri):\n",
    "    payload = {\n",
    "        \"uri\": loci_uri\n",
    "    }\n",
    "    url = \"https://api.loci.cat/api/v1/location/geometry\"\n",
    "    r = requests.get(url, params=payload)\n",
    "    res = r.json()\n",
    "    #get the first geom result\n",
    "    geojson_data = []\n",
    "    if len( res['geometry']) > 0:\n",
    "        geojson_data = res['geometry'][0]\n",
    "    return geojson_data\n",
    "\n"
   ]
  },
  {
   "cell_type": "markdown",
   "metadata": {},
   "source": [
    "Show the matching LGAs on a map"
   ]
  },
  {
   "cell_type": "code",
   "execution_count": null,
   "metadata": {
    "ExecuteTime": {
     "end_time": "2020-06-23T04:37:16.415950Z",
     "start_time": "2020-06-23T04:37:16.263963Z"
    },
    "hide_input": true
   },
   "outputs": [],
   "source": [
    "map3 = ipy.Map(center=[x_coord, y_coord], zoom=7)\n",
    "label = ipyw.Label(layout=ipyw.Layout(width='100%'))\n"
   ]
  },
  {
   "cell_type": "code",
   "execution_count": null,
   "metadata": {
    "ExecuteTime": {
     "end_time": "2020-06-23T04:37:19.483403Z",
     "start_time": "2020-06-23T04:37:16.424452Z"
    },
    "hide_input": true
   },
   "outputs": [],
   "source": [
    "for feature_uri in list(set_of_lga_features):\n",
    "    geojson_data = get_geom(feature_uri)\n",
    "    curr_geojson_layer = GeoJSON(data=geojson_data, \n",
    "                    style={\n",
    "                          'color': 'black', \n",
    "                          'opacity': 1, \n",
    "                          'weight':1, \n",
    "                          'fillColor': 'yellow', \n",
    "                          'fillOpacity': 0.3})\n",
    "    map3.add_layer(curr_geojson_layer)\n",
    "map3.add_layer(geo_json1)\n",
    "map3.add_layer(geo_json2)\n"
   ]
  },
  {
   "cell_type": "code",
   "execution_count": null,
   "metadata": {
    "ExecuteTime": {
     "end_time": "2020-06-23T04:37:19.594810Z",
     "start_time": "2020-06-23T04:37:19.496878Z"
    },
    "hide_input": true,
    "scrolled": true
   },
   "outputs": [],
   "source": [
    "map3"
   ]
  },
  {
   "cell_type": "markdown",
   "metadata": {
    "ExecuteTime": {
     "end_time": "2020-06-23T04:33:05.467836Z",
     "start_time": "2020-06-23T04:33:05.460016Z"
    }
   },
   "source": [
    "# Try a different Loc-I Feature - Query the Loc-I Integration API for matching ASGS Statistical Area Level 2 locations"
   ]
  },
  {
   "cell_type": "code",
   "execution_count": null,
   "metadata": {
    "ExecuteTime": {
     "start_time": "2020-06-23T04:36:14.833Z"
    },
    "hide_input": true
   },
   "outputs": [],
   "source": [
    "target_feature_type = 'asgs16_sa2'\n",
    "\n",
    "set_of_features = set([])\n",
    "#print(feature_collection)\n",
    "for feature in feature_collection['features']:\n",
    "    cell_id = feature['properties']['dggs_cell_id']\n",
    "    #pad it out\n",
    "    cell_id = cell_id + \"000\"\n",
    "    print(\"Processing {}\".format(cell_id))\n",
    "    res = find_features_at_dggs_cell(cell_id)\n",
    "    if 'locations' in res:\n",
    "        for loc in res['locations']:\n",
    "            if 'dataType' in loc and loc['dataType'] == target_feature_type:\n",
    "                set_of_features.add(loc['uri'])\n",
    "                print(\"Adding {}\".format(loc['uri']))\n"
   ]
  },
  {
   "cell_type": "markdown",
   "metadata": {},
   "source": [
    "Show the matching ASGS SA2 on a map"
   ]
  },
  {
   "cell_type": "code",
   "execution_count": null,
   "metadata": {
    "ExecuteTime": {
     "start_time": "2020-06-23T04:36:14.840Z"
    },
    "hide_input": true
   },
   "outputs": [],
   "source": [
    "\n",
    "map4 = ipy.Map(center=[x_coord, y_coord], zoom=8)\n",
    "\n",
    "\n",
    "for feature_uri in list(set_of_features):\n",
    "    geojson_data = get_geom(feature_uri)\n",
    "    curr_geojson_layer = GeoJSON(data=geojson_data, \n",
    "                    style={\n",
    "                          'color': 'black', \n",
    "                          'opacity': 1, \n",
    "                          'weight':1, \n",
    "                          'fillColor': 'green', \n",
    "                          'fillOpacity': 0.3})\n",
    "    map4.add_layer(curr_geojson_layer)\n",
    "\n",
    "    \n",
    "map4.add_layer(geo_json1)\n",
    "map4.add_layer(geo_json2)"
   ]
  },
  {
   "cell_type": "code",
   "execution_count": null,
   "metadata": {
    "ExecuteTime": {
     "start_time": "2020-06-23T04:36:14.847Z"
    },
    "hide_input": true
   },
   "outputs": [],
   "source": [
    "map4"
   ]
  },
  {
   "cell_type": "markdown",
   "metadata": {},
   "source": [
    "# Try a different Loc-I Feature-type again - Query the Loc-I Integration API for matching ASGS State Suburbs"
   ]
  },
  {
   "cell_type": "code",
   "execution_count": null,
   "metadata": {
    "ExecuteTime": {
     "start_time": "2020-06-23T04:36:14.856Z"
    },
    "hide_input": true
   },
   "outputs": [],
   "source": [
    "target_feature_type = 'asgs16_ssc'\n",
    "\n",
    "set_of_features = set([])\n",
    "#print(feature_collection)\n",
    "for feature in feature_collection['features']:\n",
    "    cell_id = feature['properties']['dggs_cell_id']\n",
    "    #pad it out\n",
    "    cell_id = cell_id + \"000\"\n",
    "    print(\"Processing {}\".format(cell_id))\n",
    "    res = find_features_at_dggs_cell(cell_id)\n",
    "    if 'locations' in res:\n",
    "        for loc in res['locations']:\n",
    "            if 'dataType' in loc and loc['dataType'] == target_feature_type:\n",
    "                set_of_features.add(loc['uri'])\n",
    "                print(\"Adding {}\".format(loc['uri']))\n"
   ]
  },
  {
   "cell_type": "markdown",
   "metadata": {
    "ExecuteTime": {
     "end_time": "2020-06-23T04:35:37.056435Z",
     "start_time": "2020-06-23T04:35:37.012667Z"
    }
   },
   "source": [
    "Show the matching State Suburbs on a map"
   ]
  },
  {
   "cell_type": "code",
   "execution_count": null,
   "metadata": {
    "ExecuteTime": {
     "start_time": "2020-06-23T04:36:14.860Z"
    },
    "hide_input": true
   },
   "outputs": [],
   "source": [
    "\n",
    "map5 = ipy.Map(center=[x_coord, y_coord], zoom=8)\n",
    "\n",
    "\n",
    "for feature_uri in list(set_of_features):\n",
    "    geojson_data = get_geom(feature_uri)\n",
    "    curr_geojson_layer = GeoJSON(data=geojson_data, \n",
    "                    style={\n",
    "                          'color': 'black', \n",
    "                          'opacity': 1, \n",
    "                          'weight':1, \n",
    "                          'fillColor': 'purple', \n",
    "                          'fillOpacity': 0.3})\n",
    "    map5.add_layer(curr_geojson_layer)\n",
    "\n",
    "    \n",
    "map5.add_layer(geo_json1)\n",
    "map5.add_layer(geo_json2)"
   ]
  },
  {
   "cell_type": "code",
   "execution_count": null,
   "metadata": {
    "ExecuteTime": {
     "start_time": "2020-06-23T04:36:14.867Z"
    },
    "hide_input": true
   },
   "outputs": [],
   "source": [
    "map5"
   ]
  },
  {
   "cell_type": "code",
   "execution_count": null,
   "metadata": {},
   "outputs": [],
   "source": []
  }
 ],
 "metadata": {
  "kernelspec": {
   "display_name": "Python 3",
   "language": "python",
   "name": "python3"
  },
  "language_info": {
   "codemirror_mode": {
    "name": "ipython",
    "version": 3
   },
   "file_extension": ".py",
   "mimetype": "text/x-python",
   "name": "python",
   "nbconvert_exporter": "python",
   "pygments_lexer": "ipython3",
   "version": "3.7.6"
  },
  "toc": {
   "base_numbering": 1,
   "nav_menu": {},
   "number_sections": true,
   "sideBar": true,
   "skip_h1_title": false,
   "title_cell": "Table of Contents",
   "title_sidebar": "Contents",
   "toc_cell": false,
   "toc_position": {},
   "toc_section_display": true,
   "toc_window_display": false
  }
 },
 "nbformat": 4,
 "nbformat_minor": 4
}
