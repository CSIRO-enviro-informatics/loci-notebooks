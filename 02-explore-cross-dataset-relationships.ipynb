{
 "cells": [
  {
   "cell_type": "code",
   "execution_count": 1,
   "metadata": {},
   "outputs": [],
   "source": [
    "!pip install --quiet ipyleaflet rdflib requests"
   ]
  },
  {
   "cell_type": "markdown",
   "metadata": {},
   "source": [
    "# Exploring cross-dataset relationships using Loc-I\n",
    "\n",
    "This notebook demonstrates how you use Loc-I to traverse across from one geographic dataset to another via `Loc-I Linksets`.\n",
    "We show how to achieve this using the Loc-I Integration API (https://api.loci.cat)."
   ]
  },
  {
   "cell_type": "code",
   "execution_count": 2,
   "metadata": {},
   "outputs": [],
   "source": [
    "import urllib, json, requests"
   ]
  },
  {
   "cell_type": "code",
   "execution_count": 3,
   "metadata": {},
   "outputs": [
    {
     "data": {
      "text/plain": [
       "{'took': 5,\n",
       " 'timed_out': False,\n",
       " '_shards': {'total': 5, 'successful': 5, 'skipped': 0, 'failed': 0},\n",
       " 'hits': {'total': 1,\n",
       "  'max_score': 22.738655,\n",
       "  'hits': [{'_index': 'default_index',\n",
       "    '_type': 'location',\n",
       "    '_id': 'dSyLfnIBocEacdpCKunC',\n",
       "    '_score': 22.738655,\n",
       "    '_source': {'uri': 'http://linked.data.gov.au/dataset/asgs2016/meshblock/50055290000',\n",
       "     'label': '50055290000'}}]},\n",
       " 'ok': True}"
      ]
     },
     "execution_count": 3,
     "metadata": {},
     "output_type": "execute_result"
    }
   ],
   "source": [
    "# get a meshblock\n",
    "meshblock_id = 50055290000\n",
    "\n",
    "#assume we don't know the URI so let's do a search \n",
    "url = \"https://api.loci.cat/api/v1/location/find-by-label?query={}\".format(meshblock_id)\n",
    "r = requests.get(url)\n",
    "jsondata = r.json()\n",
    "jsondata"
   ]
  },
  {
   "cell_type": "code",
   "execution_count": 4,
   "metadata": {},
   "outputs": [
    {
     "data": {
      "text/plain": [
       "'http://linked.data.gov.au/dataset/asgs2016/meshblock/50055290000'"
      ]
     },
     "execution_count": 4,
     "metadata": {},
     "output_type": "execute_result"
    }
   ],
   "source": [
    "#get the first hit\n",
    "meshblock_uri = jsondata['hits']['hits'][0]['_source']['uri']\n",
    "meshblock_uri"
   ]
  },
  {
   "cell_type": "code",
   "execution_count": 5,
   "metadata": {},
   "outputs": [
    {
     "name": "stdout",
     "output_type": "stream",
     "text": [
      "@prefix asgs: <http://linked.data.gov.au/def/asgs#> .\n",
      "@prefix asgs-cat: <http://linked.data.gov.au/def/asgs-cat/> .\n",
      "@prefix asgs-id: <http://linked.data.gov.au/def/asgs/id#> .\n",
      "@prefix data: <http://linked.data.gov.au/def/datatype/> .\n",
      "@prefix dcterms: <http://purl.org/dc/terms/> .\n",
      "@prefix geo: <http://www.opengis.net/ont/geosparql#> .\n",
      "@prefix geox: <http://linked.data.gov.au/def/geox#> .\n",
      "@prefix loci: <http://linked.data.gov.au/def/loci#> .\n",
      "@prefix rdf: <http://www.w3.org/1999/02/22-rdf-syntax-ns#> .\n",
      "@prefix rdfs: <http://www.w3.org/2000/01/rdf-schema#> .\n",
      "@prefix xml: <http://www.w3.org/XML/1998/namespace> .\n",
      "@prefix xsd: <http://www.w3.org/2001/XMLSchema#> .\n",
      "\n",
      "<http://linked.data.gov.au/dataset/asgs2016/destinationzone/511311450> a asgs:DestinationZone ;\n",
      "    dcterms:identifier \"511311450\"^^asgs-id:dznCode2016 ;\n",
      "    geo:sfContains <http://linked.data.gov.au/dataset/asgs2016/meshblock/50055290000> .\n",
      "\n",
      "<http://linked.data.gov.au/dataset/asgs2016/localgovernmentarea/51330> a asgs:LocalGovernmentArea ;\n",
      "    dcterms:identifier \"51330\"^^asgs-id:lgaCode2016 ;\n",
      "    geo:sfContains <http://linked.data.gov.au/dataset/asgs2016/meshblock/50055290000> .\n",
      "\n",
      "<http://linked.data.gov.au/dataset/asgs2016/naturalresourcemanagementregion/503> a asgs:NaturalResourceManagementRegion ;\n",
      "    dcterms:identifier \"503\"^^asgs-id:nrmrCode2016 ;\n",
      "    geo:sfContains <http://linked.data.gov.au/dataset/asgs2016/meshblock/50055290000> .\n",
      "\n",
      "<http://linked.data.gov.au/dataset/asgs2016/stateorterritory/5> geo:sfContains <http://linked.data.gov.au/dataset/asgs2016/meshblock/50055290000> .\n",
      "\n",
      "<http://linked.data.gov.au/dataset/asgs2016/statesuburb/51595> a asgs:StateSuburb ;\n",
      "    dcterms:identifier \"51595\"^^asgs-id:sscCode2016 ;\n",
      "    geo:sfContains <http://linked.data.gov.au/dataset/asgs2016/meshblock/50055290000> .\n",
      "\n",
      "<http://linked.data.gov.au/dataset/asgs2016/statisticalarealevel1/50603113101> geo:sfContains <http://linked.data.gov.au/dataset/asgs2016/meshblock/50055290000> .\n",
      "\n",
      "<http://linked.data.gov.au/dataset/asgs2016/meshblock/50055290000> a asgs:Feature,\n",
      "        asgs:MeshBlock,\n",
      "        geo:Feature ;\n",
      "    geox:hasAreaM2 [ data:value 37700.0000000000072759576141834259033203125 ;\n",
      "            geox:inCRS <http://www.opengis.net/def/crs/EPSG/0/3577> ],\n",
      "        [ data:value 52623.743038533052 ;\n",
      "            geox:inCRS <http://www.opengis.net/def/crs/EPSG/0/3857> ] ;\n",
      "    loci:isMemberOf <http://linked.data.gov.au/dataset/asgs2016/meshblock/> ;\n",
      "    dcterms:identifier \"50055290000\"^^asgs-id:mbCode2016 ;\n",
      "    dcterms:type <http://linked.data.gov.au/def/asgs-cat/45> ;\n",
      "    geo:hasGeometry <http://gds.loci.cat/geometry/asgs16_mb/50055290000> ;\n",
      "    geo:sfWithin <http://linked.data.gov.au/dataset/asgs2016/destinationzone/511311450>,\n",
      "        <http://linked.data.gov.au/dataset/asgs2016/localgovernmentarea/51330>,\n",
      "        <http://linked.data.gov.au/dataset/asgs2016/naturalresourcemanagementregion/503>,\n",
      "        <http://linked.data.gov.au/dataset/asgs2016/stateorterritory/5>,\n",
      "        <http://linked.data.gov.au/dataset/asgs2016/statesuburb/51595>,\n",
      "        <http://linked.data.gov.au/dataset/asgs2016/statisticalarealevel1/50603113101> .\n",
      "\n",
      "\n"
     ]
    }
   ],
   "source": [
    "#tell me more about the meshblock\n",
    "# get semantic info about the feature\n",
    "header={'Accept': 'text/turtle'}\n",
    "url = meshblock_uri\n",
    "r = requests.get(url, headers=header)\n",
    "res_body = r.text\n",
    "print(res_body)"
   ]
  },
  {
   "cell_type": "code",
   "execution_count": 6,
   "metadata": {},
   "outputs": [
    {
     "name": "stdout",
     "output_type": "stream",
     "text": [
      "http://gds.loci.cat/geometry/asgs16_mb/50055290000\n"
     ]
    }
   ],
   "source": [
    "#you could use rdflib to do some more digging into the semantic description to get the geometry... \n",
    "import rdflib\n",
    "g=rdflib.Graph()\n",
    "g.load(meshblock_uri)\n",
    "\n",
    "#for s,p,o in g:\n",
    "#    print(s, p, o)\n",
    "\n",
    "geom_uri = None\n",
    "for row in g.query(\n",
    "            '''\n",
    "            PREFIX geo: <http://www.opengis.net/ont/geosparql#>\n",
    "            select ?g where { ?feature geo:hasGeometry ?g .}\n",
    "            '''):\n",
    "        geom_uri = (row.g)\n",
    "if(geom_uri != None):\n",
    "    print(geom_uri)"
   ]
  },
  {
   "cell_type": "code",
   "execution_count": 7,
   "metadata": {},
   "outputs": [],
   "source": [
    "# get the geojson representation of the geom\n",
    "header={'Accept': 'application/json'}\n",
    "r = requests.get(geom_uri, headers=header)\n",
    "geojson_data = r.json()\n",
    "\n",
    "params={'_view': 'centroid'}\n",
    "r = requests.get(geom_uri, headers=header, params=params)\n",
    "centroid_geojson_data = r.json()\n",
    "\n"
   ]
  },
  {
   "cell_type": "code",
   "execution_count": 8,
   "metadata": {},
   "outputs": [
    {
     "data": {
      "application/vnd.jupyter.widget-view+json": {
       "model_id": "56210a8700e948f88b0b604450381893",
       "version_major": 2,
       "version_minor": 0
      },
      "text/plain": [
       "Map(center=[-32.046211537, 115.876243445], controls=(ZoomControl(options=['position', 'zoom_in_text', 'zoom_in…"
      ]
     },
     "metadata": {},
     "output_type": "display_data"
    }
   ],
   "source": [
    "#draw the geometry for the feature on a map\n",
    "import ipyleaflet as ipy \n",
    "import ipywidgets as ipyw\n",
    "from ipyleaflet import GeoJSON, Map, Marker\n",
    "\n",
    "x_coord = centroid_geojson_data['coordinates'][1]\n",
    "y_coord = centroid_geojson_data['coordinates'][0]\n",
    "\n",
    "map = ipy.Map(center=[x_coord, y_coord], zoom=15)\n",
    "label = ipyw.Label(layout=ipyw.Layout(width='100%'))\n",
    "\n",
    "geo_json1 = GeoJSON(data=geojson_data, style = {'color': 'red', 'opacity':1, 'weight':1.9, 'fillOpacity':0.5})\n",
    "map.add_layer(geo_json1)\n",
    "map"
   ]
  },
  {
   "cell_type": "markdown",
   "metadata": {},
   "source": [
    "## Get relationships with other regions, e.g. Geofabric\n",
    "\n",
    "We can use the Feature URI descriptions to explore relationships with other things."
   ]
  },
  {
   "cell_type": "code",
   "execution_count": 9,
   "metadata": {},
   "outputs": [
    {
     "name": "stdout",
     "output_type": "stream",
     "text": [
      "http://linked.data.gov.au/dataset/asgs2016/statesuburb/51595\n",
      "http://linked.data.gov.au/dataset/asgs2016/stateorterritory/5\n",
      "http://linked.data.gov.au/dataset/asgs2016/localgovernmentarea/51330\n",
      "http://linked.data.gov.au/dataset/asgs2016/destinationzone/511311450\n",
      "http://linked.data.gov.au/dataset/asgs2016/naturalresourcemanagementregion/503\n",
      "http://linked.data.gov.au/dataset/asgs2016/statisticalarealevel1/50603113101\n"
     ]
    }
   ],
   "source": [
    "for row in g.query(\n",
    "            '''\n",
    "            PREFIX geo: <http://www.opengis.net/ont/geosparql#>\n",
    "            select ?relatedFeaturesUp where { \n",
    "               ?feature geo:sfWithin ?relatedFeaturesUp .\n",
    "            }\n",
    "            '''):\n",
    "        print(row.relatedFeaturesUp)"
   ]
  },
  {
   "cell_type": "markdown",
   "metadata": {},
   "source": [
    "We can use the Feature URI and the Loc-I integration API to explore relationships in other geographic regions, e.g. Geofabric."
   ]
  },
  {
   "cell_type": "code",
   "execution_count": 10,
   "metadata": {},
   "outputs": [
    {
     "data": {
      "text/plain": [
       "{'meta': {'count': 45, 'offset': 0, 'featureArea': '37700.00000000'},\n",
       " 'overlaps': [{'uri': 'http://linked.data.gov.au/dataset/gnaf-2016-05/address/GAWA_146780717',\n",
       "   'intersectionArea': 'nan',\n",
       "   'featureArea': 'NaN',\n",
       "   'forwardPercentage': 'nan',\n",
       "   'reversePercentage': 'nan'},\n",
       "  {'uri': 'http://linked.data.gov.au/dataset/gnaf-2016-05/streetLocality/WA1888363',\n",
       "   'intersectionArea': 'nan',\n",
       "   'featureArea': 'nan',\n",
       "   'forwardPercentage': 'nan',\n",
       "   'reversePercentage': 'nan'},\n",
       "  {'uri': 'http://linked.data.gov.au/dataset/gnaf-2016-05/locality/WA3116',\n",
       "   'intersectionArea': 'nan',\n",
       "   'featureArea': 'nan',\n",
       "   'forwardPercentage': 'nan',\n",
       "   'reversePercentage': 'nan'},\n",
       "  {'uri': 'http://linked.data.gov.au/dataset/gnaf-2016-05/address/GAWA_146780718',\n",
       "   'intersectionArea': 'nan',\n",
       "   'featureArea': 'NaN',\n",
       "   'forwardPercentage': 'nan',\n",
       "   'reversePercentage': 'nan'},\n",
       "  {'uri': 'http://linked.data.gov.au/dataset/gnaf-2016-05/streetLocality/WA1864413',\n",
       "   'intersectionArea': 'nan',\n",
       "   'featureArea': 'nan',\n",
       "   'forwardPercentage': 'nan',\n",
       "   'reversePercentage': 'nan'},\n",
       "  {'uri': 'http://linked.data.gov.au/dataset/gnaf-2016-05/address/GAWA_146780719',\n",
       "   'intersectionArea': 'nan',\n",
       "   'featureArea': 'NaN',\n",
       "   'forwardPercentage': 'nan',\n",
       "   'reversePercentage': 'nan'},\n",
       "  {'uri': 'http://linked.data.gov.au/dataset/gnaf-2016-05/address/GAWA_146780720',\n",
       "   'intersectionArea': 'nan',\n",
       "   'featureArea': 'NaN',\n",
       "   'forwardPercentage': 'nan',\n",
       "   'reversePercentage': 'nan'},\n",
       "  {'uri': 'http://linked.data.gov.au/dataset/gnaf-2016-05/address/GAWA_146780721',\n",
       "   'intersectionArea': 'nan',\n",
       "   'featureArea': 'NaN',\n",
       "   'forwardPercentage': 'nan',\n",
       "   'reversePercentage': 'nan'},\n",
       "  {'uri': 'http://linked.data.gov.au/dataset/gnaf-2016-05/address/GAWA_146780722',\n",
       "   'intersectionArea': 'nan',\n",
       "   'featureArea': 'NaN',\n",
       "   'forwardPercentage': 'nan',\n",
       "   'reversePercentage': 'nan'},\n",
       "  {'uri': 'http://linked.data.gov.au/dataset/gnaf-2016-05/address/GAWA_146780723',\n",
       "   'intersectionArea': 'nan',\n",
       "   'featureArea': 'NaN',\n",
       "   'forwardPercentage': 'nan',\n",
       "   'reversePercentage': 'nan'},\n",
       "  {'uri': 'http://linked.data.gov.au/dataset/gnaf-2016-05/address/GAWA_146780724',\n",
       "   'intersectionArea': 'nan',\n",
       "   'featureArea': 'NaN',\n",
       "   'forwardPercentage': 'nan',\n",
       "   'reversePercentage': 'nan'},\n",
       "  {'uri': 'http://linked.data.gov.au/dataset/gnaf-2016-05/address/GAWA_146780725',\n",
       "   'intersectionArea': 'nan',\n",
       "   'featureArea': 'NaN',\n",
       "   'forwardPercentage': 'nan',\n",
       "   'reversePercentage': 'nan'},\n",
       "  {'uri': 'http://linked.data.gov.au/dataset/gnaf-2016-05/address/GAWA_146780726',\n",
       "   'intersectionArea': 'nan',\n",
       "   'featureArea': 'NaN',\n",
       "   'forwardPercentage': 'nan',\n",
       "   'reversePercentage': 'nan'},\n",
       "  {'uri': 'http://linked.data.gov.au/dataset/gnaf-2016-05/address/GAWA_146780727',\n",
       "   'intersectionArea': 'nan',\n",
       "   'featureArea': 'NaN',\n",
       "   'forwardPercentage': 'nan',\n",
       "   'reversePercentage': 'nan'},\n",
       "  {'uri': 'http://linked.data.gov.au/dataset/gnaf-2016-05/address/GAWA_146780728',\n",
       "   'intersectionArea': 'nan',\n",
       "   'featureArea': 'NaN',\n",
       "   'forwardPercentage': 'nan',\n",
       "   'reversePercentage': 'nan'},\n",
       "  {'uri': 'http://linked.data.gov.au/dataset/gnaf-2016-05/address/GAWA_146781323',\n",
       "   'intersectionArea': 'nan',\n",
       "   'featureArea': 'NaN',\n",
       "   'forwardPercentage': 'nan',\n",
       "   'reversePercentage': 'nan'},\n",
       "  {'uri': 'http://linked.data.gov.au/dataset/gnaf-2016-05/address/GAWA_146781324',\n",
       "   'intersectionArea': 'nan',\n",
       "   'featureArea': 'NaN',\n",
       "   'forwardPercentage': 'nan',\n",
       "   'reversePercentage': 'nan'},\n",
       "  {'uri': 'http://linked.data.gov.au/dataset/gnaf-2016-05/address/GAWA_146781325',\n",
       "   'intersectionArea': 'nan',\n",
       "   'featureArea': 'NaN',\n",
       "   'forwardPercentage': 'nan',\n",
       "   'reversePercentage': 'nan'},\n",
       "  {'uri': 'http://linked.data.gov.au/dataset/gnaf-2016-05/address/GAWA_146781326',\n",
       "   'intersectionArea': 'nan',\n",
       "   'featureArea': 'NaN',\n",
       "   'forwardPercentage': 'nan',\n",
       "   'reversePercentage': 'nan'},\n",
       "  {'uri': 'http://linked.data.gov.au/dataset/gnaf-2016-05/address/GAWA_146781327',\n",
       "   'intersectionArea': 'nan',\n",
       "   'featureArea': 'NaN',\n",
       "   'forwardPercentage': 'nan',\n",
       "   'reversePercentage': 'nan'},\n",
       "  {'uri': 'http://linked.data.gov.au/dataset/gnaf-2016-05/streetLocality/WA1893594',\n",
       "   'intersectionArea': 'nan',\n",
       "   'featureArea': 'nan',\n",
       "   'forwardPercentage': 'nan',\n",
       "   'reversePercentage': 'nan'},\n",
       "  {'uri': 'http://linked.data.gov.au/dataset/gnaf-2016-05/address/GAWA_146781328',\n",
       "   'intersectionArea': 'nan',\n",
       "   'featureArea': 'NaN',\n",
       "   'forwardPercentage': 'nan',\n",
       "   'reversePercentage': 'nan'},\n",
       "  {'uri': 'http://linked.data.gov.au/dataset/gnaf-2016-05/address/GAWA_146781329',\n",
       "   'intersectionArea': 'nan',\n",
       "   'featureArea': 'NaN',\n",
       "   'forwardPercentage': 'nan',\n",
       "   'reversePercentage': 'nan'},\n",
       "  {'uri': 'http://linked.data.gov.au/dataset/gnaf-2016-05/address/GAWA_146781330',\n",
       "   'intersectionArea': 'nan',\n",
       "   'featureArea': 'NaN',\n",
       "   'forwardPercentage': 'nan',\n",
       "   'reversePercentage': 'nan'},\n",
       "  {'uri': 'http://linked.data.gov.au/dataset/gnaf-2016-05/address/GAWA_146784377',\n",
       "   'intersectionArea': 'nan',\n",
       "   'featureArea': 'NaN',\n",
       "   'forwardPercentage': 'nan',\n",
       "   'reversePercentage': 'nan'},\n",
       "  {'uri': 'http://linked.data.gov.au/dataset/gnaf-2016-05/address/GAWA_146784378',\n",
       "   'intersectionArea': 'nan',\n",
       "   'featureArea': 'NaN',\n",
       "   'forwardPercentage': 'nan',\n",
       "   'reversePercentage': 'nan'},\n",
       "  {'uri': 'http://linked.data.gov.au/dataset/gnaf-2016-05/address/GAWA_146784379',\n",
       "   'intersectionArea': 'nan',\n",
       "   'featureArea': 'NaN',\n",
       "   'forwardPercentage': 'nan',\n",
       "   'reversePercentage': 'nan'},\n",
       "  {'uri': 'http://linked.data.gov.au/dataset/gnaf-2016-05/streetLocality/WA1875831',\n",
       "   'intersectionArea': 'nan',\n",
       "   'featureArea': 'nan',\n",
       "   'forwardPercentage': 'nan',\n",
       "   'reversePercentage': 'nan'},\n",
       "  {'uri': 'http://linked.data.gov.au/dataset/gnaf-2016-05/address/GAWA_146787909',\n",
       "   'intersectionArea': 'nan',\n",
       "   'featureArea': 'NaN',\n",
       "   'forwardPercentage': 'nan',\n",
       "   'reversePercentage': 'nan'},\n",
       "  {'uri': 'http://linked.data.gov.au/dataset/gnaf-2016-05/address/GAWA_146787910',\n",
       "   'intersectionArea': 'nan',\n",
       "   'featureArea': 'NaN',\n",
       "   'forwardPercentage': 'nan',\n",
       "   'reversePercentage': 'nan'},\n",
       "  {'uri': 'http://linked.data.gov.au/dataset/gnaf-2016-05/address/GAWA_146787911',\n",
       "   'intersectionArea': 'nan',\n",
       "   'featureArea': 'NaN',\n",
       "   'forwardPercentage': 'nan',\n",
       "   'reversePercentage': 'nan'},\n",
       "  {'uri': 'http://linked.data.gov.au/dataset/gnaf-2016-05/address/GAWA_146790108',\n",
       "   'intersectionArea': 'nan',\n",
       "   'featureArea': 'NaN',\n",
       "   'forwardPercentage': 'nan',\n",
       "   'reversePercentage': 'nan'},\n",
       "  {'uri': 'http://linked.data.gov.au/dataset/gnaf-2016-05/address/GAWA_146790109',\n",
       "   'intersectionArea': 'nan',\n",
       "   'featureArea': 'NaN',\n",
       "   'forwardPercentage': 'nan',\n",
       "   'reversePercentage': 'nan'},\n",
       "  {'uri': 'http://linked.data.gov.au/dataset/gnaf-2016-05/address/GAWA_146790110',\n",
       "   'intersectionArea': 'nan',\n",
       "   'featureArea': 'NaN',\n",
       "   'forwardPercentage': 'nan',\n",
       "   'reversePercentage': 'nan'},\n",
       "  {'uri': 'http://linked.data.gov.au/dataset/gnaf-2016-05/address/GAWA_146790111',\n",
       "   'intersectionArea': 'nan',\n",
       "   'featureArea': 'NaN',\n",
       "   'forwardPercentage': 'nan',\n",
       "   'reversePercentage': 'nan'},\n",
       "  {'uri': 'http://linked.data.gov.au/dataset/gnaf-2016-05/address/GAWA_146794198',\n",
       "   'intersectionArea': 'nan',\n",
       "   'featureArea': 'NaN',\n",
       "   'forwardPercentage': 'nan',\n",
       "   'reversePercentage': 'nan'},\n",
       "  {'uri': 'http://linked.data.gov.au/dataset/gnaf-2016-05/address/GAWA_146794199',\n",
       "   'intersectionArea': 'nan',\n",
       "   'featureArea': 'NaN',\n",
       "   'forwardPercentage': 'nan',\n",
       "   'reversePercentage': 'nan'},\n",
       "  {'uri': 'http://linked.data.gov.au/dataset/gnaf-2016-05/address/GAWA_148201084',\n",
       "   'intersectionArea': 'nan',\n",
       "   'featureArea': 'NaN',\n",
       "   'forwardPercentage': 'nan',\n",
       "   'reversePercentage': 'nan'},\n",
       "  {'uri': 'http://linked.data.gov.au/dataset/gnaf-2016-05/address/GAWA_148230647',\n",
       "   'intersectionArea': 'nan',\n",
       "   'featureArea': 'NaN',\n",
       "   'forwardPercentage': 'nan',\n",
       "   'reversePercentage': 'nan'},\n",
       "  {'uri': 'http://linked.data.gov.au/dataset/gnaf-2016-05/address/GAWA_148239087',\n",
       "   'intersectionArea': 'nan',\n",
       "   'featureArea': 'NaN',\n",
       "   'forwardPercentage': 'nan',\n",
       "   'reversePercentage': 'nan'},\n",
       "  {'uri': 'http://linked.data.gov.au/dataset/gnaf-2016-05/address/GAWA_148240394',\n",
       "   'intersectionArea': 'nan',\n",
       "   'featureArea': 'NaN',\n",
       "   'forwardPercentage': 'nan',\n",
       "   'reversePercentage': 'nan'},\n",
       "  {'uri': 'http://linked.data.gov.au/dataset/gnaf-2016-05/address/GAWA_162761636',\n",
       "   'intersectionArea': 'nan',\n",
       "   'featureArea': 'NaN',\n",
       "   'forwardPercentage': 'nan',\n",
       "   'reversePercentage': 'nan'},\n",
       "  {'uri': 'http://linked.data.gov.au/dataset/geofabric/contractedcatchment/12500310',\n",
       "   'intersectionArea': '37700.0',\n",
       "   'featureArea': '176754913.16694000',\n",
       "   'forwardPercentage': '100',\n",
       "   'reversePercentage': '0.021328968640545464'},\n",
       "  {'uri': 'http://linked.data.gov.au/dataset/geofabric/drainagedivision/9400211',\n",
       "   'intersectionArea': '37700.0',\n",
       "   'featureArea': '326037436998.26800000',\n",
       "   'forwardPercentage': '100',\n",
       "   'reversePercentage': '1.1563089302594497e-05'},\n",
       "  {'uri': 'http://linked.data.gov.au/dataset/geofabric/riverregion/9400291',\n",
       "   'intersectionArea': '37700.0',\n",
       "   'featureArea': '121447895188.67200000',\n",
       "   'forwardPercentage': '100',\n",
       "   'reversePercentage': '3.1042118878579336e-05'}]}"
      ]
     },
     "execution_count": 10,
     "metadata": {},
     "output_type": "execute_result"
    }
   ],
   "source": [
    "#search for things overlapping in other regions\n",
    "\n",
    "payload = {\n",
    "    'uri': meshblock_uri, \n",
    "    'areas': 'true',\n",
    "    'proportion': 'true',\n",
    "    'contains': 'false',\n",
    "    'within':'true',\n",
    "    'crosswalk':'true',\n",
    "    'count': 100,\n",
    "    'offset': 0\n",
    "}\n",
    "\n",
    "url = \"https://api.loci.cat/api/v1/location/overlaps\"\n",
    "r = requests.get(url, params=payload)\n",
    "r.json()"
   ]
  },
  {
   "cell_type": "markdown",
   "metadata": {},
   "source": [
    "That's obviously too many results, so let's filter to a particular FeatureType - Geofabric RiverRegion..."
   ]
  },
  {
   "cell_type": "code",
   "execution_count": 11,
   "metadata": {},
   "outputs": [
    {
     "data": {
      "text/plain": [
       "{'meta': {'count': 1, 'offset': 0, 'featureArea': '37700.00000000'},\n",
       " 'overlaps': [{'uri': 'http://linked.data.gov.au/dataset/geofabric/riverregion/9400291',\n",
       "   'intersectionArea': '37700.0',\n",
       "   'featureArea': '121447895188.67200000',\n",
       "   'forwardPercentage': '100',\n",
       "   'reversePercentage': '3.1042118878579336e-05'}]}"
      ]
     },
     "execution_count": 11,
     "metadata": {},
     "output_type": "execute_result"
    }
   ],
   "source": [
    "feature_type = 'http://linked.data.gov.au/def/geofabric#RiverRegion'\n",
    "\n",
    "payload = {\n",
    "    'uri': meshblock_uri, \n",
    "    'areas': 'true',\n",
    "    'proportion': 'true',\n",
    "    'contains': 'false',\n",
    "    'within':'true',\n",
    "    'crosswalk':'true',\n",
    "    'output_type' : feature_type,\n",
    "    'count': 100,\n",
    "    'offset': 0\n",
    "}\n",
    "\n",
    "url = \"https://api.loci.cat/api/v1/location/overlaps\"\n",
    "r = requests.get(url, params=payload)\n",
    "jsondata = r.json()\n",
    "jsondata"
   ]
  },
  {
   "cell_type": "code",
   "execution_count": 12,
   "metadata": {},
   "outputs": [
    {
     "data": {
      "text/plain": [
       "'http://linked.data.gov.au/dataset/geofabric/riverregion/9400291'"
      ]
     },
     "execution_count": 12,
     "metadata": {},
     "output_type": "execute_result"
    }
   ],
   "source": [
    "rr_uri = jsondata['overlaps'][0]['uri']\n",
    "rr_uri"
   ]
  },
  {
   "cell_type": "code",
   "execution_count": 13,
   "metadata": {},
   "outputs": [
    {
     "name": "stdout",
     "output_type": "stream",
     "text": [
      "http://gds.loci.cat/geometry/geofabric2_1_1_riverregion/9400291\n"
     ]
    },
    {
     "data": {
      "application/vnd.jupyter.widget-view+json": {
       "model_id": "bb30c50f16d442709a51b9cf587a67fa",
       "version_major": 2,
       "version_minor": 0
      },
      "text/plain": [
       "Map(center=[-32.046211537, 115.876243445], controls=(ZoomControl(options=['position', 'zoom_in_text', 'zoom_in…"
      ]
     },
     "metadata": {},
     "output_type": "display_data"
    }
   ],
   "source": [
    "# get the geometry for the CC feature and add it to the map\n",
    "g=rdflib.Graph()\n",
    "g.load(rr_uri)\n",
    "\n",
    "#for s,p,o in g:\n",
    "#    print(s, p, o)\n",
    "\n",
    "geom_uri = None\n",
    "for row in g.query(\n",
    "            '''\n",
    "            PREFIX geo: <http://www.opengis.net/ont/geosparql#>\n",
    "            select ?g where {{ <{uri}> geo:hasGeometry ?g .}}\n",
    "            '''.format(uri=rr_uri)):\n",
    "        geom_uri = (row.g)\n",
    "if(geom_uri != None):\n",
    "    print(geom_uri)\n",
    "# get the geojson representation of the geom\n",
    "header={'Accept': 'application/json'}\n",
    "r = requests.get(geom_uri, headers=header)\n",
    "geojson_data = r.json()\n",
    "\n",
    "\n",
    "x_coord = centroid_geojson_data['coordinates'][1]\n",
    "y_coord = centroid_geojson_data['coordinates'][0]\n",
    "\n",
    "map2 = ipy.Map(center=[x_coord, y_coord], zoom=12)\n",
    "label = ipyw.Label(layout=ipyw.Layout(width='100%'))\n",
    "\n",
    "geo_json2 = GeoJSON(data=geojson_data, style = {'color': 'blue', 'fillcolor': 'blue', 'opacity':1, 'weight':1.9, 'fillOpacity':0.1})\n",
    "map2.add_layer(geo_json1)\n",
    "map2.add_layer(geo_json2)\n",
    "map2"
   ]
  },
  {
   "cell_type": "markdown",
   "metadata": {},
   "source": [
    "Ta-da!\n",
    "\n",
    "You can see that the RiverRegion instance (shown in blue) is much larger than the meshblock (shown in red). \n",
    "\n",
    "We hope you enjoyed that little demonstration of how to traverse from a ASGS MeshBlock across to the Geofabric RiverRegion based on linkset relationships registered in Loc-I."
   ]
  },
  {
   "cell_type": "code",
   "execution_count": null,
   "metadata": {},
   "outputs": [],
   "source": []
  }
 ],
 "metadata": {
  "kernelspec": {
   "display_name": "Python 3",
   "language": "python",
   "name": "python3"
  },
  "language_info": {
   "codemirror_mode": {
    "name": "ipython",
    "version": 3
   },
   "file_extension": ".py",
   "mimetype": "text/x-python",
   "name": "python",
   "nbconvert_exporter": "python",
   "pygments_lexer": "ipython3",
   "version": "3.8.3"
  }
 },
 "nbformat": 4,
 "nbformat_minor": 4
}
