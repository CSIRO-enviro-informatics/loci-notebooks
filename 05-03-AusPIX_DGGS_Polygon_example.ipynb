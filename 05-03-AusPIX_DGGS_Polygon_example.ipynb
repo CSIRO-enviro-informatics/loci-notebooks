{
 "cells": [
  {
   "cell_type": "code",
   "execution_count": 1,
   "metadata": {},
   "outputs": [
    {
     "name": "stdout",
     "output_type": "stream",
     "text": [
      "Collecting git+https://github.com/CSIRO-enviro-informatics/AusPIX_DGGS.git@geojson\n",
      "  Cloning https://github.com/CSIRO-enviro-informatics/AusPIX_DGGS.git (to revision geojson) to /tmp/pip-req-build-_hgsd472\n",
      "  Running command git clone -q https://github.com/CSIRO-enviro-informatics/AusPIX_DGGS.git /tmp/pip-req-build-_hgsd472\n",
      "  Running command git checkout -b geojson --track origin/geojson\n",
      "  Switched to a new branch 'geojson'\n",
      "  Branch 'geojson' set up to track remote branch 'geojson' from 'origin'.\n",
      "Requirement already satisfied (use --upgrade to upgrade): auspixdggs==1.0.0 from git+https://github.com/CSIRO-enviro-informatics/AusPIX_DGGS.git@geojson in /opt/conda/lib/python3.7/site-packages\n",
      "Requirement already satisfied: numpy in /opt/conda/lib/python3.7/site-packages (from auspixdggs==1.0.0) (1.18.4)\n",
      "Requirement already satisfied: pyproj in /opt/conda/lib/python3.7/site-packages (from auspixdggs==1.0.0) (2.6.1.post1)\n",
      "Requirement already satisfied: scipy in /opt/conda/lib/python3.7/site-packages (from auspixdggs==1.0.0) (1.4.1)\n",
      "Requirement already satisfied: shapely in /opt/conda/lib/python3.7/site-packages (from auspixdggs==1.0.0) (1.7.0)\n",
      "Requirement already satisfied: pyshp in /opt/conda/lib/python3.7/site-packages (from auspixdggs==1.0.0) (2.1.0)\n",
      "Building wheels for collected packages: auspixdggs\n",
      "  Building wheel for auspixdggs (setup.py) ... \u001b[?25ldone\n",
      "\u001b[?25h  Created wheel for auspixdggs: filename=auspixdggs-1.0.0-py3-none-any.whl size=66542 sha256=a92ef57485eb31b1ca88659456a0f369de4e44cf7fb0657355850fad7c9a28f3\n",
      "  Stored in directory: /tmp/pip-ephem-wheel-cache-j_y_2dhm/wheels/fb/47/2e/b372479b10426ba7a860a2db22819a2237f731c183a9383fba\n",
      "Successfully built auspixdggs\n"
     ]
    }
   ],
   "source": [
    "!pip install git+https://github.com/CSIRO-enviro-informatics/AusPIX_DGGS.git@geojson    "
   ]
  },
  {
   "cell_type": "code",
   "execution_count": 2,
   "metadata": {},
   "outputs": [
    {
     "name": "stdout",
     "output_type": "stream",
     "text": [
      "Requirement already satisfied: geojson in /opt/conda/lib/python3.7/site-packages (2.5.0)\n",
      "Requirement already satisfied: shapely in /opt/conda/lib/python3.7/site-packages (1.7.0)\n",
      "Requirement already satisfied: pygeoj in /opt/conda/lib/python3.7/site-packages (1.0.0)\n",
      "Requirement already satisfied: matplotlib in /opt/conda/lib/python3.7/site-packages (3.2.1)\n",
      "Requirement already satisfied: python-dateutil>=2.1 in /opt/conda/lib/python3.7/site-packages (from matplotlib) (2.8.1)\n",
      "Requirement already satisfied: pyparsing!=2.0.4,!=2.1.2,!=2.1.6,>=2.0.1 in /opt/conda/lib/python3.7/site-packages (from matplotlib) (2.4.7)\n",
      "Requirement already satisfied: numpy>=1.11 in /opt/conda/lib/python3.7/site-packages (from matplotlib) (1.18.4)\n",
      "Requirement already satisfied: cycler>=0.10 in /opt/conda/lib/python3.7/site-packages (from matplotlib) (0.10.0)\n",
      "Requirement already satisfied: kiwisolver>=1.0.1 in /opt/conda/lib/python3.7/site-packages (from matplotlib) (1.2.0)\n",
      "Requirement already satisfied: six>=1.5 in /opt/conda/lib/python3.7/site-packages (from python-dateutil>=2.1->matplotlib) (1.14.0)\n"
     ]
    }
   ],
   "source": [
    "!pip install geojson shapely pygeoj matplotlib"
   ]
  },
  {
   "cell_type": "code",
   "execution_count": 3,
   "metadata": {},
   "outputs": [],
   "source": [
    "import geojson\n",
    "fname = \"ACT_SA1_Black_Mountain.geojson\"\n",
    "geojson_data = None\n",
    "with open(fname) as json_file:\n",
    "    geojson_data = geojson.load(json_file)\n",
    "    "
   ]
  },
  {
   "cell_type": "code",
   "execution_count": 4,
   "metadata": {},
   "outputs": [
    {
     "data": {
      "application/vnd.jupyter.widget-view+json": {
       "model_id": "1b82bc7ac3b1430681dcd517cf58ca8b",
       "version_major": 2,
       "version_minor": 0
      },
      "text/plain": [
       "Map(center=[-35.282, 149.09], controls=(ZoomControl(options=['position', 'zoom_in_text', 'zoom_in_title', 'zoo…"
      ]
     },
     "metadata": {},
     "output_type": "display_data"
    }
   ],
   "source": [
    "#draw the geometry for the feature on a map\n",
    "import ipyleaflet as ipy \n",
    "import ipywidgets as ipyw\n",
    "from ipyleaflet import GeoJSON, Map, Marker\n",
    "\n",
    "x_coord = -35.282\n",
    "y_coord = 149.09\n",
    "\n",
    "map1 = ipy.Map(center=[x_coord, y_coord], zoom=13)\n",
    "label = ipyw.Label(layout=ipyw.Layout(width='100%'))\n",
    "\n",
    "geo_json1 = GeoJSON(data=geojson_data, style = {'color': 'blue', 'opacity':0.8, 'weight':1.9, 'fillOpacity':0.3})\n",
    "map1.add_layer(geo_json1)\n",
    "map1"
   ]
  },
  {
   "cell_type": "code",
   "execution_count": 5,
   "metadata": {},
   "outputs": [
    {
     "name": "stdout",
     "output_type": "stream",
     "text": [
      "auspixengine.pj_rhealpix\n",
      "auspixengine.pj_rhealpix\n",
      "auspixengine.pj_rhealpix\n",
      "auspixengine.pj_rhealpix\n",
      "auspixengine.pj_rhealpix\n",
      "auspixengine.pj_rhealpix\n",
      "auspixengine.pj_rhealpix\n",
      "auspixengine.pj_rhealpix\n",
      "auspixengine.pj_rhealpix\n",
      "auspixengine.pj_rhealpix\n",
      "auspixengine.pj_rhealpix\n",
      "auspixengine.pj_rhealpix\n",
      "auspixengine.pj_rhealpix\n",
      "auspixengine.pj_rhealpix\n",
      "auspixengine.pj_rhealpix\n",
      "auspixengine.pj_rhealpix\n",
      "auspixengine.pj_rhealpix\n",
      "auspixengine.pj_rhealpix\n",
      "auspixengine.pj_rhealpix\n",
      "auspixengine.pj_rhealpix\n",
      "auspixengine.pj_rhealpix\n",
      "auspixengine.pj_rhealpix\n",
      "auspixengine.pj_rhealpix\n",
      "auspixengine.pj_rhealpix\n",
      "auspixengine.pj_rhealpix\n",
      "auspixengine.pj_rhealpix\n",
      "auspixengine.pj_rhealpix\n",
      "auspixengine.pj_rhealpix\n",
      "\n",
      "num cells in bb =  812\n",
      "total vertex in this poly 515\n",
      "number of edges 514\n",
      "[[<auspixdggs.auspixengine.dggs.Cell object at 0x7f03756e3d90>, 149.08931565310164, -35.258169606995914], [<auspixdggs.auspixengine.dggs.Cell object at 0x7f03756e3dd0>, 149.09083981100443, -35.258169606995914], [<auspixdggs.auspixengine.dggs.Cell object at 0x7f03756ee510>, 149.08779149519887, -35.25975401460269], [<auspixdggs.auspixengine.dggs.Cell object at 0x7f03756ee550>, 149.08931565310164, -35.25975401460269], [<auspixdggs.auspixengine.dggs.Cell object at 0x7f03756ee590>, 149.09083981100443, -35.25975401460269], [<auspixdggs.auspixengine.dggs.Cell object at 0x7f03756ee5d0>, 149.09236396890716, -35.25975401460269], [<auspixdggs.auspixengine.dggs.Cell object at 0x7f03756ee610>, 149.0938881268099, -35.25975401460269], [<auspixdggs.auspixengine.dggs.Cell object at 0x7f03756eea90>, 149.08779149519887, -35.261338452909435], [<auspixdggs.auspixengine.dggs.Cell object at 0x7f03756eebd0>, 149.08931565310164, -35.261338452909435], [<auspixdggs.auspixengine.dggs.Cell object at 0x7f03756eec10>, 149.09083981100443, -35.261338452909435], [<auspixdggs.auspixengine.dggs.Cell object at 0x7f03756eec50>, 149.09236396890716, -35.261338452909435], [<auspixdggs.auspixengine.dggs.Cell object at 0x7f03756eec90>, 149.0938881268099, -35.261338452909435], [<auspixdggs.auspixengine.dggs.Cell object at 0x7f03756eecd0>, 149.0954122847127, -35.261338452909435], [<auspixdggs.auspixengine.dggs.Cell object at 0x7f03756eed10>, 149.09693644261543, -35.261338452909435], [<auspixdggs.auspixengine.dggs.Cell object at 0x7f03756eed50>, 149.0984606005182, -35.261338452909435], [<auspixdggs.auspixengine.dggs.Cell object at 0x7f03756eed90>, 149.099984758421, -35.261338452909435], [<auspixdggs.auspixengine.dggs.Cell object at 0x7f03756eedd0>, 149.10150891632372, -35.261338452909435], [<auspixdggs.auspixengine.dggs.Cell object at 0x7f03756eee10>, 149.1030330742265, -35.261338452909435], [<auspixdggs.auspixengine.dggs.Cell object at 0x7f03756eee50>, 149.10455723212922, -35.261338452909435], [<auspixdggs.auspixengine.dggs.Cell object at 0x7f03756eee90>, 149.106081390032, -35.261338452909435], [<auspixdggs.auspixengine.dggs.Cell object at 0x7f03756eeed0>, 149.10760554793475, -35.261338452909435], [<auspixdggs.auspixengine.dggs.Cell object at 0x7f03756eef10>, 149.1091297058375, -35.261338452909435], [<auspixdggs.auspixengine.dggs.Cell object at 0x7f03756f4050>, 149.08626733729614, -35.26292292191915], [<auspixdggs.auspixengine.dggs.Cell object at 0x7f03756f4350>, 149.08779149519887, -35.26292292191915], [<auspixdggs.auspixengine.dggs.Cell object at 0x7f03756f4390>, 149.08931565310164, -35.26292292191915], [<auspixdggs.auspixengine.dggs.Cell object at 0x7f03756f43d0>, 149.09083981100443, -35.26292292191915], [<auspixdggs.auspixengine.dggs.Cell object at 0x7f03756f4410>, 149.09236396890716, -35.26292292191915], [<auspixdggs.auspixengine.dggs.Cell object at 0x7f03756f4450>, 149.0938881268099, -35.26292292191915], [<auspixdggs.auspixengine.dggs.Cell object at 0x7f03756f4490>, 149.0954122847127, -35.26292292191915], [<auspixdggs.auspixengine.dggs.Cell object at 0x7f03756f44d0>, 149.09693644261543, -35.26292292191915], [<auspixdggs.auspixengine.dggs.Cell object at 0x7f03756f4510>, 149.0984606005182, -35.26292292191915], [<auspixdggs.auspixengine.dggs.Cell object at 0x7f03756f4550>, 149.099984758421, -35.26292292191915], [<auspixdggs.auspixengine.dggs.Cell object at 0x7f03756f4590>, 149.10150891632372, -35.26292292191915], [<auspixdggs.auspixengine.dggs.Cell object at 0x7f03756f45d0>, 149.1030330742265, -35.26292292191915], [<auspixdggs.auspixengine.dggs.Cell object at 0x7f03756f4610>, 149.10455723212922, -35.26292292191915], [<auspixdggs.auspixengine.dggs.Cell object at 0x7f03756f4650>, 149.106081390032, -35.26292292191915], [<auspixdggs.auspixengine.dggs.Cell object at 0x7f03756f4690>, 149.10760554793475, -35.26292292191915], [<auspixdggs.auspixengine.dggs.Cell object at 0x7f03756f46d0>, 149.1091297058375, -35.26292292191915], [<auspixdggs.auspixengine.dggs.Cell object at 0x7f03756f4710>, 149.11065386374025, -35.26292292191915], [<auspixdggs.auspixengine.dggs.Cell object at 0x7f03756f4910>, 149.08626733729614, -35.264507421634846], [<auspixdggs.auspixengine.dggs.Cell object at 0x7f03756f4950>, 149.08779149519887, -35.264507421634846], [<auspixdggs.auspixengine.dggs.Cell object at 0x7f03756f4a90>, 149.08931565310164, -35.264507421634846], [<auspixdggs.auspixengine.dggs.Cell object at 0x7f03756f4ad0>, 149.09083981100443, -35.264507421634846], [<auspixdggs.auspixengine.dggs.Cell object at 0x7f03756f4b10>, 149.09236396890716, -35.264507421634846], [<auspixdggs.auspixengine.dggs.Cell object at 0x7f03756f4b50>, 149.0938881268099, -35.264507421634846], [<auspixdggs.auspixengine.dggs.Cell object at 0x7f03756f4b90>, 149.0954122847127, -35.264507421634846], [<auspixdggs.auspixengine.dggs.Cell object at 0x7f03756f4bd0>, 149.09693644261543, -35.264507421634846], [<auspixdggs.auspixengine.dggs.Cell object at 0x7f03756f4c10>, 149.0984606005182, -35.264507421634846], [<auspixdggs.auspixengine.dggs.Cell object at 0x7f03756f4c50>, 149.099984758421, -35.264507421634846], [<auspixdggs.auspixengine.dggs.Cell object at 0x7f03756f4c90>, 149.10150891632372, -35.264507421634846], [<auspixdggs.auspixengine.dggs.Cell object at 0x7f03756f4cd0>, 149.1030330742265, -35.264507421634846], [<auspixdggs.auspixengine.dggs.Cell object at 0x7f03756f4d10>, 149.10455723212922, -35.264507421634846], [<auspixdggs.auspixengine.dggs.Cell object at 0x7f03756f4d50>, 149.106081390032, -35.264507421634846], [<auspixdggs.auspixengine.dggs.Cell object at 0x7f03756f4d90>, 149.10760554793475, -35.264507421634846], [<auspixdggs.auspixengine.dggs.Cell object at 0x7f03756f4dd0>, 149.1091297058375, -35.264507421634846], [<auspixdggs.auspixengine.dggs.Cell object at 0x7f03756f4e10>, 149.11065386374025, -35.264507421634846], [<auspixdggs.auspixengine.dggs.Cell object at 0x7f03756fa210>, 149.08626733729614, -35.266091952059526], [<auspixdggs.auspixengine.dggs.Cell object at 0x7f03756fa250>, 149.08779149519887, -35.266091952059526], [<auspixdggs.auspixengine.dggs.Cell object at 0x7f03756fa290>, 149.08931565310164, -35.266091952059526], [<auspixdggs.auspixengine.dggs.Cell object at 0x7f03756fa2d0>, 149.09083981100443, -35.266091952059526], [<auspixdggs.auspixengine.dggs.Cell object at 0x7f03756fa310>, 149.09236396890716, -35.266091952059526], [<auspixdggs.auspixengine.dggs.Cell object at 0x7f03756fa350>, 149.0938881268099, -35.266091952059526], [<auspixdggs.auspixengine.dggs.Cell object at 0x7f03756fa390>, 149.0954122847127, -35.266091952059526], [<auspixdggs.auspixengine.dggs.Cell object at 0x7f03756fa3d0>, 149.09693644261543, -35.266091952059526], [<auspixdggs.auspixengine.dggs.Cell object at 0x7f03756fa410>, 149.0984606005182, -35.266091952059526], [<auspixdggs.auspixengine.dggs.Cell object at 0x7f03756fa450>, 149.099984758421, -35.266091952059526], [<auspixdggs.auspixengine.dggs.Cell object at 0x7f03756fa490>, 149.10150891632372, -35.266091952059526], [<auspixdggs.auspixengine.dggs.Cell object at 0x7f03756fa4d0>, 149.1030330742265, -35.266091952059526], [<auspixdggs.auspixengine.dggs.Cell object at 0x7f03756fa510>, 149.10455723212922, -35.266091952059526], [<auspixdggs.auspixengine.dggs.Cell object at 0x7f03756fa550>, 149.106081390032, -35.266091952059526], [<auspixdggs.auspixengine.dggs.Cell object at 0x7f03756fa590>, 149.10760554793475, -35.266091952059526], [<auspixdggs.auspixengine.dggs.Cell object at 0x7f03756fa5d0>, 149.1091297058375, -35.266091952059526], [<auspixdggs.auspixengine.dggs.Cell object at 0x7f03756fa9d0>, 149.08779149519887, -35.26767651319617], [<auspixdggs.auspixengine.dggs.Cell object at 0x7f03756faa10>, 149.08931565310164, -35.26767651319617], [<auspixdggs.auspixengine.dggs.Cell object at 0x7f03756faa50>, 149.09083981100443, -35.26767651319617], [<auspixdggs.auspixengine.dggs.Cell object at 0x7f03756faa90>, 149.09236396890716, -35.26767651319617], [<auspixdggs.auspixengine.dggs.Cell object at 0x7f03756faad0>, 149.0938881268099, -35.26767651319617], [<auspixdggs.auspixengine.dggs.Cell object at 0x7f03756fab10>, 149.0954122847127, -35.26767651319617], [<auspixdggs.auspixengine.dggs.Cell object at 0x7f03756fab50>, 149.09693644261543, -35.26767651319617], [<auspixdggs.auspixengine.dggs.Cell object at 0x7f03756fab90>, 149.0984606005182, -35.26767651319617], [<auspixdggs.auspixengine.dggs.Cell object at 0x7f03756fabd0>, 149.099984758421, -35.26767651319617], [<auspixdggs.auspixengine.dggs.Cell object at 0x7f03756fac10>, 149.10150891632372, -35.26767651319617], [<auspixdggs.auspixengine.dggs.Cell object at 0x7f03756fac50>, 149.1030330742265, -35.26767651319617], [<auspixdggs.auspixengine.dggs.Cell object at 0x7f03756fac90>, 149.10455723212922, -35.26767651319617], [<auspixdggs.auspixengine.dggs.Cell object at 0x7f03756facd0>, 149.106081390032, -35.26767651319617], [<auspixdggs.auspixengine.dggs.Cell object at 0x7f03756fad10>, 149.10760554793475, -35.26767651319617], [<auspixdggs.auspixengine.dggs.Cell object at 0x7f03756fad50>, 149.1091297058375, -35.26767651319617], [<auspixdggs.auspixengine.dggs.Cell object at 0x7f03756ff110>, 149.08779149519887, -35.26926110504782], [<auspixdggs.auspixengine.dggs.Cell object at 0x7f03756ff150>, 149.08931565310164, -35.26926110504782], [<auspixdggs.auspixengine.dggs.Cell object at 0x7f03756ff190>, 149.09083981100443, -35.26926110504782], [<auspixdggs.auspixengine.dggs.Cell object at 0x7f03756ff1d0>, 149.09236396890716, -35.26926110504782], [<auspixdggs.auspixengine.dggs.Cell object at 0x7f03756ff210>, 149.0938881268099, -35.26926110504782], [<auspixdggs.auspixengine.dggs.Cell object at 0x7f03756ff250>, 149.0954122847127, -35.26926110504782], [<auspixdggs.auspixengine.dggs.Cell object at 0x7f03756ff290>, 149.09693644261543, -35.26926110504782], [<auspixdggs.auspixengine.dggs.Cell object at 0x7f03756ff2d0>, 149.0984606005182, -35.26926110504782], [<auspixdggs.auspixengine.dggs.Cell object at 0x7f03756ff310>, 149.099984758421, -35.26926110504782], [<auspixdggs.auspixengine.dggs.Cell object at 0x7f03756ff350>, 149.10150891632372, -35.26926110504782], [<auspixdggs.auspixengine.dggs.Cell object at 0x7f03756ff390>, 149.1030330742265, -35.26926110504782], [<auspixdggs.auspixengine.dggs.Cell object at 0x7f03756ff3d0>, 149.10455723212922, -35.26926110504782], [<auspixdggs.auspixengine.dggs.Cell object at 0x7f03756ff410>, 149.106081390032, -35.26926110504782], [<auspixdggs.auspixengine.dggs.Cell object at 0x7f03756ff450>, 149.10760554793475, -35.26926110504782], [<auspixdggs.auspixengine.dggs.Cell object at 0x7f03756ff490>, 149.1091297058375, -35.26926110504782], [<auspixdggs.auspixengine.dggs.Cell object at 0x7f03756ff8d0>, 149.08931565310164, -35.27084572761746], [<auspixdggs.auspixengine.dggs.Cell object at 0x7f03756ff910>, 149.09083981100443, -35.27084572761746], [<auspixdggs.auspixengine.dggs.Cell object at 0x7f03756ff950>, 149.09236396890716, -35.27084572761746], [<auspixdggs.auspixengine.dggs.Cell object at 0x7f03756ff990>, 149.0938881268099, -35.27084572761746], [<auspixdggs.auspixengine.dggs.Cell object at 0x7f03756ff9d0>, 149.0954122847127, -35.27084572761746], [<auspixdggs.auspixengine.dggs.Cell object at 0x7f03756ffa10>, 149.09693644261543, -35.27084572761746], [<auspixdggs.auspixengine.dggs.Cell object at 0x7f03756ffa50>, 149.0984606005182, -35.27084572761746], [<auspixdggs.auspixengine.dggs.Cell object at 0x7f03756ffa90>, 149.099984758421, -35.27084572761746], [<auspixdggs.auspixengine.dggs.Cell object at 0x7f03756ffad0>, 149.10150891632372, -35.27084572761746], [<auspixdggs.auspixengine.dggs.Cell object at 0x7f03756ffb10>, 149.1030330742265, -35.27084572761746], [<auspixdggs.auspixengine.dggs.Cell object at 0x7f03756ffb50>, 149.10455723212922, -35.27084572761746], [<auspixdggs.auspixengine.dggs.Cell object at 0x7f03756ffb90>, 149.106081390032, -35.27084572761746], [<auspixdggs.auspixengine.dggs.Cell object at 0x7f03756ffbd0>, 149.10760554793475, -35.27084572761746], [<auspixdggs.auspixengine.dggs.Cell object at 0x7f03756ffc10>, 149.1091297058375, -35.27084572761746], [<auspixdggs.auspixengine.dggs.Cell object at 0x7f03756fff50>, 149.08931565310164, -35.272430380908084], [<auspixdggs.auspixengine.dggs.Cell object at 0x7f03756ffed0>, 149.09083981100443, -35.272430380908084], [<auspixdggs.auspixengine.dggs.Cell object at 0x7f0375703050>, 149.09236396890716, -35.272430380908084], [<auspixdggs.auspixengine.dggs.Cell object at 0x7f0375703090>, 149.0938881268099, -35.272430380908084], [<auspixdggs.auspixengine.dggs.Cell object at 0x7f03757030d0>, 149.0954122847127, -35.272430380908084], [<auspixdggs.auspixengine.dggs.Cell object at 0x7f0375703110>, 149.09693644261543, -35.272430380908084], [<auspixdggs.auspixengine.dggs.Cell object at 0x7f0375703150>, 149.0984606005182, -35.272430380908084], [<auspixdggs.auspixengine.dggs.Cell object at 0x7f0375703190>, 149.099984758421, -35.272430380908084], [<auspixdggs.auspixengine.dggs.Cell object at 0x7f03757031d0>, 149.10150891632372, -35.272430380908084], [<auspixdggs.auspixengine.dggs.Cell object at 0x7f0375703210>, 149.1030330742265, -35.272430380908084], [<auspixdggs.auspixengine.dggs.Cell object at 0x7f0375703250>, 149.10455723212922, -35.272430380908084], [<auspixdggs.auspixengine.dggs.Cell object at 0x7f0375703290>, 149.106081390032, -35.272430380908084], [<auspixdggs.auspixengine.dggs.Cell object at 0x7f03757032d0>, 149.10760554793475, -35.272430380908084], [<auspixdggs.auspixengine.dggs.Cell object at 0x7f0375703310>, 149.1091297058375, -35.272430380908084], [<auspixdggs.auspixengine.dggs.Cell object at 0x7f0375703350>, 149.11065386374025, -35.272430380908084], [<auspixdggs.auspixengine.dggs.Cell object at 0x7f0375703750>, 149.08931565310164, -35.274015064922715], [<auspixdggs.auspixengine.dggs.Cell object at 0x7f0375703790>, 149.09083981100443, -35.274015064922715], [<auspixdggs.auspixengine.dggs.Cell object at 0x7f03757037d0>, 149.09236396890716, -35.274015064922715], [<auspixdggs.auspixengine.dggs.Cell object at 0x7f0375703810>, 149.0938881268099, -35.274015064922715], [<auspixdggs.auspixengine.dggs.Cell object at 0x7f0375703850>, 149.0954122847127, -35.274015064922715], [<auspixdggs.auspixengine.dggs.Cell object at 0x7f0375703890>, 149.09693644261543, -35.274015064922715], [<auspixdggs.auspixengine.dggs.Cell object at 0x7f03757038d0>, 149.0984606005182, -35.274015064922715], [<auspixdggs.auspixengine.dggs.Cell object at 0x7f0375703910>, 149.099984758421, -35.274015064922715], [<auspixdggs.auspixengine.dggs.Cell object at 0x7f0375703950>, 149.10150891632372, -35.274015064922715], [<auspixdggs.auspixengine.dggs.Cell object at 0x7f0375703990>, 149.1030330742265, -35.274015064922715], [<auspixdggs.auspixengine.dggs.Cell object at 0x7f03757039d0>, 149.10455723212922, -35.274015064922715], [<auspixdggs.auspixengine.dggs.Cell object at 0x7f0375703a10>, 149.106081390032, -35.274015064922715], [<auspixdggs.auspixengine.dggs.Cell object at 0x7f0375703a50>, 149.10760554793475, -35.274015064922715], [<auspixdggs.auspixengine.dggs.Cell object at 0x7f0375703a90>, 149.1091297058375, -35.274015064922715], [<auspixdggs.auspixengine.dggs.Cell object at 0x7f0375703ad0>, 149.11065386374025, -35.274015064922715], [<auspixdggs.auspixengine.dggs.Cell object at 0x7f0375703cd0>, 149.08779149519887, -35.27559977966433], [<auspixdggs.auspixengine.dggs.Cell object at 0x7f0375703e10>, 149.08931565310164, -35.27559977966433], [<auspixdggs.auspixengine.dggs.Cell object at 0x7f0375703e50>, 149.09083981100443, -35.27559977966433], [<auspixdggs.auspixengine.dggs.Cell object at 0x7f0375703e90>, 149.09236396890716, -35.27559977966433], [<auspixdggs.auspixengine.dggs.Cell object at 0x7f0375703ed0>, 149.0938881268099, -35.27559977966433], [<auspixdggs.auspixengine.dggs.Cell object at 0x7f0375703f10>, 149.0954122847127, -35.27559977966433], [<auspixdggs.auspixengine.dggs.Cell object at 0x7f0375703f50>, 149.09693644261543, -35.27559977966433], [<auspixdggs.auspixengine.dggs.Cell object at 0x7f0375703d50>, 149.0984606005182, -35.27559977966433], [<auspixdggs.auspixengine.dggs.Cell object at 0x7f037570b050>, 149.099984758421, -35.27559977966433], [<auspixdggs.auspixengine.dggs.Cell object at 0x7f037570b090>, 149.10150891632372, -35.27559977966433], [<auspixdggs.auspixengine.dggs.Cell object at 0x7f037570b0d0>, 149.1030330742265, -35.27559977966433], [<auspixdggs.auspixengine.dggs.Cell object at 0x7f037570b110>, 149.10455723212922, -35.27559977966433], [<auspixdggs.auspixengine.dggs.Cell object at 0x7f037570b150>, 149.106081390032, -35.27559977966433], [<auspixdggs.auspixengine.dggs.Cell object at 0x7f037570b190>, 149.10760554793475, -35.27559977966433], [<auspixdggs.auspixengine.dggs.Cell object at 0x7f037570b1d0>, 149.1091297058375, -35.27559977966433], [<auspixdggs.auspixengine.dggs.Cell object at 0x7f037570b210>, 149.11065386374025, -35.27559977966433], [<auspixdggs.auspixengine.dggs.Cell object at 0x7f037570b610>, 149.08779149519887, -35.27718452513598], [<auspixdggs.auspixengine.dggs.Cell object at 0x7f037570b650>, 149.08931565310164, -35.27718452513598], [<auspixdggs.auspixengine.dggs.Cell object at 0x7f037570b690>, 149.09083981100443, -35.27718452513598], [<auspixdggs.auspixengine.dggs.Cell object at 0x7f037570b6d0>, 149.09236396890716, -35.27718452513598], [<auspixdggs.auspixengine.dggs.Cell object at 0x7f037570b710>, 149.0938881268099, -35.27718452513598], [<auspixdggs.auspixengine.dggs.Cell object at 0x7f037570b750>, 149.0954122847127, -35.27718452513598], [<auspixdggs.auspixengine.dggs.Cell object at 0x7f037570b790>, 149.09693644261543, -35.27718452513598], [<auspixdggs.auspixengine.dggs.Cell object at 0x7f037570b7d0>, 149.0984606005182, -35.27718452513598], [<auspixdggs.auspixengine.dggs.Cell object at 0x7f037570b810>, 149.099984758421, -35.27718452513598], [<auspixdggs.auspixengine.dggs.Cell object at 0x7f037570b850>, 149.10150891632372, -35.27718452513598], [<auspixdggs.auspixengine.dggs.Cell object at 0x7f037570b890>, 149.1030330742265, -35.27718452513598], [<auspixdggs.auspixengine.dggs.Cell object at 0x7f037570b8d0>, 149.10455723212922, -35.27718452513598], [<auspixdggs.auspixengine.dggs.Cell object at 0x7f037570b910>, 149.106081390032, -35.27718452513598], [<auspixdggs.auspixengine.dggs.Cell object at 0x7f037570b950>, 149.10760554793475, -35.27718452513598], [<auspixdggs.auspixengine.dggs.Cell object at 0x7f037570b990>, 149.1091297058375, -35.27718452513598], [<auspixdggs.auspixengine.dggs.Cell object at 0x7f037570b9d0>, 149.11065386374025, -35.27718452513598], [<auspixdggs.auspixengine.dggs.Cell object at 0x7f037570bbd0>, 149.08779149519887, -35.27876930134061], [<auspixdggs.auspixengine.dggs.Cell object at 0x7f037570bd10>, 149.08931565310164, -35.27876930134061], [<auspixdggs.auspixengine.dggs.Cell object at 0x7f037570bd50>, 149.09083981100443, -35.27876930134061], [<auspixdggs.auspixengine.dggs.Cell object at 0x7f037570bd90>, 149.09236396890716, -35.27876930134061], [<auspixdggs.auspixengine.dggs.Cell object at 0x7f037570bdd0>, 149.0938881268099, -35.27876930134061], [<auspixdggs.auspixengine.dggs.Cell object at 0x7f037570be10>, 149.0954122847127, -35.27876930134061], [<auspixdggs.auspixengine.dggs.Cell object at 0x7f037570be50>, 149.09693644261543, -35.27876930134061], [<auspixdggs.auspixengine.dggs.Cell object at 0x7f037570be90>, 149.0984606005182, -35.27876930134061], [<auspixdggs.auspixengine.dggs.Cell object at 0x7f037570bed0>, 149.099984758421, -35.27876930134061], [<auspixdggs.auspixengine.dggs.Cell object at 0x7f037570bf10>, 149.10150891632372, -35.27876930134061], [<auspixdggs.auspixengine.dggs.Cell object at 0x7f037570bf50>, 149.1030330742265, -35.27876930134061], [<auspixdggs.auspixengine.dggs.Cell object at 0x7f037570bc50>, 149.10455723212922, -35.27876930134061], [<auspixdggs.auspixengine.dggs.Cell object at 0x7f0375710050>, 149.106081390032, -35.27876930134061], [<auspixdggs.auspixengine.dggs.Cell object at 0x7f0375710090>, 149.10760554793475, -35.27876930134061], [<auspixdggs.auspixengine.dggs.Cell object at 0x7f03757100d0>, 149.1091297058375, -35.27876930134061], [<auspixdggs.auspixengine.dggs.Cell object at 0x7f0375710110>, 149.11065386374025, -35.27876930134061], [<auspixdggs.auspixengine.dggs.Cell object at 0x7f03757104d0>, 149.08779149519887, -35.280354108281294], [<auspixdggs.auspixengine.dggs.Cell object at 0x7f0375710510>, 149.08931565310164, -35.280354108281294], [<auspixdggs.auspixengine.dggs.Cell object at 0x7f0375710550>, 149.09083981100443, -35.280354108281294], [<auspixdggs.auspixengine.dggs.Cell object at 0x7f0375710590>, 149.09236396890716, -35.280354108281294], [<auspixdggs.auspixengine.dggs.Cell object at 0x7f03757105d0>, 149.0938881268099, -35.280354108281294], [<auspixdggs.auspixengine.dggs.Cell object at 0x7f0375710610>, 149.0954122847127, -35.280354108281294], [<auspixdggs.auspixengine.dggs.Cell object at 0x7f0375710650>, 149.09693644261543, -35.280354108281294], [<auspixdggs.auspixengine.dggs.Cell object at 0x7f0375710690>, 149.0984606005182, -35.280354108281294], [<auspixdggs.auspixengine.dggs.Cell object at 0x7f03757106d0>, 149.099984758421, -35.280354108281294], [<auspixdggs.auspixengine.dggs.Cell object at 0x7f0375710710>, 149.10150891632372, -35.280354108281294], [<auspixdggs.auspixengine.dggs.Cell object at 0x7f0375710750>, 149.1030330742265, -35.280354108281294], [<auspixdggs.auspixengine.dggs.Cell object at 0x7f0375710790>, 149.10455723212922, -35.280354108281294], [<auspixdggs.auspixengine.dggs.Cell object at 0x7f03757107d0>, 149.106081390032, -35.280354108281294], [<auspixdggs.auspixengine.dggs.Cell object at 0x7f0375710810>, 149.10760554793475, -35.280354108281294], [<auspixdggs.auspixengine.dggs.Cell object at 0x7f0375710850>, 149.1091297058375, -35.280354108281294], [<auspixdggs.auspixengine.dggs.Cell object at 0x7f0375710a90>, 149.08779149519887, -35.28193894596099], [<auspixdggs.auspixengine.dggs.Cell object at 0x7f0375710bd0>, 149.08931565310164, -35.28193894596099], [<auspixdggs.auspixengine.dggs.Cell object at 0x7f0375710c10>, 149.09083981100443, -35.28193894596099], [<auspixdggs.auspixengine.dggs.Cell object at 0x7f0375710c50>, 149.09236396890716, -35.28193894596099], [<auspixdggs.auspixengine.dggs.Cell object at 0x7f0375710c90>, 149.0938881268099, -35.28193894596099], [<auspixdggs.auspixengine.dggs.Cell object at 0x7f0375710cd0>, 149.0954122847127, -35.28193894596099], [<auspixdggs.auspixengine.dggs.Cell object at 0x7f0375710d10>, 149.09693644261543, -35.28193894596099], [<auspixdggs.auspixengine.dggs.Cell object at 0x7f0375710d50>, 149.0984606005182, -35.28193894596099], [<auspixdggs.auspixengine.dggs.Cell object at 0x7f0375710d90>, 149.099984758421, -35.28193894596099], [<auspixdggs.auspixengine.dggs.Cell object at 0x7f0375710dd0>, 149.10150891632372, -35.28193894596099], [<auspixdggs.auspixengine.dggs.Cell object at 0x7f0375710e10>, 149.1030330742265, -35.28193894596099], [<auspixdggs.auspixengine.dggs.Cell object at 0x7f0375710e50>, 149.10455723212922, -35.28193894596099], [<auspixdggs.auspixengine.dggs.Cell object at 0x7f0375710e90>, 149.106081390032, -35.28193894596099], [<auspixdggs.auspixengine.dggs.Cell object at 0x7f0375710ed0>, 149.10760554793475, -35.28193894596099], [<auspixdggs.auspixengine.dggs.Cell object at 0x7f0375715050>, 149.08626733729614, -35.28352381438273], [<auspixdggs.auspixengine.dggs.Cell object at 0x7f0375715350>, 149.08779149519887, -35.28352381438273], [<auspixdggs.auspixengine.dggs.Cell object at 0x7f0375715390>, 149.08931565310164, -35.28352381438273], [<auspixdggs.auspixengine.dggs.Cell object at 0x7f03757153d0>, 149.09083981100443, -35.28352381438273], [<auspixdggs.auspixengine.dggs.Cell object at 0x7f0375715410>, 149.09236396890716, -35.28352381438273], [<auspixdggs.auspixengine.dggs.Cell object at 0x7f0375715450>, 149.0938881268099, -35.28352381438273], [<auspixdggs.auspixengine.dggs.Cell object at 0x7f0375715490>, 149.0954122847127, -35.28352381438273], [<auspixdggs.auspixengine.dggs.Cell object at 0x7f03757154d0>, 149.09693644261543, -35.28352381438273], [<auspixdggs.auspixengine.dggs.Cell object at 0x7f0375715510>, 149.0984606005182, -35.28352381438273], [<auspixdggs.auspixengine.dggs.Cell object at 0x7f0375715550>, 149.099984758421, -35.28352381438273], [<auspixdggs.auspixengine.dggs.Cell object at 0x7f0375715590>, 149.10150891632372, -35.28352381438273], [<auspixdggs.auspixengine.dggs.Cell object at 0x7f03757155d0>, 149.1030330742265, -35.28352381438273], [<auspixdggs.auspixengine.dggs.Cell object at 0x7f0375715610>, 149.10455723212922, -35.28352381438273], [<auspixdggs.auspixengine.dggs.Cell object at 0x7f0375715950>, 149.08779149519887, -35.285108713549484], [<auspixdggs.auspixengine.dggs.Cell object at 0x7f0375715a90>, 149.08931565310164, -35.285108713549484], [<auspixdggs.auspixengine.dggs.Cell object at 0x7f0375715ad0>, 149.09083981100443, -35.285108713549484], [<auspixdggs.auspixengine.dggs.Cell object at 0x7f0375715b10>, 149.09236396890716, -35.285108713549484], [<auspixdggs.auspixengine.dggs.Cell object at 0x7f0375715b50>, 149.0938881268099, -35.285108713549484], [<auspixdggs.auspixengine.dggs.Cell object at 0x7f0375715b90>, 149.0954122847127, -35.285108713549484], [<auspixdggs.auspixengine.dggs.Cell object at 0x7f0375715bd0>, 149.09693644261543, -35.285108713549484], [<auspixdggs.auspixengine.dggs.Cell object at 0x7f0375715c50>, 149.099984758421, -35.285108713549484], [<auspixdggs.auspixengine.dggs.Cell object at 0x7f0375715c90>, 149.10150891632372, -35.285108713549484], [<auspixdggs.auspixengine.dggs.Cell object at 0x7f03757191d0>, 149.08626733729614, -35.28669364346431], [<auspixdggs.auspixengine.dggs.Cell object at 0x7f0375719210>, 149.08779149519887, -35.28669364346431], [<auspixdggs.auspixengine.dggs.Cell object at 0x7f0375719910>, 149.08321902149063, -35.28827860413017], [<auspixdggs.auspixengine.dggs.Cell object at 0x7f0375719810>, 149.08474317939337, -35.28827860413017], [<auspixdggs.auspixengine.dggs.Cell object at 0x7f0375719950>, 149.08626733729614, -35.28827860413017], [<auspixdggs.auspixengine.dggs.Cell object at 0x7f0375719e90>, 149.0801707056851, -35.28986359555011], [<auspixdggs.auspixengine.dggs.Cell object at 0x7f0375719f10>, 149.08169486358787, -35.28986359555011], [<auspixdggs.auspixengine.dggs.Cell object at 0x7f0375719f50>, 149.08321902149063, -35.28986359555011], [<auspixdggs.auspixengine.dggs.Cell object at 0x7f0375471050>, 149.08474317939337, -35.28986359555011], [<auspixdggs.auspixengine.dggs.Cell object at 0x7f0375471510>, 149.07864654778237, -35.29144861772709], [<auspixdggs.auspixengine.dggs.Cell object at 0x7f0375471690>, 149.0801707056851, -35.29144861772709], [<auspixdggs.auspixengine.dggs.Cell object at 0x7f0375471710>, 149.08169486358787, -35.29144861772709], [<auspixdggs.auspixengine.dggs.Cell object at 0x7f03754717d0>, 149.08321902149063, -35.29144861772709], [<auspixdggs.auspixengine.dggs.Cell object at 0x7f03754716d0>, 149.08474317939337, -35.29144861772709], [<auspixdggs.auspixengine.dggs.Cell object at 0x7f0375471cd0>, 149.07712238987958, -35.293033670664194], [<auspixdggs.auspixengine.dggs.Cell object at 0x7f0375471790>, 149.07864654778237, -35.293033670664194], [<auspixdggs.auspixengine.dggs.Cell object at 0x7f0375471d50>, 149.0801707056851, -35.293033670664194], [<auspixdggs.auspixengine.dggs.Cell object at 0x7f0375471e50>, 149.08169486358787, -35.293033670664194], [<auspixdggs.auspixengine.dggs.Cell object at 0x7f0375471f10>, 149.08321902149063, -35.293033670664194], [<auspixdggs.auspixengine.dggs.Cell object at 0x7f0375476510>, 149.0755982319768, -35.29461875436437], [<auspixdggs.auspixengine.dggs.Cell object at 0x7f0375476550>, 149.0801707056851, -35.29461875436437], [<auspixdggs.auspixengine.dggs.Cell object at 0x7f03754765d0>, 149.08169486358787, -35.29461875436437], [<auspixdggs.auspixengine.dggs.Cell object at 0x7f0375476690>, 149.08321902149063, -35.29461875436437], [<auspixdggs.auspixengine.dggs.Cell object at 0x7f0375476610>, 149.07254991617128, -35.29620386883064], [<auspixdggs.auspixengine.dggs.Cell object at 0x7f0375476b50>, 149.07407407407408, -35.29620386883064], [<auspixdggs.auspixengine.dggs.Cell object at 0x7f0375476c10>, 149.0801707056851, -35.29620386883064], [<auspixdggs.auspixengine.dggs.Cell object at 0x7f0375476d10>, 149.08169486358787, -35.29620386883064], [<auspixdggs.auspixengine.dggs.Cell object at 0x7f0375476dd0>, 149.08321902149063, -35.29620386883064], [<auspixdggs.auspixengine.dggs.Cell object at 0x7f037547b2d0>, 149.07102575826855, -35.29778901406605]]\n"
     ]
    }
   ],
   "source": [
    "from shapely.geometry import shape, LineString, MultiLineString, Polygon, MultiPolygon\n",
    "from geojson.utils import coords\n",
    "from geojson import Feature, FeatureCollection\n",
    "from auspixdggs.callablemodules.dggs_in_poly_for_geojson_callable import cells_in_poly, get_dggs_cell_bbox\n",
    "from auspixdggs.callablemodules.dggs_in_line import line_to_DGGS\n",
    "\n",
    "def bbox(coord_list):\n",
    "     box = []\n",
    "     for i in (0,1):\n",
    "         res = sorted(coord_list, key=lambda x:x[i])\n",
    "         box.append((res[0][i],res[-1][i]))\n",
    "     ret = [ box[0][0], box[1][0], box[0][1], box[1][1] ]\n",
    "     return ret\n",
    "    \n",
    "def geojson_to_shape(g):\n",
    "    return shape(g)\n",
    "    \n",
    "def get_cells_in_geojson(geojson, resolution):\n",
    "    list_cells = []\n",
    "    for fea in geojson['features']:  # for feature in attribute table\n",
    "        res_cells = get_cells_in_feature(fea, resolution)\n",
    "        list_cells = list(list_cells + res_cells)\n",
    "    return list_cells \n",
    "\n",
    "def get_cells_in_feature(fea, resolution, cell_obj=True):\n",
    "    geom = geojson_to_shape(fea['geometry'])\n",
    "    curr_coords = list(coords(fea))\n",
    "    thisbbox = bbox(curr_coords)\n",
    "    cells = []\n",
    "    if isinstance(geom, LineString) or isinstance(geom, MultiLineString): \n",
    "        res_cells = line_to_DGGS(curr_coords, resolution)  # start at DGGS level 10   \n",
    "        cells = res_cells\n",
    "    elif isinstance(geom, Polygon) or  isinstance(geom, MultiPolygon):\n",
    "        res_cells = cells_in_poly(thisbbox, curr_coords, resolution, return_cell_obj=True)  # start at DGGS level 10    \n",
    "        print(res_cells)\n",
    "        cells = [item[0] for item in res_cells]\n",
    "    else: #try something anyway\n",
    "        cells = cells_in_poly(thisbbox, curr_coords, resolution, return_cell_obj=True)  # start at DGGS level 10    \n",
    "        print(res_cells)\n",
    "        cells = [item[0] for item in res_cells]\n",
    "\n",
    "    return cells\n",
    "\n",
    "DGGS_RESOLUTION=11\n",
    "list_cells = get_cells_in_geojson(geojson_data, DGGS_RESOLUTION)    \n",
    "list_features = []\n",
    "for cell in list_cells:\n",
    "    bbox_coords = get_dggs_cell_bbox(cell)\n",
    "    geom_obj = Polygon(bbox_coords)\n",
    "    feat = Feature(geometry=geom_obj) \n",
    "    list_features.append(feat)\n",
    "\n",
    "feature_collection = FeatureCollection(list_features)\n",
    "\n",
    "#uncomment if you want to get a file output\n",
    "#geojson_dump = geojson.dumps(feature_collection, indent=4, sort_keys=True)\n",
    "#with open('poly.geojson', 'w') as json_file:\n",
    "#    data = geojson.dump(feature_collection, json_file, indent=4, sort_keys=True)        "
   ]
  },
  {
   "cell_type": "code",
   "execution_count": 8,
   "metadata": {},
   "outputs": [
    {
     "data": {
      "application/vnd.jupyter.widget-view+json": {
       "model_id": "f0f325682d344405a6876906c4ffa249",
       "version_major": 2,
       "version_minor": 0
      },
      "text/plain": [
       "Map(center=[-35.282, 149.09], controls=(ZoomControl(options=['position', 'zoom_in_text', 'zoom_in_title', 'zoo…"
      ]
     },
     "metadata": {},
     "output_type": "display_data"
    }
   ],
   "source": [
    "x_coord = -35.282\n",
    "y_coord = 149.09\n",
    "\n",
    "map2 = ipy.Map(center=[x_coord, y_coord], zoom=13)\n",
    "label = ipyw.Label(layout=ipyw.Layout(width='100%'))\n",
    "\n",
    "geo_json2 = GeoJSON(data=feature_collection, \n",
    "                    style={\n",
    "                          'color': 'black', \n",
    "                          'opacity': 1, \n",
    "                          'weight':1, \n",
    "                          'fillColor': 'red', \n",
    "                          'fillOpacity': 0.3})\n",
    "map2.add_layer(geo_json1)\n",
    "map2.add_layer(geo_json2)\n",
    "\n",
    "map2\n"
   ]
  },
  {
   "cell_type": "code",
   "execution_count": null,
   "metadata": {},
   "outputs": [],
   "source": [
    "import requests\n",
    "import json\n",
    "#iterate over features in feature collection and query Loc-I API for features\n",
    "def find_features_at_dggs_cell(dggs_cell_id):\n",
    "    payload = {\n",
    "        'dggs_cell' : dggs_cell_id\n",
    "    }\n",
    "    r = requests.get('https://api.loci.cat/api/v1/location/find-at-DGGS-cell', params=payload)\n",
    "    json_res = r.json()\n",
    "    return json_res\n"
   ]
  },
  {
   "cell_type": "code",
   "execution_count": null,
   "metadata": {},
   "outputs": [],
   "source": [
    "target_feature_type = 'asgs16_lga'\n",
    "\n",
    "set_of_lga_features = set([])\n",
    "for feature in feature_collection['features']:\n",
    "    cell_id = feature['properties']['dggs_cell_id']\n",
    "    print(\"Processing {}\".format(cell_id))\n",
    "    res = find_features_at_dggs_cell(cell_id)\n",
    "    if 'locations' in res:\n",
    "        for loc in res['locations']:\n",
    "            if 'dataType' in loc and loc['dataType'] == target_feature_type:\n",
    "                set_of_lga_features.add(loc['uri'])\n",
    "                print(\"Adding {}\".format(loc['uri']))\n",
    "\n",
    "    \n"
   ]
  },
  {
   "cell_type": "code",
   "execution_count": null,
   "metadata": {},
   "outputs": [],
   "source": [
    "import rdflib\n",
    "def get_geom(loci_uri):\n",
    "    payload = {\n",
    "        \"_view\": \"loci\",\n",
    "        \"_format\": \"text/turtle\"\n",
    "    }\n",
    "    r = requests.get(loci_uri, params=payload)\n",
    "    res_body = r.text\n",
    "    #print(res_body)\n",
    "    g=rdflib.Graph()\n",
    "    g.load(loci_uri)\n",
    "\n",
    "    geom_uri = None\n",
    "    for row in g.query(\n",
    "                '''\n",
    "                PREFIX geo: <http://www.opengis.net/ont/geosparql#>\n",
    "                select ?g where { ?feature geo:hasGeometry ?g .}\n",
    "                '''):\n",
    "            geom_uri = (row.g)\n",
    "    if(geom_uri != None):\n",
    "        print(geom_uri)\n",
    "    header={'Accept': 'application/json'}\n",
    "    r = requests.get(geom_uri, headers=header)\n",
    "    geojson_data = r.json()\n",
    "    return geojson_data\n",
    "\n"
   ]
  },
  {
   "cell_type": "code",
   "execution_count": null,
   "metadata": {},
   "outputs": [],
   "source": [
    "map3 = ipy.Map(center=[x_coord, y_coord], zoom=12)\n",
    "label = ipyw.Label(layout=ipyw.Layout(width='100%'))\n"
   ]
  },
  {
   "cell_type": "code",
   "execution_count": null,
   "metadata": {},
   "outputs": [],
   "source": []
  }
 ],
 "metadata": {
  "kernelspec": {
   "display_name": "Python 3",
   "language": "python",
   "name": "python3"
  },
  "language_info": {
   "codemirror_mode": {
    "name": "ipython",
    "version": 3
   },
   "file_extension": ".py",
   "mimetype": "text/x-python",
   "name": "python",
   "nbconvert_exporter": "python",
   "pygments_lexer": "ipython3",
   "version": "3.7.6"
  }
 },
 "nbformat": 4,
 "nbformat_minor": 4
}
