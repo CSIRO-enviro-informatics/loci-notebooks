{
 "cells": [
  {
   "cell_type": "code",
   "execution_count": 1,
   "metadata": {},
   "outputs": [
    {
     "name": "stdout",
     "output_type": "stream",
     "text": [
      "Collecting git+https://github.com/jyucsiro/loci-scripts.git@feat-mar2020-cache\n",
      "  Cloning https://github.com/jyucsiro/loci-scripts.git (to revision feat-mar2020-cache) to /tmp/pip-req-build-0fqmq_ls\n",
      "  Running command git clone -q https://github.com/jyucsiro/loci-scripts.git /tmp/pip-req-build-0fqmq_ls\n",
      "  Running command git checkout -b feat-mar2020-cache --track origin/feat-mar2020-cache\n",
      "  Switched to a new branch 'feat-mar2020-cache'\n",
      "  Branch 'feat-mar2020-cache' set up to track remote branch 'feat-mar2020-cache' from 'origin'.\n",
      "  Running command git submodule update --init --recursive -q\n",
      "Collecting XlsxWriter\n",
      "  Downloading XlsxWriter-1.2.8-py2.py3-none-any.whl (141 kB)\n",
      "\u001b[K     |████████████████████████████████| 141 kB 796 kB/s eta 0:00:01\n",
      "\u001b[?25hCollecting SPARQLWrapper<=1.8.5\n",
      "  Downloading SPARQLWrapper-1.8.5-py3-none-any.whl (26 kB)\n",
      "Collecting rdflib<=4.2.2\n",
      "  Downloading rdflib-4.2.2-py3-none-any.whl (344 kB)\n",
      "\u001b[K     |████████████████████████████████| 344 kB 2.0 MB/s eta 0:00:01\n",
      "\u001b[?25hCollecting python-dotenv<=0.11.0\n",
      "  Downloading python_dotenv-0.11.0-py2.py3-none-any.whl (17 kB)\n",
      "Requirement already satisfied: requests<=2.23.0 in /opt/conda/lib/python3.7/site-packages (from pyloci==0.1.1.25) (2.23.0)\n",
      "Requirement already satisfied: isodate in /opt/conda/lib/python3.7/site-packages (from rdflib<=4.2.2->pyloci==0.1.1.25) (0.6.0)\n",
      "Requirement already satisfied: pyparsing in /opt/conda/lib/python3.7/site-packages (from rdflib<=4.2.2->pyloci==0.1.1.25) (2.4.7)\n",
      "Requirement already satisfied: idna<3,>=2.5 in /opt/conda/lib/python3.7/site-packages (from requests<=2.23.0->pyloci==0.1.1.25) (2.9)\n",
      "Requirement already satisfied: chardet<4,>=3.0.2 in /opt/conda/lib/python3.7/site-packages (from requests<=2.23.0->pyloci==0.1.1.25) (3.0.4)\n",
      "Requirement already satisfied: urllib3!=1.25.0,!=1.25.1,<1.26,>=1.21.1 in /opt/conda/lib/python3.7/site-packages (from requests<=2.23.0->pyloci==0.1.1.25) (1.25.9)\n",
      "Requirement already satisfied: certifi>=2017.4.17 in /opt/conda/lib/python3.7/site-packages (from requests<=2.23.0->pyloci==0.1.1.25) (2020.4.5.1)\n",
      "Requirement already satisfied: six in /opt/conda/lib/python3.7/site-packages (from isodate->rdflib<=4.2.2->pyloci==0.1.1.25) (1.14.0)\n",
      "Building wheels for collected packages: pyloci\n",
      "  Building wheel for pyloci (setup.py) ... \u001b[?25ldone\n",
      "\u001b[?25h  Created wheel for pyloci: filename=pyloci-0.1.1.25-py3-none-any.whl size=34779 sha256=f5314d00ced08a652495badc8b43367da1b7cda41c8d2d61966008a6585ae51b\n",
      "  Stored in directory: /tmp/pip-ephem-wheel-cache-5q9qe97o/wheels/a6/ce/e9/089abd8bae28888f40ab1b215bb310bb68c42e1cce6df9dfda\n",
      "Successfully built pyloci\n",
      "Installing collected packages: XlsxWriter, rdflib, SPARQLWrapper, python-dotenv, pyloci\n",
      "  Attempting uninstall: rdflib\n",
      "    Found existing installation: rdflib 5.0.0\n",
      "    Uninstalling rdflib-5.0.0:\n",
      "      Successfully uninstalled rdflib-5.0.0\n",
      "  Attempting uninstall: python-dotenv\n",
      "    Found existing installation: python-dotenv 0.13.0\n",
      "    Uninstalling python-dotenv-0.13.0:\n",
      "      Successfully uninstalled python-dotenv-0.13.0\n",
      "Successfully installed SPARQLWrapper-1.8.5 XlsxWriter-1.2.8 pyloci-0.1.1.25 python-dotenv-0.11.0 rdflib-4.2.2\n",
      "Requirement already satisfied: numpy in /opt/conda/lib/python3.7/site-packages (1.18.3)\n",
      "Requirement already satisfied: pandas in /opt/conda/lib/python3.7/site-packages (1.0.3)\n",
      "Requirement already satisfied: python-dateutil>=2.6.1 in /opt/conda/lib/python3.7/site-packages (from pandas) (2.8.1)\n",
      "Requirement already satisfied: pytz>=2017.2 in /opt/conda/lib/python3.7/site-packages (from pandas) (2020.1)\n",
      "Requirement already satisfied: six>=1.5 in /opt/conda/lib/python3.7/site-packages (from python-dateutil>=2.6.1->pandas) (1.14.0)\n"
     ]
    }
   ],
   "source": [
    "!pip install git+https://github.com/jyucsiro/loci-scripts.git@feat-mar2020-cache\n",
    "!pip install numpy pandas"
   ]
  },
  {
   "cell_type": "markdown",
   "metadata": {},
   "source": [
    "# Reapportioning ASGS16 LGA to SA1  example using the pyloci API\n",
    "\n",
    "This notebook show how you would perform reapportioning using the [pyloci](https://pypi.org/project/pyloci/) library using a simple CSV file. The pyloci library interfaces directly with the SPARQL API for the Loc-I Cache GraphDB."
   ]
  },
  {
   "cell_type": "code",
   "execution_count": 29,
   "metadata": {},
   "outputs": [
    {
     "data": {
      "text/html": [
       "<div>\n",
       "<style scoped>\n",
       "    .dataframe tbody tr th:only-of-type {\n",
       "        vertical-align: middle;\n",
       "    }\n",
       "\n",
       "    .dataframe tbody tr th {\n",
       "        vertical-align: top;\n",
       "    }\n",
       "\n",
       "    .dataframe thead th {\n",
       "        text-align: right;\n",
       "    }\n",
       "</style>\n",
       "<table border=\"1\" class=\"dataframe\">\n",
       "  <thead>\n",
       "    <tr style=\"text-align: right;\">\n",
       "      <th></th>\n",
       "      <th>LGA</th>\n",
       "      <th>Count</th>\n",
       "    </tr>\n",
       "  </thead>\n",
       "  <tbody>\n",
       "    <tr>\n",
       "      <th>0</th>\n",
       "      <td>http://linked.data.gov.au/dataset/asgs2016/loc...</td>\n",
       "      <td>100</td>\n",
       "    </tr>\n",
       "    <tr>\n",
       "      <th>1</th>\n",
       "      <td>http://linked.data.gov.au/dataset/asgs2016/loc...</td>\n",
       "      <td>200</td>\n",
       "    </tr>\n",
       "  </tbody>\n",
       "</table>\n",
       "</div>"
      ],
      "text/plain": [
       "                                                 LGA  Count\n",
       "0  http://linked.data.gov.au/dataset/asgs2016/loc...    100\n",
       "1  http://linked.data.gov.au/dataset/asgs2016/loc...    200"
      ]
     },
     "execution_count": 29,
     "metadata": {},
     "output_type": "execute_result"
    }
   ],
   "source": [
    "import numpy as np\n",
    "import pandas as pd\n",
    "df = pd.read_csv('loci-lga-sa1-test-case1.csv', delimiter = ',')\n",
    "#show the csv file read in\n",
    "df"
   ]
  },
  {
   "cell_type": "code",
   "execution_count": 30,
   "metadata": {},
   "outputs": [
    {
     "name": "stdout",
     "output_type": "stream",
     "text": [
      "http://db.loci.cat/repositories/loci-cache\n"
     ]
    }
   ],
   "source": [
    "#sure the config for the SPARQL endpoint to hit is set\n",
    "import os\n",
    "from dotenv import load_dotenv, find_dotenv\n",
    "load_dotenv(find_dotenv())\n",
    "print(os.getenv(\"SPARQL_ENDPOINT\"))"
   ]
  },
  {
   "cell_type": "code",
   "execution_count": 31,
   "metadata": {},
   "outputs": [],
   "source": [
    "#import the reapportioning module from pyloci\n",
    "from pyloci import reapportioning\n",
    "\n",
    "\n",
    "from pyloci.api.util import Util as API_Util\n",
    "from pyloci.sparql import util as sparql_util\n",
    "import time\n",
    "\n",
    "auth = None\n",
    "api_util = API_Util()\n"
   ]
  },
  {
   "cell_type": "code",
   "execution_count": 32,
   "metadata": {},
   "outputs": [],
   "source": [
    "toFeatureType = \"http://linked.data.gov.au/def/asgs#StatisticalAreaLevel1\"\n",
    "LOCI_INTEGRATION_API = \"https://test-api.loci.cat/api/v1\""
   ]
  },
  {
   "cell_type": "code",
   "execution_count": 39,
   "metadata": {},
   "outputs": [
    {
     "name": "stdout",
     "output_type": "stream",
     "text": [
      "http://linked.data.gov.au/dataset/asgs2016/localgovernmentarea/44000 100\n",
      "Querying overlaps of http://linked.data.gov.au/dataset/asgs2016/localgovernmentarea/44000 to http://linked.data.gov.au/def/asgs#StatisticalAreaLevel1...\n",
      "query_api_location_overlaps took 0.4090 seconds\n",
      "http://linked.data.gov.au/dataset/asgs2016/localgovernmentarea/55880 200\n",
      "Querying overlaps of http://linked.data.gov.au/dataset/asgs2016/localgovernmentarea/55880 to http://linked.data.gov.au/def/asgs#StatisticalAreaLevel1...\n",
      "query_api_location_overlaps took 2.2934 seconds\n"
     ]
    }
   ],
   "source": [
    "res_df_cols = {\n",
    "    \"LGA\" : [],\n",
    "    \"SA1\" : [],\n",
    "    \"percent_overlap\": [],\n",
    "    \"source_data\": [],\n",
    "    \"reapportioned_data\": [],\n",
    "}\n",
    "for index, row in df.iterrows():\n",
    "    fromFeature = row['LGA']\n",
    "    print(row['LGA'], row['Count'])\n",
    "    print(\"Querying overlaps of {} to {}...\".format(fromFeature, toFeatureType))\n",
    "    tic = time.perf_counter()\n",
    "    list_locations = api_util.query_api_location_overlaps(fromFeature, toFeatureType, LOCI_INTEGRATION_API, crosswalk='true')\n",
    "    toc = time.perf_counter()\n",
    "    print(f\"query_api_location_overlaps took {toc - tic:0.4f} seconds\")\n",
    "    #print(list_locations)\n",
    "    for o in list_locations['overlaps']:\n",
    "        res_df_cols[\"LGA\"].append(fromFeature)\n",
    "        res_df_cols[\"SA1\"].append(o['uri'])\n",
    "        res_df_cols[\"percent_overlap\"].append(o['forwardPercentage'])\n",
    "        res_df_cols[\"source_data\"].append(row['Count'])\n",
    "        reapportioned = (float(o['forwardPercentage'])/100.0)*float(row['Count'])\n",
    "        res_df_cols[\"reapportioned_data\"].append(reapportioned)\n",
    "\n",
    "        "
   ]
  },
  {
   "cell_type": "code",
   "execution_count": 40,
   "metadata": {},
   "outputs": [
    {
     "data": {
      "text/html": [
       "<div>\n",
       "<style scoped>\n",
       "    .dataframe tbody tr th:only-of-type {\n",
       "        vertical-align: middle;\n",
       "    }\n",
       "\n",
       "    .dataframe tbody tr th {\n",
       "        vertical-align: top;\n",
       "    }\n",
       "\n",
       "    .dataframe thead th {\n",
       "        text-align: right;\n",
       "    }\n",
       "</style>\n",
       "<table border=\"1\" class=\"dataframe\">\n",
       "  <thead>\n",
       "    <tr style=\"text-align: right;\">\n",
       "      <th></th>\n",
       "      <th>LGA</th>\n",
       "      <th>SA1</th>\n",
       "      <th>percent_overlap</th>\n",
       "      <th>source_data</th>\n",
       "      <th>reapportioned_data</th>\n",
       "    </tr>\n",
       "  </thead>\n",
       "  <tbody>\n",
       "    <tr>\n",
       "      <th>0</th>\n",
       "      <td>http://linked.data.gov.au/dataset/asgs2016/loc...</td>\n",
       "      <td>http://linked.data.gov.au/dataset/asgs2016/sta...</td>\n",
       "      <td>0.006331</td>\n",
       "      <td>100</td>\n",
       "      <td>0.006331</td>\n",
       "    </tr>\n",
       "    <tr>\n",
       "      <th>1</th>\n",
       "      <td>http://linked.data.gov.au/dataset/asgs2016/loc...</td>\n",
       "      <td>http://linked.data.gov.au/dataset/asgs2016/sta...</td>\n",
       "      <td>99.993669</td>\n",
       "      <td>100</td>\n",
       "      <td>99.993669</td>\n",
       "    </tr>\n",
       "    <tr>\n",
       "      <th>2</th>\n",
       "      <td>http://linked.data.gov.au/dataset/asgs2016/loc...</td>\n",
       "      <td>http://linked.data.gov.au/dataset/asgs2016/sta...</td>\n",
       "      <td>20.173726</td>\n",
       "      <td>200</td>\n",
       "      <td>40.347453</td>\n",
       "    </tr>\n",
       "    <tr>\n",
       "      <th>3</th>\n",
       "      <td>http://linked.data.gov.au/dataset/asgs2016/loc...</td>\n",
       "      <td>http://linked.data.gov.au/dataset/asgs2016/sta...</td>\n",
       "      <td>79.826275</td>\n",
       "      <td>200</td>\n",
       "      <td>159.652550</td>\n",
       "    </tr>\n",
       "  </tbody>\n",
       "</table>\n",
       "</div>"
      ],
      "text/plain": [
       "                                                 LGA  \\\n",
       "0  http://linked.data.gov.au/dataset/asgs2016/loc...   \n",
       "1  http://linked.data.gov.au/dataset/asgs2016/loc...   \n",
       "2  http://linked.data.gov.au/dataset/asgs2016/loc...   \n",
       "3  http://linked.data.gov.au/dataset/asgs2016/loc...   \n",
       "\n",
       "                                                 SA1  percent_overlap  \\\n",
       "0  http://linked.data.gov.au/dataset/asgs2016/sta...         0.006331   \n",
       "1  http://linked.data.gov.au/dataset/asgs2016/sta...        99.993669   \n",
       "2  http://linked.data.gov.au/dataset/asgs2016/sta...        20.173726   \n",
       "3  http://linked.data.gov.au/dataset/asgs2016/sta...        79.826275   \n",
       "\n",
       "   source_data  reapportioned_data  \n",
       "0          100            0.006331  \n",
       "1          100           99.993669  \n",
       "2          200           40.347453  \n",
       "3          200          159.652550  "
      ]
     },
     "execution_count": 40,
     "metadata": {},
     "output_type": "execute_result"
    }
   ],
   "source": [
    "res_df = pd.DataFrame (res_df_cols, columns = ['LGA', \"SA1\", \"percent_overlap\", \"source_data\", \"reapportioned_data\"])\n",
    "res_df"
   ]
  },
  {
   "cell_type": "code",
   "execution_count": null,
   "metadata": {},
   "outputs": [],
   "source": []
  }
 ],
 "metadata": {
  "kernelspec": {
   "display_name": "Python 3",
   "language": "python",
   "name": "python3"
  },
  "language_info": {
   "codemirror_mode": {
    "name": "ipython",
    "version": 3
   },
   "file_extension": ".py",
   "mimetype": "text/x-python",
   "name": "python",
   "nbconvert_exporter": "python",
   "pygments_lexer": "ipython3",
   "version": "3.7.6"
  }
 },
 "nbformat": 4,
 "nbformat_minor": 4
}
