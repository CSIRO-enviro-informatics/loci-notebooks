{
 "cells": [
  {
   "cell_type": "code",
   "execution_count": 41,
   "metadata": {},
   "outputs": [
    {
     "name": "stdout",
     "output_type": "stream",
     "text": [
      "Looking in indexes: https://test.pypi.org/simple/, https://pypi.org/simple/\n",
      "Collecting pyloci==0.1.1.14\n",
      "  Downloading https://test-files.pythonhosted.org/packages/92/f3/31c08f2b2077b9ac52ff0fed47615b34a1c129c32d33c615fd457a6ceacc/pyloci-0.1.1.14-py3-none-any.whl (8.8 kB)\n",
      "Requirement already satisfied: rdflib<=4.2.2 in ./venv/lib/python3.6/site-packages (from pyloci==0.1.1.14) (4.2.2)\n",
      "Requirement already satisfied: XlsxWriter in ./venv/lib/python3.6/site-packages (from pyloci==0.1.1.14) (1.2.8)\n",
      "Requirement already satisfied: python-dotenv<=0.11.0 in ./venv/lib/python3.6/site-packages (from pyloci==0.1.1.14) (0.11.0)\n",
      "Requirement already satisfied: requests<=2.23.0 in ./venv/lib/python3.6/site-packages (from pyloci==0.1.1.14) (2.23.0)\n",
      "Requirement already satisfied: SPARQLWrapper<=1.8.5 in ./venv/lib/python3.6/site-packages (from pyloci==0.1.1.14) (1.8.5)\n",
      "Requirement already satisfied: pyparsing in ./venv/lib/python3.6/site-packages (from rdflib<=4.2.2->pyloci==0.1.1.14) (2.4.6)\n",
      "Requirement already satisfied: isodate in ./venv/lib/python3.6/site-packages (from rdflib<=4.2.2->pyloci==0.1.1.14) (0.6.0)\n",
      "Requirement already satisfied: urllib3!=1.25.0,!=1.25.1,<1.26,>=1.21.1 in ./venv/lib/python3.6/site-packages (from requests<=2.23.0->pyloci==0.1.1.14) (1.25.8)\n",
      "Requirement already satisfied: certifi>=2017.4.17 in ./venv/lib/python3.6/site-packages (from requests<=2.23.0->pyloci==0.1.1.14) (2019.11.28)\n",
      "Requirement already satisfied: idna<3,>=2.5 in ./venv/lib/python3.6/site-packages (from requests<=2.23.0->pyloci==0.1.1.14) (2.9)\n",
      "Requirement already satisfied: chardet<4,>=3.0.2 in ./venv/lib/python3.6/site-packages (from requests<=2.23.0->pyloci==0.1.1.14) (3.0.4)\n",
      "Requirement already satisfied: six in ./venv/lib/python3.6/site-packages (from isodate->rdflib<=4.2.2->pyloci==0.1.1.14) (1.14.0)\n",
      "Installing collected packages: pyloci\n",
      "  Attempting uninstall: pyloci\n",
      "    Found existing installation: pyloci 0.1.1.13\n",
      "    Uninstalling pyloci-0.1.1.13:\n",
      "      Successfully uninstalled pyloci-0.1.1.13\n",
      "Successfully installed pyloci-0.1.1.14\n"
     ]
    }
   ],
   "source": [
    "!pip install -i https://test.pypi.org/simple/ --extra-index-url https://pypi.org/simple/ 'pyloci==0.1.1.14'\n"
   ]
  },
  {
   "cell_type": "code",
   "execution_count": 46,
   "metadata": {},
   "outputs": [
    {
     "ename": "ModuleNotFoundError",
     "evalue": "No module named 'pyloci.sparql'",
     "output_type": "error",
     "traceback": [
      "\u001b[0;31m---------------------------------------------------------------------------\u001b[0m",
      "\u001b[0;31mModuleNotFoundError\u001b[0m                       Traceback (most recent call last)",
      "\u001b[0;32m<ipython-input-46-932bc804e293>\u001b[0m in \u001b[0;36m<module>\u001b[0;34m\u001b[0m\n\u001b[1;32m      1\u001b[0m \u001b[0;32mimport\u001b[0m \u001b[0mSPARQLWrapper\u001b[0m\u001b[0;34m\u001b[0m\u001b[0m\n\u001b[0;32m----> 2\u001b[0;31m \u001b[0;32mfrom\u001b[0m \u001b[0mpyloci\u001b[0m \u001b[0;32mimport\u001b[0m \u001b[0mreapportioning\u001b[0m\u001b[0;34m\u001b[0m\u001b[0m\n\u001b[0m",
      "\u001b[0;32m/opt/repos/csiro/loci/loci-notebooks/venv/lib/python3.6/site-packages/pyloci/reapportioning.py\u001b[0m in \u001b[0;36m<module>\u001b[0;34m\u001b[0m\n\u001b[1;32m      8\u001b[0m \u001b[0;32mfrom\u001b[0m \u001b[0mdotenv\u001b[0m \u001b[0;32mimport\u001b[0m \u001b[0mload_dotenv\u001b[0m\u001b[0;34m,\u001b[0m \u001b[0mfind_dotenv\u001b[0m\u001b[0;34m\u001b[0m\u001b[0m\n\u001b[1;32m      9\u001b[0m \u001b[0mload_dotenv\u001b[0m\u001b[0;34m(\u001b[0m\u001b[0mfind_dotenv\u001b[0m\u001b[0;34m(\u001b[0m\u001b[0;34m)\u001b[0m\u001b[0;34m)\u001b[0m\u001b[0;34m\u001b[0m\u001b[0m\n\u001b[0;32m---> 10\u001b[0;31m \u001b[0;32mfrom\u001b[0m \u001b[0;34m.\u001b[0m\u001b[0msparql\u001b[0m\u001b[0;34m.\u001b[0m\u001b[0mutil\u001b[0m \u001b[0;32mimport\u001b[0m \u001b[0;34m*\u001b[0m\u001b[0;34m\u001b[0m\u001b[0m\n\u001b[0m\u001b[1;32m     11\u001b[0m \u001b[0;34m\u001b[0m\u001b[0m\n\u001b[1;32m     12\u001b[0m \u001b[0mGRAPHDB_USER\u001b[0m \u001b[0;34m=\u001b[0m \u001b[0mos\u001b[0m\u001b[0;34m.\u001b[0m\u001b[0mgetenv\u001b[0m\u001b[0;34m(\u001b[0m\u001b[0;34m\"GRAPHDB_USER\"\u001b[0m\u001b[0;34m)\u001b[0m\u001b[0;34m\u001b[0m\u001b[0m\n",
      "\u001b[0;31mModuleNotFoundError\u001b[0m: No module named 'pyloci.sparql'"
     ]
    }
   ],
   "source": [
    "import SPARQLWrapper\n",
    "from pyloci import reapportioning"
   ]
  },
  {
   "cell_type": "code",
   "execution_count": 44,
   "metadata": {},
   "outputs": [
    {
     "ename": "AttributeError",
     "evalue": "module 'pyloci' has no attribute 'reapportioning'",
     "output_type": "error",
     "traceback": [
      "\u001b[0;31m---------------------------------------------------------------------------\u001b[0m",
      "\u001b[0;31mAttributeError\u001b[0m                            Traceback (most recent call last)",
      "\u001b[0;32m<ipython-input-44-2fec85370bbe>\u001b[0m in \u001b[0;36m<module>\u001b[0;34m\u001b[0m\n\u001b[0;32m----> 1\u001b[0;31m \u001b[0mpyloci\u001b[0m\u001b[0;34m.\u001b[0m\u001b[0mreapportioning\u001b[0m\u001b[0;34m.\u001b[0m\u001b[0mentrypoint\u001b[0m\u001b[0;34m(\u001b[0m\u001b[0;34m)\u001b[0m\u001b[0;34m\u001b[0m\u001b[0m\n\u001b[0m",
      "\u001b[0;31mAttributeError\u001b[0m: module 'pyloci' has no attribute 'reapportioning'"
     ]
    }
   ],
   "source": [
    "pyloci.reapportioning.entrypoint()"
   ]
  }
 ],
 "metadata": {
  "kernelspec": {
   "display_name": "Python 3",
   "language": "python",
   "name": "python3"
  },
  "language_info": {
   "codemirror_mode": {
    "name": "ipython",
    "version": 3
   },
   "file_extension": ".py",
   "mimetype": "text/x-python",
   "name": "python",
   "nbconvert_exporter": "python",
   "pygments_lexer": "ipython3",
   "version": "3.6.5"
  }
 },
 "nbformat": 4,
 "nbformat_minor": 4
}
