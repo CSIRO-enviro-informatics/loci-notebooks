{
 "cells": [
  {
   "cell_type": "code",
   "execution_count": 1,
   "metadata": {
    "scrolled": true
   },
   "outputs": [
    {
     "name": "stdout",
     "output_type": "stream",
     "text": [
      "Requirement already satisfied: geopandas in /opt/conda/lib/python3.7/site-packages (0.7.0)\n",
      "Requirement already satisfied: ipyleaflet in /opt/conda/lib/python3.7/site-packages (0.13.0)\n",
      "Requirement already satisfied: psycopg2 in /opt/conda/lib/python3.7/site-packages (2.8.5)\n",
      "Requirement already satisfied: pandas>=0.23.0 in /opt/conda/lib/python3.7/site-packages (from geopandas) (1.0.4)\n",
      "Requirement already satisfied: shapely in /opt/conda/lib/python3.7/site-packages (from geopandas) (1.7.0)\n",
      "Requirement already satisfied: pyproj>=2.2.0 in /opt/conda/lib/python3.7/site-packages (from geopandas) (2.6.1.post1)\n",
      "Requirement already satisfied: fiona in /opt/conda/lib/python3.7/site-packages (from geopandas) (1.8.13.post1)\n",
      "Requirement already satisfied: traittypes<3,>=0.2.1 in /opt/conda/lib/python3.7/site-packages (from ipyleaflet) (0.2.1)\n",
      "Requirement already satisfied: branca<0.4,>=0.3.1 in /opt/conda/lib/python3.7/site-packages (from ipyleaflet) (0.3.1)\n",
      "Requirement already satisfied: ipywidgets<8,>=7.5.0 in /opt/conda/lib/python3.7/site-packages (from ipyleaflet) (7.5.1)\n",
      "Requirement already satisfied: numpy>=1.13.3 in /opt/conda/lib/python3.7/site-packages (from pandas>=0.23.0->geopandas) (1.18.4)\n",
      "Requirement already satisfied: python-dateutil>=2.6.1 in /opt/conda/lib/python3.7/site-packages (from pandas>=0.23.0->geopandas) (2.8.1)\n",
      "Requirement already satisfied: pytz>=2017.2 in /opt/conda/lib/python3.7/site-packages (from pandas>=0.23.0->geopandas) (2020.1)\n",
      "Requirement already satisfied: munch in /opt/conda/lib/python3.7/site-packages (from fiona->geopandas) (2.5.0)\n",
      "Requirement already satisfied: click-plugins>=1.0 in /opt/conda/lib/python3.7/site-packages (from fiona->geopandas) (1.1.1)\n",
      "Requirement already satisfied: click<8,>=4.0 in /opt/conda/lib/python3.7/site-packages (from fiona->geopandas) (7.1.2)\n",
      "Requirement already satisfied: six>=1.7 in /opt/conda/lib/python3.7/site-packages (from fiona->geopandas) (1.14.0)\n",
      "Requirement already satisfied: attrs>=17 in /opt/conda/lib/python3.7/site-packages (from fiona->geopandas) (19.3.0)\n",
      "Requirement already satisfied: cligj>=0.5 in /opt/conda/lib/python3.7/site-packages (from fiona->geopandas) (0.5.0)\n",
      "Requirement already satisfied: traitlets>=4.2.2 in /opt/conda/lib/python3.7/site-packages (from traittypes<3,>=0.2.1->ipyleaflet) (4.3.3)\n",
      "Requirement already satisfied: jinja2 in /opt/conda/lib/python3.7/site-packages (from branca<0.4,>=0.3.1->ipyleaflet) (2.11.2)\n",
      "Requirement already satisfied: nbformat>=4.2.0 in /opt/conda/lib/python3.7/site-packages (from ipywidgets<8,>=7.5.0->ipyleaflet) (5.0.6)\n",
      "Requirement already satisfied: ipykernel>=4.5.1 in /opt/conda/lib/python3.7/site-packages (from ipywidgets<8,>=7.5.0->ipyleaflet) (5.3.0)\n",
      "Requirement already satisfied: ipython>=4.0.0; python_version >= \"3.3\" in /opt/conda/lib/python3.7/site-packages (from ipywidgets<8,>=7.5.0->ipyleaflet) (7.14.0)\n",
      "Requirement already satisfied: widgetsnbextension~=3.5.0 in /opt/conda/lib/python3.7/site-packages (from ipywidgets<8,>=7.5.0->ipyleaflet) (3.5.1)\n",
      "Requirement already satisfied: decorator in /opt/conda/lib/python3.7/site-packages (from traitlets>=4.2.2->traittypes<3,>=0.2.1->ipyleaflet) (4.4.2)\n",
      "Requirement already satisfied: ipython-genutils in /opt/conda/lib/python3.7/site-packages (from traitlets>=4.2.2->traittypes<3,>=0.2.1->ipyleaflet) (0.2.0)\n",
      "Requirement already satisfied: MarkupSafe>=0.23 in /opt/conda/lib/python3.7/site-packages (from jinja2->branca<0.4,>=0.3.1->ipyleaflet) (1.1.1)\n",
      "Requirement already satisfied: jupyter-core in /opt/conda/lib/python3.7/site-packages (from nbformat>=4.2.0->ipywidgets<8,>=7.5.0->ipyleaflet) (4.6.3)\n",
      "Requirement already satisfied: jsonschema!=2.5.0,>=2.4 in /opt/conda/lib/python3.7/site-packages (from nbformat>=4.2.0->ipywidgets<8,>=7.5.0->ipyleaflet) (3.2.0)\n",
      "Requirement already satisfied: tornado>=4.2 in /opt/conda/lib/python3.7/site-packages (from ipykernel>=4.5.1->ipywidgets<8,>=7.5.0->ipyleaflet) (6.0.4)\n",
      "Requirement already satisfied: jupyter-client in /opt/conda/lib/python3.7/site-packages (from ipykernel>=4.5.1->ipywidgets<8,>=7.5.0->ipyleaflet) (6.1.3)\n",
      "Requirement already satisfied: pickleshare in /opt/conda/lib/python3.7/site-packages (from ipython>=4.0.0; python_version >= \"3.3\"->ipywidgets<8,>=7.5.0->ipyleaflet) (0.7.5)\n",
      "Requirement already satisfied: setuptools>=18.5 in /opt/conda/lib/python3.7/site-packages (from ipython>=4.0.0; python_version >= \"3.3\"->ipywidgets<8,>=7.5.0->ipyleaflet) (46.1.3.post20200325)\n",
      "Requirement already satisfied: jedi>=0.10 in /opt/conda/lib/python3.7/site-packages (from ipython>=4.0.0; python_version >= \"3.3\"->ipywidgets<8,>=7.5.0->ipyleaflet) (0.17.0)\n",
      "Requirement already satisfied: prompt-toolkit!=3.0.0,!=3.0.1,<3.1.0,>=2.0.0 in /opt/conda/lib/python3.7/site-packages (from ipython>=4.0.0; python_version >= \"3.3\"->ipywidgets<8,>=7.5.0->ipyleaflet) (3.0.5)\n",
      "Requirement already satisfied: backcall in /opt/conda/lib/python3.7/site-packages (from ipython>=4.0.0; python_version >= \"3.3\"->ipywidgets<8,>=7.5.0->ipyleaflet) (0.1.0)\n",
      "Requirement already satisfied: pygments in /opt/conda/lib/python3.7/site-packages (from ipython>=4.0.0; python_version >= \"3.3\"->ipywidgets<8,>=7.5.0->ipyleaflet) (2.6.1)\n",
      "Requirement already satisfied: pexpect; sys_platform != \"win32\" in /opt/conda/lib/python3.7/site-packages (from ipython>=4.0.0; python_version >= \"3.3\"->ipywidgets<8,>=7.5.0->ipyleaflet) (4.8.0)\n",
      "Requirement already satisfied: notebook>=4.4.1 in /opt/conda/lib/python3.7/site-packages (from widgetsnbextension~=3.5.0->ipywidgets<8,>=7.5.0->ipyleaflet) (6.0.3)\n",
      "Requirement already satisfied: pyrsistent>=0.14.0 in /opt/conda/lib/python3.7/site-packages (from jsonschema!=2.5.0,>=2.4->nbformat>=4.2.0->ipywidgets<8,>=7.5.0->ipyleaflet) (0.16.0)\n",
      "Requirement already satisfied: importlib-metadata; python_version < \"3.8\" in /opt/conda/lib/python3.7/site-packages (from jsonschema!=2.5.0,>=2.4->nbformat>=4.2.0->ipywidgets<8,>=7.5.0->ipyleaflet) (1.6.0)\n",
      "Requirement already satisfied: pyzmq>=13 in /opt/conda/lib/python3.7/site-packages (from jupyter-client->ipykernel>=4.5.1->ipywidgets<8,>=7.5.0->ipyleaflet) (19.0.1)\n",
      "Requirement already satisfied: parso>=0.7.0 in /opt/conda/lib/python3.7/site-packages (from jedi>=0.10->ipython>=4.0.0; python_version >= \"3.3\"->ipywidgets<8,>=7.5.0->ipyleaflet) (0.7.0)\n",
      "Requirement already satisfied: wcwidth in /opt/conda/lib/python3.7/site-packages (from prompt-toolkit!=3.0.0,!=3.0.1,<3.1.0,>=2.0.0->ipython>=4.0.0; python_version >= \"3.3\"->ipywidgets<8,>=7.5.0->ipyleaflet) (0.1.9)\n",
      "Requirement already satisfied: ptyprocess>=0.5 in /opt/conda/lib/python3.7/site-packages (from pexpect; sys_platform != \"win32\"->ipython>=4.0.0; python_version >= \"3.3\"->ipywidgets<8,>=7.5.0->ipyleaflet) (0.6.0)\n",
      "Requirement already satisfied: nbconvert in /opt/conda/lib/python3.7/site-packages (from notebook>=4.4.1->widgetsnbextension~=3.5.0->ipywidgets<8,>=7.5.0->ipyleaflet) (5.6.1)\n",
      "Requirement already satisfied: prometheus-client in /opt/conda/lib/python3.7/site-packages (from notebook>=4.4.1->widgetsnbextension~=3.5.0->ipywidgets<8,>=7.5.0->ipyleaflet) (0.8.0)\n",
      "Requirement already satisfied: terminado>=0.8.1 in /opt/conda/lib/python3.7/site-packages (from notebook>=4.4.1->widgetsnbextension~=3.5.0->ipywidgets<8,>=7.5.0->ipyleaflet) (0.8.3)\n",
      "Requirement already satisfied: Send2Trash in /opt/conda/lib/python3.7/site-packages (from notebook>=4.4.1->widgetsnbextension~=3.5.0->ipywidgets<8,>=7.5.0->ipyleaflet) (1.5.0)\n",
      "Requirement already satisfied: zipp>=0.5 in /opt/conda/lib/python3.7/site-packages (from importlib-metadata; python_version < \"3.8\"->jsonschema!=2.5.0,>=2.4->nbformat>=4.2.0->ipywidgets<8,>=7.5.0->ipyleaflet) (3.1.0)\n",
      "Requirement already satisfied: entrypoints>=0.2.2 in /opt/conda/lib/python3.7/site-packages (from nbconvert->notebook>=4.4.1->widgetsnbextension~=3.5.0->ipywidgets<8,>=7.5.0->ipyleaflet) (0.3)\n",
      "Requirement already satisfied: mistune<2,>=0.8.1 in /opt/conda/lib/python3.7/site-packages (from nbconvert->notebook>=4.4.1->widgetsnbextension~=3.5.0->ipywidgets<8,>=7.5.0->ipyleaflet) (0.8.4)\n",
      "Requirement already satisfied: bleach in /opt/conda/lib/python3.7/site-packages (from nbconvert->notebook>=4.4.1->widgetsnbextension~=3.5.0->ipywidgets<8,>=7.5.0->ipyleaflet) (3.1.5)\n"
     ]
    },
    {
     "name": "stdout",
     "output_type": "stream",
     "text": [
      "Requirement already satisfied: defusedxml in /opt/conda/lib/python3.7/site-packages (from nbconvert->notebook>=4.4.1->widgetsnbextension~=3.5.0->ipywidgets<8,>=7.5.0->ipyleaflet) (0.6.0)\r\n",
      "Requirement already satisfied: testpath in /opt/conda/lib/python3.7/site-packages (from nbconvert->notebook>=4.4.1->widgetsnbextension~=3.5.0->ipywidgets<8,>=7.5.0->ipyleaflet) (0.4.4)\r\n",
      "Requirement already satisfied: pandocfilters>=1.4.1 in /opt/conda/lib/python3.7/site-packages (from nbconvert->notebook>=4.4.1->widgetsnbextension~=3.5.0->ipywidgets<8,>=7.5.0->ipyleaflet) (1.4.2)\r\n",
      "Requirement already satisfied: webencodings in /opt/conda/lib/python3.7/site-packages (from bleach->nbconvert->notebook>=4.4.1->widgetsnbextension~=3.5.0->ipywidgets<8,>=7.5.0->ipyleaflet) (0.5.1)\r\n",
      "Requirement already satisfied: packaging in /opt/conda/lib/python3.7/site-packages (from bleach->nbconvert->notebook>=4.4.1->widgetsnbextension~=3.5.0->ipywidgets<8,>=7.5.0->ipyleaflet) (20.4)\r\n",
      "Requirement already satisfied: pyparsing>=2.0.2 in /opt/conda/lib/python3.7/site-packages (from packaging->bleach->nbconvert->notebook>=4.4.1->widgetsnbextension~=3.5.0->ipywidgets<8,>=7.5.0->ipyleaflet) (2.4.7)\r\n"
     ]
    }
   ],
   "source": [
    "!pip install geopandas ipyleaflet psycopg2"
   ]
  },
  {
   "cell_type": "code",
   "execution_count": 2,
   "metadata": {},
   "outputs": [],
   "source": [
    "import ipyleaflet as ipy \n",
    "import ipywidgets as ipyw\n",
    "import geopandas \n",
    "import json\n",
    "import psycopg2 \n",
    "import getpass\n"
   ]
  },
  {
   "cell_type": "code",
   "execution_count": 3,
   "metadata": {
    "scrolled": true
   },
   "outputs": [],
   "source": [
    "DGGS_COLUMN_LOOKUP = {\n",
    "       \"http://linked.data.gov.au/dataset/asgs2016/statisticalarealevel1/\": \"sa1_main16\",\n",
    "       \"http://linked.data.gov.au/dataset/asgs2016/statisticalarealevel2/\": \"sa2_main16\",\n",
    "       \"http://linked.data.gov.au/dataset/asgs2016/statisticalarealevel3/\": \"sa3_code16\",\n",
    "        # \"asgs16_sa4\": \"http://linked.data.gov.au/dataset/asgs2016/statisticalarealevel4\",\n",
    "        # \"asgs16_mb\": \"http://linked.data.gov.au/dataset/asgs2016/meshblock\",\n",
    "        \"http://linked.data.gov.au/dataset/asgs2016/stateorterritory/\": \"sta_name\",  # need further mapting from code to name\n",
    "        # \"asgs16_sua\": \"http://linked.data.gov.au/dataset/asgs2016/significanturbanarea\",\n",
    "        # \"asgs16_ireg\": \"http://linked.data.gov.au/dataset/asgs2016/indigenousregion\",\n",
    "        # \"asgs16_iloc\": \"http://linked.data.gov.au/dataset/asgs2016/indigenouslocation\",\n",
    "        # \"asgs16_iare\": \"http://linked.data.gov.au/dataset/asgs2016/indigenousarea\",\n",
    "        # \"asgs16_ra\": \"http://linked.data.gov.au/dataset/asgs2016/remotenessarea\",\n",
    "        # \"asgs16_gccsa\": \"http://linked.data.gov.au/dataset/asgs2016/greatercapitalcitystatisticalarea\",\n",
    "        # \"asgs16_ucl\": \"http://linked.data.gov.au/dataset/asgs2016/urbancentreandlocality\",\n",
    "        # \"asgs16_sosr\": \"http://linked.data.gov.au/dataset/asgs2016/sectionofstaterange\",\n",
    "        # \"asgs16_sos\": \"http://linked.data.gov.au/dataset/asgs2016/sectionofstate\",\n",
    "        \"http://linked.data.gov.au/dataset/asgs2016/localgovernmentarea/\": \"lga_code19\",\n",
    "        # \"asgs16_ced\": \"http://linked.data.gov.au/dataset/asgs2016/commonwealthelectoraldivision\": \"ced_state\", # need further mapping from code to name\n",
    "        \"http://linked.data.gov.au/dataset/asgs2016/statesuburb/\": \"ssc_code16\",\n",
    "        # \"asgs16_nrmr\": \"http://linked.data.gov.au/dataset/asgs2016/naturalresourcemanagementregion\",\n",
    "        # \"geofabric2_1_1_ahgfcontractedcatchment\": \"http://linked.data.gov.au/dataset/geofabric/contractedcatchment\",\n",
    "        # \"geofabric2_1_1_riverregion\": \"http://linked.data.gov.au/dataset/geofabric/riverregion\",\n",
    "        # \"geofabric2_1_1_awradrainagedivision\": \"http://linked.data.gov.au/dataset/geofabric/drainagedivision\"\n",
    "    }\n",
    "STATE_TO_CODE = {\n",
    "    \"1\": \"New South Wales\",\n",
    "    \"2\": \"Victoria\",\n",
    "    \"3\": \"Queensland\",\n",
    "    \"4\": \"South Australia\", \n",
    "    \"5\": \"Western Australia\",\n",
    "    \"6\": \"Tasmania\",\n",
    "    \"7\": \"Northern Territory\",\n",
    "    \"8\": \"Australian Capital\", \n",
    "    \"9\": ''\n",
    "}"
   ]
  },
  {
   "cell_type": "code",
   "execution_count": 4,
   "metadata": {},
   "outputs": [
    {
     "name": "stdout",
     "output_type": "stream",
     "text": [
      "DGGS Database Password:: ········\n"
     ]
    }
   ],
   "source": [
    "PG_HOST = 'location-index.cx6rhroaeuxv.ap-southeast-2.rds.amazonaws.com'\n",
    "PG_PORT = '5432'\n",
    "PG_DB_NAME = 'postgres'\n",
    "PG_USER = 'govreadonly'\n",
    "PG_PASSWORD = getpass.getpass(prompt='DGGS Database Password:: ', stream=None) \n",
    "PG_ENDPOINT = f'host={PG_HOST} port={PG_PORT} dbname={PG_DB_NAME} user={PG_USER} password={PG_PASSWORD}'"
   ]
  },
  {
   "cell_type": "code",
   "execution_count": 5,
   "metadata": {},
   "outputs": [],
   "source": [
    "def find_dggs_by_loci_uri(uri):\n",
    "    \"\"\"\n",
    "    Function for finding an array of DGGS cells by a loci uri, eg: http://linked.data.gov.au/dataset/asgs2016/statisticalarealevel1/31503140814\n",
    "    \"\"\"\n",
    "    dggs_column = 'sa1_main16'\n",
    "    uri_value = \"\"\n",
    "    for lookup_key, lookup_value in DGGS_COLUMN_LOOKUP.items():\n",
    "        index = uri.find(lookup_key)\n",
    "        if index==0:\n",
    "            dggs_column = lookup_value\n",
    "            uri_value = uri[len(lookup_key):len(uri)]\n",
    "            break\n",
    "    sql = f'select auspix_dggs from public.\"MainTable01\" where {dggs_column}=\\'{uri_value}\\''\n",
    "#     print(sql)\n",
    "    conn = psycopg2.connect(PG_ENDPOINT)\n",
    "    db_cursor = conn.cursor()\n",
    "    res = db_cursor.execute(sql)\n",
    "    records = db_cursor.fetchall() \n",
    "    db_cursor.close()\n",
    "    result = []\n",
    "    for record in records:\n",
    "        result.append(record)\n",
    "    return result"
   ]
  },
  {
   "cell_type": "code",
   "execution_count": 6,
   "metadata": {},
   "outputs": [
    {
     "ename": "UndefinedTable",
     "evalue": "relation \"public.MainTable01\" does not exist\nLINE 1: select auspix_dggs from public.\"MainTable01\" where sa1_main1...\n                                ^\n",
     "output_type": "error",
     "traceback": [
      "\u001b[0;31m---------------------------------------------------------------------------\u001b[0m",
      "\u001b[0;31mUndefinedTable\u001b[0m                            Traceback (most recent call last)",
      "\u001b[0;32m<timed exec>\u001b[0m in \u001b[0;36m<module>\u001b[0;34m\u001b[0m\n",
      "\u001b[0;32m<ipython-input-5-87c0954763a8>\u001b[0m in \u001b[0;36mfind_dggs_by_loci_uri\u001b[0;34m(uri)\u001b[0m\n\u001b[1;32m     15\u001b[0m     \u001b[0mconn\u001b[0m \u001b[0;34m=\u001b[0m \u001b[0mpsycopg2\u001b[0m\u001b[0;34m.\u001b[0m\u001b[0mconnect\u001b[0m\u001b[0;34m(\u001b[0m\u001b[0mPG_ENDPOINT\u001b[0m\u001b[0;34m)\u001b[0m\u001b[0;34m\u001b[0m\u001b[0;34m\u001b[0m\u001b[0m\n\u001b[1;32m     16\u001b[0m     \u001b[0mdb_cursor\u001b[0m \u001b[0;34m=\u001b[0m \u001b[0mconn\u001b[0m\u001b[0;34m.\u001b[0m\u001b[0mcursor\u001b[0m\u001b[0;34m(\u001b[0m\u001b[0;34m)\u001b[0m\u001b[0;34m\u001b[0m\u001b[0;34m\u001b[0m\u001b[0m\n\u001b[0;32m---> 17\u001b[0;31m     \u001b[0mres\u001b[0m \u001b[0;34m=\u001b[0m \u001b[0mdb_cursor\u001b[0m\u001b[0;34m.\u001b[0m\u001b[0mexecute\u001b[0m\u001b[0;34m(\u001b[0m\u001b[0msql\u001b[0m\u001b[0;34m)\u001b[0m\u001b[0;34m\u001b[0m\u001b[0;34m\u001b[0m\u001b[0m\n\u001b[0m\u001b[1;32m     18\u001b[0m     \u001b[0mrecords\u001b[0m \u001b[0;34m=\u001b[0m \u001b[0mdb_cursor\u001b[0m\u001b[0;34m.\u001b[0m\u001b[0mfetchall\u001b[0m\u001b[0;34m(\u001b[0m\u001b[0;34m)\u001b[0m\u001b[0;34m\u001b[0m\u001b[0;34m\u001b[0m\u001b[0m\n\u001b[1;32m     19\u001b[0m     \u001b[0mdb_cursor\u001b[0m\u001b[0;34m.\u001b[0m\u001b[0mclose\u001b[0m\u001b[0;34m(\u001b[0m\u001b[0;34m)\u001b[0m\u001b[0;34m\u001b[0m\u001b[0;34m\u001b[0m\u001b[0m\n",
      "\u001b[0;31mUndefinedTable\u001b[0m: relation \"public.MainTable01\" does not exist\nLINE 1: select auspix_dggs from public.\"MainTable01\" where sa1_main1...\n                                ^\n"
     ]
    }
   ],
   "source": [
    "%%time\n",
    "dggs_cells = find_dggs_by_loci_uri('http://linked.data.gov.au/dataset/asgs2016/statisticalarealevel1/60302107105')\n"
   ]
  },
  {
   "cell_type": "code",
   "execution_count": 8,
   "metadata": {},
   "outputs": [
    {
     "name": "stdout",
     "output_type": "stream",
     "text": [
      "['S3006888510', 'S3006888832', 'S3006888833', 'S3006888834', 'S3006888835', 'S3006888836', 'S3006888837', 'S3006888838', 'S3006888840', 'S3006888841', 'S3006888842', 'S3006888843', 'S3006888844', 'S3006888845', 'S3006888846', 'S3006888847', 'S3006888848', 'S3006888850', 'S3006888851', 'S3006888852', 'S3006888853', 'S3006888854', 'S3006888855', 'S3006888856', 'S3006888857', 'S3006888858', 'S3006888860', 'S3006888861', 'S3006888862', 'S3006888863', 'S3006888864', 'S3006888865', 'S3006888866', 'S3006888867', 'S3006888868', 'S3006888870', 'S3006888871', 'S3006888872', 'S3006888873', 'S3006888874', 'S3006888875', 'S3006888876', 'S3006888877', 'S3006888878', 'S3006888880', 'S3006888881', 'S3006888882', 'S3006888883', 'S3006888884', 'S3006888885', 'S3006888886', 'S3006888887', 'S3006888888', 'S3006888271', 'S3006888274', 'S3006888276', 'S3006888277', 'S3006888278', 'S3006888514', 'S3006888515', 'S3006888516', 'S3006888517', 'S3006888518', 'S3006888535', 'S3006888540', 'S3006888541', 'S3006888542', 'S3006888543', 'S3006888544', 'S3006888545', 'S3006888547', 'S3006888548', 'S3006888556', 'S3006888570', 'S3006888571', 'S3006888572', 'S3006888573', 'S3006888574', 'S3006888575', 'S3006888576', 'S3006888577', 'S3006888578', 'S3006888580', 'S3006888581', 'S3006888582', 'S3006888583', 'S3006888584', 'S3006888585', 'S3006888586', 'S3006888587', 'S3006888588', 'S3006888758', 'S3006888781', 'S3006888782', 'S3006888783', 'S3006888784', 'S3006888785', 'S3006888787', 'S3006888788', 'S3006888802', 'S3006888805', 'S3006888807', 'S3006888808', 'S3006888810', 'S3006888811', 'S3006888812', 'S3006888813', 'S3006888814', 'S3006888815', 'S3006888816', 'S3006888817', 'S3006888818', 'S3006888820', 'S3006888821', 'S3006888822', 'S3006888823', 'S3006888824', 'S3006888825', 'S3006888826', 'S3006888827', 'S3006888828', 'S3006888830', 'S3006888831', 'S3006888511', 'S3006888512', 'S3006888513']\n"
     ]
    }
   ],
   "source": [
    "def gen_dggs_array(db_return_dggs):\n",
    "    return [dggs[0] for dggs in db_return_dggs]\n",
    "print(gen_dggs_array(dggs_cells))"
   ]
  },
  {
   "cell_type": "code",
   "execution_count": 9,
   "metadata": {},
   "outputs": [],
   "source": [
    "def find_at_dggs_cell(dggs_cell):\n",
    "    \"\"\"\n",
    "    Function for finding an array of Loci-i features by a DGGS AUxPIX Cell ID, eg \"R6810000005\"\n",
    "    \"\"\"\n",
    "    dggs_prefix = 'http://ec2-52-63-73-113.ap-southeast-2.compute.amazonaws.com/AusPIX-DGGS-dataset/ausPIX/'\n",
    "\n",
    "    index = dggs_cell.find(dggs_prefix)\n",
    "    dggs_cell_id = dggs_cell\n",
    "    if index==0:\n",
    "        dggs_cell_id = dggs_cell[len(dggs_prefix):len(dggs_cell)]\n",
    "    sql = f'select \\\n",
    "            \\'http://linked.data.gov.au/dataset/asgs2016/statisticalarealevel1/\\'||sa1_main16 as asgs16_sa1, \\\n",
    "            \\'http://linked.data.gov.au/dataset/asgs2016/statisticalarealevel2/\\'||sa2_main16 as asgs16_sa2, \\\n",
    "            \\'http://linked.data.gov.au/dataset/asgs2016/statisticalarealevel3/\\'||sa3_code16 as asgs16_sa3, \\\n",
    "            \\'http://linked.data.gov.au/dataset/asgs2016/localgovernmentarea/\\'||lga_code19 as asgs16_lga, \\\n",
    "            \\'http://linked.data.gov.au/dataset/asgs2016/statesuburb/\\'||ssc_code16 as asgs16_ssc \\\n",
    "            FROM public.\"MainTable01\" WHERE auspix_dggs=\\'{dggs_cell_id}\\''\n",
    "#     print(sql)\n",
    "    conn = psycopg2.connect(PG_ENDPOINT)\n",
    "    db_cursor = conn.cursor()\n",
    "    res = db_cursor.execute(sql)\n",
    "    records = db_cursor.fetchall() \n",
    "    db_cursor.close()\n",
    "    result = []\n",
    "    for record in records:\n",
    "        result.append(record)\n",
    "    return result"
   ]
  },
  {
   "cell_type": "code",
   "execution_count": 10,
   "metadata": {},
   "outputs": [
    {
     "name": "stdout",
     "output_type": "stream",
     "text": [
      "CPU times: user 5.62 ms, sys: 1.18 ms, total: 6.8 ms\n",
      "Wall time: 276 ms\n"
     ]
    }
   ],
   "source": [
    "%%time\n",
    "\n",
    "loci_1 = find_at_dggs_cell('S3006887558')\n"
   ]
  },
  {
   "cell_type": "code",
   "execution_count": 11,
   "metadata": {},
   "outputs": [
    {
     "name": "stdout",
     "output_type": "stream",
     "text": [
      "CPU times: user 4.82 ms, sys: 1.01 ms, total: 5.83 ms\n",
      "Wall time: 218 ms\n"
     ]
    }
   ],
   "source": [
    "%%time\n",
    "\n",
    "loci_2 = find_at_dggs_cell('http://ec2-52-63-73-113.ap-southeast-2.compute.amazonaws.com/AusPIX-DGGS-dataset/ausPIX/S3006887558')\n"
   ]
  },
  {
   "cell_type": "code",
   "execution_count": 12,
   "metadata": {},
   "outputs": [],
   "source": [
    "def gen_object_from_array(db_return):\n",
    "    for item in db_return:\n",
    "        print('{')\n",
    "        print('  asgs16_sa1:', item[0])\n",
    "        print('  asgs16_sa2:', item[1])\n",
    "        print('  asgs16_sa3:', item[2])\n",
    "        print('  asgs16_lga:', item[3])\n",
    "        print('  asgs16_ssc:', item[4])\n",
    "        print('}')"
   ]
  },
  {
   "cell_type": "code",
   "execution_count": 13,
   "metadata": {},
   "outputs": [
    {
     "name": "stdout",
     "output_type": "stream",
     "text": [
      "{\n",
      "  asgs16_sa1: http://linked.data.gov.au/dataset/asgs2016/statisticalarealevel1/60302107209\n",
      "  asgs16_sa2: http://linked.data.gov.au/dataset/asgs2016/statisticalarealevel2/603021072\n",
      "  asgs16_sa3: http://linked.data.gov.au/dataset/asgs2016/statisticalarealevel3/60302\n",
      "  asgs16_lga: http://linked.data.gov.au/dataset/asgs2016/localgovernmentarea/63010\n",
      "  asgs16_ssc: http://linked.data.gov.au/dataset/asgs2016/statesuburb/60214\n",
      "}\n",
      "{\n",
      "  asgs16_sa1: http://linked.data.gov.au/dataset/asgs2016/statisticalarealevel1/60302107209\n",
      "  asgs16_sa2: http://linked.data.gov.au/dataset/asgs2016/statisticalarealevel2/603021072\n",
      "  asgs16_sa3: http://linked.data.gov.au/dataset/asgs2016/statisticalarealevel3/60302\n",
      "  asgs16_lga: http://linked.data.gov.au/dataset/asgs2016/localgovernmentarea/63010\n",
      "  asgs16_ssc: http://linked.data.gov.au/dataset/asgs2016/statesuburb/60214\n",
      "}\n"
     ]
    }
   ],
   "source": [
    "gen_object_from_array(loci_1)\n",
    "gen_object_from_array(loci_2)"
   ]
  },
  {
   "cell_type": "code",
   "execution_count": null,
   "metadata": {},
   "outputs": [],
   "source": []
  }
 ],
 "metadata": {
  "kernelspec": {
   "display_name": "Python 3",
   "language": "python",
   "name": "python3"
  },
  "language_info": {
   "codemirror_mode": {
    "name": "ipython",
    "version": 3
   },
   "file_extension": ".py",
   "mimetype": "text/x-python",
   "name": "python",
   "nbconvert_exporter": "python",
   "pygments_lexer": "ipython3",
   "version": "3.7.6"
  }
 },
 "nbformat": 4,
 "nbformat_minor": 4
}
