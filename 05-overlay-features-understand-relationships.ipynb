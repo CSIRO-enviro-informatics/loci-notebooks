{
 "cells": [
  {
   "cell_type": "code",
   "execution_count": 16,
   "metadata": {
    "hide_input": false,
    "jupyter": {
     "outputs_hidden": true
    }
   },
   "outputs": [],
   "source": [
    "!pip install --quiet ipyleaflet rdflib requests geodaisy pyproj shapely geopandas geomet tqdm"
   ]
  },
  {
   "cell_type": "markdown",
   "metadata": {},
   "source": [
    "# Overlay features to understand spatial relationships\n",
    "\n",
    "This notebook demonstrates how you use Loc-I to pull in 2 spatial features and understand the spatial relationships."
   ]
  },
  {
   "cell_type": "code",
   "execution_count": 30,
   "metadata": {
    "hide_input": true
   },
   "outputs": [],
   "source": [
    "import urllib, json, requests"
   ]
  },
  {
   "cell_type": "code",
   "execution_count": 31,
   "metadata": {
    "hide_input": true
   },
   "outputs": [],
   "source": [
    "# input 1: asgs sa1\n",
    "input1_uri = 'http://linked.data.gov.au/dataset/asgs2016/statisticalarealevel1/80106106402'\n",
    "# input 2: geofabric contracted catchment\n",
    "input2_uri = 'http://linked.data.gov.au/dataset/geofabric/contractedcatchment/12105364'"
   ]
  },
  {
   "cell_type": "markdown",
   "metadata": {},
   "source": [
    "Fetch the locations and show them on the map"
   ]
  },
  {
   "cell_type": "code",
   "execution_count": 35,
   "metadata": {
    "hide_input": true
   },
   "outputs": [],
   "source": [
    "#you could use rdflib to do some more digging into the semantic description to get the geometry... \n",
    "import rdflib\n",
    "g1=rdflib.Graph()\n",
    "g1.load(input1_uri)\n",
    "\n",
    "#for s,p,o in g:\n",
    "#    print(s, p, o)\n",
    "\n",
    "geom_uri1 = None\n",
    "for row in g1.query(\n",
    "            '''\n",
    "            PREFIX geo: <http://www.opengis.net/ont/geosparql#>\n",
    "            select ?g where { ?feature geo:hasGeometry ?g .}\n",
    "            '''):\n",
    "        geom_uri1 = (row.g)\n",
    "#if(geom_uri1 != None):\n",
    "#    print(geom_uri1)"
   ]
  },
  {
   "cell_type": "code",
   "execution_count": 36,
   "metadata": {
    "hide_input": true
   },
   "outputs": [],
   "source": [
    "#you could use rdflib to do some more digging into the semantic description to get the geometry... \n",
    "import rdflib\n",
    "g2=rdflib.Graph()\n",
    "g2.load(input2_uri)\n",
    "\n",
    "#for s,p,o in g:\n",
    "#    print(s, p, o)\n",
    "\n",
    "geom_uri2 = None\n",
    "for row in g2.query(\n",
    "            '''\n",
    "            PREFIX geo: <http://www.opengis.net/ont/geosparql#>\n",
    "            select ?g where { ?feature geo:hasGeometry ?g .}\n",
    "            '''):\n",
    "        geom_uri2 = (row.g)\n",
    "#if(geom_uri2 != None):\n",
    "#    print(geom_uri2)"
   ]
  },
  {
   "cell_type": "code",
   "execution_count": 37,
   "metadata": {
    "hide_input": true
   },
   "outputs": [],
   "source": [
    "# get the geojson representation of the geom\n",
    "header={'Accept': 'application/json'}\n",
    "r = requests.get(geom_uri1, headers=header)\n",
    "geojson_data = r.json()\n",
    "\n",
    "params={'_view': 'centroid'}\n",
    "r = requests.get(geom_uri1, headers=header, params=params)\n",
    "centroid_geojson_data = r.json()"
   ]
  },
  {
   "cell_type": "code",
   "execution_count": 38,
   "metadata": {
    "hide_input": true
   },
   "outputs": [
    {
     "data": {
      "application/vnd.jupyter.widget-view+json": {
       "model_id": "8b8498cf653f419ebd0ff07c4b9e5aa4",
       "version_major": 2,
       "version_minor": 0
      },
      "text/plain": [
       "Map(center=[-35.32380086, 149.138779385], controls=(ZoomControl(options=['position', 'zoom_in_text', 'zoom_in_…"
      ]
     },
     "metadata": {},
     "output_type": "display_data"
    }
   ],
   "source": [
    "#draw the geometry for the feature on a map\n",
    "import ipyleaflet as ipy \n",
    "import ipywidgets as ipyw\n",
    "from ipyleaflet import GeoJSON, Map, Marker\n",
    "\n",
    "x_coord = centroid_geojson_data['coordinates'][1]\n",
    "y_coord = centroid_geojson_data['coordinates'][0]\n",
    "\n",
    "map = ipy.Map(center=[x_coord, y_coord], zoom=15)\n",
    "label = ipyw.Label(layout=ipyw.Layout(width='100%'))\n",
    "\n",
    "geo_json1 = GeoJSON(data=geojson_data, style = {'color': 'red', 'opacity':1, 'weight':1.9, 'fillOpacity':0.5})\n",
    "map.add_layer(geo_json1)\n",
    "map"
   ]
  },
  {
   "cell_type": "code",
   "execution_count": 39,
   "metadata": {
    "hide_input": true
   },
   "outputs": [],
   "source": [
    "# get the geojson representation of the geom\n",
    "header={'Accept': 'application/json'}\n",
    "r = requests.get(geom_uri2, headers=header)\n",
    "geojson_data2 = r.json()\n",
    "\n",
    "params={'_view': 'centroid'}\n",
    "r = requests.get(geom_uri2, headers=header, params=params)\n",
    "centroid_geojson_data2 = r.json()"
   ]
  },
  {
   "cell_type": "code",
   "execution_count": 40,
   "metadata": {
    "hide_input": true
   },
   "outputs": [],
   "source": [
    "x_coord2 = centroid_geojson_data2['coordinates'][1]\n",
    "y_coord2 = centroid_geojson_data2['coordinates'][0]\n",
    "\n",
    "map2 = ipy.Map(center=[x_coord2, y_coord2], zoom=11)\n",
    "\n",
    "geo_json2 = GeoJSON(data=geojson_data2, style = {'color': 'blue', 'opacity':1, 'weight':1.9, 'fillOpacity':0.5})\n",
    "map2.add_layer(geo_json2)\n",
    "map2.add_layer(geo_json1)\n"
   ]
  },
  {
   "cell_type": "markdown",
   "metadata": {},
   "source": [
    "Show the Contracted Catchment on the map in context with the SA1 location."
   ]
  },
  {
   "cell_type": "code",
   "execution_count": 41,
   "metadata": {
    "hide_input": true
   },
   "outputs": [
    {
     "data": {
      "application/vnd.jupyter.widget-view+json": {
       "model_id": "4ac81a5a25014e0f991ab15cb7b34a0d",
       "version_major": 2,
       "version_minor": 0
      },
      "text/plain": [
       "Map(center=[-35.38234692, 149.166353306], controls=(ZoomControl(options=['position', 'zoom_in_text', 'zoom_in_…"
      ]
     },
     "metadata": {},
     "output_type": "display_data"
    }
   ],
   "source": [
    "map2"
   ]
  },
  {
   "cell_type": "markdown",
   "metadata": {},
   "source": [
    "## Find the related G-NAF addresses via the Loc-I Integration API\n",
    "\n",
    "We want to traverse the Loc-I linkset to get all G-NAF addresses contained within the SA1 location (http://linked.data.gov.au/dataset/asgs2016/statisticalarealevel1/80106106402)"
   ]
  },
  {
   "cell_type": "code",
   "execution_count": 26,
   "metadata": {
    "hide_input": true,
    "scrolled": false
   },
   "outputs": [
    {
     "data": {
      "text/plain": [
       "{'meta': {'count': 258, 'offset': 0},\n",
       " 'overlaps': [{'uri': 'http://linked.data.gov.au/dataset/gnaf-2016-05/address/GAACT714892416'},\n",
       "  {'uri': 'http://linked.data.gov.au/dataset/gnaf-2016-05/address/GAACT714892417'},\n",
       "  {'uri': 'http://linked.data.gov.au/dataset/gnaf-2016-05/address/GAACT714892418'},\n",
       "  {'uri': 'http://linked.data.gov.au/dataset/gnaf-2016-05/address/GAACT714892419'},\n",
       "  {'uri': 'http://linked.data.gov.au/dataset/gnaf-2016-05/address/GAACT714892420'},\n",
       "  {'uri': 'http://linked.data.gov.au/dataset/gnaf-2016-05/address/GAACT714892421'},\n",
       "  {'uri': 'http://linked.data.gov.au/dataset/gnaf-2016-05/address/GAACT714892422'},\n",
       "  {'uri': 'http://linked.data.gov.au/dataset/gnaf-2016-05/address/GAACT714892423'},\n",
       "  {'uri': 'http://linked.data.gov.au/dataset/gnaf-2016-05/address/GAACT714892538'},\n",
       "  {'uri': 'http://linked.data.gov.au/dataset/gnaf-2016-05/address/GAACT714892539'},\n",
       "  {'uri': 'http://linked.data.gov.au/dataset/gnaf-2016-05/address/GAACT714892540'},\n",
       "  {'uri': 'http://linked.data.gov.au/dataset/gnaf-2016-05/address/GAACT714892541'},\n",
       "  {'uri': 'http://linked.data.gov.au/dataset/gnaf-2016-05/address/GAACT714892542'},\n",
       "  {'uri': 'http://linked.data.gov.au/dataset/gnaf-2016-05/address/GAACT714892543'},\n",
       "  {'uri': 'http://linked.data.gov.au/dataset/gnaf-2016-05/address/GAACT714892544'},\n",
       "  {'uri': 'http://linked.data.gov.au/dataset/gnaf-2016-05/address/GAACT714892545'},\n",
       "  {'uri': 'http://linked.data.gov.au/dataset/gnaf-2016-05/address/GAACT714892546'},\n",
       "  {'uri': 'http://linked.data.gov.au/dataset/gnaf-2016-05/address/GAACT714892547'},\n",
       "  {'uri': 'http://linked.data.gov.au/dataset/gnaf-2016-05/address/GAACT714892548'},\n",
       "  {'uri': 'http://linked.data.gov.au/dataset/gnaf-2016-05/address/GAACT714892550'},\n",
       "  {'uri': 'http://linked.data.gov.au/dataset/gnaf-2016-05/address/GAACT714892551'},\n",
       "  {'uri': 'http://linked.data.gov.au/dataset/gnaf-2016-05/address/GAACT714892552'},\n",
       "  {'uri': 'http://linked.data.gov.au/dataset/gnaf-2016-05/address/GAACT714892553'},\n",
       "  {'uri': 'http://linked.data.gov.au/dataset/gnaf-2016-05/address/GAACT714892554'},\n",
       "  {'uri': 'http://linked.data.gov.au/dataset/gnaf-2016-05/address/GAACT714892555'},\n",
       "  {'uri': 'http://linked.data.gov.au/dataset/gnaf-2016-05/address/GAACT714892556'},\n",
       "  {'uri': 'http://linked.data.gov.au/dataset/gnaf-2016-05/address/GAACT714897550'},\n",
       "  {'uri': 'http://linked.data.gov.au/dataset/gnaf-2016-05/address/GAACT714897551'},\n",
       "  {'uri': 'http://linked.data.gov.au/dataset/gnaf-2016-05/address/GAACT714897552'},\n",
       "  {'uri': 'http://linked.data.gov.au/dataset/gnaf-2016-05/address/GAACT714897553'},\n",
       "  {'uri': 'http://linked.data.gov.au/dataset/gnaf-2016-05/address/GAACT714897554'},\n",
       "  {'uri': 'http://linked.data.gov.au/dataset/gnaf-2016-05/address/GAACT714897555'},\n",
       "  {'uri': 'http://linked.data.gov.au/dataset/gnaf-2016-05/address/GAACT715031551'},\n",
       "  {'uri': 'http://linked.data.gov.au/dataset/gnaf-2016-05/address/GAACT715710777'},\n",
       "  {'uri': 'http://linked.data.gov.au/dataset/gnaf-2016-05/address/GAACT714888714'},\n",
       "  {'uri': 'http://linked.data.gov.au/dataset/gnaf-2016-05/address/GAACT714888715'},\n",
       "  {'uri': 'http://linked.data.gov.au/dataset/gnaf-2016-05/address/GAACT714891800'},\n",
       "  {'uri': 'http://linked.data.gov.au/dataset/gnaf-2016-05/address/GAACT714891801'},\n",
       "  {'uri': 'http://linked.data.gov.au/dataset/gnaf-2016-05/address/GAACT714891802'},\n",
       "  {'uri': 'http://linked.data.gov.au/dataset/gnaf-2016-05/address/GAACT714891803'},\n",
       "  {'uri': 'http://linked.data.gov.au/dataset/gnaf-2016-05/address/GAACT714891804'},\n",
       "  {'uri': 'http://linked.data.gov.au/dataset/gnaf-2016-05/address/GAACT714891805'},\n",
       "  {'uri': 'http://linked.data.gov.au/dataset/gnaf-2016-05/address/GAACT714891806'},\n",
       "  {'uri': 'http://linked.data.gov.au/dataset/gnaf-2016-05/address/GAACT714891807'},\n",
       "  {'uri': 'http://linked.data.gov.au/dataset/gnaf-2016-05/address/GAACT714891808'},\n",
       "  {'uri': 'http://linked.data.gov.au/dataset/gnaf-2016-05/address/GAACT714891809'},\n",
       "  {'uri': 'http://linked.data.gov.au/dataset/gnaf-2016-05/address/GAACT714891810'},\n",
       "  {'uri': 'http://linked.data.gov.au/dataset/gnaf-2016-05/address/GAACT714894599'},\n",
       "  {'uri': 'http://linked.data.gov.au/dataset/gnaf-2016-05/address/GAACT714894600'},\n",
       "  {'uri': 'http://linked.data.gov.au/dataset/gnaf-2016-05/address/GAACT714895111'},\n",
       "  {'uri': 'http://linked.data.gov.au/dataset/gnaf-2016-05/address/GAACT714895112'},\n",
       "  {'uri': 'http://linked.data.gov.au/dataset/gnaf-2016-05/address/GAACT714895113'},\n",
       "  {'uri': 'http://linked.data.gov.au/dataset/gnaf-2016-05/address/GAACT714895114'},\n",
       "  {'uri': 'http://linked.data.gov.au/dataset/gnaf-2016-05/address/GAACT714895115'},\n",
       "  {'uri': 'http://linked.data.gov.au/dataset/gnaf-2016-05/address/GAACT714895363'},\n",
       "  {'uri': 'http://linked.data.gov.au/dataset/gnaf-2016-05/address/GAACT714895364'},\n",
       "  {'uri': 'http://linked.data.gov.au/dataset/gnaf-2016-05/address/GAACT714951951'},\n",
       "  {'uri': 'http://linked.data.gov.au/dataset/gnaf-2016-05/address/GAACT715020740'},\n",
       "  {'uri': 'http://linked.data.gov.au/dataset/gnaf-2016-05/address/GAACT715111927'},\n",
       "  {'uri': 'http://linked.data.gov.au/dataset/gnaf-2016-05/address/GAACT715115548'},\n",
       "  {'uri': 'http://linked.data.gov.au/dataset/gnaf-2016-05/address/GAACT715695199'},\n",
       "  {'uri': 'http://linked.data.gov.au/dataset/gnaf-2016-05/address/GAACT715695200'},\n",
       "  {'uri': 'http://linked.data.gov.au/dataset/gnaf-2016-05/address/GAACT715695201'},\n",
       "  {'uri': 'http://linked.data.gov.au/dataset/gnaf-2016-05/address/GAACT715695202'},\n",
       "  {'uri': 'http://linked.data.gov.au/dataset/gnaf-2016-05/address/GAACT715700999'},\n",
       "  {'uri': 'http://linked.data.gov.au/dataset/gnaf-2016-05/address/GAACT715701000'},\n",
       "  {'uri': 'http://linked.data.gov.au/dataset/gnaf-2016-05/address/GAACT714891054'},\n",
       "  {'uri': 'http://linked.data.gov.au/dataset/gnaf-2016-05/address/GAACT714891055'},\n",
       "  {'uri': 'http://linked.data.gov.au/dataset/gnaf-2016-05/address/GAACT714891056'},\n",
       "  {'uri': 'http://linked.data.gov.au/dataset/gnaf-2016-05/address/GAACT714894200'},\n",
       "  {'uri': 'http://linked.data.gov.au/dataset/gnaf-2016-05/address/GAACT714894201'},\n",
       "  {'uri': 'http://linked.data.gov.au/dataset/gnaf-2016-05/address/GAACT714894202'},\n",
       "  {'uri': 'http://linked.data.gov.au/dataset/gnaf-2016-05/address/GAACT714894203'},\n",
       "  {'uri': 'http://linked.data.gov.au/dataset/gnaf-2016-05/address/GAACT714894204'},\n",
       "  {'uri': 'http://linked.data.gov.au/dataset/gnaf-2016-05/address/GAACT714894205'},\n",
       "  {'uri': 'http://linked.data.gov.au/dataset/gnaf-2016-05/address/GAACT714894211'},\n",
       "  {'uri': 'http://linked.data.gov.au/dataset/gnaf-2016-05/address/GAACT714894212'},\n",
       "  {'uri': 'http://linked.data.gov.au/dataset/gnaf-2016-05/address/GAACT714894213'},\n",
       "  {'uri': 'http://linked.data.gov.au/dataset/gnaf-2016-05/address/GAACT714894214'},\n",
       "  {'uri': 'http://linked.data.gov.au/dataset/gnaf-2016-05/address/GAACT714894215'},\n",
       "  {'uri': 'http://linked.data.gov.au/dataset/gnaf-2016-05/address/GAACT714894216'},\n",
       "  {'uri': 'http://linked.data.gov.au/dataset/gnaf-2016-05/address/GAACT714894217'},\n",
       "  {'uri': 'http://linked.data.gov.au/dataset/gnaf-2016-05/address/GAACT714894860'},\n",
       "  {'uri': 'http://linked.data.gov.au/dataset/gnaf-2016-05/address/GAACT714894861'},\n",
       "  {'uri': 'http://linked.data.gov.au/dataset/gnaf-2016-05/address/GAACT714894862'},\n",
       "  {'uri': 'http://linked.data.gov.au/dataset/gnaf-2016-05/address/GAACT714894863'},\n",
       "  {'uri': 'http://linked.data.gov.au/dataset/gnaf-2016-05/address/GAACT714894864'},\n",
       "  {'uri': 'http://linked.data.gov.au/dataset/gnaf-2016-05/address/GAACT714894865'},\n",
       "  {'uri': 'http://linked.data.gov.au/dataset/gnaf-2016-05/address/GAACT714894983'},\n",
       "  {'uri': 'http://linked.data.gov.au/dataset/gnaf-2016-05/address/GAACT714894984'},\n",
       "  {'uri': 'http://linked.data.gov.au/dataset/gnaf-2016-05/address/GAACT714894985'},\n",
       "  {'uri': 'http://linked.data.gov.au/dataset/gnaf-2016-05/address/GAACT714894986'},\n",
       "  {'uri': 'http://linked.data.gov.au/dataset/gnaf-2016-05/address/GAACT714894987'},\n",
       "  {'uri': 'http://linked.data.gov.au/dataset/gnaf-2016-05/address/GAACT714894988'},\n",
       "  {'uri': 'http://linked.data.gov.au/dataset/gnaf-2016-05/address/GAACT714894989'},\n",
       "  {'uri': 'http://linked.data.gov.au/dataset/gnaf-2016-05/address/GAACT714894990'},\n",
       "  {'uri': 'http://linked.data.gov.au/dataset/gnaf-2016-05/address/GAACT714894991'},\n",
       "  {'uri': 'http://linked.data.gov.au/dataset/gnaf-2016-05/address/GAACT714962652'},\n",
       "  {'uri': 'http://linked.data.gov.au/dataset/gnaf-2016-05/address/GAACT715115826'},\n",
       "  {'uri': 'http://linked.data.gov.au/dataset/gnaf-2016-05/address/GAACT715695198'},\n",
       "  {'uri': 'http://linked.data.gov.au/dataset/gnaf-2016-05/address/GAACT715700926'},\n",
       "  {'uri': 'http://linked.data.gov.au/dataset/gnaf-2016-05/address/GAACT714894490'},\n",
       "  {'uri': 'http://linked.data.gov.au/dataset/gnaf-2016-05/address/GAACT714894491'},\n",
       "  {'uri': 'http://linked.data.gov.au/dataset/gnaf-2016-05/address/GAACT714894992'},\n",
       "  {'uri': 'http://linked.data.gov.au/dataset/gnaf-2016-05/address/GAACT714894993'},\n",
       "  {'uri': 'http://linked.data.gov.au/dataset/gnaf-2016-05/address/GAACT714894994'},\n",
       "  {'uri': 'http://linked.data.gov.au/dataset/gnaf-2016-05/address/GAACT714894995'},\n",
       "  {'uri': 'http://linked.data.gov.au/dataset/gnaf-2016-05/address/GAACT714894996'},\n",
       "  {'uri': 'http://linked.data.gov.au/dataset/gnaf-2016-05/address/GAACT714894997'},\n",
       "  {'uri': 'http://linked.data.gov.au/dataset/gnaf-2016-05/address/GAACT714894998'},\n",
       "  {'uri': 'http://linked.data.gov.au/dataset/gnaf-2016-05/address/GAACT714894999'},\n",
       "  {'uri': 'http://linked.data.gov.au/dataset/gnaf-2016-05/address/GAACT714895000'},\n",
       "  {'uri': 'http://linked.data.gov.au/dataset/gnaf-2016-05/address/GAACT714895001'},\n",
       "  {'uri': 'http://linked.data.gov.au/dataset/gnaf-2016-05/address/GAACT714895002'},\n",
       "  {'uri': 'http://linked.data.gov.au/dataset/gnaf-2016-05/address/GAACT714895003'},\n",
       "  {'uri': 'http://linked.data.gov.au/dataset/gnaf-2016-05/address/GAACT714895004'},\n",
       "  {'uri': 'http://linked.data.gov.au/dataset/gnaf-2016-05/address/GAACT714895005'},\n",
       "  {'uri': 'http://linked.data.gov.au/dataset/gnaf-2016-05/address/GAACT714895131'},\n",
       "  {'uri': 'http://linked.data.gov.au/dataset/gnaf-2016-05/address/GAACT714895132'},\n",
       "  {'uri': 'http://linked.data.gov.au/dataset/gnaf-2016-05/address/GAACT714895133'},\n",
       "  {'uri': 'http://linked.data.gov.au/dataset/gnaf-2016-05/address/GAACT714895134'},\n",
       "  {'uri': 'http://linked.data.gov.au/dataset/gnaf-2016-05/address/GAACT714895135'},\n",
       "  {'uri': 'http://linked.data.gov.au/dataset/gnaf-2016-05/address/GAACT714896909'},\n",
       "  {'uri': 'http://linked.data.gov.au/dataset/gnaf-2016-05/address/GAACT714896910'},\n",
       "  {'uri': 'http://linked.data.gov.au/dataset/gnaf-2016-05/address/GAACT714896912'},\n",
       "  {'uri': 'http://linked.data.gov.au/dataset/gnaf-2016-05/address/GAACT715020735'},\n",
       "  {'uri': 'http://linked.data.gov.au/dataset/gnaf-2016-05/address/GAACT715695203'},\n",
       "  {'uri': 'http://linked.data.gov.au/dataset/gnaf-2016-05/address/GAACT715699310'},\n",
       "  {'uri': 'http://linked.data.gov.au/dataset/gnaf-2016-05/address/GAACT715699311'},\n",
       "  {'uri': 'http://linked.data.gov.au/dataset/gnaf-2016-05/address/GAACT715701001'},\n",
       "  {'uri': 'http://linked.data.gov.au/dataset/gnaf-2016-05/address/GAACT716582127'},\n",
       "  {'uri': 'http://linked.data.gov.au/dataset/gnaf-2016-05/address/GAACT716582128'},\n",
       "  {'uri': 'http://linked.data.gov.au/dataset/gnaf-2016-05/address/GAACT716698112'},\n",
       "  {'uri': 'http://linked.data.gov.au/dataset/gnaf-2016-05/address/GAACT716701367'},\n",
       "  {'uri': 'http://linked.data.gov.au/dataset/gnaf-2016-05/address/GAACT716701368'},\n",
       "  {'uri': 'http://linked.data.gov.au/dataset/gnaf-2016-05/address/GAACT716722196'},\n",
       "  {'uri': 'http://linked.data.gov.au/dataset/gnaf-2016-05/address/GAACT716722197'},\n",
       "  {'uri': 'http://linked.data.gov.au/dataset/gnaf-2016-05/address/GAACT716723485'},\n",
       "  {'uri': 'http://linked.data.gov.au/dataset/gnaf-2016-05/address/GAACT717231460'},\n",
       "  {'uri': 'http://linked.data.gov.au/dataset/gnaf-2016-05/address/GAACT717685467'},\n",
       "  {'uri': 'http://linked.data.gov.au/dataset/gnaf-2016-05/address/GAACT717687795'},\n",
       "  {'uri': 'http://linked.data.gov.au/dataset/gnaf-2016-05/address/GAACT717687796'},\n",
       "  {'uri': 'http://linked.data.gov.au/dataset/gnaf-2016-05/address/GAACT718835243'},\n",
       "  {'uri': 'http://linked.data.gov.au/dataset/gnaf-2016-05/address/GAACT714891830'},\n",
       "  {'uri': 'http://linked.data.gov.au/dataset/gnaf-2016-05/address/GAACT714892571'},\n",
       "  {'uri': 'http://linked.data.gov.au/dataset/gnaf-2016-05/address/GAACT714892572'},\n",
       "  {'uri': 'http://linked.data.gov.au/dataset/gnaf-2016-05/address/GAACT714892573'},\n",
       "  {'uri': 'http://linked.data.gov.au/dataset/gnaf-2016-05/address/GAACT714892574'},\n",
       "  {'uri': 'http://linked.data.gov.au/dataset/gnaf-2016-05/address/GAACT714893214'},\n",
       "  {'uri': 'http://linked.data.gov.au/dataset/gnaf-2016-05/address/GAACT714893215'},\n",
       "  {'uri': 'http://linked.data.gov.au/dataset/gnaf-2016-05/address/GAACT714895136'},\n",
       "  {'uri': 'http://linked.data.gov.au/dataset/gnaf-2016-05/address/GAACT714895137'},\n",
       "  {'uri': 'http://linked.data.gov.au/dataset/gnaf-2016-05/address/GAACT714895138'},\n",
       "  {'uri': 'http://linked.data.gov.au/dataset/gnaf-2016-05/address/GAACT714895139'},\n",
       "  {'uri': 'http://linked.data.gov.au/dataset/gnaf-2016-05/address/GAACT714895140'},\n",
       "  {'uri': 'http://linked.data.gov.au/dataset/gnaf-2016-05/address/GAACT714895141'},\n",
       "  {'uri': 'http://linked.data.gov.au/dataset/gnaf-2016-05/address/GAACT714895142'},\n",
       "  {'uri': 'http://linked.data.gov.au/dataset/gnaf-2016-05/address/GAACT715019141'},\n",
       "  {'uri': 'http://linked.data.gov.au/dataset/gnaf-2016-05/address/GAACT715696070'},\n",
       "  {'uri': 'http://linked.data.gov.au/dataset/gnaf-2016-05/address/GAACT715696082'},\n",
       "  {'uri': 'http://linked.data.gov.au/dataset/gnaf-2016-05/address/GAACT715700925'},\n",
       "  {'uri': 'http://linked.data.gov.au/dataset/gnaf-2016-05/address/GAACT715700927'},\n",
       "  {'uri': 'http://linked.data.gov.au/dataset/gnaf-2016-05/address/GAACT717314397'},\n",
       "  {'uri': 'http://linked.data.gov.au/dataset/gnaf-2016-05/address/GAACT714888437'},\n",
       "  {'uri': 'http://linked.data.gov.au/dataset/gnaf-2016-05/address/GAACT714888438'},\n",
       "  {'uri': 'http://linked.data.gov.au/dataset/gnaf-2016-05/address/GAACT714888439'},\n",
       "  {'uri': 'http://linked.data.gov.au/dataset/gnaf-2016-05/address/GAACT714888440'},\n",
       "  {'uri': 'http://linked.data.gov.au/dataset/gnaf-2016-05/address/GAACT714888441'},\n",
       "  {'uri': 'http://linked.data.gov.au/dataset/gnaf-2016-05/address/GAACT714891831'},\n",
       "  {'uri': 'http://linked.data.gov.au/dataset/gnaf-2016-05/address/GAACT714891832'},\n",
       "  {'uri': 'http://linked.data.gov.au/dataset/gnaf-2016-05/address/GAACT714891833'},\n",
       "  {'uri': 'http://linked.data.gov.au/dataset/gnaf-2016-05/address/GAACT714891834'},\n",
       "  {'uri': 'http://linked.data.gov.au/dataset/gnaf-2016-05/address/GAACT714891835'},\n",
       "  {'uri': 'http://linked.data.gov.au/dataset/gnaf-2016-05/address/GAACT714891836'},\n",
       "  {'uri': 'http://linked.data.gov.au/dataset/gnaf-2016-05/address/GAACT714891837'},\n",
       "  {'uri': 'http://linked.data.gov.au/dataset/gnaf-2016-05/address/GAACT714891838'},\n",
       "  {'uri': 'http://linked.data.gov.au/dataset/gnaf-2016-05/address/GAACT714891839'},\n",
       "  {'uri': 'http://linked.data.gov.au/dataset/gnaf-2016-05/address/GAACT714891840'},\n",
       "  {'uri': 'http://linked.data.gov.au/dataset/gnaf-2016-05/address/GAACT714891841'},\n",
       "  {'uri': 'http://linked.data.gov.au/dataset/gnaf-2016-05/address/GAACT714891842'},\n",
       "  {'uri': 'http://linked.data.gov.au/dataset/gnaf-2016-05/address/GAACT714891843'},\n",
       "  {'uri': 'http://linked.data.gov.au/dataset/gnaf-2016-05/address/GAACT714891844'},\n",
       "  {'uri': 'http://linked.data.gov.au/dataset/gnaf-2016-05/address/GAACT714891845'},\n",
       "  {'uri': 'http://linked.data.gov.au/dataset/gnaf-2016-05/address/GAACT714891846'},\n",
       "  {'uri': 'http://linked.data.gov.au/dataset/gnaf-2016-05/address/GAACT714896936'},\n",
       "  {'uri': 'http://linked.data.gov.au/dataset/gnaf-2016-05/address/GAACT714896937'},\n",
       "  {'uri': 'http://linked.data.gov.au/dataset/gnaf-2016-05/address/GAACT714896938'},\n",
       "  {'uri': 'http://linked.data.gov.au/dataset/gnaf-2016-05/address/GAACT714896939'},\n",
       "  {'uri': 'http://linked.data.gov.au/dataset/gnaf-2016-05/address/GAACT714896940'},\n",
       "  {'uri': 'http://linked.data.gov.au/dataset/gnaf-2016-05/address/GAACT714896941'},\n",
       "  {'uri': 'http://linked.data.gov.au/dataset/gnaf-2016-05/address/GAACT714897706'},\n",
       "  {'uri': 'http://linked.data.gov.au/dataset/gnaf-2016-05/address/GAACT714897707'},\n",
       "  {'uri': 'http://linked.data.gov.au/dataset/gnaf-2016-05/address/GAACT714897708'},\n",
       "  {'uri': 'http://linked.data.gov.au/dataset/gnaf-2016-05/address/GAACT714951793'},\n",
       "  {'uri': 'http://linked.data.gov.au/dataset/gnaf-2016-05/address/GAACT714951794'},\n",
       "  {'uri': 'http://linked.data.gov.au/dataset/gnaf-2016-05/address/GAACT715698225'},\n",
       "  {'uri': 'http://linked.data.gov.au/dataset/gnaf-2016-05/address/GAACT715699504'},\n",
       "  {'uri': 'http://linked.data.gov.au/dataset/gnaf-2016-05/address/GAACT714891811'},\n",
       "  {'uri': 'http://linked.data.gov.au/dataset/gnaf-2016-05/address/GAACT714891812'},\n",
       "  {'uri': 'http://linked.data.gov.au/dataset/gnaf-2016-05/address/GAACT714891813'},\n",
       "  {'uri': 'http://linked.data.gov.au/dataset/gnaf-2016-05/address/GAACT714891814'},\n",
       "  {'uri': 'http://linked.data.gov.au/dataset/gnaf-2016-05/address/GAACT714891815'},\n",
       "  {'uri': 'http://linked.data.gov.au/dataset/gnaf-2016-05/address/GAACT714892580'},\n",
       "  {'uri': 'http://linked.data.gov.au/dataset/gnaf-2016-05/address/GAACT714892581'},\n",
       "  {'uri': 'http://linked.data.gov.au/dataset/gnaf-2016-05/address/GAACT714892582'},\n",
       "  {'uri': 'http://linked.data.gov.au/dataset/gnaf-2016-05/address/GAACT714895781'},\n",
       "  {'uri': 'http://linked.data.gov.au/dataset/gnaf-2016-05/address/GAACT714895782'},\n",
       "  {'uri': 'http://linked.data.gov.au/dataset/gnaf-2016-05/address/GAACT714895783'},\n",
       "  {'uri': 'http://linked.data.gov.au/dataset/gnaf-2016-05/address/GAACT714895784'},\n",
       "  {'uri': 'http://linked.data.gov.au/dataset/gnaf-2016-05/address/GAACT714963692'},\n",
       "  {'uri': 'http://linked.data.gov.au/dataset/gnaf-2016-05/address/GAACT715019187'},\n",
       "  {'uri': 'http://linked.data.gov.au/dataset/gnaf-2016-05/address/GAACT715020673'},\n",
       "  {'uri': 'http://linked.data.gov.au/dataset/gnaf-2016-05/address/GAACT715020676'},\n",
       "  {'uri': 'http://linked.data.gov.au/dataset/gnaf-2016-05/address/GAACT715022601'},\n",
       "  {'uri': 'http://linked.data.gov.au/dataset/gnaf-2016-05/address/GAACT715023083'},\n",
       "  {'uri': 'http://linked.data.gov.au/dataset/gnaf-2016-05/address/GAACT715114792'},\n",
       "  {'uri': 'http://linked.data.gov.au/dataset/gnaf-2016-05/address/GAACT716910178'},\n",
       "  {'uri': 'http://linked.data.gov.au/dataset/gnaf-2016-05/address/GAACT717232292'},\n",
       "  {'uri': 'http://linked.data.gov.au/dataset/gnaf-2016-05/address/GAACT714889363'},\n",
       "  {'uri': 'http://linked.data.gov.au/dataset/gnaf-2016-05/address/GAACT714889364'},\n",
       "  {'uri': 'http://linked.data.gov.au/dataset/gnaf-2016-05/address/GAACT714889365'},\n",
       "  {'uri': 'http://linked.data.gov.au/dataset/gnaf-2016-05/address/GAACT714889366'},\n",
       "  {'uri': 'http://linked.data.gov.au/dataset/gnaf-2016-05/address/GAACT714889367'},\n",
       "  {'uri': 'http://linked.data.gov.au/dataset/gnaf-2016-05/address/GAACT714889368'},\n",
       "  {'uri': 'http://linked.data.gov.au/dataset/gnaf-2016-05/address/GAACT714889369'},\n",
       "  {'uri': 'http://linked.data.gov.au/dataset/gnaf-2016-05/address/GAACT714890172'},\n",
       "  {'uri': 'http://linked.data.gov.au/dataset/gnaf-2016-05/address/GAACT714890173'},\n",
       "  {'uri': 'http://linked.data.gov.au/dataset/gnaf-2016-05/address/GAACT714890174'},\n",
       "  {'uri': 'http://linked.data.gov.au/dataset/gnaf-2016-05/address/GAACT714890175'},\n",
       "  {'uri': 'http://linked.data.gov.au/dataset/gnaf-2016-05/address/GAACT714890176'},\n",
       "  {'uri': 'http://linked.data.gov.au/dataset/gnaf-2016-05/address/GAACT714890177'},\n",
       "  {'uri': 'http://linked.data.gov.au/dataset/gnaf-2016-05/address/GAACT714890178'},\n",
       "  {'uri': 'http://linked.data.gov.au/dataset/gnaf-2016-05/address/GAACT714890179'},\n",
       "  {'uri': 'http://linked.data.gov.au/dataset/gnaf-2016-05/address/GAACT714890180'},\n",
       "  {'uri': 'http://linked.data.gov.au/dataset/gnaf-2016-05/address/GAACT714890181'},\n",
       "  {'uri': 'http://linked.data.gov.au/dataset/gnaf-2016-05/address/GAACT714892557'},\n",
       "  {'uri': 'http://linked.data.gov.au/dataset/gnaf-2016-05/address/GAACT714892558'},\n",
       "  {'uri': 'http://linked.data.gov.au/dataset/gnaf-2016-05/address/GAACT714892559'},\n",
       "  {'uri': 'http://linked.data.gov.au/dataset/gnaf-2016-05/address/GAACT714892560'},\n",
       "  {'uri': 'http://linked.data.gov.au/dataset/gnaf-2016-05/address/GAACT714892561'},\n",
       "  {'uri': 'http://linked.data.gov.au/dataset/gnaf-2016-05/address/GAACT714892562'},\n",
       "  {'uri': 'http://linked.data.gov.au/dataset/gnaf-2016-05/address/GAACT714892563'},\n",
       "  {'uri': 'http://linked.data.gov.au/dataset/gnaf-2016-05/address/GAACT714892564'},\n",
       "  {'uri': 'http://linked.data.gov.au/dataset/gnaf-2016-05/address/GAACT714892595'},\n",
       "  {'uri': 'http://linked.data.gov.au/dataset/gnaf-2016-05/address/GAACT714892596'},\n",
       "  {'uri': 'http://linked.data.gov.au/dataset/gnaf-2016-05/address/GAACT714892597'},\n",
       "  {'uri': 'http://linked.data.gov.au/dataset/gnaf-2016-05/address/GAACT714892598'},\n",
       "  {'uri': 'http://linked.data.gov.au/dataset/gnaf-2016-05/address/GAACT714895109'},\n",
       "  {'uri': 'http://linked.data.gov.au/dataset/gnaf-2016-05/address/GAACT714895110'},\n",
       "  {'uri': 'http://linked.data.gov.au/dataset/gnaf-2016-05/address/GAACT714896129'},\n",
       "  {'uri': 'http://linked.data.gov.au/dataset/gnaf-2016-05/address/GAACT714896130'},\n",
       "  {'uri': 'http://linked.data.gov.au/dataset/gnaf-2016-05/address/GAACT714896132'},\n",
       "  {'uri': 'http://linked.data.gov.au/dataset/gnaf-2016-05/address/GAACT714961900'},\n",
       "  {'uri': 'http://linked.data.gov.au/dataset/gnaf-2016-05/address/GAACT715111933'},\n",
       "  {'uri': 'http://linked.data.gov.au/dataset/gnaf-2016-05/address/GAACT715111937'},\n",
       "  {'uri': 'http://linked.data.gov.au/dataset/gnaf-2016-05/address/GAACT715700998'},\n",
       "  {'uri': 'http://linked.data.gov.au/dataset/gnaf-2016-05/address/GAACT715702471'},\n",
       "  {'uri': 'http://linked.data.gov.au/dataset/gnaf-2016-05/address/GAACT717935937'}]}"
      ]
     },
     "execution_count": 26,
     "metadata": {},
     "output_type": "execute_result"
    }
   ],
   "source": [
    "#we give the feature_type URI to the Loc-I API\n",
    "feature_type = 'http://linked.data.gov.au/def/gnaf#Address'\n",
    "\n",
    "payload = {\n",
    "    'uri': input1_uri, \n",
    "    'areas': 'false',\n",
    "    'proportion': 'false',\n",
    "    'contains': 'false',\n",
    "    'within':'true',\n",
    "    'crosswalk':'true',\n",
    "    'output_type' : feature_type,\n",
    "    'count': 100,\n",
    "    'offset': 0\n",
    "}\n",
    "\n",
    "url = \"https://api.loci.cat/api/v1/location/overlaps\"\n",
    "r = requests.get(url, params=payload)\n",
    "res = r.json()\n",
    "res"
   ]
  },
  {
   "cell_type": "markdown",
   "metadata": {},
   "source": [
    "Let's go ahead and process each address to get the spatial object and add them to the map"
   ]
  },
  {
   "cell_type": "code",
   "execution_count": 27,
   "metadata": {
    "hide_input": true
   },
   "outputs": [
    {
     "name": "stderr",
     "output_type": "stream",
     "text": [
      "100%|██████████| 258/258 [00:36<00:00,  7.00it/s]\n"
     ]
    }
   ],
   "source": [
    "#load the resources into a graph object\n",
    "address_graph = rdflib.Graph()\n",
    "from tqdm import tqdm\n",
    "\n",
    "for r in tqdm(res['overlaps']):\n",
    "    address_graph.load(r['uri'])\n",
    "\n",
    "#for s,p,o in address_graph:\n",
    "#    print(s, p, o)"
   ]
  },
  {
   "cell_type": "code",
   "execution_count": 28,
   "metadata": {
    "hide_input": true
   },
   "outputs": [],
   "source": [
    "list_of_geom_obj = []\n",
    "for row in address_graph.query(\n",
    "            '''\n",
    "            PREFIX geo: <http://www.opengis.net/ont/geosparql#>\n",
    "            select distinct ?wkt ?type ?label ?note\n",
    "            where { \n",
    "                   ?f rdfs:comment ?note .\n",
    "                   ?f geo:hasGeometry ?g .\n",
    "                   ?g geo:asWKT ?wkt .\n",
    "                   ?g dct:type ?type .\n",
    "                   ?g rdfs:label ?label .\n",
    "               }\n",
    "            ORDER BY ?note\n",
    "            '''):\n",
    "        geom = (str(row.wkt), str(row.type), row.label.value, row.note.value)\n",
    "        list_of_geom_obj.append(geom)\n",
    "        #print(geom)"
   ]
  },
  {
   "cell_type": "code",
   "execution_count": 29,
   "metadata": {
    "hide_input": true
   },
   "outputs": [
    {
     "data": {
      "application/vnd.jupyter.widget-view+json": {
       "model_id": "83d06686608d436ea7f0709c97988f11",
       "version_major": 2,
       "version_minor": 0
      },
      "text/plain": [
       "Map(center=[-35.32380086, 149.138779385], controls=(ZoomControl(options=['position', 'zoom_in_text', 'zoom_in_…"
      ]
     },
     "metadata": {},
     "output_type": "display_data"
    }
   ],
   "source": [
    "#setup a new leaflet map with the meshblock\n",
    "map3 = ipy.Map(center=[x_coord, y_coord], zoom=16)\n",
    "label = ipyw.Label(layout=ipyw.Layout(width='100%'))\n",
    "map3.add_layer(geo_json1)\n",
    "\n",
    "import re\n",
    "from pyproj import Transformer\n",
    "from shapely.wkt import dumps, loads\n",
    "from geomet import wkt\n",
    "from shapely.ops import transform\n",
    "\n",
    "#add layer for each wkt\n",
    "for geom_obj in list_of_geom_obj:\n",
    "    #print(geom_obj[0])\n",
    "    m = re.search('<(.*)> (.*)', geom_obj[0])\n",
    "    crs = m.group(1)\n",
    "    wktdata = m.group(2)\n",
    "    #transform crs to epsg 4326 if needed...\n",
    "    if crs == 'http://www.opengis.net/def/crs/EPSG/0/4283':\n",
    "        project = Transformer.from_crs(\"EPSG:4283\", \"EPSG:4326\")            \n",
    "        wktdata = loads(wktdata)\n",
    "        g2 = transform(project.transform, wktdata)  # apply projection   \n",
    "        wktdata = dumps(g2)\n",
    "        #print(wktdata)\n",
    "    geojson_data = wkt.loads(wktdata)\n",
    "    #print(geojson_data)\n",
    "            \n",
    "    geojson = GeoJSON(data=geojson_data, style = {'color': 'blue', 'fillcolor': 'blue', 'opacity':1, 'weight':1.9, 'fillOpacity':0.1})\n",
    "    map3.add_layer(geojson)\n",
    "map3"
   ]
  },
  {
   "cell_type": "markdown",
   "metadata": {},
   "source": [
    "Ta-da!\n",
    "\n",
    "You can see GNAF addresses as blue markers within the feature (shown in red). \n",
    "\n",
    "We hope you enjoyed that little demonstration of how to traverse from a ASGS MeshBlock across to the GNAF Address based on linkset relationships registered in Loc-I."
   ]
  },
  {
   "cell_type": "code",
   "execution_count": null,
   "metadata": {},
   "outputs": [],
   "source": []
  }
 ],
 "metadata": {
  "kernelspec": {
   "display_name": "Python 3",
   "language": "python",
   "name": "python3"
  },
  "language_info": {
   "codemirror_mode": {
    "name": "ipython",
    "version": 3
   },
   "file_extension": ".py",
   "mimetype": "text/x-python",
   "name": "python",
   "nbconvert_exporter": "python",
   "pygments_lexer": "ipython3",
   "version": "3.7.6"
  }
 },
 "nbformat": 4,
 "nbformat_minor": 4
}
