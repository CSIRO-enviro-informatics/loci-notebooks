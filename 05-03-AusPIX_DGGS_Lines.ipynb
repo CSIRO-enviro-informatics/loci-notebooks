{
 "cells": [
  {
   "cell_type": "code",
   "execution_count": 1,
   "metadata": {},
   "outputs": [
    {
     "name": "stdout",
     "output_type": "stream",
     "text": [
      "Collecting git+https://github.com/CSIRO-enviro-informatics/AusPIX_DGGS.git@geojson\n",
      "  Cloning https://github.com/CSIRO-enviro-informatics/AusPIX_DGGS.git (to revision geojson) to /tmp/pip-req-build-qh01ilps\n",
      "  Running command git clone -q https://github.com/CSIRO-enviro-informatics/AusPIX_DGGS.git /tmp/pip-req-build-qh01ilps\n",
      "  Running command git checkout -b geojson --track origin/geojson\n",
      "  Switched to a new branch 'geojson'\n",
      "  Branch 'geojson' set up to track remote branch 'geojson' from 'origin'.\n",
      "Requirement already satisfied (use --upgrade to upgrade): auspixdggs==1.0.0 from git+https://github.com/CSIRO-enviro-informatics/AusPIX_DGGS.git@geojson in /opt/conda/lib/python3.7/site-packages\n",
      "Requirement already satisfied: numpy in /opt/conda/lib/python3.7/site-packages (from auspixdggs==1.0.0) (1.18.4)\n",
      "Requirement already satisfied: pyproj in /opt/conda/lib/python3.7/site-packages (from auspixdggs==1.0.0) (2.6.1.post1)\n",
      "Requirement already satisfied: scipy in /opt/conda/lib/python3.7/site-packages (from auspixdggs==1.0.0) (1.4.1)\n",
      "Requirement already satisfied: shapely in /opt/conda/lib/python3.7/site-packages (from auspixdggs==1.0.0) (1.7.0)\n",
      "Requirement already satisfied: pyshp in /opt/conda/lib/python3.7/site-packages (from auspixdggs==1.0.0) (2.1.0)\n",
      "Building wheels for collected packages: auspixdggs\n",
      "  Building wheel for auspixdggs (setup.py) ... \u001b[?25ldone\n",
      "\u001b[?25h  Created wheel for auspixdggs: filename=auspixdggs-1.0.0-py3-none-any.whl size=66542 sha256=1126e8f97b61d44cfb40b85afd5efa53f1072e3ad6e472b408ae55c581633c80\n",
      "  Stored in directory: /tmp/pip-ephem-wheel-cache-tg5mhav6/wheels/fb/47/2e/b372479b10426ba7a860a2db22819a2237f731c183a9383fba\n",
      "Successfully built auspixdggs\n"
     ]
    }
   ],
   "source": [
    "!pip install git+https://github.com/CSIRO-enviro-informatics/AusPIX_DGGS.git@geojson    "
   ]
  },
  {
   "cell_type": "code",
   "execution_count": 2,
   "metadata": {},
   "outputs": [
    {
     "name": "stdout",
     "output_type": "stream",
     "text": [
      "Requirement already satisfied: geojson in /opt/conda/lib/python3.7/site-packages (2.5.0)\n",
      "Requirement already satisfied: shapely in /opt/conda/lib/python3.7/site-packages (1.7.0)\n",
      "Requirement already satisfied: pygeoj in /opt/conda/lib/python3.7/site-packages (1.0.0)\n",
      "Requirement already satisfied: matplotlib in /opt/conda/lib/python3.7/site-packages (3.2.1)\n",
      "Requirement already satisfied: cycler>=0.10 in /opt/conda/lib/python3.7/site-packages (from matplotlib) (0.10.0)\n",
      "Requirement already satisfied: python-dateutil>=2.1 in /opt/conda/lib/python3.7/site-packages (from matplotlib) (2.8.1)\n",
      "Requirement already satisfied: kiwisolver>=1.0.1 in /opt/conda/lib/python3.7/site-packages (from matplotlib) (1.2.0)\n",
      "Requirement already satisfied: numpy>=1.11 in /opt/conda/lib/python3.7/site-packages (from matplotlib) (1.18.4)\n",
      "Requirement already satisfied: pyparsing!=2.0.4,!=2.1.2,!=2.1.6,>=2.0.1 in /opt/conda/lib/python3.7/site-packages (from matplotlib) (2.4.7)\n",
      "Requirement already satisfied: six in /opt/conda/lib/python3.7/site-packages (from cycler>=0.10->matplotlib) (1.14.0)\n"
     ]
    }
   ],
   "source": [
    "!pip install geojson shapely pygeoj matplotlib"
   ]
  },
  {
   "cell_type": "code",
   "execution_count": 11,
   "metadata": {},
   "outputs": [],
   "source": [
    "import geojson\n",
    "fname = \"SA_RoadsExample_lines.geojson\"\n",
    "geojson_data = None\n",
    "with open(fname) as json_file:\n",
    "    geojson_data = geojson.load(json_file)\n",
    "    "
   ]
  },
  {
   "cell_type": "code",
   "execution_count": 15,
   "metadata": {},
   "outputs": [
    {
     "data": {
      "application/vnd.jupyter.widget-view+json": {
       "model_id": "77e14b678df54cd8a9814e9ce238cf9a",
       "version_major": 2,
       "version_minor": 0
      },
      "text/plain": [
       "Map(center=[-34.74, 138.78], controls=(ZoomControl(options=['position', 'zoom_in_text', 'zoom_in_title', 'zoom…"
      ]
     },
     "metadata": {},
     "output_type": "display_data"
    }
   ],
   "source": [
    "#draw the geometry for the feature on a map\n",
    "import ipyleaflet as ipy \n",
    "import ipywidgets as ipyw\n",
    "from ipyleaflet import GeoJSON, Map, Marker\n",
    "\n",
    "x_coord = -34.74\n",
    "y_coord = 138.78\n",
    "\n",
    "map1 = ipy.Map(center=[x_coord, y_coord], zoom=12)\n",
    "label = ipyw.Label(layout=ipyw.Layout(width='100%'))\n",
    "\n",
    "geo_json1 = GeoJSON(data=geojson_data, style = {'color': 'blue', 'opacity':0.8, 'weight':1.9, 'fillOpacity':0.3})\n",
    "map1.add_layer(geo_json1)\n",
    "map1"
   ]
  },
  {
   "cell_type": "code",
   "execution_count": 16,
   "metadata": {},
   "outputs": [],
   "source": [
    "from shapely.geometry import shape, LineString, MultiLineString, Polygon, MultiPolygon\n",
    "from geojson.utils import coords\n",
    "from geojson import Feature, FeatureCollection\n",
    "from auspixdggs.callablemodules.dggs_in_poly_for_geojson_callable import cells_in_poly, get_dggs_cell_bbox\n",
    "from auspixdggs.callablemodules.dggs_in_line import line_to_DGGS\n",
    "\n",
    "def bbox(coord_list):\n",
    "     box = []\n",
    "     for i in (0,1):\n",
    "         res = sorted(coord_list, key=lambda x:x[i])\n",
    "         box.append((res[0][i],res[-1][i]))\n",
    "     ret = [ box[0][0], box[1][0], box[0][1], box[1][1] ]\n",
    "     return ret\n",
    "    \n",
    "def geojson_to_shape(g):\n",
    "    return shape(g)\n",
    "    \n",
    "def get_cells_in_geojson(geojson, resolution):\n",
    "    list_cells = []\n",
    "    for fea in geojson['features']:  # for feature in attribute table\n",
    "        res_cells = get_cells_in_feature(fea, resolution)\n",
    "        list_cells = list(list_cells + res_cells)\n",
    "    return list_cells \n",
    "\n",
    "def get_cells_in_feature(fea, resolution, cell_obj=True):\n",
    "    geom = geojson_to_shape(fea['geometry'])\n",
    "    curr_coords = list(coords(fea))\n",
    "    thisbbox = bbox(curr_coords)\n",
    "    cells = []\n",
    "    if isinstance(geom, LineString) or isinstance(geom, MultiLineString): \n",
    "        res_cells = line_to_DGGS(curr_coords, resolution)  # start at DGGS level 10   \n",
    "        cells = res_cells\n",
    "    elif isinstance(geom, Polygon) or  isinstance(geom, MultiPolygon):\n",
    "        res_cells = cells_in_poly(thisbbox, curr_coords, resolution, return_cell_obj=True)  # start at DGGS level 10    \n",
    "        print(res_cells)\n",
    "        cells = [item[0] for item in res_cells]\n",
    "    else: #try something anyway\n",
    "        cells = cells_in_poly(thisbbox, curr_coords, resolution, return_cell_obj=True)  # start at DGGS level 10    \n",
    "        print(res_cells)\n",
    "        cells = [item[0] for item in res_cells]\n",
    "\n",
    "    return cells\n",
    "\n",
    "list_cells = get_cells_in_geojson(geojson_data, 10)    \n",
    "list_features = []\n",
    "for cell in list_cells:\n",
    "    bbox_coords = get_dggs_cell_bbox(cell)\n",
    "    geom_obj = Polygon(bbox_coords)\n",
    "    feat = Feature(geometry=geom_obj) \n",
    "    list_features.append(feat)\n",
    "\n",
    "feature_collection = FeatureCollection(list_features)\n",
    "\n",
    "#uncomment if you want to get a file output\n",
    "#geojson_dump = geojson.dumps(feature_collection, indent=4, sort_keys=True)\n",
    "#with open('poly.geojson', 'w') as json_file:\n",
    "#    data = geojson.dump(feature_collection, json_file, indent=4, sort_keys=True)        "
   ]
  },
  {
   "cell_type": "code",
   "execution_count": 18,
   "metadata": {},
   "outputs": [
    {
     "data": {
      "application/vnd.jupyter.widget-view+json": {
       "model_id": "db442153c2b44c8d90d5e539b630c203",
       "version_major": 2,
       "version_minor": 0
      },
      "text/plain": [
       "Map(center=[-34.74, 138.78], controls=(ZoomControl(options=['position', 'zoom_in_text', 'zoom_in_title', 'zoom…"
      ]
     },
     "metadata": {},
     "output_type": "display_data"
    }
   ],
   "source": [
    "map2 = ipy.Map(center=[x_coord, y_coord], zoom=12)\n",
    "label = ipyw.Label(layout=ipyw.Layout(width='100%'))\n",
    "\n",
    "geo_json2 = GeoJSON(data=feature_collection, \n",
    "                    style={\n",
    "                          'color': 'black', \n",
    "                          'opacity': 1, \n",
    "                          'weight':1, \n",
    "                          'fillColor': 'red', \n",
    "                          'fillOpacity': 0.3})\n",
    "map2.add_layer(geo_json2)\n",
    "map2.add_layer(geo_json1)\n",
    "map2"
   ]
  },
  {
   "cell_type": "code",
   "execution_count": null,
   "metadata": {},
   "outputs": [],
   "source": []
  }
 ],
 "metadata": {
  "kernelspec": {
   "display_name": "Python 3",
   "language": "python",
   "name": "python3"
  },
  "language_info": {
   "codemirror_mode": {
    "name": "ipython",
    "version": 3
   },
   "file_extension": ".py",
   "mimetype": "text/x-python",
   "name": "python",
   "nbconvert_exporter": "python",
   "pygments_lexer": "ipython3",
   "version": "3.7.6"
  }
 },
 "nbformat": 4,
 "nbformat_minor": 4
}
